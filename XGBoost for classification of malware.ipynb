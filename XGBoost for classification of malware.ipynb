{
 "cells": [
  {
   "cell_type": "markdown",
   "metadata": {},
   "source": [
    "# XGBoost for classification of malware"
   ]
  },
  {
   "cell_type": "markdown",
   "metadata": {},
   "source": [
    "<b>Author</b>: Chan, Chun-Hsiang (<b>TooDou</b>) @ D04228002 NTU GEOG"
   ]
  },
  {
   "cell_type": "markdown",
   "metadata": {},
   "source": [
    "<div align=\"justify\">\n",
    "<b>Brief Introduction</b><br />\n",
    "In this report, we would like to use xgboost classification as classification approach to classify the different types of malwares. Also we tried different parameters to know which one is the best of all through the function GridSearchCV. In addition, we applied the heat map to show the confusion matrix in figure.\n",
    "</div>"
   ]
  },
  {
   "cell_type": "code",
   "execution_count": 34,
   "metadata": {
    "collapsed": false
   },
   "outputs": [],
   "source": [
    "# import the packages\n",
    "import matplotlib.pyplot as plt\n",
    "from sklearn.metrics import confusion_matrix\n",
    "import pandas as pd\n",
    "import xgboost as xgb\n",
    "from sklearn.preprocessing import LabelEncoder\n",
    "import numpy as np"
   ]
  },
  {
   "cell_type": "code",
   "execution_count": 3,
   "metadata": {
    "collapsed": true
   },
   "outputs": [],
   "source": [
    "# Load the data\n",
    "train_df = pd.read_csv('LargeTrain.csv', header=0)\n",
    "test_df = pd.read_csv('LargeTest.csv', header=0)"
   ]
  },
  {
   "cell_type": "code",
   "execution_count": 4,
   "metadata": {
    "collapsed": true
   },
   "outputs": [],
   "source": [
    "# We'll impute missing values using the median for numeric columns and the most\n",
    "# common value for string columns.\n",
    "# This is based on some nice code by 'sveitser' at http://stackoverflow.com/a/25562948\n",
    "from sklearn.base import TransformerMixin\n",
    "class DataFrameImputer(TransformerMixin):\n",
    "    def fit(self, X, y=None):\n",
    "        self.fill = pd.Series([X[c].value_counts().index[0]\n",
    "            if X[c].dtype == np.dtype('O') else X[c].median() for c in X],\n",
    "            index=X.columns)\n",
    "        return self\n",
    "    def transform(self, X, y=None):\n",
    "        return X.fillna(self.fill)\n",
    "\n",
    "feature_columns_to_use = ['Pclass','Sex','Age','Fare','Parch']\n",
    "nonnumeric_columns = []"
   ]
  },
  {
   "cell_type": "code",
   "execution_count": 5,
   "metadata": {
    "collapsed": true
   },
   "outputs": [],
   "source": [
    "# Join the features from train and test together before imputing missing values,\n",
    "# in case their distribution is slightly different\n",
    "# big_X = train_df[feature_columns_to_use].append(test_df[feature_columns_to_use])\n",
    "big_X = train_df.append(test_df)\n",
    "big_X_imputed = DataFrameImputer().fit_transform(big_X)"
   ]
  },
  {
   "cell_type": "code",
   "execution_count": 6,
   "metadata": {
    "collapsed": true
   },
   "outputs": [],
   "source": [
    "# XGBoost doesn't (yet) handle categorical features automatically, so we need to change\n",
    "# them to columns of integer values.\n",
    "# See http://scikit-learn.org/stable/modules/preprocessing.html#preprocessing for more\n",
    "# details and options\n",
    "le = LabelEncoder()\n",
    "for feature in nonnumeric_columns:\n",
    "    big_X_imputed[feature] = le.fit_transform(big_X_imputed[feature])"
   ]
  },
  {
   "cell_type": "code",
   "execution_count": 7,
   "metadata": {
    "collapsed": true
   },
   "outputs": [],
   "source": [
    "# Prepare the inputs for the model\n",
    "train_X = big_X_imputed[0:train_df.shape[0]].as_matrix()\n",
    "test_X = big_X_imputed[train_df.shape[0]::].as_matrix()\n",
    "train_y = train_df['Class']"
   ]
  },
  {
   "cell_type": "code",
   "execution_count": 8,
   "metadata": {
    "collapsed": true
   },
   "outputs": [],
   "source": [
    "# You can experiment with many other options here, using the same .fit() and .predict()\n",
    "# methods; see http://scikit-learn.org\n",
    "# This example uses the current build of XGBoost, from https://github.com/dmlc/xgboost\n",
    "gbm = xgb.XGBClassifier(max_depth=3, n_estimators=300, learning_rate=0.05).fit(train_X, train_y)\n",
    "predictions = gbm.predict(test_X)"
   ]
  },
  {
   "cell_type": "code",
   "execution_count": 9,
   "metadata": {
    "collapsed": true
   },
   "outputs": [],
   "source": [
    "# Kaggle needs the submission to have a certain format;\n",
    "# see https://www.kaggle.com/c/titanic-gettingStarted/download/gendermodel.csv\n",
    "# for an example of what it's supposed to look like.\n",
    "submission = pd.DataFrame({ 'PassengerId': test_df['Virtual'],\n",
    "                            'Survived': predictions })\n",
    "submission.to_csv(\"submission.csv\", index=False)"
   ]
  },
  {
   "cell_type": "code",
   "execution_count": 36,
   "metadata": {
    "collapsed": false
   },
   "outputs": [
    {
     "data": {
      "image/png": "[encoded data removed]",
      "text/plain": [
       "<matplotlib.figure.Figure at 0x10d572dd8>"
      ]
     },
     "metadata": {},
     "output_type": "display_data"
    }
   ],
   "source": [
    "# plot the heat map of confusion matrix\n",
    "pred = gbm.predict(train_X)\n",
    "\n",
    "plt.matshow(confusion_matrix(train_y, pred), cmap=\"Blues\")\n",
    "plt.colorbar(shrink=0.8)\n",
    "plt.xticks(range(10))\n",
    "plt.yticks(range(10))\n",
    "plt.xlabel(\"Predicted label\")\n",
    "plt.ylabel(\"True label\")\n",
    "plt.show()"
   ]
  },
  {
   "cell_type": "code",
   "execution_count": 15,
   "metadata": {
    "collapsed": false
   },
   "outputs": [],
   "source": [
    "# import packages\n",
    "from sklearn.model_selection import GridSearchCV"
   ]
  },
  {
   "cell_type": "code",
   "execution_count": 19,
   "metadata": {
    "collapsed": false
   },
   "outputs": [
    {
     "name": "stdout",
     "output_type": "stream",
     "text": [
      "{'n_estimators': 200}\n"
     ]
    }
   ],
   "source": [
    "# GridSearchCV for n_estimators of xgboost \n",
    "grid = GridSearchCV(gbm,\n",
    "                    param_grid={'n_estimators' : [100,150,200]})\n",
    "grid.fit(train_X, train_y)\n",
    "print(grid.best_params_)"
   ]
  },
  {
   "cell_type": "code",
   "execution_count": 20,
   "metadata": {
    "collapsed": false
   },
   "outputs": [
    {
     "name": "stdout",
     "output_type": "stream",
     "text": [
      "{'learning_rate': 0.05}\n"
     ]
    }
   ],
   "source": [
    "# GridSearchCV for learning rate of xgboost \n",
    "gridlr = GridSearchCV(gbm,\n",
    "                    param_grid={'learning_rate' : [0.02,0.05,0.08]})\n",
    "gridlr.fit(train_X, train_y)\n",
    "print(gridlr.best_params_)"
   ]
  },
  {
   "cell_type": "code",
   "execution_count": 41,
   "metadata": {
    "collapsed": true
   },
   "outputs": [],
   "source": [
    "# set x values for plotting\n",
    "ne = [100,150,200]\n",
    "lr = [0.02, 0.05, 0.08]"
   ]
  },
  {
   "cell_type": "code",
   "execution_count": 45,
   "metadata": {
    "collapsed": false
   },
   "outputs": [
    {
     "data": {
      "text/plain": [
       "array([ 0.99917188,  0.99963195,  0.99981597])"
      ]
     },
     "execution_count": 45,
     "metadata": {},
     "output_type": "execute_result"
    }
   ],
   "source": [
    "# show the accuracy of n_estimators\n",
    "grid.cv_results_['mean_test_score']"
   ]
  },
  {
   "cell_type": "code",
   "execution_count": 55,
   "metadata": {
    "collapsed": false
   },
   "outputs": [
    {
     "data": {
      "image/png": "[encoded data removed]",
      "text/plain": [
       "<matplotlib.figure.Figure at 0x10e0d1b00>"
      ]
     },
     "metadata": {},
     "output_type": "display_data"
    }
   ],
   "source": [
    "# plot the GridSearchCV results of n_estimators\n",
    "plt.plot(ne,grid.cv_results_['mean_test_score'])\n",
    "plt.plot(ne,grid.cv_results_['mean_test_score']+2*grid.cv_results_['std_test_score'])\n",
    "plt.plot(ne,grid.cv_results_['mean_test_score']-2*grid.cv_results_['std_test_score'])\n",
    "plt.title('GridSearchCV results of n_estimators')\n",
    "plt.xlabel('n_estimators')\n",
    "plt.ylabel('Accuracy')\n",
    "plt.legend(['$\\mu$ of accuracy','$\\mu+2\\sigma$ of accuracy','$\\mu-2\\sigma$ of accuracy'])\n",
    "plt.grid(True)\n",
    "plt.show()"
   ]
  },
  {
   "cell_type": "code",
   "execution_count": 54,
   "metadata": {
    "collapsed": false
   },
   "outputs": [
    {
     "data": {
      "text/plain": [
       "array([ 0.99944792,  0.99963195,  0.99963195])"
      ]
     },
     "execution_count": 54,
     "metadata": {},
     "output_type": "execute_result"
    }
   ],
   "source": [
    "# show the accuracy of learning rate\n",
    "gridlr.cv_results_['mean_test_score']"
   ]
  },
  {
   "cell_type": "code",
   "execution_count": 53,
   "metadata": {
    "collapsed": false
   },
   "outputs": [
    {
     "data": {
      "image/png": "[encoded data removed]",
      "text/plain": [
       "<matplotlib.figure.Figure at 0x10e287358>"
      ]
     },
     "metadata": {},
     "output_type": "display_data"
    }
   ],
   "source": [
    "# plot the GridSearchCV results of learning rate\n",
    "plt.plot(ne,gridlr.cv_results_['mean_test_score'])\n",
    "plt.plot(ne,gridlr.cv_results_['mean_test_score']+2*gridlr.cv_results_['std_test_score'])\n",
    "plt.plot(ne,gridlr.cv_results_['mean_test_score']-2*gridlr.cv_results_['std_test_score'])\n",
    "plt.title('GridSearchCV results of learning rate')\n",
    "plt.xlabel('n_estimators')\n",
    "plt.ylabel('Accuracy')\n",
    "plt.legend(['$\\mu$ of accuracy','$\\mu+2\\sigma$ of accuracy','$\\mu-2\\sigma$ of accuracy'])\n",
    "plt.grid(True)\n",
    "plt.show()"
   ]
  },
  {
   "cell_type": "code",
   "execution_count": 59,
   "metadata": {
    "collapsed": false
   },
   "outputs": [],
   "source": [
    "# predict by model of the best value of n_estimators\n",
    "x_pred_ne = grid.predict(train_X)"
   ]
  },
  {
   "cell_type": "code",
   "execution_count": 62,
   "metadata": {
    "collapsed": false
   },
   "outputs": [
    {
     "data": {
      "image/png": "[encoded data removed]",
      "text/plain": [
       "<matplotlib.figure.Figure at 0x100e127b8>"
      ]
     },
     "metadata": {},
     "output_type": "display_data"
    }
   ],
   "source": [
    "# plot the confusion matrix of prediction results (n_estimators)\n",
    "plt.matshow(confusion_matrix(train_y, x_pred_ne), cmap=\"Reds\")\n",
    "plt.colorbar(shrink=0.8)\n",
    "plt.title('confusion matrix of prediction results (n_estimators)')\n",
    "plt.xticks(range(10))\n",
    "plt.yticks(range(10))\n",
    "plt.xlabel(\"Predicted label\")\n",
    "plt.ylabel(\"True label\")\n",
    "plt.show()"
   ]
  },
  {
   "cell_type": "code",
   "execution_count": 64,
   "metadata": {
    "collapsed": true
   },
   "outputs": [],
   "source": [
    "# predict by model of the best value of n_estimators\n",
    "x_pred_lr = gridlr.predict(train_X)"
   ]
  },
  {
   "cell_type": "code",
   "execution_count": 65,
   "metadata": {
    "collapsed": false
   },
   "outputs": [
    {
     "data": {
      "image/png": "[encoded data removed]",
      "text/plain": [
       "<matplotlib.figure.Figure at 0x10dc8b0b8>"
      ]
     },
     "metadata": {},
     "output_type": "display_data"
    }
   ],
   "source": [
    "# plot the confusion matrix of prediction results (n_estimators)\n",
    "plt.matshow(confusion_matrix(train_y, x_pred_lr), cmap=\"Greens\")\n",
    "plt.colorbar(shrink=0.8)\n",
    "plt.title('confusion matrix of prediction results (n_estimators)')\n",
    "plt.xticks(range(10))\n",
    "plt.yticks(range(10))\n",
    "plt.xlabel(\"Predicted label\")\n",
    "plt.ylabel(\"True label\")\n",
    "plt.show()"
   ]
  },
  {
   "cell_type": "code",
   "execution_count": null,
   "metadata": {
    "collapsed": true
   },
   "outputs": [],
   "source": []
  }
 ],
 "metadata": {
  "kernelspec": {
   "display_name": "Python 3",
   "language": "python",
   "name": "python3"
  },
  "language_info": {
   "codemirror_mode": {
    "name": "ipython",
    "version": 3
   },
   "file_extension": ".py",
   "mimetype": "text/x-python",
   "name": "python",
   "nbconvert_exporter": "python",
   "pygments_lexer": "ipython3",
   "version": "3.6.0"
  }
 },
 "nbformat": 4,
 "nbformat_minor": 2
}
