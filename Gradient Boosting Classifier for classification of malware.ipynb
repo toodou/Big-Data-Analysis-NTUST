{
 "cells": [
  {
   "cell_type": "markdown",
   "metadata": {},
   "source": [
    "# Gradient Boosting Classifier for classification of malware"
   ]
  },
  {
   "cell_type": "markdown",
   "metadata": {},
   "source": [
    "<b>Author</b>: Chan, Chun-Hsiang (<b>TooDou</b>) @ D04228002 NTU GEOG"
   ]
  },
  {
   "cell_type": "markdown",
   "metadata": {},
   "source": [
    "<div align=\"justify\">\n",
    "<b>Brief Introduction</b><br />\n",
    "In this report, we would like to use gradient boost classification as classification approach to classify the different types of malwares. Also we tried different parameters to know which one is the best of all by accuracy. In addition, we applied the heat map to show the confusion matrix in figure.\n",
    "</div>"
   ]
  },
  {
   "cell_type": "code",
   "execution_count": 1,
   "metadata": {
    "collapsed": true
   },
   "outputs": [],
   "source": [
    "# import packages\n",
    "import os\n",
    "import pandas as pd\n",
    "\n",
    "# load dateset\n",
    "os.getcwd()\n",
    "os.chdir('/Users/May/Documents/python_code/xgboost_note/malware')\n",
    "train = pd.read_csv('LargeTrain.csv')\n",
    "test = pd.read_csv('LargeTest.csv')"
   ]
  },
  {
   "cell_type": "code",
   "execution_count": 2,
   "metadata": {
    "collapsed": true
   },
   "outputs": [],
   "source": [
    "# import necessary packages\n",
    "import matplotlib.pyplot as plt\n",
    "import numpy as np"
   ]
  },
  {
   "cell_type": "code",
   "execution_count": 4,
   "metadata": {
    "collapsed": false
   },
   "outputs": [],
   "source": [
    "# import packages\n",
    "import sklearn\n",
    "from sklearn.ensemble import GradientBoostingClassifier"
   ]
  },
  {
   "cell_type": "code",
   "execution_count": 5,
   "metadata": {
    "collapsed": true
   },
   "outputs": [],
   "source": [
    "# features\n",
    "train_X = train[train.columns[np.arange(1804)]]\n",
    "# label\n",
    "classType = train[train.columns[1804]]"
   ]
  },
  {
   "cell_type": "code",
   "execution_count": 7,
   "metadata": {
    "collapsed": false
   },
   "outputs": [
    {
     "name": "stdout",
     "output_type": "stream",
     "text": [
      "Number of Training Data:  8151\n",
      "Number of Test Data:  2717\n"
     ]
    }
   ],
   "source": [
    "# training part\n",
    "trainDataNum = train_X.shape[0]*0.75\n",
    "print('Number of Training Data: ', int(trainDataNum))\n",
    "# test part\n",
    "testDataNum = train_X.shape[0]*0.25\n",
    "print('Number of Test Data: ', int(testDataNum))"
   ]
  },
  {
   "cell_type": "code",
   "execution_count": 9,
   "metadata": {
    "collapsed": false
   },
   "outputs": [
    {
     "name": "stdout",
     "output_type": "stream",
     "text": [
      "Training Data Index: \n",
      " [    0     1     5 ..., 10864 10865 10866]\n",
      "Test Data Index: \n",
      " [    2     3     4 ..., 10857 10860 10867]\n"
     ]
    }
   ],
   "source": [
    "# training part\n",
    "trainIndex = np.random.choice(train_X.shape[0], int(trainDataNum), replace=False)\n",
    "print('Training Data Index: \\n', np.sort(trainIndex))\n",
    "# test part\n",
    "trainSelect = np.in1d(range(train_X.shape[0]),trainIndex)\n",
    "print('Test Data Index: \\n', np.sort(np.arange(train_X.shape[0])[~trainSelect]))"
   ]
  },
  {
   "cell_type": "code",
   "execution_count": 11,
   "metadata": {
    "collapsed": false
   },
   "outputs": [
    {
     "data": {
      "text/html": [
       "<div>\n",
       "<table border=\"1\" class=\"dataframe\">\n",
       "  <thead>\n",
       "    <tr style=\"text-align: right;\">\n",
       "      <th></th>\n",
       "      <th>Virtual</th>\n",
       "      <th>Offset</th>\n",
       "      <th>loc</th>\n",
       "      <th>Import</th>\n",
       "      <th>Imports</th>\n",
       "      <th>var</th>\n",
       "      <th>Forwarder</th>\n",
       "      <th>UINT</th>\n",
       "      <th>LONG</th>\n",
       "      <th>BOOL</th>\n",
       "      <th>...</th>\n",
       "      <th>Img98</th>\n",
       "      <th>Img99</th>\n",
       "      <th>Img100</th>\n",
       "      <th>Img101</th>\n",
       "      <th>Img102</th>\n",
       "      <th>Img103</th>\n",
       "      <th>Img104</th>\n",
       "      <th>Img105</th>\n",
       "      <th>Img106</th>\n",
       "      <th>Img107</th>\n",
       "    </tr>\n",
       "  </thead>\n",
       "  <tbody>\n",
       "    <tr>\n",
       "      <th>0</th>\n",
       "      <td>3</td>\n",
       "      <td>3</td>\n",
       "      <td>689</td>\n",
       "      <td>18</td>\n",
       "      <td>6</td>\n",
       "      <td>890</td>\n",
       "      <td>6</td>\n",
       "      <td>39</td>\n",
       "      <td>17</td>\n",
       "      <td>88</td>\n",
       "      <td>...</td>\n",
       "      <td>8658.0</td>\n",
       "      <td>35148.0</td>\n",
       "      <td>8687.0</td>\n",
       "      <td>55835.0</td>\n",
       "      <td>9078.0</td>\n",
       "      <td>21355.0</td>\n",
       "      <td>56302.0</td>\n",
       "      <td>10380.0</td>\n",
       "      <td>171979.0</td>\n",
       "      <td>162674.0</td>\n",
       "    </tr>\n",
       "    <tr>\n",
       "      <th>1</th>\n",
       "      <td>3</td>\n",
       "      <td>3</td>\n",
       "      <td>583</td>\n",
       "      <td>15</td>\n",
       "      <td>5</td>\n",
       "      <td>1574</td>\n",
       "      <td>5</td>\n",
       "      <td>6</td>\n",
       "      <td>7</td>\n",
       "      <td>30</td>\n",
       "      <td>...</td>\n",
       "      <td>650.0</td>\n",
       "      <td>571.0</td>\n",
       "      <td>718.0</td>\n",
       "      <td>1762.0</td>\n",
       "      <td>642.0</td>\n",
       "      <td>1820.0</td>\n",
       "      <td>1675.0</td>\n",
       "      <td>1100.0</td>\n",
       "      <td>7702.0</td>\n",
       "      <td>6551.0</td>\n",
       "    </tr>\n",
       "    <tr>\n",
       "      <th>5</th>\n",
       "      <td>3</td>\n",
       "      <td>3</td>\n",
       "      <td>86</td>\n",
       "      <td>6</td>\n",
       "      <td>2</td>\n",
       "      <td>6</td>\n",
       "      <td>2</td>\n",
       "      <td>0</td>\n",
       "      <td>0</td>\n",
       "      <td>1</td>\n",
       "      <td>...</td>\n",
       "      <td>597.0</td>\n",
       "      <td>474.0</td>\n",
       "      <td>561.0</td>\n",
       "      <td>1389.0</td>\n",
       "      <td>581.0</td>\n",
       "      <td>1537.0</td>\n",
       "      <td>1293.0</td>\n",
       "      <td>1275.0</td>\n",
       "      <td>7048.0</td>\n",
       "      <td>6164.0</td>\n",
       "    </tr>\n",
       "    <tr>\n",
       "      <th>6</th>\n",
       "      <td>3</td>\n",
       "      <td>3</td>\n",
       "      <td>469</td>\n",
       "      <td>21</td>\n",
       "      <td>7</td>\n",
       "      <td>291</td>\n",
       "      <td>7</td>\n",
       "      <td>43</td>\n",
       "      <td>15</td>\n",
       "      <td>82</td>\n",
       "      <td>...</td>\n",
       "      <td>15658.0</td>\n",
       "      <td>33452.0</td>\n",
       "      <td>15370.0</td>\n",
       "      <td>63663.0</td>\n",
       "      <td>15581.0</td>\n",
       "      <td>42067.0</td>\n",
       "      <td>63996.0</td>\n",
       "      <td>21127.0</td>\n",
       "      <td>221716.0</td>\n",
       "      <td>176170.0</td>\n",
       "    </tr>\n",
       "    <tr>\n",
       "      <th>8</th>\n",
       "      <td>3</td>\n",
       "      <td>3</td>\n",
       "      <td>691</td>\n",
       "      <td>18</td>\n",
       "      <td>6</td>\n",
       "      <td>597</td>\n",
       "      <td>6</td>\n",
       "      <td>30</td>\n",
       "      <td>16</td>\n",
       "      <td>61</td>\n",
       "      <td>...</td>\n",
       "      <td>13626.0</td>\n",
       "      <td>43370.0</td>\n",
       "      <td>13748.0</td>\n",
       "      <td>66715.0</td>\n",
       "      <td>14946.0</td>\n",
       "      <td>39350.0</td>\n",
       "      <td>71793.0</td>\n",
       "      <td>18663.0</td>\n",
       "      <td>219223.0</td>\n",
       "      <td>167493.0</td>\n",
       "    </tr>\n",
       "  </tbody>\n",
       "</table>\n",
       "<p>5 rows × 1804 columns</p>\n",
       "</div>"
      ],
      "text/plain": [
       "   Virtual  Offset  loc  Import  Imports   var  Forwarder  UINT  LONG  BOOL  \\\n",
       "0        3       3  689      18        6   890          6    39    17    88   \n",
       "1        3       3  583      15        5  1574          5     6     7    30   \n",
       "5        3       3   86       6        2     6          2     0     0     1   \n",
       "6        3       3  469      21        7   291          7    43    15    82   \n",
       "8        3       3  691      18        6   597          6    30    16    61   \n",
       "\n",
       "     ...       Img98    Img99   Img100   Img101   Img102   Img103   Img104  \\\n",
       "0    ...      8658.0  35148.0   8687.0  55835.0   9078.0  21355.0  56302.0   \n",
       "1    ...       650.0    571.0    718.0   1762.0    642.0   1820.0   1675.0   \n",
       "5    ...       597.0    474.0    561.0   1389.0    581.0   1537.0   1293.0   \n",
       "6    ...     15658.0  33452.0  15370.0  63663.0  15581.0  42067.0  63996.0   \n",
       "8    ...     13626.0  43370.0  13748.0  66715.0  14946.0  39350.0  71793.0   \n",
       "\n",
       "    Img105    Img106    Img107  \n",
       "0  10380.0  171979.0  162674.0  \n",
       "1   1100.0    7702.0    6551.0  \n",
       "5   1275.0    7048.0    6164.0  \n",
       "6  21127.0  221716.0  176170.0  \n",
       "8  18663.0  219223.0  167493.0  \n",
       "\n",
       "[5 rows x 1804 columns]"
      ]
     },
     "execution_count": 11,
     "metadata": {},
     "output_type": "execute_result"
    }
   ],
   "source": [
    "# extract training dataset (features and label)\n",
    "trainData = train_X[trainSelect]\n",
    "trainClass = classType[trainSelect]\n",
    "trainData.head()"
   ]
  },
  {
   "cell_type": "code",
   "execution_count": 12,
   "metadata": {
    "collapsed": false
   },
   "outputs": [
    {
     "data": {
      "text/html": [
       "<div>\n",
       "<table border=\"1\" class=\"dataframe\">\n",
       "  <thead>\n",
       "    <tr style=\"text-align: right;\">\n",
       "      <th></th>\n",
       "      <th>Virtual</th>\n",
       "      <th>Offset</th>\n",
       "      <th>loc</th>\n",
       "      <th>Import</th>\n",
       "      <th>Imports</th>\n",
       "      <th>var</th>\n",
       "      <th>Forwarder</th>\n",
       "      <th>UINT</th>\n",
       "      <th>LONG</th>\n",
       "      <th>BOOL</th>\n",
       "      <th>...</th>\n",
       "      <th>Img98</th>\n",
       "      <th>Img99</th>\n",
       "      <th>Img100</th>\n",
       "      <th>Img101</th>\n",
       "      <th>Img102</th>\n",
       "      <th>Img103</th>\n",
       "      <th>Img104</th>\n",
       "      <th>Img105</th>\n",
       "      <th>Img106</th>\n",
       "      <th>Img107</th>\n",
       "    </tr>\n",
       "  </thead>\n",
       "  <tbody>\n",
       "    <tr>\n",
       "      <th>2</th>\n",
       "      <td>3</td>\n",
       "      <td>4</td>\n",
       "      <td>2796</td>\n",
       "      <td>15</td>\n",
       "      <td>5</td>\n",
       "      <td>625</td>\n",
       "      <td>5</td>\n",
       "      <td>58</td>\n",
       "      <td>11</td>\n",
       "      <td>152</td>\n",
       "      <td>...</td>\n",
       "      <td>16918.0</td>\n",
       "      <td>29872.0</td>\n",
       "      <td>16910.0</td>\n",
       "      <td>31708.0</td>\n",
       "      <td>9000.0</td>\n",
       "      <td>17586.0</td>\n",
       "      <td>30719.0</td>\n",
       "      <td>30062.0</td>\n",
       "      <td>55331.0</td>\n",
       "      <td>12946.0</td>\n",
       "    </tr>\n",
       "    <tr>\n",
       "      <th>3</th>\n",
       "      <td>3</td>\n",
       "      <td>3</td>\n",
       "      <td>373</td>\n",
       "      <td>27</td>\n",
       "      <td>9</td>\n",
       "      <td>615</td>\n",
       "      <td>9</td>\n",
       "      <td>16</td>\n",
       "      <td>10</td>\n",
       "      <td>34</td>\n",
       "      <td>...</td>\n",
       "      <td>9734.0</td>\n",
       "      <td>10742.0</td>\n",
       "      <td>9755.0</td>\n",
       "      <td>26992.0</td>\n",
       "      <td>9069.0</td>\n",
       "      <td>24885.0</td>\n",
       "      <td>27108.0</td>\n",
       "      <td>13219.0</td>\n",
       "      <td>122247.0</td>\n",
       "      <td>98621.0</td>\n",
       "    </tr>\n",
       "    <tr>\n",
       "      <th>4</th>\n",
       "      <td>3</td>\n",
       "      <td>3</td>\n",
       "      <td>77</td>\n",
       "      <td>12</td>\n",
       "      <td>4</td>\n",
       "      <td>66</td>\n",
       "      <td>4</td>\n",
       "      <td>3</td>\n",
       "      <td>0</td>\n",
       "      <td>5</td>\n",
       "      <td>...</td>\n",
       "      <td>1256.0</td>\n",
       "      <td>962.0</td>\n",
       "      <td>1307.0</td>\n",
       "      <td>3119.0</td>\n",
       "      <td>1172.0</td>\n",
       "      <td>3522.0</td>\n",
       "      <td>3245.0</td>\n",
       "      <td>2001.0</td>\n",
       "      <td>15501.0</td>\n",
       "      <td>11864.0</td>\n",
       "    </tr>\n",
       "    <tr>\n",
       "      <th>7</th>\n",
       "      <td>3</td>\n",
       "      <td>3</td>\n",
       "      <td>2090</td>\n",
       "      <td>21</td>\n",
       "      <td>7</td>\n",
       "      <td>4035</td>\n",
       "      <td>7</td>\n",
       "      <td>17</td>\n",
       "      <td>8</td>\n",
       "      <td>40</td>\n",
       "      <td>...</td>\n",
       "      <td>1783.0</td>\n",
       "      <td>1378.0</td>\n",
       "      <td>1901.0</td>\n",
       "      <td>4588.0</td>\n",
       "      <td>2004.0</td>\n",
       "      <td>5550.0</td>\n",
       "      <td>4494.0</td>\n",
       "      <td>2803.0</td>\n",
       "      <td>21692.0</td>\n",
       "      <td>18786.0</td>\n",
       "    </tr>\n",
       "    <tr>\n",
       "      <th>10</th>\n",
       "      <td>3</td>\n",
       "      <td>3</td>\n",
       "      <td>1158</td>\n",
       "      <td>9</td>\n",
       "      <td>3</td>\n",
       "      <td>649</td>\n",
       "      <td>3</td>\n",
       "      <td>16</td>\n",
       "      <td>6</td>\n",
       "      <td>17</td>\n",
       "      <td>...</td>\n",
       "      <td>5685.0</td>\n",
       "      <td>21872.0</td>\n",
       "      <td>5509.0</td>\n",
       "      <td>30665.0</td>\n",
       "      <td>5760.0</td>\n",
       "      <td>15170.0</td>\n",
       "      <td>31884.0</td>\n",
       "      <td>7785.0</td>\n",
       "      <td>97977.0</td>\n",
       "      <td>77527.0</td>\n",
       "    </tr>\n",
       "  </tbody>\n",
       "</table>\n",
       "<p>5 rows × 1804 columns</p>\n",
       "</div>"
      ],
      "text/plain": [
       "    Virtual  Offset   loc  Import  Imports   var  Forwarder  UINT  LONG  BOOL  \\\n",
       "2         3       4  2796      15        5   625          5    58    11   152   \n",
       "3         3       3   373      27        9   615          9    16    10    34   \n",
       "4         3       3    77      12        4    66          4     3     0     5   \n",
       "7         3       3  2090      21        7  4035          7    17     8    40   \n",
       "10        3       3  1158       9        3   649          3    16     6    17   \n",
       "\n",
       "     ...       Img98    Img99   Img100   Img101  Img102   Img103   Img104  \\\n",
       "2    ...     16918.0  29872.0  16910.0  31708.0  9000.0  17586.0  30719.0   \n",
       "3    ...      9734.0  10742.0   9755.0  26992.0  9069.0  24885.0  27108.0   \n",
       "4    ...      1256.0    962.0   1307.0   3119.0  1172.0   3522.0   3245.0   \n",
       "7    ...      1783.0   1378.0   1901.0   4588.0  2004.0   5550.0   4494.0   \n",
       "10   ...      5685.0  21872.0   5509.0  30665.0  5760.0  15170.0  31884.0   \n",
       "\n",
       "     Img105    Img106   Img107  \n",
       "2   30062.0   55331.0  12946.0  \n",
       "3   13219.0  122247.0  98621.0  \n",
       "4    2001.0   15501.0  11864.0  \n",
       "7    2803.0   21692.0  18786.0  \n",
       "10   7785.0   97977.0  77527.0  \n",
       "\n",
       "[5 rows x 1804 columns]"
      ]
     },
     "execution_count": 12,
     "metadata": {},
     "output_type": "execute_result"
    }
   ],
   "source": [
    "# extract test dataset (features and label)\n",
    "testData = train_X[~trainSelect]\n",
    "testClass = classType[~trainSelect]\n",
    "testData.head()"
   ]
  },
  {
   "cell_type": "code",
   "execution_count": 13,
   "metadata": {
    "collapsed": true
   },
   "outputs": [],
   "source": [
    "# in order to measure the run time of classification, we adopted \"timeit\" packages to calculate the duration time.\n",
    "import timeit"
   ]
  },
  {
   "cell_type": "code",
   "execution_count": 93,
   "metadata": {
    "collapsed": true
   },
   "outputs": [],
   "source": [
    "# import the packages\n",
    "from sklearn.model_selection import cross_val_score\n",
    "from sklearn.metrics import confusion_matrix\n",
    "from sklearn import ensemble\n",
    "from sklearn.model_selection import KFold\n",
    "from sklearn.model_selection import train_test_split\n",
    "from sklearn.model_selection import GridSearchCV"
   ]
  },
  {
   "cell_type": "code",
   "execution_count": 159,
   "metadata": {
    "collapsed": true
   },
   "outputs": [],
   "source": [
    "# set the parameters for testing\n",
    "para_nes = np.array([1100, 1200,1300])"
   ]
  },
  {
   "cell_type": "code",
   "execution_count": 108,
   "metadata": {
    "collapsed": false,
    "scrolled": false
   },
   "outputs": [
    {
     "name": "stdout",
     "output_type": "stream",
     "text": [
      "RFC training time:  0.00022491795243695378\n"
     ]
    }
   ],
   "source": [
    "# for the training part\n",
    "# start to count\n",
    "start = timeit.default_timer()\n",
    "# model fitting\n",
    "# define the parameters\n",
    "para = parameters[i] \n",
    "# build Gradient Boosting Classifier model\n",
    "gbc_nes_clf1 = GradientBoostingClassifier(n_estimators= para_nes[0], max_depth= 3, subsample= 0.5, learning_rate= 0.01, min_samples_leaf= 1, random_state=3)\n",
    "# stop to count\n",
    "stop = timeit.default_timer()\n",
    "print ('RFC training time: ', stop - start)"
   ]
  },
  {
   "cell_type": "code",
   "execution_count": 109,
   "metadata": {
    "collapsed": false
   },
   "outputs": [
    {
     "name": "stdout",
     "output_type": "stream",
     "text": [
      "RFC training time:  0.00019228097517043352\n"
     ]
    }
   ],
   "source": [
    "# for the training part\n",
    "# start to count\n",
    "start = timeit.default_timer()\n",
    "# model fitting\n",
    "# define the parameters\n",
    "para = parameters[i] \n",
    "# build Gradient Boosting Classifier model\n",
    "gbc_nes_clf2 = GradientBoostingClassifier(n_estimators= para_nes[1], max_depth= 3, subsample= 0.5, learning_rate= 0.01, min_samples_leaf= 1, random_state=3)\n",
    "# stop to count\n",
    "stop = timeit.default_timer()\n",
    "print ('RFC training time: ', stop - start)"
   ]
  },
  {
   "cell_type": "code",
   "execution_count": 110,
   "metadata": {
    "collapsed": false
   },
   "outputs": [
    {
     "name": "stdout",
     "output_type": "stream",
     "text": [
      "RFC training time:  0.00017689599189907312\n"
     ]
    }
   ],
   "source": [
    "# for the training part\n",
    "# start to count\n",
    "start = timeit.default_timer()\n",
    "# model fitting\n",
    "# define the parameters\n",
    "para = parameters[i] \n",
    "# build Gradient Boosting Classifier model\n",
    "gbc_nes_clf3 = GradientBoostingClassifier(n_estimators= para_nes[2], max_depth= 3, subsample= 0.5, learning_rate= 0.01, min_samples_leaf= 1, random_state=3)\n",
    "# stop to count\n",
    "stop = timeit.default_timer()\n",
    "print ('RFC training time: ', stop - start)"
   ]
  },
  {
   "cell_type": "code",
   "execution_count": null,
   "metadata": {
    "collapsed": false
   },
   "outputs": [],
   "source": [
    "# fit n_estimators = 1100 model\n",
    "start = timeit.default_timer()\n",
    "gbc_nes_clf1.fit(trainData,trainClass)\n",
    "stop = timeit.default_timer()"
   ]
  },
  {
   "cell_type": "code",
   "execution_count": 119,
   "metadata": {
    "collapsed": false
   },
   "outputs": [],
   "source": [
    "# predict by using the test data\n",
    "gbc_nes_clf1_pred = gbc_nes_clf1.predict(testData)"
   ]
  },
  {
   "cell_type": "code",
   "execution_count": 129,
   "metadata": {
    "collapsed": false
   },
   "outputs": [
    {
     "data": {
      "text/plain": [
       "array([[378,   0,   0,   0,   0,   1,   0,   0,   0],\n",
       "       [  0, 557,   0,   0,   0,   0,   0,   0,   0],\n",
       "       [  0,   0, 765,   0,   0,   0,   0,   0,   0],\n",
       "       [  0,   0,   0, 133,   0,   1,   0,   3,   0],\n",
       "       [  0,   0,   0,   0,  11,   1,   0,   1,   1],\n",
       "       [  0,   0,   0,   1,   0, 203,   0,   1,   2],\n",
       "       [  0,   0,   0,   0,   0,   0,  94,   0,   1],\n",
       "       [  0,   0,   0,   1,   0,   0,   0, 309,   0],\n",
       "       [  0,   0,   0,   0,   0,   0,   0,   1, 252]])"
      ]
     },
     "execution_count": 129,
     "metadata": {},
     "output_type": "execute_result"
    }
   ],
   "source": [
    "# generate the confusion matrix\n",
    "confusion_matrix(testClass, gbc_nes_clf1_pred)"
   ]
  },
  {
   "cell_type": "code",
   "execution_count": 130,
   "metadata": {
    "collapsed": false
   },
   "outputs": [
    {
     "data": {
      "image/png": "[encoded data removed]",
      "text/plain": [
       "<matplotlib.figure.Figure at 0x116ef3550>"
      ]
     },
     "metadata": {},
     "output_type": "display_data"
    }
   ],
   "source": [
    "# plot the heat map of confusion matrix\n",
    "plt.matshow(confusion_matrix(testClass, gbc_nes_clf1_pred), cmap=\"Blues\")\n",
    "plt.colorbar(shrink=0.8)\n",
    "plt.xticks(range(10))\n",
    "plt.yticks(range(10))\n",
    "plt.xlabel(\"Predicted label\")\n",
    "plt.ylabel(\"True label\")\n",
    "plt.show()"
   ]
  },
  {
   "cell_type": "code",
   "execution_count": 121,
   "metadata": {
    "collapsed": false
   },
   "outputs": [],
   "source": [
    "# fit n_estimators = 1200 model\n",
    "start = timeit.default_timer()\n",
    "gbc_nes_clf2.fit(trainData,trainClass)\n",
    "stop = timeit.default_timer()"
   ]
  },
  {
   "cell_type": "code",
   "execution_count": 126,
   "metadata": {
    "collapsed": false
   },
   "outputs": [
    {
     "data": {
      "text/plain": [
       "array([9, 9, 1, ..., 4, 4, 4])"
      ]
     },
     "execution_count": 126,
     "metadata": {},
     "output_type": "execute_result"
    }
   ],
   "source": [
    "# predict by using the test data\n",
    "gbc_nes_clf2_pred = gbc_nes_clf2.predict(testData)\n",
    "gbc_nes_clf2_pred"
   ]
  },
  {
   "cell_type": "code",
   "execution_count": 131,
   "metadata": {
    "collapsed": false
   },
   "outputs": [
    {
     "data": {
      "text/plain": [
       "array([[378,   0,   0,   0,   0,   1,   0,   0,   0],\n",
       "       [  0, 557,   0,   0,   0,   0,   0,   0,   0],\n",
       "       [  0,   0, 765,   0,   0,   0,   0,   0,   0],\n",
       "       [  0,   0,   0, 133,   0,   1,   0,   3,   0],\n",
       "       [  0,   0,   0,   0,  11,   1,   0,   1,   1],\n",
       "       [  0,   0,   0,   1,   0, 203,   0,   1,   2],\n",
       "       [  0,   0,   0,   0,   0,   0,  95,   0,   0],\n",
       "       [  0,   0,   0,   1,   0,   0,   0, 309,   0],\n",
       "       [  0,   0,   0,   0,   0,   0,   0,   1, 252]])"
      ]
     },
     "execution_count": 131,
     "metadata": {},
     "output_type": "execute_result"
    }
   ],
   "source": [
    "# generate the confusion matrix\n",
    "confusion_matrix(testClass, gbc_nes_clf2_pred)"
   ]
  },
  {
   "cell_type": "code",
   "execution_count": 132,
   "metadata": {
    "collapsed": false
   },
   "outputs": [
    {
     "data": {
      "image/png": "[encoded data removed]",
      "text/plain": [
       "<matplotlib.figure.Figure at 0x11dcc22b0>"
      ]
     },
     "metadata": {},
     "output_type": "display_data"
    }
   ],
   "source": [
    "# plot the heat map of confusion matrix\n",
    "plt.matshow(confusion_matrix(testClass, gbc_nes_clf2_pred), cmap=\"Blues\")\n",
    "plt.colorbar(shrink=0.8)\n",
    "plt.xticks(range(10))\n",
    "plt.yticks(range(10))\n",
    "plt.xlabel(\"Predicted label\")\n",
    "plt.ylabel(\"True label\")\n",
    "plt.show()"
   ]
  },
  {
   "cell_type": "code",
   "execution_count": 127,
   "metadata": {
    "collapsed": false
   },
   "outputs": [],
   "source": [
    "# fit n_estimators = 1300 model\n",
    "start = timeit.default_timer()\n",
    "gbc_nes_clf3.fit(trainData,trainClass)\n",
    "stop = timeit.default_timer()"
   ]
  },
  {
   "cell_type": "code",
   "execution_count": 134,
   "metadata": {
    "collapsed": false
   },
   "outputs": [
    {
     "data": {
      "text/plain": [
       "array([9, 9, 1, ..., 4, 4, 4])"
      ]
     },
     "execution_count": 134,
     "metadata": {},
     "output_type": "execute_result"
    }
   ],
   "source": [
    "# predict by using the test data\n",
    "gbc_nes_clf3_pred = gbc_nes_clf3.predict(testData)\n",
    "gbc_nes_clf3_pred"
   ]
  },
  {
   "cell_type": "code",
   "execution_count": 135,
   "metadata": {
    "collapsed": false
   },
   "outputs": [
    {
     "data": {
      "text/plain": [
       "array([[378,   0,   0,   0,   0,   1,   0,   0,   0],\n",
       "       [  0, 557,   0,   0,   0,   0,   0,   0,   0],\n",
       "       [  0,   0, 765,   0,   0,   0,   0,   0,   0],\n",
       "       [  0,   0,   0, 133,   0,   1,   0,   3,   0],\n",
       "       [  0,   0,   0,   0,  11,   1,   0,   1,   1],\n",
       "       [  0,   0,   0,   1,   0, 203,   0,   1,   2],\n",
       "       [  0,   0,   0,   0,   0,   0,  95,   0,   0],\n",
       "       [  0,   0,   0,   1,   0,   0,   0, 309,   0],\n",
       "       [  0,   0,   0,   0,   0,   0,   0,   1, 252]])"
      ]
     },
     "execution_count": 135,
     "metadata": {},
     "output_type": "execute_result"
    }
   ],
   "source": [
    "# generate the confusion matrix\n",
    "confusion_matrix(testClass, gbc_nes_clf3_pred)"
   ]
  },
  {
   "cell_type": "code",
   "execution_count": 136,
   "metadata": {
    "collapsed": false
   },
   "outputs": [
    {
     "data": {
      "image/png": "[encoded data removed]",
      "text/plain": [
       "<matplotlib.figure.Figure at 0x11e214eb8>"
      ]
     },
     "metadata": {},
     "output_type": "display_data"
    }
   ],
   "source": [
    "# plot the heat map of confusion matrix\n",
    "plt.matshow(confusion_matrix(testClass, gbc_nes_clf3_pred), cmap=\"Blues\")\n",
    "plt.colorbar(shrink=0.8)\n",
    "plt.xticks(range(10))\n",
    "plt.yticks(range(10))\n",
    "plt.xlabel(\"Predicted label\")\n",
    "plt.ylabel(\"True label\")\n",
    "plt.show()"
   ]
  },
  {
   "cell_type": "code",
   "execution_count": 143,
   "metadata": {
    "collapsed": false
   },
   "outputs": [
    {
     "name": "stdout",
     "output_type": "stream",
     "text": [
      "Accuracy of cfm1 model:  99.4479205006 %\n"
     ]
    }
   ],
   "source": [
    "# compute the accuracy of model 1 and print on the screen\n",
    "cfm1 = confusion_matrix(testClass, gbc_nes_clf1_pred)\n",
    "print('Accuracy of cfm1 model: ', 100*cfm1.trace()/sum(sum(cfm1)),'%')"
   ]
  },
  {
   "cell_type": "code",
   "execution_count": 144,
   "metadata": {
    "collapsed": false
   },
   "outputs": [
    {
     "name": "stdout",
     "output_type": "stream",
     "text": [
      "Accuracy of cfm2 model:  99.4847258005 %\n"
     ]
    }
   ],
   "source": [
    "# compute the accuracy of model 1 and print on the screen\n",
    "cfm2 = confusion_matrix(testClass, gbc_nes_clf2_pred)\n",
    "print('Accuracy of cfm2 model: ', 100*cfm2.trace()/sum(sum(cfm2)),'%')"
   ]
  },
  {
   "cell_type": "code",
   "execution_count": 145,
   "metadata": {
    "collapsed": false
   },
   "outputs": [
    {
     "name": "stdout",
     "output_type": "stream",
     "text": [
      "Accuracy of cfm3 model:  99.4847258005 %\n"
     ]
    }
   ],
   "source": [
    "# compute the accuracy of model 1 and print on the screen\n",
    "cfm3 = confusion_matrix(testClass, gbc_nes_clf3_pred)\n",
    "print('Accuracy of cfm3 model: ', 100*cfm3.trace()/sum(sum(cfm3)),'%')"
   ]
  },
  {
   "cell_type": "code",
   "execution_count": 153,
   "metadata": {
    "collapsed": true
   },
   "outputs": [],
   "source": [
    "# \n",
    "x = [1100, 1200,1300]\n",
    "y = [100*cfm1.trace()/sum(sum(cfm1)),100*cfm2.trace()/sum(sum(cfm2)),100*cfm3.trace()/sum(sum(cfm3))]"
   ]
  },
  {
   "cell_type": "code",
   "execution_count": 157,
   "metadata": {
    "collapsed": false
   },
   "outputs": [
    {
     "data": {
      "image/png": "[encoded data removed]",
      "text/plain": [
       "<matplotlib.figure.Figure at 0x125569b00>"
      ]
     },
     "metadata": {},
     "output_type": "display_data"
    }
   ],
   "source": [
    "plt.plot(x, y)\n",
    "plt.title('The Model Training Results')\n",
    "plt.xlabel('n_estimators')\n",
    "plt.ylabel('Accuracy')\n",
    "plt.grid(True)\n",
    "plt.show()"
   ]
  },
  {
   "cell_type": "code",
   "execution_count": 158,
   "metadata": {
    "collapsed": false
   },
   "outputs": [
    {
     "name": "stdout",
     "output_type": "stream",
     "text": [
      "The best parameter value of n_estimators are 1200 and 1300\n"
     ]
    }
   ],
   "source": [
    "print('The best parameter value of n_estimators are 1200 and 1300')"
   ]
  },
  {
   "cell_type": "code",
   "execution_count": null,
   "metadata": {
    "collapsed": true
   },
   "outputs": [],
   "source": []
  }
 ],
 "metadata": {
  "kernelspec": {
   "display_name": "Python 3",
   "language": "python",
   "name": "python3"
  },
  "language_info": {
   "codemirror_mode": {
    "name": "ipython",
    "version": 3
   },
   "file_extension": ".py",
   "mimetype": "text/x-python",
   "name": "python",
   "nbconvert_exporter": "python",
   "pygments_lexer": "ipython3",
   "version": "3.6.0"
  }
 },
 "nbformat": 4,
 "nbformat_minor": 2
}
