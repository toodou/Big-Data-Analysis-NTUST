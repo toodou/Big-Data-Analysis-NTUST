{
 "cells": [
  {
   "cell_type": "markdown",
   "metadata": {},
   "source": [
    "# Select Important Features via Various Classification Approaches"
   ]
  },
  {
   "cell_type": "markdown",
   "metadata": {},
   "source": [
    "<b>Author</b>: Chan, Chun-Hsiang (<b>TooDou</b>) <b>@</b> D04228002 NTU GEOG"
   ]
  },
  {
   "cell_type": "markdown",
   "metadata": {},
   "source": [
    "<div align=\"justify\">\n",
    "<b>Introduction</b><br/>\n",
    "In this project, we would like to analyze the microsoft malware dataset. Through data-driven aspect, we need to extract the important features which is consist of nine different class types (MD1, SEC, !G, DP, IMG!, REG, MISC, ENT, IMG2, SYM, OPC, STR and API, etc.), moreover, we also need to figure out the useless features from the original dataset.<br/><br/>\n",
    "Although this paper adopted \"random forest\" as the classifier (Ahmadi et al., 2016), I would like to test other classifiers, and attemped to know the accuracy of them. As a result, there are four classifiers have been adopted, including random forest, extra trees, decision tree and AdaBoost.<br/>\n",
    "<br/>\n",
    "<b>Methodology</b><br/>\n",
    "Due to the test data from the microsoft malware, we cannot to realize the performance of model because it is lack of class type. In order to sovle this problem, we divided the training dataset file (LargeTrain.csv) into two parts, 70% is for model training, and the other 30% is for model testing. In addition, this study not only accepted cross validation (K-Fold validation: K = 10) for the evaluation of model stability, but also utilized eight parameters to optimize the performance of each classifier.<br/><br/>\n",
    "It is possible to figure the best parameter for each classifier via the procedure above, we adopted four steps to choose the best parameter. The first step is to compute average accuracy difference between the training and test model, and the second is to calculate standard deviation accuracy difference. Then, we summerized these average accuracy difference and standard deviation accuracy difference for each parameter. Nevertheless, we selected the minimum value among these summerized differences, and indicated the index of this corresponded minimum value from parameter vector.<br/><br/>\n",
    "When the best parameter value for each classifier has been found, we needed to re-built the classifier again by using the whole training dataset, and computed the importance of each feature. As a result, the useful features and useless features have been selected via this procedure. Futhermore, we selected top 10 important features from four different classifiers, and constructed support vector machine (SVM) model to evaluate the potential and performances.<br/>\n",
    "<br/>\n",
    "<b>Results and Dicussions</b>\n",
    "After the parameter optimization, the most suitable parameter has been selected for each classifiers as follows.<br/>\n",
    "(1) Random Forest Classification :: n_estimators      :: 20<br/>\n",
    "(2) Decision Tree Classification :: min_samples_split :: 10<br/>\n",
    "(3) Extra Trees Classificaiton   :: n_estimators      :: 12<br/>\n",
    "(4) AdaBoost Classification      :: n_estimators      :: 5<br/>\n",
    "<br/>\n",
    "For simple model building, the best performance is random forest classification (extra trees classification, decision tree classification and adaboost classification). Moreover, all useful and useless features have been obtained, and the top 10 important features from the analysis of analysis procedure.\n",
    "<br/><br/>\n",
    "In order to realize the performances of the top 10 features selected from four different classification models, we adopted support vector machine to evaluate them. The results showed that the best performance is the top10 features generated via extra trees classification, the second is AdaBoost classification, the third is decision tree classification and the fourth is the random forest classification.\n",
    "<br/><br/>\n",
    "We could observed the different classification results between using all-features and top10-features. I thought that random forest needs more estimators to contrust a good model, hence, less estimators induced lower the accuracy. According to the mechanism of extra tree classifier, it would randomly choose a group of sub variables and randomly select the cutoff, based on their entropy. As a result, if the dataset contained a great number of useless features, then the performance could not show well, and this is the reason why we could obtain the highest accuracy from extra trees classification. The same concept is also worked on AdaBoost, the more features we had, then the less accuracy we got. This phenomenon have been proved by over-fitting in several researches. Although the last model we constructed via support vector machine, the results still could be explained.\n",
    "</div>"
   ]
  },
  {
   "cell_type": "markdown",
   "metadata": {},
   "source": [
    "<b>Part I. Load Data and Import Packages</b> <br/>\n",
    "1. Set the Path and Load Data <br/>\n",
    "2. Overview the Whole Dataset"
   ]
  },
  {
   "cell_type": "markdown",
   "metadata": {},
   "source": [
    "<b>Part II. Build Classification Models</b> <br/>\n",
    "1. Preview the Training Dataset for Modeling of Classification <br/>\n",
    "2. Build the Classification Models <br/>\n",
    "3. Rebuild the Classification Model via Suitable Parameter Values <br/>\n",
    "4. Evaluate Classification and Cross Validation by Using K-Fold (K = 10) <br/>\n",
    "5. Statistic Result of Cross Validation on Classification <br/>\n",
    "6. Sight View of the Importance of Each Feature <br/>\n",
    "7. Select Three Types of Features"
   ]
  },
  {
   "cell_type": "markdown",
   "metadata": {},
   "source": [
    "<b>Part III. Model Comparison</b> <br/>\n",
    "1. Accuracy Comparison <br/>\n",
    "2. Important Features Comparison"
   ]
  },
  {
   "cell_type": "markdown",
   "metadata": {},
   "source": [
    "<b>Part III. Model Comparison</b> <br/>\n",
    "1. Accuracy Comparison <br/>\n",
    "2. Important Features Comparison"
   ]
  },
  {
   "cell_type": "markdown",
   "metadata": {},
   "source": [
    "<b>Part IV. Model Validation</b> <br/>\n",
    "1. Apply SVM to Evaluate the Features <br/>\n",
    "2. Comparison"
   ]
  },
  {
   "cell_type": "markdown",
   "metadata": {},
   "source": [
    "For the training dataset, we have 1805 features (included the class type), and 10868 rows of data.<br />\n",
    "For the test dataset, we have 1805 features (included the class type), and 10873 rows of data."
   ]
  },
  {
   "cell_type": "markdown",
   "metadata": {},
   "source": [
    "<b>Reference dataset</b>: https://github.com/ManSoSec/Microsoft-MalwareChallenge <br />\n",
    "<b>Reference paper</b>: https://arxiv.org/abs/1511.04317"
   ]
  },
  {
   "cell_type": "markdown",
   "metadata": {},
   "source": [
    "<b>Python</b> version: 3.6.1<br />\n",
    "<b>Packages requirements</b>:\n",
    "1. os\n",
    "2. timeit\n",
    "3. pandas ver. 0.19.2\n",
    "4. matplotlib ver. 2.0.0\n",
    "5. numpy ver. 1.11.3\n",
    "6. sklearn ver. 0.18.1"
   ]
  },
  {
   "cell_type": "markdown",
   "metadata": {},
   "source": [
    "# Part I. Load Data and Import Packages"
   ]
  },
  {
   "cell_type": "markdown",
   "metadata": {},
   "source": [
    "## 1. Set the Path and Load Data"
   ]
  },
  {
   "cell_type": "code",
   "execution_count": 1,
   "metadata": {
    "collapsed": true
   },
   "outputs": [],
   "source": [
    "# import packages\n",
    "import os\n",
    "import pandas as pd\n",
    "\n",
    "# load dateset\n",
    "os.getcwd()\n",
    "os.chdir('/Users/May/documents/python_code/Microsoft-Malware-Challenge/Dataset/train')\n",
    "train = pd.read_csv('LargeTrain.csv')\n",
    "os.chdir('/Users/May/documents/python_code/Microsoft-Malware-Challenge/Dataset/test/')\n",
    "test = pd.read_csv('LargeTest.csv')"
   ]
  },
  {
   "cell_type": "markdown",
   "metadata": {},
   "source": [
    "## 2. Overview the Whole Dataset"
   ]
  },
  {
   "cell_type": "markdown",
   "metadata": {},
   "source": [
    "We applied two functions to view our Microsoft malware dataset (train and test), including head( ) and describe( ).<br />\n",
    "For the training dataset, we have 1805 features (included the class type), and 10868 rows of data.<br />\n",
    "For the test dataset, we have 1805 features (included the class type), and 10873 rows of data.<br />\n",
    "<br />\n",
    "At last, we plot two figures to present the class distribution of training and test dataset."
   ]
  },
  {
   "cell_type": "code",
   "execution_count": 2,
   "metadata": {
    "collapsed": true
   },
   "outputs": [],
   "source": [
    "# import necessary packages\n",
    "import matplotlib.pyplot as plt\n",
    "import numpy as np"
   ]
  },
  {
   "cell_type": "markdown",
   "metadata": {},
   "source": [
    "### 2.1 Training Dataset\n",
    "(actually this is the original dataset which exists in malware/dataset/train)"
   ]
  },
  {
   "cell_type": "code",
   "execution_count": 3,
   "metadata": {
    "collapsed": false
   },
   "outputs": [
    {
     "data": {
      "text/html": [
       "<div>\n",
       "<table border=\"1\" class=\"dataframe\">\n",
       "  <thead>\n",
       "    <tr style=\"text-align: right;\">\n",
       "      <th></th>\n",
       "      <th>Virtual</th>\n",
       "      <th>Offset</th>\n",
       "      <th>loc</th>\n",
       "      <th>Import</th>\n",
       "      <th>Imports</th>\n",
       "      <th>var</th>\n",
       "      <th>Forwarder</th>\n",
       "      <th>UINT</th>\n",
       "      <th>LONG</th>\n",
       "      <th>BOOL</th>\n",
       "      <th>...</th>\n",
       "      <th>Img99</th>\n",
       "      <th>Img100</th>\n",
       "      <th>Img101</th>\n",
       "      <th>Img102</th>\n",
       "      <th>Img103</th>\n",
       "      <th>Img104</th>\n",
       "      <th>Img105</th>\n",
       "      <th>Img106</th>\n",
       "      <th>Img107</th>\n",
       "      <th>Class</th>\n",
       "    </tr>\n",
       "  </thead>\n",
       "  <tbody>\n",
       "    <tr>\n",
       "      <th>0</th>\n",
       "      <td>3</td>\n",
       "      <td>3</td>\n",
       "      <td>689</td>\n",
       "      <td>18</td>\n",
       "      <td>6</td>\n",
       "      <td>890</td>\n",
       "      <td>6</td>\n",
       "      <td>39</td>\n",
       "      <td>17</td>\n",
       "      <td>88</td>\n",
       "      <td>...</td>\n",
       "      <td>35148.0</td>\n",
       "      <td>8687.0</td>\n",
       "      <td>55835.0</td>\n",
       "      <td>9078.0</td>\n",
       "      <td>21355.0</td>\n",
       "      <td>56302.0</td>\n",
       "      <td>10380.0</td>\n",
       "      <td>171979.0</td>\n",
       "      <td>162674.0</td>\n",
       "      <td>2</td>\n",
       "    </tr>\n",
       "    <tr>\n",
       "      <th>1</th>\n",
       "      <td>3</td>\n",
       "      <td>3</td>\n",
       "      <td>583</td>\n",
       "      <td>15</td>\n",
       "      <td>5</td>\n",
       "      <td>1574</td>\n",
       "      <td>5</td>\n",
       "      <td>6</td>\n",
       "      <td>7</td>\n",
       "      <td>30</td>\n",
       "      <td>...</td>\n",
       "      <td>571.0</td>\n",
       "      <td>718.0</td>\n",
       "      <td>1762.0</td>\n",
       "      <td>642.0</td>\n",
       "      <td>1820.0</td>\n",
       "      <td>1675.0</td>\n",
       "      <td>1100.0</td>\n",
       "      <td>7702.0</td>\n",
       "      <td>6551.0</td>\n",
       "      <td>8</td>\n",
       "    </tr>\n",
       "    <tr>\n",
       "      <th>2</th>\n",
       "      <td>3</td>\n",
       "      <td>4</td>\n",
       "      <td>2796</td>\n",
       "      <td>15</td>\n",
       "      <td>5</td>\n",
       "      <td>625</td>\n",
       "      <td>5</td>\n",
       "      <td>58</td>\n",
       "      <td>11</td>\n",
       "      <td>152</td>\n",
       "      <td>...</td>\n",
       "      <td>29872.0</td>\n",
       "      <td>16910.0</td>\n",
       "      <td>31708.0</td>\n",
       "      <td>9000.0</td>\n",
       "      <td>17586.0</td>\n",
       "      <td>30719.0</td>\n",
       "      <td>30062.0</td>\n",
       "      <td>55331.0</td>\n",
       "      <td>12946.0</td>\n",
       "      <td>9</td>\n",
       "    </tr>\n",
       "    <tr>\n",
       "      <th>3</th>\n",
       "      <td>3</td>\n",
       "      <td>3</td>\n",
       "      <td>373</td>\n",
       "      <td>27</td>\n",
       "      <td>9</td>\n",
       "      <td>615</td>\n",
       "      <td>9</td>\n",
       "      <td>16</td>\n",
       "      <td>10</td>\n",
       "      <td>34</td>\n",
       "      <td>...</td>\n",
       "      <td>10742.0</td>\n",
       "      <td>9755.0</td>\n",
       "      <td>26992.0</td>\n",
       "      <td>9069.0</td>\n",
       "      <td>24885.0</td>\n",
       "      <td>27108.0</td>\n",
       "      <td>13219.0</td>\n",
       "      <td>122247.0</td>\n",
       "      <td>98621.0</td>\n",
       "      <td>9</td>\n",
       "    </tr>\n",
       "    <tr>\n",
       "      <th>4</th>\n",
       "      <td>3</td>\n",
       "      <td>3</td>\n",
       "      <td>77</td>\n",
       "      <td>12</td>\n",
       "      <td>4</td>\n",
       "      <td>66</td>\n",
       "      <td>4</td>\n",
       "      <td>3</td>\n",
       "      <td>0</td>\n",
       "      <td>5</td>\n",
       "      <td>...</td>\n",
       "      <td>962.0</td>\n",
       "      <td>1307.0</td>\n",
       "      <td>3119.0</td>\n",
       "      <td>1172.0</td>\n",
       "      <td>3522.0</td>\n",
       "      <td>3245.0</td>\n",
       "      <td>2001.0</td>\n",
       "      <td>15501.0</td>\n",
       "      <td>11864.0</td>\n",
       "      <td>1</td>\n",
       "    </tr>\n",
       "  </tbody>\n",
       "</table>\n",
       "<p>5 rows × 1805 columns</p>\n",
       "</div>"
      ],
      "text/plain": [
       "   Virtual  Offset   loc  Import  Imports   var  Forwarder  UINT  LONG  BOOL  \\\n",
       "0        3       3   689      18        6   890          6    39    17    88   \n",
       "1        3       3   583      15        5  1574          5     6     7    30   \n",
       "2        3       4  2796      15        5   625          5    58    11   152   \n",
       "3        3       3   373      27        9   615          9    16    10    34   \n",
       "4        3       3    77      12        4    66          4     3     0     5   \n",
       "\n",
       "   ...      Img99   Img100   Img101  Img102   Img103   Img104   Img105  \\\n",
       "0  ...    35148.0   8687.0  55835.0  9078.0  21355.0  56302.0  10380.0   \n",
       "1  ...      571.0    718.0   1762.0   642.0   1820.0   1675.0   1100.0   \n",
       "2  ...    29872.0  16910.0  31708.0  9000.0  17586.0  30719.0  30062.0   \n",
       "3  ...    10742.0   9755.0  26992.0  9069.0  24885.0  27108.0  13219.0   \n",
       "4  ...      962.0   1307.0   3119.0  1172.0   3522.0   3245.0   2001.0   \n",
       "\n",
       "     Img106    Img107  Class  \n",
       "0  171979.0  162674.0      2  \n",
       "1    7702.0    6551.0      8  \n",
       "2   55331.0   12946.0      9  \n",
       "3  122247.0   98621.0      9  \n",
       "4   15501.0   11864.0      1  \n",
       "\n",
       "[5 rows x 1805 columns]"
      ]
     },
     "execution_count": 3,
     "metadata": {},
     "output_type": "execute_result"
    }
   ],
   "source": [
    "# view the training dataset\n",
    "train.head()"
   ]
  },
  {
   "cell_type": "code",
   "execution_count": 4,
   "metadata": {
    "collapsed": false
   },
   "outputs": [
    {
     "data": {
      "text/html": [
       "<div>\n",
       "<table border=\"1\" class=\"dataframe\">\n",
       "  <thead>\n",
       "    <tr style=\"text-align: right;\">\n",
       "      <th></th>\n",
       "      <th>Virtual</th>\n",
       "      <th>Offset</th>\n",
       "      <th>loc</th>\n",
       "      <th>Import</th>\n",
       "      <th>Imports</th>\n",
       "      <th>var</th>\n",
       "      <th>Forwarder</th>\n",
       "      <th>UINT</th>\n",
       "      <th>LONG</th>\n",
       "      <th>BOOL</th>\n",
       "      <th>...</th>\n",
       "      <th>Img99</th>\n",
       "      <th>Img100</th>\n",
       "      <th>Img101</th>\n",
       "      <th>Img102</th>\n",
       "      <th>Img103</th>\n",
       "      <th>Img104</th>\n",
       "      <th>Img105</th>\n",
       "      <th>Img106</th>\n",
       "      <th>Img107</th>\n",
       "      <th>Class</th>\n",
       "    </tr>\n",
       "  </thead>\n",
       "  <tbody>\n",
       "    <tr>\n",
       "      <th>count</th>\n",
       "      <td>10868.000000</td>\n",
       "      <td>10868.000000</td>\n",
       "      <td>10868.000000</td>\n",
       "      <td>10868.000000</td>\n",
       "      <td>10868.000000</td>\n",
       "      <td>10868.000000</td>\n",
       "      <td>10868.000000</td>\n",
       "      <td>10868.000000</td>\n",
       "      <td>10868.000000</td>\n",
       "      <td>10868.000000</td>\n",
       "      <td>...</td>\n",
       "      <td>10868.000000</td>\n",
       "      <td>10868.000000</td>\n",
       "      <td>10868.000000</td>\n",
       "      <td>10868.000000</td>\n",
       "      <td>10868.000000</td>\n",
       "      <td>10868.000000</td>\n",
       "      <td>10868.000000</td>\n",
       "      <td>10868.000000</td>\n",
       "      <td>10868.000000</td>\n",
       "      <td>10868.000000</td>\n",
       "    </tr>\n",
       "    <tr>\n",
       "      <th>mean</th>\n",
       "      <td>3.279076</td>\n",
       "      <td>3.500552</td>\n",
       "      <td>1990.713747</td>\n",
       "      <td>11.586861</td>\n",
       "      <td>4.934671</td>\n",
       "      <td>1264.397957</td>\n",
       "      <td>3.845786</td>\n",
       "      <td>16.559717</td>\n",
       "      <td>5.552908</td>\n",
       "      <td>31.011502</td>\n",
       "      <td>...</td>\n",
       "      <td>10840.809901</td>\n",
       "      <td>5067.437155</td>\n",
       "      <td>19206.655962</td>\n",
       "      <td>4861.557508</td>\n",
       "      <td>13055.646853</td>\n",
       "      <td>19358.439179</td>\n",
       "      <td>7070.320482</td>\n",
       "      <td>66860.996319</td>\n",
       "      <td>53866.402926</td>\n",
       "      <td>4.017851</td>\n",
       "    </tr>\n",
       "    <tr>\n",
       "      <th>std</th>\n",
       "      <td>0.936296</td>\n",
       "      <td>3.725526</td>\n",
       "      <td>5827.675688</td>\n",
       "      <td>8.986606</td>\n",
       "      <td>2.637995</td>\n",
       "      <td>3902.380905</td>\n",
       "      <td>2.925528</td>\n",
       "      <td>23.203308</td>\n",
       "      <td>7.285566</td>\n",
       "      <td>37.299279</td>\n",
       "      <td>...</td>\n",
       "      <td>18299.174269</td>\n",
       "      <td>4215.541706</td>\n",
       "      <td>23749.881264</td>\n",
       "      <td>4084.822497</td>\n",
       "      <td>10759.321012</td>\n",
       "      <td>24745.353583</td>\n",
       "      <td>5963.469543</td>\n",
       "      <td>66364.332846</td>\n",
       "      <td>53145.701929</td>\n",
       "      <td>2.684621</td>\n",
       "    </tr>\n",
       "    <tr>\n",
       "      <th>min</th>\n",
       "      <td>0.000000</td>\n",
       "      <td>0.000000</td>\n",
       "      <td>0.000000</td>\n",
       "      <td>0.000000</td>\n",
       "      <td>0.000000</td>\n",
       "      <td>0.000000</td>\n",
       "      <td>0.000000</td>\n",
       "      <td>0.000000</td>\n",
       "      <td>0.000000</td>\n",
       "      <td>0.000000</td>\n",
       "      <td>...</td>\n",
       "      <td>0.000000</td>\n",
       "      <td>0.000000</td>\n",
       "      <td>0.000000</td>\n",
       "      <td>0.000000</td>\n",
       "      <td>0.000000</td>\n",
       "      <td>0.000000</td>\n",
       "      <td>0.000000</td>\n",
       "      <td>0.000000</td>\n",
       "      <td>0.000000</td>\n",
       "      <td>1.000000</td>\n",
       "    </tr>\n",
       "    <tr>\n",
       "      <th>25%</th>\n",
       "      <td>3.000000</td>\n",
       "      <td>3.000000</td>\n",
       "      <td>58.000000</td>\n",
       "      <td>3.000000</td>\n",
       "      <td>4.000000</td>\n",
       "      <td>37.000000</td>\n",
       "      <td>1.000000</td>\n",
       "      <td>6.000000</td>\n",
       "      <td>0.000000</td>\n",
       "      <td>13.000000</td>\n",
       "      <td>...</td>\n",
       "      <td>1124.000000</td>\n",
       "      <td>1321.000000</td>\n",
       "      <td>3262.000000</td>\n",
       "      <td>1158.750000</td>\n",
       "      <td>3108.000000</td>\n",
       "      <td>3130.750000</td>\n",
       "      <td>1964.750000</td>\n",
       "      <td>11990.250000</td>\n",
       "      <td>7706.000000</td>\n",
       "      <td>2.000000</td>\n",
       "    </tr>\n",
       "    <tr>\n",
       "      <th>50%</th>\n",
       "      <td>3.000000</td>\n",
       "      <td>3.000000</td>\n",
       "      <td>513.000000</td>\n",
       "      <td>12.000000</td>\n",
       "      <td>4.000000</td>\n",
       "      <td>364.000000</td>\n",
       "      <td>4.000000</td>\n",
       "      <td>11.000000</td>\n",
       "      <td>4.000000</td>\n",
       "      <td>19.000000</td>\n",
       "      <td>...</td>\n",
       "      <td>5585.500000</td>\n",
       "      <td>5323.500000</td>\n",
       "      <td>14902.000000</td>\n",
       "      <td>5129.500000</td>\n",
       "      <td>14752.000000</td>\n",
       "      <td>14921.000000</td>\n",
       "      <td>7437.500000</td>\n",
       "      <td>62384.500000</td>\n",
       "      <td>45639.000000</td>\n",
       "      <td>3.000000</td>\n",
       "    </tr>\n",
       "    <tr>\n",
       "      <th>75%</th>\n",
       "      <td>3.000000</td>\n",
       "      <td>4.000000</td>\n",
       "      <td>1652.500000</td>\n",
       "      <td>18.000000</td>\n",
       "      <td>6.000000</td>\n",
       "      <td>1044.000000</td>\n",
       "      <td>5.000000</td>\n",
       "      <td>17.000000</td>\n",
       "      <td>9.000000</td>\n",
       "      <td>33.250000</td>\n",
       "      <td>...</td>\n",
       "      <td>8464.250000</td>\n",
       "      <td>6040.250000</td>\n",
       "      <td>22314.500000</td>\n",
       "      <td>6020.250000</td>\n",
       "      <td>16078.000000</td>\n",
       "      <td>21464.750000</td>\n",
       "      <td>8414.500000</td>\n",
       "      <td>73929.500000</td>\n",
       "      <td>68580.000000</td>\n",
       "      <td>6.000000</td>\n",
       "    </tr>\n",
       "    <tr>\n",
       "      <th>max</th>\n",
       "      <td>34.000000</td>\n",
       "      <td>263.000000</td>\n",
       "      <td>107775.000000</td>\n",
       "      <td>85.000000</td>\n",
       "      <td>58.000000</td>\n",
       "      <td>86560.000000</td>\n",
       "      <td>21.000000</td>\n",
       "      <td>377.000000</td>\n",
       "      <td>166.000000</td>\n",
       "      <td>492.000000</td>\n",
       "      <td>...</td>\n",
       "      <td>189297.000000</td>\n",
       "      <td>24914.000000</td>\n",
       "      <td>214551.000000</td>\n",
       "      <td>25502.000000</td>\n",
       "      <td>63895.000000</td>\n",
       "      <td>212548.000000</td>\n",
       "      <td>38582.000000</td>\n",
       "      <td>397109.000000</td>\n",
       "      <td>322765.000000</td>\n",
       "      <td>9.000000</td>\n",
       "    </tr>\n",
       "  </tbody>\n",
       "</table>\n",
       "<p>8 rows × 1805 columns</p>\n",
       "</div>"
      ],
      "text/plain": [
       "            Virtual        Offset            loc        Import       Imports  \\\n",
       "count  10868.000000  10868.000000   10868.000000  10868.000000  10868.000000   \n",
       "mean       3.279076      3.500552    1990.713747     11.586861      4.934671   \n",
       "std        0.936296      3.725526    5827.675688      8.986606      2.637995   \n",
       "min        0.000000      0.000000       0.000000      0.000000      0.000000   \n",
       "25%        3.000000      3.000000      58.000000      3.000000      4.000000   \n",
       "50%        3.000000      3.000000     513.000000     12.000000      4.000000   \n",
       "75%        3.000000      4.000000    1652.500000     18.000000      6.000000   \n",
       "max       34.000000    263.000000  107775.000000     85.000000     58.000000   \n",
       "\n",
       "                var     Forwarder          UINT          LONG          BOOL  \\\n",
       "count  10868.000000  10868.000000  10868.000000  10868.000000  10868.000000   \n",
       "mean    1264.397957      3.845786     16.559717      5.552908     31.011502   \n",
       "std     3902.380905      2.925528     23.203308      7.285566     37.299279   \n",
       "min        0.000000      0.000000      0.000000      0.000000      0.000000   \n",
       "25%       37.000000      1.000000      6.000000      0.000000     13.000000   \n",
       "50%      364.000000      4.000000     11.000000      4.000000     19.000000   \n",
       "75%     1044.000000      5.000000     17.000000      9.000000     33.250000   \n",
       "max    86560.000000     21.000000    377.000000    166.000000    492.000000   \n",
       "\n",
       "           ...               Img99        Img100         Img101        Img102  \\\n",
       "count      ...        10868.000000  10868.000000   10868.000000  10868.000000   \n",
       "mean       ...        10840.809901   5067.437155   19206.655962   4861.557508   \n",
       "std        ...        18299.174269   4215.541706   23749.881264   4084.822497   \n",
       "min        ...            0.000000      0.000000       0.000000      0.000000   \n",
       "25%        ...         1124.000000   1321.000000    3262.000000   1158.750000   \n",
       "50%        ...         5585.500000   5323.500000   14902.000000   5129.500000   \n",
       "75%        ...         8464.250000   6040.250000   22314.500000   6020.250000   \n",
       "max        ...       189297.000000  24914.000000  214551.000000  25502.000000   \n",
       "\n",
       "             Img103         Img104        Img105         Img106  \\\n",
       "count  10868.000000   10868.000000  10868.000000   10868.000000   \n",
       "mean   13055.646853   19358.439179   7070.320482   66860.996319   \n",
       "std    10759.321012   24745.353583   5963.469543   66364.332846   \n",
       "min        0.000000       0.000000      0.000000       0.000000   \n",
       "25%     3108.000000    3130.750000   1964.750000   11990.250000   \n",
       "50%    14752.000000   14921.000000   7437.500000   62384.500000   \n",
       "75%    16078.000000   21464.750000   8414.500000   73929.500000   \n",
       "max    63895.000000  212548.000000  38582.000000  397109.000000   \n",
       "\n",
       "              Img107         Class  \n",
       "count   10868.000000  10868.000000  \n",
       "mean    53866.402926      4.017851  \n",
       "std     53145.701929      2.684621  \n",
       "min         0.000000      1.000000  \n",
       "25%      7706.000000      2.000000  \n",
       "50%     45639.000000      3.000000  \n",
       "75%     68580.000000      6.000000  \n",
       "max    322765.000000      9.000000  \n",
       "\n",
       "[8 rows x 1805 columns]"
      ]
     },
     "execution_count": 4,
     "metadata": {},
     "output_type": "execute_result"
    }
   ],
   "source": [
    "# statistic table of training dataset\n",
    "train.describe()"
   ]
  },
  {
   "cell_type": "code",
   "execution_count": 220,
   "metadata": {
    "collapsed": false
   },
   "outputs": [
    {
     "data": {
      "text/plain": [
       "['Ramnit (R)',\n",
       " 'Lollipop (L)',\n",
       " 'Kelihos_ver3 (K3)',\n",
       " 'Vundo (V)',\n",
       " 'Simda (S)',\n",
       " 'Tracur (T)',\n",
       " 'Kelihos_ver1 (K1)',\n",
       " 'Obfuscator.ACY (O)',\n",
       " 'Gatak(G)']"
      ]
     },
     "execution_count": 220,
     "metadata": {},
     "output_type": "execute_result"
    }
   ],
   "source": [
    "# get all class types\n",
    "classLabel = ['Ramnit (R)','Lollipop (L)', 'Kelihos_ver3 (K3)', 'Vundo (V)',\\\n",
    "                      'Simda (S)','Tracur (T)', 'Kelihos_ver1 (K1)', 'Obfuscator.ACY (O)', 'Gatak(G)']\n",
    "classLabel"
   ]
  },
  {
   "cell_type": "code",
   "execution_count": 221,
   "metadata": {
    "collapsed": false
   },
   "outputs": [
    {
     "name": "stdout",
     "output_type": "stream",
     "text": [
      "Numbers of rows in each class (Training Data)\n",
      "Ramnit (R) : 1541.0\n",
      "Lollipop (L) : 2478.0\n",
      "Kelihos_ver3 (K3) : 2942.0\n",
      "Vundo (V) : 475.0\n",
      "Simda (S) : 42.0\n",
      "Tracur (T) : 751.0\n",
      "Kelihos_ver1 (K1) : 398.0\n",
      "Obfuscator.ACY (O) : 1228.0\n",
      "Gatak(G) : 1013.0\n"
     ]
    }
   ],
   "source": [
    "# plot the class distribution of training data\n",
    "# observation on the statistics\n",
    "# count the amount\n",
    "countTrainRow_class = np.zeros(9)\n",
    "print('Numbers of rows in each class (Training Data)')\n",
    "for i in range(1,10):\n",
    "    countTrainRow_class[i-1] = sum(train.Class==i)\n",
    "    print(classLabel[i-1],':' , countTrainRow_class[i-1])"
   ]
  },
  {
   "cell_type": "code",
   "execution_count": 222,
   "metadata": {
    "collapsed": false
   },
   "outputs": [
    {
     "data": {
      "image/png": "[encoded data removed]",
      "text/plain": [
       "<matplotlib.figure.Figure at 0x14325cc18>"
      ]
     },
     "metadata": {},
     "output_type": "display_data"
    }
   ],
   "source": [
    "# show the distribution\n",
    "ind = np.arange(9)+1.5\n",
    "plt.bar(ind,countTrainRow_class,0.6,color='skyblue',tick_label=\\\n",
    "        ['R','L','K3','V','S','T','K1','O','G'])\n",
    "plt.xlabel('Malware Class (Training Dataset)')\n",
    "plt.ylabel('Count')\n",
    "plt.title('The Distribution of Data Across Malware Families (Training Dataset)')\n",
    "plt.xticks(ind)\n",
    "plt.grid(True)\n",
    "plt.show() "
   ]
  },
  {
   "cell_type": "markdown",
   "metadata": {},
   "source": [
    "# Part II. Build Classification Models"
   ]
  },
  {
   "cell_type": "markdown",
   "metadata": {},
   "source": [
    "We utilized the sklearn packages to bulid up our classifier models, including random forest, extra trees, decision tree and AdaBoost. In order to realize the model performance, we added cross validation score from sklearn."
   ]
  },
  {
   "cell_type": "code",
   "execution_count": 213,
   "metadata": {
    "collapsed": true
   },
   "outputs": [],
   "source": [
    "# import packages\n",
    "import sklearn\n",
    "from sklearn.model_selection import cross_val_score\n",
    "from sklearn.ensemble import RandomForestClassifier\n",
    "from sklearn.ensemble import ExtraTreesClassifier\n",
    "from sklearn.tree import DecisionTreeClassifier\n",
    "from sklearn.ensemble import AdaBoostClassifier"
   ]
  },
  {
   "cell_type": "markdown",
   "metadata": {},
   "source": [
    "To separte the dataset into two parts: data (for building the model) and class (for identify their types)"
   ]
  },
  {
   "cell_type": "markdown",
   "metadata": {},
   "source": [
    "## 1. Preview the Training Dataset for Modeling of Classification"
   ]
  },
  {
   "cell_type": "markdown",
   "metadata": {},
   "source": [
    "<div align = \"justify\">Due to the features in the original training dataset, we need to separte the original training dataset into two parts, one is data, and the other is class type.  Moreover, we partition the original data into two subsets, 75% (8151) is for training, and 25% (2717) is for testing.  In order to obtain the best parameter value for model building, this study attempted to utilize 10 different parameters for testing to avoid model over-fitting.</div>"
   ]
  },
  {
   "cell_type": "markdown",
   "metadata": {},
   "source": [
    "### 1.1 Separte the Dataset for Features and Label"
   ]
  },
  {
   "cell_type": "code",
   "execution_count": 214,
   "metadata": {
    "collapsed": false
   },
   "outputs": [],
   "source": [
    "# features\n",
    "data = train[train.columns[np.arange(1804)]]\n",
    "# label\n",
    "classType = train[train.columns[1804]]"
   ]
  },
  {
   "cell_type": "markdown",
   "metadata": {},
   "source": [
    "### 1.2 Compute the Numbers of Data"
   ]
  },
  {
   "cell_type": "code",
   "execution_count": 215,
   "metadata": {
    "collapsed": false
   },
   "outputs": [
    {
     "name": "stdout",
     "output_type": "stream",
     "text": [
      "Number of Training Data:  8151\n",
      "Number of Test Data:  2717\n"
     ]
    }
   ],
   "source": [
    "# training part\n",
    "trainDataNum = data.shape[0]*0.75\n",
    "print('Number of Training Data: ', int(trainDataNum))\n",
    "# test part\n",
    "testDataNum = data.shape[0]*0.25\n",
    "print('Number of Test Data: ', int(testDataNum))"
   ]
  },
  {
   "cell_type": "markdown",
   "metadata": {},
   "source": [
    "### 1.3 Partition (70% for training and 30% for test)"
   ]
  },
  {
   "cell_type": "markdown",
   "metadata": {},
   "source": [
    "Partition the dataset by random sampling without replacement"
   ]
  },
  {
   "cell_type": "code",
   "execution_count": 216,
   "metadata": {
    "collapsed": false
   },
   "outputs": [
    {
     "name": "stdout",
     "output_type": "stream",
     "text": [
      "Training Data Index: \n",
      " [    2     4     5 ..., 10864 10865 10867]\n",
      "Test Data Index: \n",
      " [    0     1     3 ..., 10858 10859 10866]\n"
     ]
    }
   ],
   "source": [
    "# training part\n",
    "trainIndex = np.random.choice(data.shape[0], int(trainDataNum), replace=False)\n",
    "print('Training Data Index: \\n', np.sort(trainIndex))\n",
    "# test part\n",
    "trainSelect = np.in1d(range(data.shape[0]),trainIndex)\n",
    "print('Test Data Index: \\n', np.sort(np.arange(data.shape[0])[~trainSelect]))"
   ]
  },
  {
   "cell_type": "markdown",
   "metadata": {},
   "source": [
    "### 1.4 Extract the Dataset"
   ]
  },
  {
   "cell_type": "code",
   "execution_count": 217,
   "metadata": {
    "collapsed": false
   },
   "outputs": [
    {
     "data": {
      "text/html": [
       "<div>\n",
       "<table border=\"1\" class=\"dataframe\">\n",
       "  <thead>\n",
       "    <tr style=\"text-align: right;\">\n",
       "      <th></th>\n",
       "      <th>Virtual</th>\n",
       "      <th>Offset</th>\n",
       "      <th>loc</th>\n",
       "      <th>Import</th>\n",
       "      <th>Imports</th>\n",
       "      <th>var</th>\n",
       "      <th>Forwarder</th>\n",
       "      <th>UINT</th>\n",
       "      <th>LONG</th>\n",
       "      <th>BOOL</th>\n",
       "      <th>...</th>\n",
       "      <th>Img98</th>\n",
       "      <th>Img99</th>\n",
       "      <th>Img100</th>\n",
       "      <th>Img101</th>\n",
       "      <th>Img102</th>\n",
       "      <th>Img103</th>\n",
       "      <th>Img104</th>\n",
       "      <th>Img105</th>\n",
       "      <th>Img106</th>\n",
       "      <th>Img107</th>\n",
       "    </tr>\n",
       "  </thead>\n",
       "  <tbody>\n",
       "    <tr>\n",
       "      <th>2</th>\n",
       "      <td>3</td>\n",
       "      <td>4</td>\n",
       "      <td>2796</td>\n",
       "      <td>15</td>\n",
       "      <td>5</td>\n",
       "      <td>625</td>\n",
       "      <td>5</td>\n",
       "      <td>58</td>\n",
       "      <td>11</td>\n",
       "      <td>152</td>\n",
       "      <td>...</td>\n",
       "      <td>16918.0</td>\n",
       "      <td>29872.0</td>\n",
       "      <td>16910.0</td>\n",
       "      <td>31708.0</td>\n",
       "      <td>9000.0</td>\n",
       "      <td>17586.0</td>\n",
       "      <td>30719.0</td>\n",
       "      <td>30062.0</td>\n",
       "      <td>55331.0</td>\n",
       "      <td>12946.0</td>\n",
       "    </tr>\n",
       "    <tr>\n",
       "      <th>4</th>\n",
       "      <td>3</td>\n",
       "      <td>3</td>\n",
       "      <td>77</td>\n",
       "      <td>12</td>\n",
       "      <td>4</td>\n",
       "      <td>66</td>\n",
       "      <td>4</td>\n",
       "      <td>3</td>\n",
       "      <td>0</td>\n",
       "      <td>5</td>\n",
       "      <td>...</td>\n",
       "      <td>1256.0</td>\n",
       "      <td>962.0</td>\n",
       "      <td>1307.0</td>\n",
       "      <td>3119.0</td>\n",
       "      <td>1172.0</td>\n",
       "      <td>3522.0</td>\n",
       "      <td>3245.0</td>\n",
       "      <td>2001.0</td>\n",
       "      <td>15501.0</td>\n",
       "      <td>11864.0</td>\n",
       "    </tr>\n",
       "    <tr>\n",
       "      <th>5</th>\n",
       "      <td>3</td>\n",
       "      <td>3</td>\n",
       "      <td>86</td>\n",
       "      <td>6</td>\n",
       "      <td>2</td>\n",
       "      <td>6</td>\n",
       "      <td>2</td>\n",
       "      <td>0</td>\n",
       "      <td>0</td>\n",
       "      <td>1</td>\n",
       "      <td>...</td>\n",
       "      <td>597.0</td>\n",
       "      <td>474.0</td>\n",
       "      <td>561.0</td>\n",
       "      <td>1389.0</td>\n",
       "      <td>581.0</td>\n",
       "      <td>1537.0</td>\n",
       "      <td>1293.0</td>\n",
       "      <td>1275.0</td>\n",
       "      <td>7048.0</td>\n",
       "      <td>6164.0</td>\n",
       "    </tr>\n",
       "    <tr>\n",
       "      <th>6</th>\n",
       "      <td>3</td>\n",
       "      <td>3</td>\n",
       "      <td>469</td>\n",
       "      <td>21</td>\n",
       "      <td>7</td>\n",
       "      <td>291</td>\n",
       "      <td>7</td>\n",
       "      <td>43</td>\n",
       "      <td>15</td>\n",
       "      <td>82</td>\n",
       "      <td>...</td>\n",
       "      <td>15658.0</td>\n",
       "      <td>33452.0</td>\n",
       "      <td>15370.0</td>\n",
       "      <td>63663.0</td>\n",
       "      <td>15581.0</td>\n",
       "      <td>42067.0</td>\n",
       "      <td>63996.0</td>\n",
       "      <td>21127.0</td>\n",
       "      <td>221716.0</td>\n",
       "      <td>176170.0</td>\n",
       "    </tr>\n",
       "    <tr>\n",
       "      <th>7</th>\n",
       "      <td>3</td>\n",
       "      <td>3</td>\n",
       "      <td>2090</td>\n",
       "      <td>21</td>\n",
       "      <td>7</td>\n",
       "      <td>4035</td>\n",
       "      <td>7</td>\n",
       "      <td>17</td>\n",
       "      <td>8</td>\n",
       "      <td>40</td>\n",
       "      <td>...</td>\n",
       "      <td>1783.0</td>\n",
       "      <td>1378.0</td>\n",
       "      <td>1901.0</td>\n",
       "      <td>4588.0</td>\n",
       "      <td>2004.0</td>\n",
       "      <td>5550.0</td>\n",
       "      <td>4494.0</td>\n",
       "      <td>2803.0</td>\n",
       "      <td>21692.0</td>\n",
       "      <td>18786.0</td>\n",
       "    </tr>\n",
       "  </tbody>\n",
       "</table>\n",
       "<p>5 rows × 1804 columns</p>\n",
       "</div>"
      ],
      "text/plain": [
       "   Virtual  Offset   loc  Import  Imports   var  Forwarder  UINT  LONG  BOOL  \\\n",
       "2        3       4  2796      15        5   625          5    58    11   152   \n",
       "4        3       3    77      12        4    66          4     3     0     5   \n",
       "5        3       3    86       6        2     6          2     0     0     1   \n",
       "6        3       3   469      21        7   291          7    43    15    82   \n",
       "7        3       3  2090      21        7  4035          7    17     8    40   \n",
       "\n",
       "     ...       Img98    Img99   Img100   Img101   Img102   Img103   Img104  \\\n",
       "2    ...     16918.0  29872.0  16910.0  31708.0   9000.0  17586.0  30719.0   \n",
       "4    ...      1256.0    962.0   1307.0   3119.0   1172.0   3522.0   3245.0   \n",
       "5    ...       597.0    474.0    561.0   1389.0    581.0   1537.0   1293.0   \n",
       "6    ...     15658.0  33452.0  15370.0  63663.0  15581.0  42067.0  63996.0   \n",
       "7    ...      1783.0   1378.0   1901.0   4588.0   2004.0   5550.0   4494.0   \n",
       "\n",
       "    Img105    Img106    Img107  \n",
       "2  30062.0   55331.0   12946.0  \n",
       "4   2001.0   15501.0   11864.0  \n",
       "5   1275.0    7048.0    6164.0  \n",
       "6  21127.0  221716.0  176170.0  \n",
       "7   2803.0   21692.0   18786.0  \n",
       "\n",
       "[5 rows x 1804 columns]"
      ]
     },
     "execution_count": 217,
     "metadata": {},
     "output_type": "execute_result"
    }
   ],
   "source": [
    "# extract training dataset (features and label)\n",
    "trainData = data[trainSelect]\n",
    "trainClass = classType[trainSelect]\n",
    "trainData.head()"
   ]
  },
  {
   "cell_type": "code",
   "execution_count": 218,
   "metadata": {
    "collapsed": false
   },
   "outputs": [
    {
     "data": {
      "text/html": [
       "<div>\n",
       "<table border=\"1\" class=\"dataframe\">\n",
       "  <thead>\n",
       "    <tr style=\"text-align: right;\">\n",
       "      <th></th>\n",
       "      <th>Virtual</th>\n",
       "      <th>Offset</th>\n",
       "      <th>loc</th>\n",
       "      <th>Import</th>\n",
       "      <th>Imports</th>\n",
       "      <th>var</th>\n",
       "      <th>Forwarder</th>\n",
       "      <th>UINT</th>\n",
       "      <th>LONG</th>\n",
       "      <th>BOOL</th>\n",
       "      <th>...</th>\n",
       "      <th>Img98</th>\n",
       "      <th>Img99</th>\n",
       "      <th>Img100</th>\n",
       "      <th>Img101</th>\n",
       "      <th>Img102</th>\n",
       "      <th>Img103</th>\n",
       "      <th>Img104</th>\n",
       "      <th>Img105</th>\n",
       "      <th>Img106</th>\n",
       "      <th>Img107</th>\n",
       "    </tr>\n",
       "  </thead>\n",
       "  <tbody>\n",
       "    <tr>\n",
       "      <th>0</th>\n",
       "      <td>3</td>\n",
       "      <td>3</td>\n",
       "      <td>689</td>\n",
       "      <td>18</td>\n",
       "      <td>6</td>\n",
       "      <td>890</td>\n",
       "      <td>6</td>\n",
       "      <td>39</td>\n",
       "      <td>17</td>\n",
       "      <td>88</td>\n",
       "      <td>...</td>\n",
       "      <td>8658.0</td>\n",
       "      <td>35148.0</td>\n",
       "      <td>8687.0</td>\n",
       "      <td>55835.0</td>\n",
       "      <td>9078.0</td>\n",
       "      <td>21355.0</td>\n",
       "      <td>56302.0</td>\n",
       "      <td>10380.0</td>\n",
       "      <td>171979.0</td>\n",
       "      <td>162674.0</td>\n",
       "    </tr>\n",
       "    <tr>\n",
       "      <th>1</th>\n",
       "      <td>3</td>\n",
       "      <td>3</td>\n",
       "      <td>583</td>\n",
       "      <td>15</td>\n",
       "      <td>5</td>\n",
       "      <td>1574</td>\n",
       "      <td>5</td>\n",
       "      <td>6</td>\n",
       "      <td>7</td>\n",
       "      <td>30</td>\n",
       "      <td>...</td>\n",
       "      <td>650.0</td>\n",
       "      <td>571.0</td>\n",
       "      <td>718.0</td>\n",
       "      <td>1762.0</td>\n",
       "      <td>642.0</td>\n",
       "      <td>1820.0</td>\n",
       "      <td>1675.0</td>\n",
       "      <td>1100.0</td>\n",
       "      <td>7702.0</td>\n",
       "      <td>6551.0</td>\n",
       "    </tr>\n",
       "    <tr>\n",
       "      <th>3</th>\n",
       "      <td>3</td>\n",
       "      <td>3</td>\n",
       "      <td>373</td>\n",
       "      <td>27</td>\n",
       "      <td>9</td>\n",
       "      <td>615</td>\n",
       "      <td>9</td>\n",
       "      <td>16</td>\n",
       "      <td>10</td>\n",
       "      <td>34</td>\n",
       "      <td>...</td>\n",
       "      <td>9734.0</td>\n",
       "      <td>10742.0</td>\n",
       "      <td>9755.0</td>\n",
       "      <td>26992.0</td>\n",
       "      <td>9069.0</td>\n",
       "      <td>24885.0</td>\n",
       "      <td>27108.0</td>\n",
       "      <td>13219.0</td>\n",
       "      <td>122247.0</td>\n",
       "      <td>98621.0</td>\n",
       "    </tr>\n",
       "    <tr>\n",
       "      <th>12</th>\n",
       "      <td>3</td>\n",
       "      <td>3</td>\n",
       "      <td>49</td>\n",
       "      <td>0</td>\n",
       "      <td>4</td>\n",
       "      <td>54</td>\n",
       "      <td>0</td>\n",
       "      <td>5</td>\n",
       "      <td>0</td>\n",
       "      <td>15</td>\n",
       "      <td>...</td>\n",
       "      <td>11689.0</td>\n",
       "      <td>11360.0</td>\n",
       "      <td>11418.0</td>\n",
       "      <td>30614.0</td>\n",
       "      <td>11466.0</td>\n",
       "      <td>30663.0</td>\n",
       "      <td>30464.0</td>\n",
       "      <td>15118.0</td>\n",
       "      <td>139471.0</td>\n",
       "      <td>131857.0</td>\n",
       "    </tr>\n",
       "    <tr>\n",
       "      <th>16</th>\n",
       "      <td>3</td>\n",
       "      <td>3</td>\n",
       "      <td>549</td>\n",
       "      <td>18</td>\n",
       "      <td>6</td>\n",
       "      <td>1450</td>\n",
       "      <td>6</td>\n",
       "      <td>14</td>\n",
       "      <td>5</td>\n",
       "      <td>26</td>\n",
       "      <td>...</td>\n",
       "      <td>682.0</td>\n",
       "      <td>538.0</td>\n",
       "      <td>680.0</td>\n",
       "      <td>1723.0</td>\n",
       "      <td>695.0</td>\n",
       "      <td>1915.0</td>\n",
       "      <td>1739.0</td>\n",
       "      <td>872.0</td>\n",
       "      <td>7936.0</td>\n",
       "      <td>6103.0</td>\n",
       "    </tr>\n",
       "  </tbody>\n",
       "</table>\n",
       "<p>5 rows × 1804 columns</p>\n",
       "</div>"
      ],
      "text/plain": [
       "    Virtual  Offset  loc  Import  Imports   var  Forwarder  UINT  LONG  BOOL  \\\n",
       "0         3       3  689      18        6   890          6    39    17    88   \n",
       "1         3       3  583      15        5  1574          5     6     7    30   \n",
       "3         3       3  373      27        9   615          9    16    10    34   \n",
       "12        3       3   49       0        4    54          0     5     0    15   \n",
       "16        3       3  549      18        6  1450          6    14     5    26   \n",
       "\n",
       "      ...       Img98    Img99   Img100   Img101   Img102   Img103   Img104  \\\n",
       "0     ...      8658.0  35148.0   8687.0  55835.0   9078.0  21355.0  56302.0   \n",
       "1     ...       650.0    571.0    718.0   1762.0    642.0   1820.0   1675.0   \n",
       "3     ...      9734.0  10742.0   9755.0  26992.0   9069.0  24885.0  27108.0   \n",
       "12    ...     11689.0  11360.0  11418.0  30614.0  11466.0  30663.0  30464.0   \n",
       "16    ...       682.0    538.0    680.0   1723.0    695.0   1915.0   1739.0   \n",
       "\n",
       "     Img105    Img106    Img107  \n",
       "0   10380.0  171979.0  162674.0  \n",
       "1    1100.0    7702.0    6551.0  \n",
       "3   13219.0  122247.0   98621.0  \n",
       "12  15118.0  139471.0  131857.0  \n",
       "16    872.0    7936.0    6103.0  \n",
       "\n",
       "[5 rows x 1804 columns]"
      ]
     },
     "execution_count": 218,
     "metadata": {},
     "output_type": "execute_result"
    }
   ],
   "source": [
    "# extract test dataset (features and label)\n",
    "testData = data[~trainSelect]\n",
    "testClass = classType[~trainSelect]\n",
    "testData.head()"
   ]
  },
  {
   "cell_type": "markdown",
   "metadata": {},
   "source": [
    "### 1.5 View the Numbers of Training and Test Data"
   ]
  },
  {
   "cell_type": "code",
   "execution_count": 223,
   "metadata": {
    "collapsed": false
   },
   "outputs": [
    {
     "name": "stdout",
     "output_type": "stream",
     "text": [
      "Numbers of rows in each class (Training Data)\n",
      "Ramnit (R) : 1145.0\n",
      "Lollipop (L) : 1877.0\n",
      "Kelihos_ver3 (K3) : 2242.0\n",
      "Vundo (V) : 347.0\n",
      "Simda (S) : 28.0\n",
      "Tracur (T) : 567.0\n",
      "Kelihos_ver1 (K1) : 307.0\n",
      "Obfuscator.ACY (O) : 882.0\n",
      "Gatak(G) : 756.0\n"
     ]
    }
   ],
   "source": [
    "# plot the class distribution of training data\n",
    "# observation on the statistics\n",
    "# count the amount\n",
    "countTrainDataRow_class = np.zeros(9)\n",
    "print('Numbers of rows in each class (Training Data)')\n",
    "for i in range(1,10):\n",
    "    countTrainDataRow_class[i-1] = sum(trainClass==i)\n",
    "    print(classLabel[i-1],':' , countTrainDataRow_class[i-1])"
   ]
  },
  {
   "cell_type": "code",
   "execution_count": 224,
   "metadata": {
    "collapsed": false
   },
   "outputs": [
    {
     "name": "stdout",
     "output_type": "stream",
     "text": [
      "Numbers of rows in each class (Test Data)\n",
      "Ramnit (R) : 396.0\n",
      "Lollipop (L) : 601.0\n",
      "Kelihos_ver3 (K3) : 700.0\n",
      "Vundo (V) : 128.0\n",
      "Simda (S) : 14.0\n",
      "Tracur (T) : 184.0\n",
      "Kelihos_ver1 (K1) : 91.0\n",
      "Obfuscator.ACY (O) : 346.0\n",
      "Gatak(G) : 257.0\n"
     ]
    }
   ],
   "source": [
    "# plot the class distribution of test data\n",
    "# observation on the statistics\n",
    "# count the amount\n",
    "countTestDataRow_class = np.zeros(9)\n",
    "print('Numbers of rows in each class (Test Data)')\n",
    "for i in range(1,10):\n",
    "    countTestDataRow_class[i-1] = sum(testClass==i)\n",
    "    print(classLabel[i-1],':' , countTestDataRow_class[i-1])"
   ]
  },
  {
   "cell_type": "markdown",
   "metadata": {},
   "source": [
    "### 1.6 View the Training and Test Data Distribution"
   ]
  },
  {
   "cell_type": "code",
   "execution_count": 226,
   "metadata": {
    "collapsed": false
   },
   "outputs": [
    {
     "data": {
      "image/png": "[encoded data removed]",
      "text/plain": [
       "<matplotlib.figure.Figure at 0x116089198>"
      ]
     },
     "metadata": {},
     "output_type": "display_data"
    }
   ],
   "source": [
    "# show the distribution\n",
    "ind = np.arange(9)+1.5\n",
    "plt.bar(ind,countTrainDataRow_class,0.6,color='skyblue',tick_label=\\\n",
    "        ['R','L','K3','V','S','T','K1','O','G'])\n",
    "plt.xlabel('Malware Class (Training Dataset)')\n",
    "plt.ylabel('Count')\n",
    "plt.title('The Distribution of Data Across Malware Families (Training Dataset)')\n",
    "plt.xticks(ind)\n",
    "plt.grid(True)\n",
    "plt.show() "
   ]
  },
  {
   "cell_type": "code",
   "execution_count": 227,
   "metadata": {
    "collapsed": false
   },
   "outputs": [
    {
     "data": {
      "image/png": "[encoded data removed]",
      "text/plain": [
       "<matplotlib.figure.Figure at 0x116834e10>"
      ]
     },
     "metadata": {},
     "output_type": "display_data"
    }
   ],
   "source": [
    "# show the distribution\n",
    "ind = np.arange(9)+1.5\n",
    "plt.bar(ind,countTestDataRow_class,0.6,color='skyblue',tick_label=\\\n",
    "        ['R','L','K3','V','S','T','K1','O','G'])\n",
    "plt.xlabel('Malware Class (Test Dataset)')\n",
    "plt.ylabel('Count')\n",
    "plt.title('The Distribution of Data Across Malware Families (Test Dataset)')\n",
    "plt.xticks(ind)\n",
    "plt.grid(True)\n",
    "plt.show() "
   ]
  },
  {
   "cell_type": "markdown",
   "metadata": {},
   "source": [
    "## 2. Build the Classification Models"
   ]
  },
  {
   "cell_type": "markdown",
   "metadata": {},
   "source": [
    "In order to figure the best parameter value for model building, we attempted to accept the cross validationa and different to aviod over-fitting problem."
   ]
  },
  {
   "cell_type": "markdown",
   "metadata": {},
   "source": [
    "## 2.1 Basic Setting"
   ]
  },
  {
   "cell_type": "code",
   "execution_count": 251,
   "metadata": {
    "collapsed": true
   },
   "outputs": [],
   "source": [
    "# in order to measure the run time of classification, we adopted \"timeit\" packages to calculate the duration time.\n",
    "import timeit"
   ]
  },
  {
   "cell_type": "code",
   "execution_count": 369,
   "metadata": {
    "collapsed": true
   },
   "outputs": [],
   "source": [
    "parameters = np.array([5,10,15,20,25,30,35,40])\n",
    "parameters1 = np.array([2,4,6,8,10,12,14,16])"
   ]
  },
  {
   "cell_type": "markdown",
   "metadata": {},
   "source": [
    "## 2.2 Parameter Optimization"
   ]
  },
  {
   "cell_type": "markdown",
   "metadata": {},
   "source": [
    "### 2.2.1 Declare Variables"
   ]
  },
  {
   "cell_type": "code",
   "execution_count": 367,
   "metadata": {
    "collapsed": false
   },
   "outputs": [],
   "source": [
    "rfc_trainScores = np.zeros((10, parameters.shape[0]))\n",
    "rfc_testScores = np.zeros((10, parameters.shape[0]))\n",
    "\n",
    "dtc_trainScores = np.zeros((10, parameters.shape[0]))\n",
    "dtc_testScores = np.zeros((10, parameters.shape[0]))\n",
    "\n",
    "etc_trainScores = np.zeros((10, parameters.shape[0]))\n",
    "etc_testScores = np.zeros((10, parameters.shape[0]))\n",
    "\n",
    "abc_trainScores = np.zeros((10, parameters.shape[0]))\n",
    "abc_testScores = np.zeros((10, parameters.shape[0]))"
   ]
  },
  {
   "cell_type": "markdown",
   "metadata": {},
   "source": [
    "### 2.2.2 Model Fitting for Different Parameters <br/ ><br/ >A. Random Forest Classification"
   ]
  },
  {
   "cell_type": "code",
   "execution_count": 390,
   "metadata": {
    "collapsed": false,
    "scrolled": true
   },
   "outputs": [
    {
     "name": "stdout",
     "output_type": "stream",
     "text": [
      "RFC training time:  112.91422584400425\n"
     ]
    }
   ],
   "source": [
    "# for the training part\n",
    "# start to count\n",
    "start = timeit.default_timer()\n",
    "\n",
    "# model fitting\n",
    "for i in range(0,parameters.shape[0]):\n",
    "    # define the parameters\n",
    "    para = parameters[i] \n",
    "    # build random forest classification model\n",
    "    rfc_clf = RandomForestClassifier(n_estimators=para, max_depth=None, min_samples_split=2, random_state=0)\n",
    "    # cross validation with 10-fold validation for random forest classification\n",
    "    x = cross_val_score(rfc_clf, trainData, trainClass, cv=10)\n",
    "    # store the score of each run in the column\n",
    "    rfc_trainScores[:,i] = x\n",
    "\n",
    "# stop to count\n",
    "stop = timeit.default_timer()\n",
    "print ('RFC training time: ', stop - start) "
   ]
  },
  {
   "cell_type": "code",
   "execution_count": 391,
   "metadata": {
    "collapsed": false
   },
   "outputs": [
    {
     "name": "stdout",
     "output_type": "stream",
     "text": [
      "RFC test time:  33.893723917004536\n"
     ]
    }
   ],
   "source": [
    "# for the test part\n",
    "# start to count\n",
    "start = timeit.default_timer()\n",
    "\n",
    "# model fitting\n",
    "for i in range(0,parameters.shape[0]):\n",
    "    # define the parameters\n",
    "    para = parameters[i] \n",
    "    # build random forest classification model\n",
    "    rfc_clf = RandomForestClassifier(n_estimators=para, max_depth=None, min_samples_split=2, random_state=0)\n",
    "    # cross validation with 10-fold validation for random forest classification\n",
    "    x = cross_val_score(rfc_clf, testData, testClass, cv=10)\n",
    "    # store the score of each run in the column\n",
    "    rfc_testScores[:,i] = x\n",
    "\n",
    "# stop to count\n",
    "stop = timeit.default_timer()\n",
    "print ('RFC test time: ', stop - start) "
   ]
  },
  {
   "cell_type": "markdown",
   "metadata": {},
   "source": [
    "### B. Decision Tree Classification"
   ]
  },
  {
   "cell_type": "code",
   "execution_count": 370,
   "metadata": {
    "collapsed": false
   },
   "outputs": [
    {
     "name": "stdout",
     "output_type": "stream",
     "text": [
      "DTC training time:  228.75648721900507\n"
     ]
    }
   ],
   "source": [
    "# for the training part\n",
    "# start to count\n",
    "start = timeit.default_timer()\n",
    "\n",
    "# model fitting\n",
    "for i in range(0,parameters1.shape[0]):\n",
    "    # define the parameters\n",
    "    para = parameters1[i] \n",
    "    # build random forest classification model\n",
    "    dtc_clf = DecisionTreeClassifier(max_depth=None, min_samples_split=para,random_state=0)\n",
    "    # cross validation with 10-fold validation for random forest classification\n",
    "    x = cross_val_score(dtc_clf, trainData, trainClass, cv=10)\n",
    "    # store the score of each run in the column\n",
    "    dtc_trainScores[:,i] = x\n",
    "\n",
    "# stop to count\n",
    "stop = timeit.default_timer()\n",
    "print ('DTC training time: ', stop - start)"
   ]
  },
  {
   "cell_type": "code",
   "execution_count": 371,
   "metadata": {
    "collapsed": false
   },
   "outputs": [
    {
     "name": "stdout",
     "output_type": "stream",
     "text": [
      "DTC test time:  68.14934703100153\n"
     ]
    }
   ],
   "source": [
    "# for the test part\n",
    "# start to count\n",
    "start = timeit.default_timer()\n",
    "\n",
    "# model fitting\n",
    "for i in range(0,parameters1.shape[0]):\n",
    "    # define the parameters\n",
    "    para = parameters1[i] \n",
    "    # build random forest classification model\n",
    "    dtc_clf = DecisionTreeClassifier(max_depth=None, min_samples_split=para,random_state=0)\n",
    "    # cross validation with 10-fold validation for random forest classification\n",
    "    x = cross_val_score(dtc_clf, testData, testClass, cv=10)\n",
    "    # store the score of each run in the column\n",
    "    dtc_testScores[:,i] = x\n",
    "\n",
    "# stop to count\n",
    "stop = timeit.default_timer()\n",
    "print ('DTC test time: ', stop - start) "
   ]
  },
  {
   "cell_type": "markdown",
   "metadata": {},
   "source": [
    "### C. Extra Trees Classification"
   ]
  },
  {
   "cell_type": "code",
   "execution_count": 372,
   "metadata": {
    "collapsed": false
   },
   "outputs": [
    {
     "name": "stdout",
     "output_type": "stream",
     "text": [
      "ETC training time:  53.73961375300132\n"
     ]
    }
   ],
   "source": [
    "# for the training part\n",
    "# start to count\n",
    "start = timeit.default_timer()\n",
    "\n",
    "# model fitting\n",
    "for i in range(0,parameters.shape[0]):\n",
    "    # define the parameters\n",
    "    para = parameters[i] \n",
    "    # build random forest classification model\n",
    "    etc_clf = ExtraTreesClassifier(n_estimators=para, max_depth=None, min_samples_split=2, random_state=0)\n",
    "    # cross validation with 10-fold validation for random forest classification\n",
    "    x = cross_val_score(etc_clf, trainData, trainClass, cv=10)\n",
    "    # store the score of each run in the column\n",
    "    etc_trainScores[:,i] = x\n",
    "\n",
    "# stop to count\n",
    "stop = timeit.default_timer()\n",
    "print ('ETC training time: ', stop - start)"
   ]
  },
  {
   "cell_type": "code",
   "execution_count": 373,
   "metadata": {
    "collapsed": false
   },
   "outputs": [
    {
     "name": "stdout",
     "output_type": "stream",
     "text": [
      "ETC test time:  20.065353678000974\n"
     ]
    }
   ],
   "source": [
    "# for the test part\n",
    "# start to count\n",
    "start = timeit.default_timer()\n",
    "\n",
    "# model fitting\n",
    "for i in range(0,parameters.shape[0]):\n",
    "    # define the parameters\n",
    "    para = parameters[i] \n",
    "    # build random forest classification model\n",
    "    etc_clf = ExtraTreesClassifier(n_estimators=para, max_depth=None, min_samples_split=2, random_state=0)\n",
    "    # cross validation with 10-fold validation for random forest classification\n",
    "    x = cross_val_score(etc_clf, testData, testClass, cv=10)\n",
    "    # store the score of each run in the column\n",
    "    etc_testScores[:,i] = x\n",
    "\n",
    "# stop to count\n",
    "stop = timeit.default_timer()\n",
    "print ('ETC test time: ', stop - start) "
   ]
  },
  {
   "cell_type": "markdown",
   "metadata": {},
   "source": [
    "### D. AdaBoost Classification"
   ]
  },
  {
   "cell_type": "code",
   "execution_count": 374,
   "metadata": {
    "collapsed": false
   },
   "outputs": [
    {
     "name": "stdout",
     "output_type": "stream",
     "text": [
      "ABC training time:  898.987740353994\n"
     ]
    }
   ],
   "source": [
    "# for the training part\n",
    "# start to count\n",
    "start = timeit.default_timer()\n",
    "\n",
    "# model fitting\n",
    "for i in range(0,parameters.shape[0]):\n",
    "    # define the parameters\n",
    "    para = parameters[i] \n",
    "    # build random forest classification model\n",
    "    abc_clf = AdaBoostClassifier(n_estimators=para)\n",
    "    # cross validation with 10-fold validation for random forest classification\n",
    "    x = cross_val_score(abc_clf, trainData, trainClass, cv=10)\n",
    "    # store the score of each run in the column\n",
    "    abc_trainScores[:,i] = x\n",
    "\n",
    "# stop to count\n",
    "stop = timeit.default_timer()\n",
    "print ('ABC training time: ', stop - start)"
   ]
  },
  {
   "cell_type": "code",
   "execution_count": 375,
   "metadata": {
    "collapsed": false
   },
   "outputs": [
    {
     "name": "stdout",
     "output_type": "stream",
     "text": [
      "ABC test time:  306.74147648300277\n"
     ]
    }
   ],
   "source": [
    "# for the test part\n",
    "# start to count\n",
    "start = timeit.default_timer()\n",
    "\n",
    "# model fitting\n",
    "for i in range(0,parameters.shape[0]):\n",
    "    # define the parameters\n",
    "    para = parameters[i] \n",
    "    # build random forest classification model\n",
    "    abc_clf = AdaBoostClassifier(n_estimators=para)\n",
    "    # cross validation with 10-fold validation for random forest classification\n",
    "    x = cross_val_score(abc_clf, testData, testClass, cv=10)\n",
    "    # store the score of each run in the column\n",
    "    abc_testScores[:,i] = x\n",
    "\n",
    "# stop to count\n",
    "stop = timeit.default_timer()\n",
    "print ('ABC test time: ', stop - start) "
   ]
  },
  {
   "cell_type": "markdown",
   "metadata": {},
   "source": [
    "### 2.2.3 Statistic Analysis for Modeling"
   ]
  },
  {
   "cell_type": "markdown",
   "metadata": {},
   "source": [
    "### A. Random Forest Classification"
   ]
  },
  {
   "cell_type": "code",
   "execution_count": 392,
   "metadata": {
    "collapsed": false
   },
   "outputs": [],
   "source": [
    "# compute the average scores of each run from cross validation results\n",
    "# training part\n",
    "rfc_AVGtrainScores = np.zeros(parameters.shape[0])\n",
    "rfc_STDtrainScores = np.zeros(parameters.shape[0])\n",
    "for i in range(0,parameters.shape[0]):\n",
    "    rfc_AVGtrainScores[i] = np.mean(rfc_trainScores[:,i])\n",
    "    rfc_STDtrainScores[i] = np.std(rfc_trainScores[:,i])\n",
    "    \n",
    "# test part\n",
    "rfc_AVGtestScores = np.zeros(parameters.shape[0])\n",
    "rfc_STDtestScores = np.zeros(parameters.shape[0])\n",
    "for i in range(0,parameters.shape[0]):\n",
    "    rfc_AVGtestScores[i] = np.mean(rfc_testScores[:,i])\n",
    "    rfc_STDtestScores[i] = np.std(rfc_testScores[:,i])"
   ]
  },
  {
   "cell_type": "markdown",
   "metadata": {},
   "source": [
    "### B. Decision Tree Classification"
   ]
  },
  {
   "cell_type": "code",
   "execution_count": 377,
   "metadata": {
    "collapsed": true
   },
   "outputs": [],
   "source": [
    "# compute the average scores of each run from cross validation results\n",
    "# training part\n",
    "dtc_AVGtrainScores = np.zeros(parameters1.shape[0])\n",
    "dtc_STDtrainScores = np.zeros(parameters1.shape[0])\n",
    "for i in range(0,parameters1.shape[0]):\n",
    "    dtc_AVGtrainScores[i] = np.mean(dtc_trainScores[:,i])\n",
    "    dtc_STDtrainScores[i] = np.std(dtc_trainScores[:,i])\n",
    "    \n",
    "# test part\n",
    "dtc_AVGtestScores = np.zeros(parameters1.shape[0])\n",
    "dtc_STDtestScores = np.zeros(parameters1.shape[0])\n",
    "for i in range(0,parameters1.shape[0]):\n",
    "    dtc_AVGtestScores[i] = np.mean(dtc_testScores[:,i])\n",
    "    dtc_STDtestScores[i] = np.std(dtc_testScores[:,i])"
   ]
  },
  {
   "cell_type": "markdown",
   "metadata": {},
   "source": [
    "### C. Extra Trees Classification"
   ]
  },
  {
   "cell_type": "code",
   "execution_count": 378,
   "metadata": {
    "collapsed": true
   },
   "outputs": [],
   "source": [
    "# compute the average scores of each run from cross validation results\n",
    "# training part\n",
    "etc_AVGtrainScores = np.zeros(parameters1.shape[0])\n",
    "etc_STDtrainScores = np.zeros(parameters1.shape[0])\n",
    "for i in range(0,parameters1.shape[0]):\n",
    "    etc_AVGtrainScores[i] = np.mean(etc_trainScores[:,i])\n",
    "    etc_STDtrainScores[i] = np.std(etc_trainScores[:,i])\n",
    "    \n",
    "# test part\n",
    "etc_AVGtestScores = np.zeros(parameters1.shape[0])\n",
    "etc_STDtestScores = np.zeros(parameters1.shape[0])\n",
    "for i in range(0,parameters1.shape[0]):\n",
    "    etc_AVGtestScores[i] = np.mean(etc_testScores[:,i])\n",
    "    etc_STDtestScores[i] = np.std(etc_testScores[:,i])"
   ]
  },
  {
   "cell_type": "markdown",
   "metadata": {},
   "source": [
    "### D. AdaBoost Classification"
   ]
  },
  {
   "cell_type": "code",
   "execution_count": 379,
   "metadata": {
    "collapsed": true
   },
   "outputs": [],
   "source": [
    "# compute the average scores of each run from cross validation results\n",
    "# training part\n",
    "abc_AVGtrainScores = np.zeros(parameters.shape[0])\n",
    "abc_STDtrainScores = np.zeros(parameters.shape[0])\n",
    "for i in range(0,parameters.shape[0]):\n",
    "    abc_AVGtrainScores[i] = np.mean(abc_trainScores[:,i])\n",
    "    abc_STDtrainScores[i] = np.std(abc_trainScores[:,i])\n",
    "    \n",
    "# test part\n",
    "abc_AVGtestScores = np.zeros(parameters.shape[0])\n",
    "abc_STDtestScores = np.zeros(parameters.shape[0])\n",
    "for i in range(0,parameters.shape[0]):\n",
    "    abc_AVGtestScores[i] = np.mean(abc_testScores[:,i])\n",
    "    abc_STDtestScores[i] = np.std(abc_testScores[:,i])"
   ]
  },
  {
   "cell_type": "markdown",
   "metadata": {},
   "source": [
    "### 2.2.4 Plot the Accuracy Distribution of Each Parameter"
   ]
  },
  {
   "cell_type": "markdown",
   "metadata": {},
   "source": [
    "### A. Random Forest Classification"
   ]
  },
  {
   "cell_type": "code",
   "execution_count": 393,
   "metadata": {
    "collapsed": false
   },
   "outputs": [
    {
     "data": {
      "image/png": "[encoded data removed]",
      "text/plain": [
       "<matplotlib.figure.Figure at 0x184467a58>"
      ]
     },
     "metadata": {},
     "output_type": "display_data"
    }
   ],
   "source": [
    "# show the accuracy for each parameter\n",
    "# training parameter accuracy\n",
    "plt.rcParams[\"figure.figsize\"] = (12,9)\n",
    "plt.rc('font', size=12)\n",
    "f, (ax1, ax2, ax3) = plt.subplots(3, sharex=True, sharey=True)\n",
    "ax1.boxplot(rfc_trainScores)\n",
    "ax1.legend(['train'])\n",
    "ax1.grid(True)\n",
    "ax1.set_title('Different Parameter Comparison of Random Forest Classification')\n",
    "\n",
    "# test parameter accuracy\n",
    "ax2.boxplot(rfc_testScores)\n",
    "ax2.legend(['test'])\n",
    "ax2.grid(True)\n",
    "\n",
    "# average accurancy of training and test data among different parameters\n",
    "trainLine, = ax3.plot(np.arange(parameters.shape[0])+1, rfc_AVGtrainScores, label = \"train\")\n",
    "testLine, = ax3.plot(np.arange(parameters.shape[0])+1, rfc_AVGtestScores, label = \"test\")\n",
    "plt.legend(handles=[trainLine, testLine])\n",
    "plt.xticks(np.arange(parameters.shape[0])+1,parameters)\n",
    "ax3.grid(True)\n",
    "f.subplots_adjust(hspace=0)\n",
    "plt.show()\n",
    "f.savefig(\"Different Parameter Comparison of Random Forest Classification.png\", dpi = 400)"
   ]
  },
  {
   "cell_type": "markdown",
   "metadata": {},
   "source": [
    "### B. Decision Tree Classification"
   ]
  },
  {
   "cell_type": "code",
   "execution_count": 395,
   "metadata": {
    "collapsed": false
   },
   "outputs": [
    {
     "data": {
      "image/png": "[encoded data removed]",
      "text/plain": [
       "<matplotlib.figure.Figure at 0x161a09ac8>"
      ]
     },
     "metadata": {},
     "output_type": "display_data"
    }
   ],
   "source": [
    "# show the accuracy for each parameter\n",
    "# training parameter accuracy\n",
    "plt.rcParams[\"figure.figsize\"] = (12,9)\n",
    "plt.rc('font', size=12)\n",
    "f, (ax1, ax2, ax3) = plt.subplots(3, sharex=True, sharey=True)\n",
    "ax1.boxplot(dtc_trainScores)\n",
    "ax1.legend(['train'])\n",
    "ax1.grid(True)\n",
    "ax1.set_title('Different Parameter Comparison of Decision Tree Classification')\n",
    "\n",
    "# test parameter accuracy\n",
    "ax2.boxplot(dtc_testScores)\n",
    "ax2.legend(['test'])\n",
    "ax2.grid(True)\n",
    "\n",
    "# average accurancy of training and test data among different parameters\n",
    "trainLine, = ax3.plot(np.arange(parameters1.shape[0])+1, dtc_AVGtrainScores, label = \"train\")\n",
    "testLine, = ax3.plot(np.arange(parameters1.shape[0])+1, dtc_AVGtestScores, label = \"test\")\n",
    "plt.legend(handles=[trainLine, testLine])\n",
    "plt.xticks(np.arange(parameters1.shape[0])+1,parameters1)\n",
    "ax3.grid(True)\n",
    "f.subplots_adjust(hspace=0)\n",
    "plt.show()\n",
    "f.savefig(\"Different Parameter Comparison of Decision Tree Classification.png\", dpi = 400)"
   ]
  },
  {
   "cell_type": "markdown",
   "metadata": {},
   "source": [
    "### C. Extra Trees Classification"
   ]
  },
  {
   "cell_type": "code",
   "execution_count": 396,
   "metadata": {
    "collapsed": false
   },
   "outputs": [
    {
     "data": {
      "image/png": "[encoded data removed]",
      "text/plain": [
       "<matplotlib.figure.Figure at 0x184960a58>"
      ]
     },
     "metadata": {},
     "output_type": "display_data"
    }
   ],
   "source": [
    "# show the accuracy for each parameter\n",
    "# training parameter accuracy\n",
    "plt.rcParams[\"figure.figsize\"] = (12,9)\n",
    "plt.rc('font', size=12)\n",
    "f, (ax1, ax2, ax3) = plt.subplots(3, sharex=True, sharey=True)\n",
    "ax1.boxplot(etc_trainScores)\n",
    "ax1.legend(['train'])\n",
    "ax1.grid(True)\n",
    "ax1.set_title('Different Parameter Comparison of Extra Trees Classification')\n",
    "\n",
    "# test parameter accuracy\n",
    "ax2.boxplot(etc_testScores)\n",
    "ax2.legend(['test'])\n",
    "ax2.grid(True)\n",
    "\n",
    "# average accurancy of training and test data among different parameters\n",
    "trainLine, = ax3.plot(np.arange(parameters1.shape[0])+1, etc_AVGtrainScores, label = \"train\")\n",
    "testLine, = ax3.plot(np.arange(parameters1.shape[0])+1, etc_AVGtestScores, label = \"test\")\n",
    "plt.legend(handles=[trainLine, testLine])\n",
    "plt.xticks(np.arange(parameters1.shape[0])+1,parameters1)\n",
    "ax3.grid(True)\n",
    "f.subplots_adjust(hspace=0)\n",
    "plt.show()\n",
    "f.savefig(\"Different Parameter Comparison of Extra Trees Classification.png\", dpi = 400)"
   ]
  },
  {
   "cell_type": "markdown",
   "metadata": {},
   "source": [
    "### D. AdaBoost Classification"
   ]
  },
  {
   "cell_type": "code",
   "execution_count": 397,
   "metadata": {
    "collapsed": false
   },
   "outputs": [
    {
     "data": {
      "image/png": "[encoded data removed]",
      "text/plain": [
       "<matplotlib.figure.Figure at 0x159396390>"
      ]
     },
     "metadata": {},
     "output_type": "display_data"
    }
   ],
   "source": [
    "# show the accuracy for each parameter\n",
    "# training parameter accuracy\n",
    "plt.rcParams[\"figure.figsize\"] = (12,9)\n",
    "plt.rc('font', size=12)\n",
    "f, (ax1, ax2, ax3) = plt.subplots(3, sharex=True, sharey=True)\n",
    "ax1.boxplot(abc_trainScores)\n",
    "ax1.legend(['train'])\n",
    "ax1.grid(True)\n",
    "ax1.set_title('Different Parameter Comparison of AdaBoost Classification')\n",
    "\n",
    "# test parameter accuracy\n",
    "ax2.boxplot(abc_testScores)\n",
    "ax2.legend(['test'])\n",
    "ax2.grid(True)\n",
    "\n",
    "# average accurancy of training and test data among different parameters\n",
    "trainLine, = ax3.plot(np.arange(parameters.shape[0])+1, abc_AVGtrainScores, label = \"train\")\n",
    "testLine, = ax3.plot(np.arange(parameters.shape[0])+1, abc_AVGtestScores, label = \"test\")\n",
    "plt.legend(handles=[trainLine, testLine])\n",
    "plt.xticks(np.arange(parameters.shape[0])+1,parameters)\n",
    "ax3.grid(True)\n",
    "f.subplots_adjust(hspace=0)\n",
    "plt.show()\n",
    "f.savefig(\"Different Parameter Comparison of AdaBoost Classification.png\", dpi = 400)"
   ]
  },
  {
   "cell_type": "markdown",
   "metadata": {},
   "source": [
    "### 2.2.5 Indicate the Most Suitable Parameter for this Model"
   ]
  },
  {
   "cell_type": "markdown",
   "metadata": {},
   "source": [
    "The major concept for the selection of best parameter is simple, we utilized the average accuracy of each parameter and standard deviation accuracy of each parameter. Then, we computed the distance between training accuracy and test accurancy of each parameter, and summarized the same parameter values from average and standard deviation. At last, we chose the minimum value and its corresponed parameter value.\n",
    "\n",
    "assume that we have i parameters\n",
    "for each run we have i*k accuracy value under k-fold cross validation\n",
    "compute \n",
    "avg_i\n",
    "$$"
   ]
  },
  {
   "cell_type": "markdown",
   "metadata": {},
   "source": [
    "### A. Random Forest Classification"
   ]
  },
  {
   "cell_type": "code",
   "execution_count": 410,
   "metadata": {
    "collapsed": false
   },
   "outputs": [
    {
     "name": "stdout",
     "output_type": "stream",
     "text": [
      "Random Forest Classification\n",
      "Average of Accurancy:\n",
      " [ 0.01384653  0.00673628  0.00674675  0.00601416  0.00649794  0.00725098\n",
      "  0.00675336  0.0063836 ]\n",
      "Standard Deviation of Accurancy:\n",
      " [ 0.00304235  0.00176275  0.00168871  0.00070968  0.00295258  0.0022789\n",
      "  0.00304954  0.00333991]\n",
      "Overall Value:\n",
      " [ 0.01688888  0.00849903  0.00843546  0.00672384  0.00945053  0.00952988\n",
      "  0.00980291  0.00972351]\n",
      "Minimum Index:  3\n",
      "The Best Parameter Value:  20\n"
     ]
    }
   ],
   "source": [
    "# compute the distance between training data and test data\n",
    "print('Random Forest Classification')\n",
    "rfc_avg = abs(rfc_AVGtrainScores - rfc_AVGtestScores)\n",
    "rfc_std = abs(rfc_STDtrainScores - rfc_STDtestScores)\n",
    "print('Average of Accurancy:\\n',rfc_avg)\n",
    "print('Standard Deviation of Accurancy:\\n',rfc_std)\n",
    "\n",
    "# summerize two statistic values\n",
    "rfc_overall = rfc_avg + rfc_std\n",
    "print('Overall Value:\\n',rfc_overall)\n",
    "\n",
    "# select the minimum value which represents the best stability among these parameters\n",
    "rfc_minIndex = np.argmin(rfc_overall)\n",
    "print('Minimum Index: ',rfc_minIndex)\n",
    "\n",
    "# extract the corresponded parameter value from the original parameter set\n",
    "rfc_para = parameters[rfc_minIndex]\n",
    "print('The Best Parameter Value: ',rfc_para)"
   ]
  },
  {
   "cell_type": "markdown",
   "metadata": {},
   "source": [
    "### B. Decision Tree Classification"
   ]
  },
  {
   "cell_type": "code",
   "execution_count": 415,
   "metadata": {
    "collapsed": false
   },
   "outputs": [
    {
     "name": "stdout",
     "output_type": "stream",
     "text": [
      "Decision Tree Classification\n",
      "Average of Accurancy:\n",
      " [ 0.01420886  0.01435761  0.01570545  0.0125243   0.01018348  0.01200466\n",
      "  0.01361743  0.01496537]\n",
      "Standard Deviation of Accurancy:\n",
      " [ 0.00331297  0.00429646  0.00290164  0.00560147  0.00311655  0.0039464\n",
      "  0.00154612  0.00181619]\n",
      "Overall Value:\n",
      " [ 0.01752183  0.01865406  0.01860709  0.01812577  0.01330003  0.01595106\n",
      "  0.01516355  0.01678156]\n",
      "Minimum Index:  4\n",
      "The Best Parameter Value:  10\n"
     ]
    }
   ],
   "source": [
    "# compute the distance between training data and test data\n",
    "print('Decision Tree Classification')\n",
    "dtc_avg = abs(dtc_AVGtrainScores - dtc_AVGtestScores)\n",
    "dtc_std = abs(dtc_STDtrainScores - dtc_STDtestScores)\n",
    "print('Average of Accurancy:\\n',dtc_avg)\n",
    "print('Standard Deviation of Accurancy:\\n',dtc_std)\n",
    "\n",
    "# summerize two statistic values\n",
    "dtc_overall = dtc_avg + dtc_std\n",
    "print('Overall Value:\\n',dtc_overall)\n",
    "\n",
    "# select the minimum value which represents the best stability among these parameters\n",
    "dtc_minIndex = np.argmin(dtc_overall)\n",
    "print('Minimum Index: ',dtc_minIndex)\n",
    "\n",
    "# extract the corresponded parameter value from the original parameter set\n",
    "dtc_para = parameters1[dtc_minIndex]\n",
    "print('The Best Parameter Value: ',dtc_para)"
   ]
  },
  {
   "cell_type": "markdown",
   "metadata": {},
   "source": [
    "### C. Extra Trees Classification"
   ]
  },
  {
   "cell_type": "code",
   "execution_count": 414,
   "metadata": {
    "collapsed": false
   },
   "outputs": [
    {
     "name": "stdout",
     "output_type": "stream",
     "text": [
      "Extra Trees Classification\n",
      "Average of Accurancy:\n",
      " [ 0.01225501  0.00709576  0.00857184  0.00882925  0.00784444  0.00650018\n",
      "  0.00686436  0.00698251]\n",
      "Standard Deviation of Accurancy:\n",
      " [ 0.00438281  0.00526092  0.00407268  0.00307688  0.00394296  0.00213265\n",
      "  0.00321676  0.00407009]\n",
      "Overall Value:\n",
      " [ 0.01663782  0.01235669  0.01264452  0.01190613  0.0117874   0.00863282\n",
      "  0.01008112  0.0110526 ]\n",
      "Minimum Index:  5\n",
      "The Best Parameter Value:  12\n"
     ]
    }
   ],
   "source": [
    "# compute the distance between training data and test data\n",
    "print('Extra Trees Classification')\n",
    "etc_avg = abs(etc_AVGtrainScores - etc_AVGtestScores)\n",
    "etc_std = abs(etc_STDtrainScores - etc_STDtestScores)\n",
    "print('Average of Accurancy:\\n',etc_avg)\n",
    "print('Standard Deviation of Accurancy:\\n',etc_std)\n",
    "\n",
    "# summerize two statistic values\n",
    "etc_overall = etc_avg + etc_std\n",
    "print('Overall Value:\\n',etc_overall)\n",
    "\n",
    "# select the minimum value which represents the best stability among these parameters\n",
    "etc_minIndex = np.argmin(etc_overall)\n",
    "print('Minimum Index: ',etc_minIndex)\n",
    "\n",
    "# extract the corresponded parameter value from the original parameter set\n",
    "etc_para = parameters1[etc_minIndex]\n",
    "print('The Best Parameter Value: ',etc_para)"
   ]
  },
  {
   "cell_type": "markdown",
   "metadata": {},
   "source": [
    "### D. AdaBoost Classification"
   ]
  },
  {
   "cell_type": "code",
   "execution_count": 413,
   "metadata": {
    "collapsed": false
   },
   "outputs": [
    {
     "name": "stdout",
     "output_type": "stream",
     "text": [
      "Random Forest Classification\n",
      "Average of Accurancy:\n",
      " [ 0.03382871  0.030607    0.03382871  0.0307294   0.03419908  0.03023663\n",
      "  0.03382871  0.03023663]\n",
      "Standard Deviation of Accurancy:\n",
      " [ 0.02230731  0.08180434  0.02230731  0.08181701  0.02217815  0.08198552\n",
      "  0.02230731  0.08198552]\n",
      "Overall Value:\n",
      " [ 0.05613602  0.11241134  0.05613602  0.11254641  0.05637724  0.11222215\n",
      "  0.05613602  0.11222215]\n",
      "Minimum Index:  0\n",
      "The Best Parameter Value:  5\n"
     ]
    }
   ],
   "source": [
    "# compute the distance between training data and test data\n",
    "print('Random Forest Classification')\n",
    "abc_avg = abs(abc_AVGtrainScores - abc_AVGtestScores)\n",
    "abc_std = abs(abc_STDtrainScores - abc_STDtestScores)\n",
    "print('Average of Accurancy:\\n',abc_avg)\n",
    "print('Standard Deviation of Accurancy:\\n',abc_std)\n",
    "\n",
    "# summerize two statistic values\n",
    "abc_overall = abc_avg + abc_std\n",
    "print('Overall Value:\\n',abc_overall)\n",
    "\n",
    "# select the minimum value which represents the best stability among these parameters\n",
    "abc_minIndex = np.argmin(abc_overall)\n",
    "print('Minimum Index: ',abc_minIndex)\n",
    "\n",
    "# extract the corresponded parameter value from the original parameter set\n",
    "abc_para = parameters[abc_minIndex]\n",
    "print('The Best Parameter Value: ',abc_para)"
   ]
  },
  {
   "cell_type": "markdown",
   "metadata": {},
   "source": [
    "## 3. Rebuild the Classification Model via Suitable Parameter Values"
   ]
  },
  {
   "cell_type": "markdown",
   "metadata": {},
   "source": [
    "For example, we selected 20 as the number of estimator for random forest classification As a result, we set the final veriosn model for random forest cassification."
   ]
  },
  {
   "cell_type": "code",
   "execution_count": 416,
   "metadata": {
    "collapsed": true
   },
   "outputs": [],
   "source": [
    "# build random forest classification model\n",
    "rfc_clf = RandomForestClassifier(n_estimators=rfc_para, max_depth=None, min_samples_split=2, random_state=0)"
   ]
  },
  {
   "cell_type": "code",
   "execution_count": 417,
   "metadata": {
    "collapsed": true
   },
   "outputs": [],
   "source": [
    "# build decision tree classification model\n",
    "dtc_clf = DecisionTreeClassifier(max_depth=None, min_samples_split=dtc_para,random_state=0)"
   ]
  },
  {
   "cell_type": "code",
   "execution_count": 418,
   "metadata": {
    "collapsed": true
   },
   "outputs": [],
   "source": [
    "# build extra trees classification model\n",
    "etc_clf = ExtraTreesClassifier(n_estimators=etc_para, max_depth=None,min_samples_split=2, random_state=0)"
   ]
  },
  {
   "cell_type": "code",
   "execution_count": 419,
   "metadata": {
    "collapsed": true
   },
   "outputs": [],
   "source": [
    "# build AdaBoost classification model\n",
    "abc_clf = AdaBoostClassifier(n_estimators=abc_para)"
   ]
  },
  {
   "cell_type": "markdown",
   "metadata": {},
   "source": [
    "## 4. Evaluate Classification and Cross Validation by Using K-fold (K = 10)"
   ]
  },
  {
   "cell_type": "code",
   "execution_count": 422,
   "metadata": {
    "collapsed": true
   },
   "outputs": [],
   "source": [
    "# cross validation with 10-fold validation for random forest classification\n",
    "rfc_scores = cross_val_score(rfc_clf, data, classType, cv=10)"
   ]
  },
  {
   "cell_type": "code",
   "execution_count": 423,
   "metadata": {
    "collapsed": false
   },
   "outputs": [],
   "source": [
    "# cross validation with 10-fold validation for decision tree classification\n",
    "dtc_scores = cross_val_score(dtc_clf, data, classType, cv=10)"
   ]
  },
  {
   "cell_type": "code",
   "execution_count": 424,
   "metadata": {
    "collapsed": true
   },
   "outputs": [],
   "source": [
    "# cross validation with 10-fold validation for extra trees classification\n",
    "etc_scores = cross_val_score(etc_clf, data, classType, cv=10)"
   ]
  },
  {
   "cell_type": "code",
   "execution_count": 425,
   "metadata": {
    "collapsed": true
   },
   "outputs": [],
   "source": [
    "# cross validation with 10-fold validation for AdaBoost classification\n",
    "abc_scores = cross_val_score(abc_clf, data, classType, cv=10)"
   ]
  },
  {
   "cell_type": "markdown",
   "metadata": {},
   "source": [
    "## 5. Statistic Result of Cross Validation on Classification"
   ]
  },
  {
   "cell_type": "code",
   "execution_count": 426,
   "metadata": {
    "collapsed": false
   },
   "outputs": [
    {
     "name": "stdout",
     "output_type": "stream",
     "text": [
      "Model Accuracy of Random Forest Classification of Each Fold\n",
      "[ 0.996337    0.99357798  0.99632353  0.99264029  0.99448022  0.99447514\n",
      "  0.99355433  0.99631676  0.99538319  0.99168975]\n",
      "\n",
      "Average Accuracy of Random Forest Classification\n",
      "0.994477819278\n"
     ]
    }
   ],
   "source": [
    "# calculate the Accuracy of random forest classification and show them on the screen\n",
    "print('Model Accuracy of Random Forest Classification of Each Fold')\n",
    "print(rfc_scores)\n",
    "print('\\nAverage Accuracy of Random Forest Classification')\n",
    "print(rfc_scores.mean())"
   ]
  },
  {
   "cell_type": "code",
   "execution_count": 427,
   "metadata": {
    "collapsed": false
   },
   "outputs": [
    {
     "name": "stdout",
     "output_type": "stream",
     "text": [
      "Accuracy of Decision Tree Classification of Each Fold\n",
      "[ 0.99175824  0.99357798  0.98713235  0.98620055  0.9825207   0.98895028\n",
      "  0.98895028  0.99447514  0.98430286  0.98614958]\n",
      "\n",
      "Average Accuracy of Decision Tree Classification\n",
      "0.988401796502\n"
     ]
    }
   ],
   "source": [
    "# calculate the Accuracy of decision tree classification and show them on the screen\n",
    "print('Accuracy of Decision Tree Classification of Each Fold')\n",
    "print(dtc_scores)\n",
    "print('\\nAverage Accuracy of Decision Tree Classification')\n",
    "print(dtc_scores.mean())"
   ]
  },
  {
   "cell_type": "code",
   "execution_count": 428,
   "metadata": {
    "collapsed": false
   },
   "outputs": [
    {
     "name": "stdout",
     "output_type": "stream",
     "text": [
      "Model Accuracy of Extra Trees Classification of Each Fold\n",
      "[ 0.99542125  0.99082569  0.99448529  0.99080037  0.98804048  0.9907919\n",
      "  0.9907919   0.99631676  0.99261311  0.99168975]\n",
      "\n",
      "Average Accuracy of Extra Trees Classification\n",
      "0.992177648888\n"
     ]
    }
   ],
   "source": [
    "# calculate the Accuracy of extra trees classification and show them on the screen\n",
    "print('Model Accuracy of Extra Trees Classification of Each Fold')\n",
    "print(etc_scores)\n",
    "print('\\nAverage Accuracy of Extra Trees Classification')\n",
    "print(etc_scores.mean())"
   ]
  },
  {
   "cell_type": "code",
   "execution_count": 429,
   "metadata": {
    "collapsed": false
   },
   "outputs": [
    {
     "name": "stdout",
     "output_type": "stream",
     "text": [
      "Accuracy of AdaBoost classification of Each Fold\n",
      "[ 0.496337    0.5         0.49816176  0.49770009  0.49586017  0.5\n",
      "  0.50092081  0.50092081  0.49953832  0.49953832]\n",
      "\n",
      "Average Accuracy of AdaBoost classification\n",
      "0.498897727822\n"
     ]
    }
   ],
   "source": [
    "# calculate the Accuracy of AdaBoost classification and show them on the screen\n",
    "print('Accuracy of AdaBoost classification of Each Fold')\n",
    "print(abc_scores)\n",
    "print('\\nAverage Accuracy of AdaBoost classification')\n",
    "print(abc_scores.mean())"
   ]
  },
  {
   "cell_type": "markdown",
   "metadata": {},
   "source": [
    "## 6. Sight View of the Importnace of Each Feature"
   ]
  },
  {
   "cell_type": "code",
   "execution_count": 430,
   "metadata": {
    "collapsed": false
   },
   "outputs": [
    {
     "name": "stdout",
     "output_type": "stream",
     "text": [
      "The Feature Importance of Random Forest Classifier = \n",
      " [  2.17184326e-04   0.00000000e+00   2.77437925e-04 ...,   1.41892105e-05\n",
      "   7.30011764e-05   1.04857926e-03]\n"
     ]
    },
    {
     "data": {
      "image/png": "[encoded data removed]",
      "text/plain": [
       "<matplotlib.figure.Figure at 0x144456be0>"
      ]
     },
     "metadata": {},
     "output_type": "display_data"
    }
   ],
   "source": [
    "# compute the importance of the features under random forest classification\n",
    "rfc_clf.fit(data, classType)\n",
    "print('The Feature Importance of Random Forest Classifier = \\n',rfc_clf.feature_importances_)\n",
    "plt.plot(rfc_clf.feature_importances_)\n",
    "plt.title('The Feature Importance of Random Forest Classifier')\n",
    "plt.xlabel('Features')\n",
    "plt.ylabel('Importance')\n",
    "plt.grid(True)\n",
    "plt.show()"
   ]
  },
  {
   "cell_type": "code",
   "execution_count": 431,
   "metadata": {
    "collapsed": false
   },
   "outputs": [
    {
     "name": "stdout",
     "output_type": "stream",
     "text": [
      "The Feature Importance of Decision Tree Classifier = \n",
      " [ 0.          0.00022345  0.         ...,  0.          0.          0.        ]\n"
     ]
    },
    {
     "data": {
      "image/png": "[encoded data removed]",
      "text/plain": [
       "<matplotlib.figure.Figure at 0x1167db5c0>"
      ]
     },
     "metadata": {},
     "output_type": "display_data"
    }
   ],
   "source": [
    "# compute the importance of the features under decision tree classification\n",
    "dtc_clf.fit(data, classType)\n",
    "print('The Feature Importance of Decision Tree Classifier = \\n',dtc_clf.feature_importances_)\n",
    "plt.plot(dtc_clf.feature_importances_)\n",
    "plt.title('The Feature Importance of Decision Tree Classifier')\n",
    "plt.xlabel('Features')\n",
    "plt.ylabel('Importance')\n",
    "plt.grid(True)\n",
    "plt.show()"
   ]
  },
  {
   "cell_type": "code",
   "execution_count": 432,
   "metadata": {
    "collapsed": false
   },
   "outputs": [
    {
     "name": "stdout",
     "output_type": "stream",
     "text": [
      "The Feature Importance of Extra Trees Classifier = \n",
      " [ 0.00049798  0.0003142   0.00039223 ...,  0.          0.00595362\n",
      "  0.0020207 ]\n"
     ]
    },
    {
     "data": {
      "image/png": "[encoded data removed]",
      "text/plain": [
       "<matplotlib.figure.Figure at 0x1165505f8>"
      ]
     },
     "metadata": {},
     "output_type": "display_data"
    }
   ],
   "source": [
    "# compute the importance of the features under extra trees classification\n",
    "etc_clf.fit(data, classType)\n",
    "print('The Feature Importance of Extra Trees Classifier = \\n',etc_clf.feature_importances_)\n",
    "plt.plot(etc_clf.feature_importances_)\n",
    "plt.title('The Feature Importance of Extra Trees Classifier')\n",
    "plt.xlabel('Features')\n",
    "plt.ylabel('Importance')\n",
    "plt.grid(True)\n",
    "plt.show()"
   ]
  },
  {
   "cell_type": "code",
   "execution_count": 433,
   "metadata": {
    "collapsed": false
   },
   "outputs": [
    {
     "name": "stdout",
     "output_type": "stream",
     "text": [
      "The Feature Importance of AdaBoost Classifier = \n",
      " [ 0.  0.  0. ...,  0.  0.  0.]\n"
     ]
    },
    {
     "data": {
      "image/png": "[encoded data removed]",
      "text/plain": [
       "<matplotlib.figure.Figure at 0x159033128>"
      ]
     },
     "metadata": {},
     "output_type": "display_data"
    }
   ],
   "source": [
    "# compute the importance of the features under AdaBoost classification\n",
    "abc_clf.fit(data, classType)\n",
    "print('The Feature Importance of AdaBoost Classifier = \\n',abc_clf.feature_importances_)\n",
    "plt.plot(abc_clf.feature_importances_)\n",
    "plt.title('The Feature Importance of AdaBoost Classifier')\n",
    "plt.xlabel('Features')\n",
    "plt.ylabel('Importance')\n",
    "plt.grid(True)\n",
    "plt.show()"
   ]
  },
  {
   "cell_type": "markdown",
   "metadata": {},
   "source": [
    "## 7. Select Three Types of Features"
   ]
  },
  {
   "cell_type": "markdown",
   "metadata": {},
   "source": [
    "From previous analysis results, we can realize that some of features does not help for classification during this process, hence, we attempted to divide into three types of feature type as follows. <br />\n",
    "1. top 10 useful features\n",
    "2. all useful features\n",
    "3. all useless features\n",
    "\n",
    "(p.s. for no.2 and no.3:: because the numbers of features are quite large, we also showed the numbers.)"
   ]
  },
  {
   "cell_type": "markdown",
   "metadata": {},
   "source": [
    "### 7.1 Get the Importance Index"
   ]
  },
  {
   "cell_type": "code",
   "execution_count": 434,
   "metadata": {
    "collapsed": false
   },
   "outputs": [],
   "source": [
    "# random forest classification\n",
    "# export the importance and obtain the sorting index\n",
    "rfc_featureImportance = rfc_clf.feature_importances_\n",
    "# get the sorting index by argsort function from numpy package\n",
    "rfc_getIndex = np.argsort(rfc_featureImportance)"
   ]
  },
  {
   "cell_type": "code",
   "execution_count": 435,
   "metadata": {
    "collapsed": false
   },
   "outputs": [],
   "source": [
    "# decision tree classification\n",
    "# export the importance and obtain the sorting index\n",
    "dtc_featureImportance = dtc_clf.feature_importances_\n",
    "# get the sorting index by argsort function from numpy package\n",
    "dtc_getIndex = np.argsort(dtc_featureImportance)"
   ]
  },
  {
   "cell_type": "code",
   "execution_count": 436,
   "metadata": {
    "collapsed": false
   },
   "outputs": [],
   "source": [
    "# extra trees classification\n",
    "# export the importance and obtain the sorting index\n",
    "etc_featureImportance = etc_clf.feature_importances_\n",
    "# get the sorting index by argsort function from numpy package\n",
    "etc_getIndex = np.argsort(etc_featureImportance)"
   ]
  },
  {
   "cell_type": "code",
   "execution_count": 437,
   "metadata": {
    "collapsed": false
   },
   "outputs": [],
   "source": [
    "# AdaBoost classification\n",
    "# export the importance and obtain the sorting index\n",
    "abc_featureImportance = abc_clf.feature_importances_\n",
    "# get the sorting index by argsort function from numpy package\n",
    "abc_getIndex = np.argsort(abc_featureImportance)"
   ]
  },
  {
   "cell_type": "markdown",
   "metadata": {},
   "source": [
    "### 7.2 Sort the Importance and Features via Importance Index"
   ]
  },
  {
   "cell_type": "code",
   "execution_count": 438,
   "metadata": {
    "collapsed": false
   },
   "outputs": [
    {
     "name": "stdout",
     "output_type": "stream",
     "text": [
      "The Feature Importance Sorting Result of Random Forest Classification\n",
      " [ 0.          0.          0.         ...,  0.02097451  0.02618645\n",
      "  0.02831551]\n",
      "The Feature Sorting Result of Random Forest Classificatio\n",
      " ['SHGetFileInfoA' 'string_len_counts_72' 'IsWindowVisible' ..., 'HeapAlloc'\n",
      " 'TB_99' 'Img0.1']\n"
     ]
    }
   ],
   "source": [
    "# random forest classidication\n",
    "# sort the importance\n",
    "rfc_imSorted = rfc_featureImportance[rfc_getIndex]\n",
    "print('The Feature Importance Sorting Result of Random Forest Classification\\n',rfc_imSorted)\n",
    "# sort the features\n",
    "rfc_dataImSorted = np.asarray(data.columns[rfc_getIndex])\n",
    "print('The Feature Sorting Result of Random Forest Classificatio\\n',rfc_dataImSorted)"
   ]
  },
  {
   "cell_type": "code",
   "execution_count": 439,
   "metadata": {
    "collapsed": false
   },
   "outputs": [
    {
     "name": "stdout",
     "output_type": "stream",
     "text": [
      "The Feature Importance Sorting Result of Decision Tree Classification\n",
      " [ 0.          0.          0.         ...,  0.12739773  0.2835327\n",
      "  0.36377595]\n",
      "The Feature Sorting Result of Decision Tree Classificatio\n",
      " ['Virtual' 'TB_4e' 'TB_4d' ..., 'dc_por' 'ent_q_diff_diffs_1_median'\n",
      " 'section_names_header']\n"
     ]
    }
   ],
   "source": [
    "# decision tree classidication\n",
    "# sort the importance\n",
    "dtc_imSorted = dtc_featureImportance[dtc_getIndex]\n",
    "print('The Feature Importance Sorting Result of Decision Tree Classification\\n',dtc_imSorted)\n",
    "# sort the features\n",
    "dtc_dataImSorted = np.asarray(data.columns[dtc_getIndex])\n",
    "print('The Feature Sorting Result of Decision Tree Classificatio\\n',dtc_dataImSorted)"
   ]
  },
  {
   "cell_type": "code",
   "execution_count": 440,
   "metadata": {
    "collapsed": false
   },
   "outputs": [
    {
     "name": "stdout",
     "output_type": "stream",
     "text": [
      "The Feature Importance Sorting Result of Extra Trees Classification\n",
      " [ 0.          0.          0.         ...,  0.01836989  0.02063261\n",
      "  0.03235613]\n",
      "The Feature Sorting Result of Extra Trees Classificatio\n",
      " ['GetTempPathW' 'GetClassLongA' '__vbaBoolVarNull' ..., 'Img48' 'Img86'\n",
      " 'IsValidCodePage']\n"
     ]
    }
   ],
   "source": [
    "# extra trees classidication\n",
    "# sort the importance\n",
    "etc_imSorted = etc_featureImportance[etc_getIndex]\n",
    "print('The Feature Importance Sorting Result of Extra Trees Classification\\n',etc_imSorted)\n",
    "# sort the features\n",
    "etc_dataImSorted = np.asarray(data.columns[etc_getIndex])\n",
    "print('The Feature Sorting Result of Extra Trees Classificatio\\n',etc_dataImSorted)"
   ]
  },
  {
   "cell_type": "code",
   "execution_count": 441,
   "metadata": {
    "collapsed": false
   },
   "outputs": [
    {
     "name": "stdout",
     "output_type": "stream",
     "text": [
      "The Feature Importance Sorting Result of AdaBoost Classification\n",
      " [ 0.   0.   0.  ...,  0.   0.4  0.6]\n",
      "The Feature Sorting Result of AdaBoost Classificatio\n",
      " ['Virtual' 'TB_5b' 'TB_5a' ..., 'Img107' 'Img37'\n",
      " 'ent_q_diff_diffs_1_median']\n"
     ]
    }
   ],
   "source": [
    "# AdaBoost classidication\n",
    "# sort the importance\n",
    "abc_imSorted = abc_featureImportance[abc_getIndex]\n",
    "print('The Feature Importance Sorting Result of AdaBoost Classification\\n',abc_imSorted)\n",
    "# sort the features\n",
    "abc_dataImSorted = np.asarray(data.columns[abc_getIndex])\n",
    "print('The Feature Sorting Result of AdaBoost Classificatio\\n',abc_dataImSorted)"
   ]
  },
  {
   "cell_type": "markdown",
   "metadata": {},
   "source": [
    "### 7.3 Plot the Importance Distribution"
   ]
  },
  {
   "cell_type": "code",
   "execution_count": 442,
   "metadata": {
    "collapsed": false
   },
   "outputs": [
    {
     "data": {
      "image/png": "[encoded data removed]",
      "text/plain": [
       "<matplotlib.figure.Figure at 0x143352160>"
      ]
     },
     "metadata": {},
     "output_type": "display_data"
    }
   ],
   "source": [
    "# feature importance distribution by random forst classification\n",
    "plt.scatter(np.arange(len(rfc_imSorted)),rfc_imSorted)\n",
    "plt.title('Feature Importance Distribution by Random Forst Classification')\n",
    "plt.xlabel('The Sorting Index of Features')\n",
    "plt.ylabel('The Importance of Features')\n",
    "plt.grid(True)\n",
    "plt.show()"
   ]
  },
  {
   "cell_type": "code",
   "execution_count": 443,
   "metadata": {
    "collapsed": false
   },
   "outputs": [
    {
     "data": {
      "image/png": "[encoded data removed]",
      "text/plain": [
       "<matplotlib.figure.Figure at 0x115470b00>"
      ]
     },
     "metadata": {},
     "output_type": "display_data"
    }
   ],
   "source": [
    "# feature importance distribution by decision tree classification\n",
    "plt.scatter(np.arange(len(dtc_imSorted)),dtc_imSorted)\n",
    "plt.title('Feature Importance Distribution by Decision Tree Classification')\n",
    "plt.xlabel('The Sorting Index of Features')\n",
    "plt.ylabel('The Importance of Features')\n",
    "plt.grid(True)\n",
    "plt.show()"
   ]
  },
  {
   "cell_type": "code",
   "execution_count": 444,
   "metadata": {
    "collapsed": false
   },
   "outputs": [
    {
     "data": {
      "image/png": "[encoded data removed]",
      "text/plain": [
       "<matplotlib.figure.Figure at 0x11697c048>"
      ]
     },
     "metadata": {},
     "output_type": "display_data"
    }
   ],
   "source": [
    "# feature importance distribution by extra trees classification\n",
    "plt.scatter(np.arange(len(etc_imSorted)),etc_imSorted)\n",
    "plt.title('Feature Importance Distribution by Extra Trees Classification')\n",
    "plt.xlabel('The Sorting Index of Features')\n",
    "plt.ylabel('The Importance of Features')\n",
    "plt.grid(True)\n",
    "plt.show()"
   ]
  },
  {
   "cell_type": "code",
   "execution_count": 445,
   "metadata": {
    "collapsed": false
   },
   "outputs": [
    {
     "data": {
      "image/png": "[encoded data removed]",
      "text/plain": [
       "<matplotlib.figure.Figure at 0x116068be0>"
      ]
     },
     "metadata": {},
     "output_type": "display_data"
    }
   ],
   "source": [
    "# feature importance distribution by AdaBoost classification\n",
    "plt.scatter(np.arange(len(abc_imSorted)),abc_imSorted)\n",
    "plt.title('Feature Importance Distribution by AdaBoost Classification')\n",
    "plt.xlabel('The Sorting Index of Features')\n",
    "plt.ylabel('The Importance of Features')\n",
    "plt.grid(True)\n",
    "plt.show()"
   ]
  },
  {
   "cell_type": "markdown",
   "metadata": {},
   "source": [
    "### 7.4 Top 10 Useful Features"
   ]
  },
  {
   "cell_type": "code",
   "execution_count": 446,
   "metadata": {
    "collapsed": false
   },
   "outputs": [
    {
     "name": "stdout",
     "output_type": "stream",
     "text": [
      "Top 10 Useful Features via Random Forest Classification\n",
      " ['string_len_counts_150_250' 'TB_f5' 'TB_b1' 'TB_e5'\n",
      " 'ent_q_diff_diffs_2_median' 'strncpy' '_exit' 'HeapAlloc' 'TB_99' 'Img0.1']\n"
     ]
    }
   ],
   "source": [
    "# get the top 10 useful features via random forest classification\n",
    "print('Top 10 Useful Features via Random Forest Classification\\n',rfc_dataImSorted[-10:len(rfc_dataImSorted)])"
   ]
  },
  {
   "cell_type": "code",
   "execution_count": 447,
   "metadata": {
    "collapsed": false
   },
   "outputs": [
    {
     "name": "stdout",
     "output_type": "stream",
     "text": [
      "Top 10 Useful Features via Decision Tree Classification\n",
      " ['asm_commands_in' 'VirtualAlloc' 'TB_d5' '.rsrc_por' 'ent_p_19' 'Offset.1'\n",
      " 'Img50' 'dc_por' 'ent_q_diff_diffs_1_median' 'section_names_header']\n"
     ]
    }
   ],
   "source": [
    "# get the top 10 useful features via decision tree classification\n",
    "print('Top 10 Useful Features via Decision Tree Classification\\n',dtc_dataImSorted[-10:len(dtc_dataImSorted)])"
   ]
  },
  {
   "cell_type": "code",
   "execution_count": 448,
   "metadata": {
    "collapsed": false
   },
   "outputs": [
    {
     "name": "stdout",
     "output_type": "stream",
     "text": [
      "Top 10 Useful Features via Extra Trees Classification\n",
      " ['Img47' 'ent_q_diff_diffs_2_median' 'Img28' 'ent_p_7' 'GetStringTypeA'\n",
      " 'GetIconInfo' '_onexit' 'Img48' 'Img86' 'IsValidCodePage']\n"
     ]
    }
   ],
   "source": [
    "# get the top 10 useful features via extra trees classification\n",
    "print('Top 10 Useful Features via Extra Trees Classification\\n',etc_dataImSorted[-10:len(etc_dataImSorted)])"
   ]
  },
  {
   "cell_type": "code",
   "execution_count": 449,
   "metadata": {
    "collapsed": false
   },
   "outputs": [
    {
     "name": "stdout",
     "output_type": "stream",
     "text": [
      "Top 10 Useful Features via AdaBoost Classification\n",
      " ['SetWindowsHookExA' 'EnumWindows' 'CreateBrushIndirect' 'IsIconic'\n",
      " 'GetFileVersionInfoSizeA' 'MoveFileA' 'FileTimeToLocalFileTime' 'Img107'\n",
      " 'Img37' 'ent_q_diff_diffs_1_median']\n"
     ]
    }
   ],
   "source": [
    "# get the top 10 useful features via AdaBoost classification\n",
    "print('Top 10 Useful Features via AdaBoost Classification\\n',abc_dataImSorted[-10:len(abc_dataImSorted)])"
   ]
  },
  {
   "cell_type": "markdown",
   "metadata": {},
   "source": [
    "### 7.5 All Useful Features"
   ]
  },
  {
   "cell_type": "code",
   "execution_count": 450,
   "metadata": {
    "collapsed": false
   },
   "outputs": [
    {
     "name": "stdout",
     "output_type": "stream",
     "text": [
      "The Number of Useful Features via Random Forest Classification\n",
      " 1072\n",
      "\n",
      "All Useful Features via Random Forest Classification\n",
      " ['SHGetFileInfoA' 'IsWindowVisible' 'LoadLibraryExA' ..., 'HeapAlloc'\n",
      " 'TB_99' 'Img0.1']\n"
     ]
    }
   ],
   "source": [
    "# get all useful features via random forest classification\n",
    "print('The Number of Useful Features via Random Forest Classification\\n',len(rfc_dataImSorted[rfc_featureImportance>0]))\n",
    "print('\\nAll Useful Features via Random Forest Classification\\n', rfc_dataImSorted[rfc_featureImportance>0])"
   ]
  },
  {
   "cell_type": "code",
   "execution_count": 451,
   "metadata": {
    "collapsed": false
   },
   "outputs": [
    {
     "name": "stdout",
     "output_type": "stream",
     "text": [
      "The Number of Useful Features via Decision Tree Classification\n",
      " 54\n",
      "\n",
      "All Useful Features via Decision Tree Classification\n",
      " ['TB_4e' 'TB_39' 'TB_32' 'TB_30' 'TB_2e' 'TB_2d' 'TB_1c' 'TB_6f' 'TB_bc'\n",
      " 'TB_b3' 'TB_ae' 'TB_ce' 'TB_83' 'TB_a2' 'TB_9e' '__vbaFileOpen'\n",
      " 'GetKeyNameTextA' 'ImageList_GetIconSize' 'CreateFileMappingA'\n",
      " 'GetTextMetricsA' '__vbaVarMove' 'SetPixel' '__vbaLenBstr'\n",
      " 'SetThreadLocale' 'IntersectClipRect' 'FileTimeToSystemTime' 'fopen'\n",
      " 'Img3' 'Img0' 'string_len_counts_68' 'Img44.1' 'asm_commands_jmp'\n",
      " 'VariantCopyInd' 'ent_q_diff_diffs_1_max' 'ent_q_diff_block_1_7'\n",
      " 'ent_q_diff_diffs_19' 'ent_q_diff_diffs_17' 'BitBlt' 'CreateDirectoryA'\n",
      " 'SelectPalette' 'PeekMessageA' 'IsWindow' '__setusermatherr'\n",
      " 'SHGetPathFromIDListA' 'WindowFromPoint' '_CIexp' 'LoadBitmapA'\n",
      " 'GetLocalTime' 'GetWindowThreadProcessId' 'LeaveCriticalSection'\n",
      " 'UnhandledExceptionFilter' 'SetClassLongA' 'SetCapture' 'VariantCopy']\n"
     ]
    }
   ],
   "source": [
    "# get all useful features via decision tree classification\n",
    "print('The Number of Useful Features via Decision Tree Classification\\n',len(dtc_dataImSorted[dtc_featureImportance>0]))\n",
    "print('\\nAll Useful Features via Decision Tree Classification\\n', dtc_dataImSorted[dtc_featureImportance>0])"
   ]
  },
  {
   "cell_type": "code",
   "execution_count": 452,
   "metadata": {
    "collapsed": false
   },
   "outputs": [
    {
     "name": "stdout",
     "output_type": "stream",
     "text": [
      "The Number of Useful Features via Extra Trees Classification\n",
      " 1311\n",
      "\n",
      "All Useful Features via Extra Trees Classification\n",
      " ['GetTempPathW' 'GetClassLongA' '__vbaBoolVarNull' ..., '_onexit' 'Img86'\n",
      " 'IsValidCodePage']\n"
     ]
    }
   ],
   "source": [
    "# get all useful features via extra trees classification\n",
    "print('The Number of Useful Features via Extra Trees Classification\\n',len(etc_dataImSorted[etc_featureImportance>0]))\n",
    "print('\\nAll Useful Features via Extra Trees Classification\\n', etc_dataImSorted[etc_featureImportance>0])"
   ]
  },
  {
   "cell_type": "code",
   "execution_count": 453,
   "metadata": {
    "collapsed": false
   },
   "outputs": [
    {
     "name": "stdout",
     "output_type": "stream",
     "text": [
      "The Number of Useful Features via AdaBoost Classification\n",
      " 2\n",
      "\n",
      "All Useful Features via AdaBoost Classification\n",
      " ['TB_ae' 'LocalAlloc']\n"
     ]
    }
   ],
   "source": [
    "# get all useful features via AdaBoost classicaition\n",
    "print('The Number of Useful Features via AdaBoost Classification\\n',len(abc_dataImSorted[abc_featureImportance>0]))\n",
    "print('\\nAll Useful Features via AdaBoost Classification\\n', abc_dataImSorted[abc_featureImportance>0])"
   ]
  },
  {
   "cell_type": "markdown",
   "metadata": {},
   "source": [
    "### 7.6 All Useless Features"
   ]
  },
  {
   "cell_type": "code",
   "execution_count": 454,
   "metadata": {
    "collapsed": false
   },
   "outputs": [
    {
     "name": "stdout",
     "output_type": "stream",
     "text": [
      "The Number of Usefuless Features via Random Forest Classification\n",
      " 732\n",
      "\n",
      "All Useless Features via Random Forest Classification\n",
      " ['string_len_counts_72' 'SetUnhandledExceptionFilter' 'SetTextColor'\n",
      " 'GetFileAttributesA' 'RealizePalette' '_CIcos' 'PatBlt' 'GetPixel'\n",
      " 'GlobalHandle' 'SetWindowPos' 'GetDesktopWindow' '_adj_fdivr_m16i'\n",
      " 'GetPropA' 'RegEnumKeyA' '_adj_fdiv_m16i' '__vbaChkstk'\n",
      " 'GetTimeZoneInformation' '__vbaFreeVar' '__vbaHresultCheckObj'\n",
      " 'WindowFromPoint' 'RemovePropA' '__vbaStrMove' 'string_len_counts_63'\n",
      " '__vbaFreeVarList' '__vbaFreeStrList' '_adj_fptan' '_CItan'\n",
      " 'IsWindowEnabled' 'SetWindowTextA' 'ScreenToClient' 'GetDiskFreeSpaceA'\n",
      " 'GetClipBox' 'SetMenu' 'GetSystemDirectoryA' 'GlobalUnlock'\n",
      " 'GetSystemMenu' 'EVENT_SINK_AddRef' 'string_len_counts_93' 'TB_84' 'GetDC'\n",
      " 'TB_7d' 'string_len_counts_90' 'ImageList_Destroy' 'SetFileTime'\n",
      " 'PtInRect' 'VariantClear' 'InternetReadFile' 'MapWindowPoints' 'GetFocus'\n",
      " 'CreateSolidBrush' 'CloseClipboard' 'UnregisterClassA' 'RegisterClassExA'\n",
      " 'VariantChangeTypeEx' 'URLDownloadToFileA' 'OpenSCManagerA'\n",
      " 'GetKeyNameTextA' 'ImageList_GetBkColor' 'TB_53' 'string_len_counts_46'\n",
      " 'string_len_counts_42' 'string_len_counts_40' 'string_len_counts_39'\n",
      " 'string_len_counts_37' 'string_len_counts_35' 'TB_3c'\n",
      " 'string_len_counts_48' 'SetWinMetaFileBits' 'LoadStringW'\n",
      " 'GetEnhMetaFileBits' '__vbaI2I4' '__vbaAryLock' 'GetFileAttributesW'\n",
      " '__vbaFpI4' 'RegSetValueExW' 'GetLocaleInfoW' '__vbaVar2Vec'\n",
      " 'VirtualAllocEx' 'DeleteFileW' 'SendMessageW' 'PostThreadMessageA' 'fopen'\n",
      " 'RegCreateKeyA' 'OutputDebugStringA' 'strcmp' 'MessageBoxIndirectA'\n",
      " 'StartServiceA' 'PlayEnhMetaFile' 'SHGetMalloc' 'DeleteEnhMetaFile'\n",
      " 'SendDlgItemMessageA' '__vbaVarAdd' 'SetEnhMetaFileBits'\n",
      " '__vbaObjSetAddref' 'ImageList_DrawEx' 'GetComputerNameA'\n",
      " 'string_len_counts_53' 'EnableScrollBar' '__vbaOnError' 'GetStringTypeExA'\n",
      " 'CreateMenu' 'EnumThreadWindows' 'SetWindowOrgEx' 'GetDriveTypeA'\n",
      " 'WinHelpA' 'SetScrollPos' 'SHFileOperationA' 'string_len_counts_57'\n",
      " 'FrameRect' 'RegisterClipboardFormatA' '__vbaLenBstr' '__dllonexit' 'atoi'\n",
      " 'GetScrollPos' 'AppendMenuA' 'ExcludeClipRect' 'SetROP2' 'GetTextMetricsA'\n",
      " 'GetDCEx' 'ShowOwnedPopups' 'CreateDialogParamA' 'DestroyCursor'\n",
      " 'GetTextExtentPoint32A' 'string_len_counts_62' 'MoveToEx'\n",
      " 'string_len_counts_61' '__vbaNew2' 'DrawEdge' '__vbaStrCat' '__p__commode'\n",
      " '__vbaStrCopy' '__vbaFreeObj' 'IsZoomed' 'GetIconInfo'\n",
      " 'string_len_counts_58' 'CreatePalette' 'GetKeyboardState'\n",
      " 'string_len_counts_59' 'strstr' 'GetDlgItemTextA' '__vbaStrVarMove'\n",
      " 'DeleteMenu' 'LoadLibraryW' 'IsValidCodePage' 'CharPrevA' 'CharLowerA'\n",
      " 'DrawFrameControl' '??2@YAPAXI@Z' '__vbaStrToAnsi' 'ShowScrollBar'\n",
      " 'SendMessageTimeoutA' 'string_len_counts_55' '__vbaFileOpen'\n",
      " 'GetBitmapBits' '__vbaFileClose' 'GetPaletteEntries' 'ImageList_DragEnter'\n",
      " 'MessageBeep' 'TranslateMDISysAccel' 'ActivateKeyboardLayout' 'TB_5f'\n",
      " 'GetWindowOrgEx' 'CreateHalftonePalette' 'ImageList_EndDrag'\n",
      " 'ImageList_GetIconSize' 'GetCurrentPositionEx' 'SetDIBColorTable'\n",
      " '__vbaVarCat' 'ImageList_DragLeave' 'CloseServiceHandle'\n",
      " 'ImageList_SetBkColor' '__vbaObjSet' 'Process32Next' 'InsertMenuA'\n",
      " 'ImageList_Draw' 'MapVirtualKeyA' '__vbaErrorOverflow' 'OemToCharA'\n",
      " 'WaitMessage' 'InternetOpenUrlA' 'FileTimeToDosDateTime' 'RemoveMenu'\n",
      " 'SafeArrayCreate' '__vbaAryDestruct' 'SetScrollRange' 'GetScrollRange'\n",
      " 'IsDBCSLeadByte' '__vbaLsetFixstr' '__vbaAryVar' '__vbaExitProc'\n",
      " 'WSAStartup' 'LPSTR' 'wcslen' 'asm_commands_rcl' 'DispatchMessageW'\n",
      " 'TextOutA' 'GetClassLongA' 'PeekMessageW' 'lstrcmpW'\n",
      " 'SHGetSpecialFolderPathA' 'DrawFocusRect' '_strlwr' 'strncmp'\n",
      " 'LocalFileTimeToFileTime' 'System32' 'Img73' 'InternetConnectA' '.tls_por'\n",
      " 'ClosePrinter' 'ent_q_diff_diffs_min' 'ent_q_diff_block_3_20' 'TB_fd' 'ss'\n",
      " 'gs' 'ent_q_diffs_11' 'Img48.1' 'Img50.1' 'asm_commands_sidt' 'TB_d6'\n",
      " 'ent_q_diff_diffs_20' 'setb' 'ent_q_diff_block_2_20' 'TB_f2'\n",
      " 'ent_q_diff_block_3_14' 'setle' 'fstcw' 'asm_commands_wait'\n",
      " 'ent_q_diff_block_3_6' 'ent_q_diff_diffs_2' 'ent_q_diff_diffs_1' 'shld'\n",
      " 'ent_q_diff_block_3_3' 'misc1_hkey_current_user' 'misc1_hardware' 'TB_a5'\n",
      " 'INT_PTR' 'CurrentVersion' 'TB_a0' 'Software' 'fstcwimul'\n",
      " 'ent_q_diff_block_2_6' 'Img13' 'TB_97' 'ATOM' 'config' 'UINT_PTR'\n",
      " 'PCCTL_CONTEXT' 'misc_visualc' 'ent_p_diffs_1' 'misc_search'\n",
      " 'misc_scrollwindow' 'misc_microsoft' 'Img32' 'misc_installdir'\n",
      " 'INTERNET_STATUS_CALLBACK' 'asm_commands_rol' 'GetVersionExW' 'TB_ec'\n",
      " 'ent_q_diff_block_1_13' 'UnlockFile' 'GetTextExtentPointA'\n",
      " 'InternetGetConnectedState' 'string_len_counts_60_90' 'GetThreadContext'\n",
      " 'asm_commands_fchs' 'RegDeleteValueW' 'RegCloseKey' '__vbaVarIndexLoad'\n",
      " 'CreateProcessW' 'TranslateAcceleratorA' '__vbaStrFixstr' 'wsprintfW'\n",
      " 'ent_q_diff_block_0_12' 'ent_q_diff_block_0_11' 'fild' 'FreeSid' 'Escape'\n",
      " 'GetSaveFileNameA' 'string_len_counts_100_150' 'SetFileAttributesW'\n",
      " 'SetServiceStatus' 'keybd_event' 'string_len_counts_900_1300'\n",
      " 'asm_commands_fistp' 'LockFile' 'ent_q_diff_block_1_5'\n",
      " 'string_len_counts_600_900' '__vbaRecAnsiToUni' 'GetWindowTextW'\n",
      " 'string_len_counts_400_600' 'GdiFlush' 'CreatePipe' 'VerQueryValueW'\n",
      " 'GetTokenInformation' 'asm_commands_fdivr' 'dd' 'asm_commands_jno'\n",
      " 'asm_commands_fword' 'EnumSystemLocalesA' 'GetFileTitleA' '__vbaI4ErrVar'\n",
      " 'asm_commands_faddp' 'string_len_counts_1300_2000' 'Offset'\n",
      " 'StringFromCLSID' 'ent_q_diff_block_1_0' 'CLSIDFromProgID'\n",
      " 'GlobalMemoryStatus' 'lstrcmpiW' 'ent_q_diff_block_1_20' 'ControlService'\n",
      " 'SetWindowExtEx' 'Import' 'Img83' 'EnumChildWindows' 'IsValidLocale'\n",
      " 'RegQueryValueA' 'asm_commands_fxch' 'Img23.1' 'CreateServiceA' 'ptr'\n",
      " 'TB_fe' 'CreateDirectoryA' 'dd4' 'misc_case' 'GetConsoleMode'\n",
      " 'GetMenuItemCount' 'GetClassInfoA' 'SizeofResource' 'PostQuitMessage'\n",
      " 'HMENU' 'SystemTimeToFileTime' 'TB_88' 'TB_dd' 'Img68' 'TB_f7' 'WinExec'\n",
      " 'asm_commands_cwd' 'GetVersion' 'ent_q_diff_block_1_12' 'SetBrushOrgEx'\n",
      " 'SetFilePointer' 'GetLastError' 'ent_q_diff_block_2_16' 'TB_4c' 'Img45.1'\n",
      " 'TB_40' 'TranslateMessage' 'WPARAM' 'Img43.1' 'DrawIconEx' 'CopyRect'\n",
      " 'string_len_counts_25' '_adj_fdiv_m32i' 'GetParent' 'asm_commands_cmc'\n",
      " 'IsIconic' 'PeekMessageA' '_CIsin' 'ent_q_diff_block_2_7'\n",
      " 'ent_q_diff_block_0_2' 'GetDlgItem' 'Polyline' 'TB_a2' 'TB_ea'\n",
      " '__vbaBoolVarNull' 'RtlUnwind' 'strcpy' 'HLOCAL' 'ent_q_diff_diffs_median'\n",
      " 'TB_f9' 'Img26.1' 'GetCapture' 'SendMessageA' 'GetCurrentProcessId'\n",
      " 'asm_commands_add' 'GetEnvironmentStrings' 'ent_q_diff_block_1_7'\n",
      " 'ent_q_diff_block_2_4' 'section_names_.tls' 'InterlockedCompareExchange'\n",
      " 'GetConsoleOutputCP' 'TB_ad' 'SetEndOfFile' 'DeviceIoControl'\n",
      " 'LoadBitmapA' 'lstrcmpA' 'SetLastError' 'CreateIcon'\n",
      " 'ent_q_diff_block_2_17' 'FindWindowA' 'SetActiveWindow'\n",
      " 'ent_q_diff_block_0_0' 'CreateEventA' 'RegOpenKeyExA' 'FindResourceA'\n",
      " '__vbaAryConstruct2' 'TB_c6' 'SetCapture' 'closesocket' '??3@YAXPAX@Z'\n",
      " '_adj_fprem1' 'GetDIBits' 'DefWindowProcA' 'Img3' 'SetThreadPriority'\n",
      " 'WriteProcessMemory' 'Img54' 'malloc' 'RegisterClassA' 'FlushFileBuffers'\n",
      " 'Img25.1' 'Img65' 'Img34.1' 'TB_55' 'ent_q_diff_block_2_19' 'Img82'\n",
      " 'GetSystemInfo' 'Img105' 'Img84' 'GetClassNameA' 'Img38' 'TB_56' 'Img46'\n",
      " 'CharNextA' 'TB_12' 'ReleaseCapture' 'TB_11' 'asm_commands_sal'\n",
      " 'ent_q_diffs_3' 'ent_q_diff_block_1_18' 'lstrcatA' 'locret' 'TB_03'\n",
      " 'ent_q_diff_block_1_10' 'GetSysColor' 'GetExitCodeProcess' 'Img55'\n",
      " 'Img10.1' 'TB_57' 'TB_d1' 'ReadProcessMemory' 'RaiseException'\n",
      " 'string_len_counts_26' 'RegSetValueExA' 'Img18.1' 'ent_q_diffs_9' 'TB_43'\n",
      " 'ent_q_diff_block_2_3' 'TB_46' 'FreeResource' 'TB_63' 'ent_q_diff_diffs_6'\n",
      " 'VirtualQuery' 'Img22.1' 'ent_q_diffs_0' 'ent_q_diffs_8' 'memmove'\n",
      " 'GetScrollInfo' 'InitializeCriticalSectionAndSpinCount'\n",
      " 'string_len_counts_250_400' 'TB_09' 'ent_q_diff_block_0_8' 'fclose'\n",
      " 'EnterCriticalSection' 'ReadFile' 'DllFunctionCall' 'regs_ebp'\n",
      " 'ent_q_diff_block_3_19' 'ent_q_diff_block_3_15' 'neg' 'GetStartupInfoW'\n",
      " '_adj_fdivr_m32i' 'LockResource' '_CIsqrt' 'TB_c7' 'GetStdHandle'\n",
      " 'ent_q_diff_block_1_3' 'GetTempPathA' 'ent_q_diff_block_0_10' 'Img64'\n",
      " 'TB_8d' 'Img56' 'ent_p_diffs_17' 'CLSIDFromString' 'connect'\n",
      " 'string_len_counts_36' 'TB_b4' 'TB_10' 'HeapSize' 'fdivp' 'FindFirstFileW'\n",
      " 'ent_q_diff_diffs_11' 'LoadCursorW' 'asm_commands_stc'\n",
      " 'ent_q_diff_block_0_4' 'HeapCreate' 'InterlockedDecrement' 'TB_e9'\n",
      " 'ent_p_3' 'TB_c0' 'Img15' 'Img39.1' '_adj_fdivr_m32'\n",
      " 'ent_q_diff_block_0_14' '_onexit' 'ent_q_diff_block_0_7' 'TB_0a'\n",
      " 'ent_q_diff_block_1_14' 'ent_q_diff_block_0_15' 'ent_q_diff_diffs_18'\n",
      " '_adjust_fdiv' 'EnableMenuItem' 'TB_d5' 'GetClientRect' 'RegOpenKeyA'\n",
      " 'TB_37' 'TB_69' 'TB_51' 'TB_4e' 'regs_dl' 'asm_commands_not' 'Img2.1'\n",
      " 'string_len_counts_19' 'string_len_counts_51' 'SetEnvironmentVariableA'\n",
      " 'ent_q_diff_block_3_4' 'TB_25' 'TB_1e' 'TB_1b' 'TB_0d' '_CIlog'\n",
      " 'asm_commands_ror' 'Img18' 'VariantCopy' 'GetFileType'\n",
      " 'WideCharToMultiByte' 'IsBadReadPtr' 'string_len_counts_41'\n",
      " 'GetKeyboardLayout' 'strrchr' 'TB_e3' 'TB_67' 'regs_eax' 'TB_72' 'TB_75'\n",
      " 'FindNextFileA' 'ReleaseMutex' 'string_len_counts_34' 'TB_78' 'TB_2c'\n",
      " 'GetConsoleCP' 'TB_28' 'TB_7c' 'Question' 'string_len_counts_33' 'al'\n",
      " 'TB_4d' 'Img47.1' 'wsprintfA' 'SHGetSpecialFolderLocation' 'TB_c3' 'TB_3f'\n",
      " 'RegFlushKey' 'asm_commands_out' 'TB_a4' 'CreateToolhelp32Snapshot'\n",
      " 'CompareStringA' 'ent_p_17' 'string_len_counts_21' 'Img37.1'\n",
      " 'asm_commands_ret' 'ImageList_SetDragCursorImage' 'AtSign'\n",
      " 'asm_commands_jo' 'Img46.1' 'InitCommonControlsEx' 'TB_fa' 'TB_e6'\n",
      " 'ent_q_diff_diffs_2_var' 'entry' 'Img70' 'TB_c1' 'dd4_all' 'Img87' 'TB_bd'\n",
      " 'ent_q_diff_diffs_2_min' 'ent_q_diff_diffs_17' 'TB_cc' 'TB_bc' 'TB_3b'\n",
      " 'TB_44' 'TB_64' 'TB_6f' 'Img44.1' 'TB_b6' 'TB_1c' 'Plus' 'Img75'\n",
      " 'SetWindowLongA' 'GlobalLock' 'lstrcmpiA' 'db0_por' 'ent_p_15' 'TB_da'\n",
      " 'inet_addr' 'near' 'db3_NdNt' 'GetStockObject' 'Img6'\n",
      " 'string_len_counts_75' 'asm_commands_in' 'Img28' 'TB_22' 'TB_2d'\n",
      " 'EnumCalendarInfoA' 'ent_q_diff_diffs_5' 'rand' 'int.1' 'Img57' 'lstrlenA'\n",
      " 'WriteConsoleA' 'Img92' 'ent_q_diff_block_3_12' 'asm_commands_std'\n",
      " 'ent_q_diff_diffs_3_var' '.reloc_por' 'HMODULE' 'TB_32' 'dll'\n",
      " 'ent_q_diffs_12' 'dd6_all' 'ent_q_diff_block_2_0' 'TB_a9' 'Img7.1' 'Img66'\n",
      " 'Img6.1' 'VariantInit' 'regs_ebx' 'Entropy' 'Img21.1' 'Img29.1' 'HANDLE'\n",
      " 'ent_q_diff_block_3_5' 'Img48' 'TB_95' 'Img15.1' 'Img51' 'regs_ecx' 'Img0'\n",
      " 'short' 'HDC' 'stdcall' 'TB_36' 'CharToOemA' 'ent_q_diff_block_2_14'\n",
      " 'TB_ff' 'TB_d7' 'asm_commands_mov' 'ent_q_diff_block_0_19' '_cexit'\n",
      " 'misc1_sp-analysisfailed' 'ent_q_diffs_20' 'Img33' 'asm_commands_mul'\n",
      " 'Img63' 'Img2' 'string_ratio' 'ent_p_diffs_19' 'db3_data' 'Img39'\n",
      " 'CreateCompatibleDC' 'regs_ch' 'asm_commands_fdiv' 'dd5_all'\n",
      " 'GetModuleHandleA' 'TB_1f' 'string_len_counts_7' '__IMPORT_'\n",
      " 'asm_commands_call' 'TB_f6' 'SetHandleCount' 'TB_2b' 'TB_0c'\n",
      " 'asm_commands_cmp' 'ExitProcess' 'ent_q_diff_diffs_1_mean'\n",
      " 'ent_q_diffs_max-min' 'asm_commands_daa' 'ent_p_12' 'string_len_counts_4'\n",
      " 'ent_q_diff_block_3_18' 'asm_commands_dd' 'TB_73' 'ent_q_diff_diffs_12'\n",
      " 'LONG' 'large' 'TB_47' 'Imports' 'Img10' 'ent_q_diff_diffs_1_min'\n",
      " 'string_len_counts_6' 'asm_commands_test' 'TB_ce' 'proc'\n",
      " 'ent_q_diff_diffs_0_max' 'strchr' 'BYTES' 'cookie' 'Img25' 'Img107'\n",
      " 'Img27' 'TB_6a' '_except_handler3' 'ent_p_19' 'Img26' 'var' 'dd4_NdNt'\n",
      " 'ent_p_1' 'TB_e4' '.data_por' 'ent_p_5' 'Img74' 'string_len_counts_10_30'\n",
      " 'COLLAPSED' 'asm_commands_lea' 'asm_commands_stos' 'TB_00'\n",
      " 'FreeEnvironmentStringsW' 'arg' 'LCMapStringA' 'TB_7e']\n"
     ]
    }
   ],
   "source": [
    "# get all useless features via random forest classification\n",
    "print('The Number of Usefuless Features via Random Forest Classification\\n',len(rfc_dataImSorted[rfc_featureImportance==0]))\n",
    "print('\\nAll Useless Features via Random Forest Classification\\n', rfc_dataImSorted[rfc_featureImportance==0])"
   ]
  },
  {
   "cell_type": "code",
   "execution_count": 455,
   "metadata": {
    "collapsed": false
   },
   "outputs": [
    {
     "name": "stdout",
     "output_type": "stream",
     "text": [
      "The Number of Usefuless Features via Decision Tree Classification\n",
      " 1750\n",
      "\n",
      "All Useless Features via Decision Tree Classification\n",
      " ['Virtual' 'TB_4d' 'TB_4c' ..., 'dc_por' 'ent_q_diff_diffs_1_median'\n",
      " 'section_names_header']\n"
     ]
    }
   ],
   "source": [
    "# get all useless features via decision tree classification\n",
    "print('The Number of Usefuless Features via Decision Tree Classification\\n',len(dtc_dataImSorted[dtc_featureImportance==0]))\n",
    "print('\\nAll Useless Features via Decision Tree Classification\\n', dtc_dataImSorted[dtc_featureImportance==0])"
   ]
  },
  {
   "cell_type": "code",
   "execution_count": 456,
   "metadata": {
    "collapsed": false
   },
   "outputs": [
    {
     "name": "stdout",
     "output_type": "stream",
     "text": [
      "The Number of Usefuless Features via Extra Trees Classification\n",
      " 493\n",
      "\n",
      "All Useless Features via Extra Trees Classification\n",
      " ['htons' '__vbaAryVar' 'SetWindowExtEx' '__vbaStrVarCopy' 'CreateWindowExW'\n",
      " 'Netbios' 'TranslateMDISysAccel' 'SetEnhMetaFileBits' 'GetEnhMetaFileBits'\n",
      " 'SetWinMetaFileBits' 'memset' 'lstrlenW' '__vbaVarAdd' '__vbaVarCopy'\n",
      " 'CreatePopupMenu' '__vbaAryCopy' 'CreateDCA' 'ExitThread' '__vbaVarTstEq'\n",
      " '.edata_por' '__vbaFileOpen' 'ImageList_Destroy' 'GetCurrentPositionEx'\n",
      " 'MaskBlt' 'GetSystemMenu' 'SetParent' 'RegisterWindowMessageA'\n",
      " 'CreateSolidBrush' 'WriteConsoleA' 'EqualRect' 'TB_c2' 'TB_da'\n",
      " 'ent_q_diff_diffs_1' 'TB_e6' 'MapViewOfFile' 'MapVirtualKeyA' '_CIexp'\n",
      " 'LoadImageA' 'asm_commands_cwd' 'Img98' 'DeleteMenu' 'locret'\n",
      " 'string_len_counts_87' 'asm_commands_wait' 'RegisterClipboardFormatA'\n",
      " '__vbaOnError' 'CreateMenu' 'EnumThreadWindows' 'SetWindowOrgEx' 'setle'\n",
      " 'SetScrollPos' 'SHFileOperationA' 'LONG' 'SetPixel' 'FrameRect' 'Img105'\n",
      " 'string_len_counts_9' '__vbaVarDup' 'string_len_counts_85' 'strstr'\n",
      " 'asm_commands_out' 'MoveToEx' 'string_len_counts_95' 'GetDCEx' 'DrawEdge'\n",
      " 'asm_commands_fchs' 'entry' '__vbaStrCat' '__p__commode'\n",
      " 'asm_commands_fdivr' 'asm_commands_fistp' 'SetStretchBltMode'\n",
      " 'asm_commands_inc' 'CharLowerA' 'LPWSTR' 'RegOpenKeyA' 'BASS'\n",
      " 'SetScrollRange' 'ImageList_DragLeave' 'GetSystemInfo'\n",
      " 'string_len_counts_67' 'InsertMenuA' 'ImageList_Draw' 'TB_64'\n",
      " 'string_len_counts_64' 'string_len_counts_63' 'ent_q_diff_block_2_12'\n",
      " 'BeginPaint' 'string_len_counts_50' 'CreateFileMappingA' 'IsWindowVisible'\n",
      " 'SetThreadLocale' 'CreateIcon' 'string_len_counts_61'\n",
      " 'string_len_counts_60_90' 'GetMenuItemInfoA' 'GetSysColor'\n",
      " 'string_len_counts_68' 'string_len_counts_900_1300' 'TB_53'\n",
      " 'string_len_counts_3000_6000' 'string_len_counts_75' 'RealizePalette'\n",
      " 'string_len_counts_74' 'Img22.1' 'GetPixel' 'SetPropA'\n",
      " 'ent_q_diff_block_3_16' 'string_len_counts_71' 'WriteProcessMemory'\n",
      " 'string_len_counts_70' 'GlobalHandle' 'IsWindow' 'RegCreateKeyExA'\n",
      " 'string_len_counts_83' 'InterlockedExchange' 'GetStringTypeW'\n",
      " 'ent_q_diff_block_1_1' 'ent_q_diff_block_0_10' 'GetWindowTextA'\n",
      " 'string_len_counts_58' 'SHGetPathFromIDListA' 'EnableScrollBar' 'Img56'\n",
      " 'GlobalLock' 'OutputDebugStringA' 'EnableWindow' 'SetWindowPos'\n",
      " 'lstrcmpiW' 'exe' 'WaitForMultipleObjects' 'neg' 'SendMessageW'\n",
      " 'string_len_counts_47' 'ent_q_diff_block_1_3' 'GetFileAttributesW'\n",
      " 'string_len_counts_24' '_adj_fdiv_m32' 'TB_00' 'TranslateMessage' 'es'\n",
      " 'GetLocaleInfoW' 'misc_installdir' 'string_len_counts_49'\n",
      " 'GetCurrentDirectoryA' 'RegQueryValueExW' 'GetFileVersionInfoA'\n",
      " 'string_len_counts_92' 'GetMenuItemCount' 'RegOpenKeyExA' 'GetScrollPos'\n",
      " 'asm_commands_sar' 'regs_cl' 'Img57' 'ent_p_diffs_18' 'SetViewportOrgEx'\n",
      " 'CurrentVersion' 'TB_88' 'CreateFileW' 'CreateDirectoryA'\n",
      " 'SetMenuItemInfoA' 'InflateRect' 'ClientToScreen' 'string_len_counts_53'\n",
      " 'byte' '__vbaRedim' '_adj_fprem' 'send' 'CompareFileTime' 'DeleteService'\n",
      " 'asm_commands_fstp' 'RemoveMenu' 'Rectangle' '__vbaVarIndexLoad'\n",
      " 'ImageList_DragMove' 'misc1_assume' 'ent_q_diff_block_1_7'\n",
      " 'ShowOwnedPopups' 'string_len_counts_48' 'SetWindowTextW' 'shld'\n",
      " '__CxxFrameHandler' 'CreateFontIndirectA' 'Img0.1' 'jge' 'TB_65' 'TB_db'\n",
      " 'TB_90' 'OleUninitialize' 'ent_q_diff_block_2_7' 'SetViewportExtEx'\n",
      " 'ent_q_diff_block_1_12' 'TB_91' 'TB_29' 'PostMessageW'\n",
      " 'GetWindowThreadProcessId' 'TB_70' 'CloseServiceHandle' 'asm_commands_jnb'\n",
      " 'DeleteCriticalSection' 'ReadProcessMemory' 'asm_commands_jno' 'TB_6e'\n",
      " 'TB_73' 'INT_PTR' 'GetStringTypeExA' 'regs_dx'\n",
      " 'WritePrivateProfileStringA' 'TB_a3' 'SetForegroundWindow' 'ent_q_diffs_8'\n",
      " 'ent_q_diff_block_0_16' 'RegDeleteKeyA' 'Plus' 'TB_52' 'GetStartupInfoW'\n",
      " 'TB_e8' 'InitCommonControlsEx' 'ent_q_diff_block_1_13' '__vbaLenBstr'\n",
      " 'TB_43' 'asm_commands_je' 'ent_q_diff_block_1_18' 'Sleep'\n",
      " 'string_len_counts_23' 'fstcw' 'ent_q_diff_block_1_14' 'GetFullPathNameA'\n",
      " 'string_len_counts_57' 'TB_07' 'CheckMenuItem' 'OpenClipboard' 'TB_75'\n",
      " 'TB_83' 'asm_commands_push' 'IsZoomed' 'ent_q_diffs_5' '.tls_por'\n",
      " 'lstrcatA' 'string_len_counts_1300_2000' 'asm_commands_cmc' 'ShowWindow'\n",
      " 'TB_4d' 'CreateToolhelp32Snapshot' 'string_len_counts_54'\n",
      " 'GetEnvironmentVariableA' '__vbaFreeStr' 'TlsFree' 'ent_q_diff_block_2_11'\n",
      " 'Img89' 'ent_q_diff_block_2_10' 'IsDialogMessageA' 'TB_57' '_CIcos'\n",
      " 'ent_q_diff_block_2_1' 'ent_q_diff_block_3_20' 'asm_commands_rep'\n",
      " 'GetFileType' 'string_len_counts_32' 'string_len_counts_46'\n",
      " 'asm_commands_cli' 'TB_76' 'RegQueryInfoKeyA' 'Img85' 'GlobalMemoryStatus'\n",
      " 'Img23.1' 'Img8.1' 'string_len_counts_400_600' 'ent_q_diff_block_3_7'\n",
      " 'Img61' 'ent_q_diffs_13' 'WPARAM' '_adj_fpatan' 'FreeLibrary' 'TB_48'\n",
      " 'TB_0c' 'ent_q_diff_block_0_0' 'TB_0a' '_stricmp' 'TB_c1' 'TB_8f' 'TB_7c'\n",
      " 'strcat' 'TB_f7' 'DialogBoxParamA' 'TB_f9' 'ent_q_diff_diffs_3_mean'\n",
      " 'WSAStartup' 'GetCursor' 'SetRect' 'string_len_counts_31'\n",
      " 'string_len_counts_34' 'TB_fe' 'string_len_counts_33' 'asm_commands_fxch'\n",
      " 'ent_q_diffs_6' 'TB_39' 'LoadCursorA' 'TB_8c' 'asm_commands_jg'\n",
      " 'CharNextA' 'TB_2b' 'wcslen' 'CreateServiceA' 'ent_p_diffs_12'\n",
      " 'ent_q_diff_block_0_9' 'LocalAlloc' 'SelectObject' 'GetCurrentThread'\n",
      " 'FindResourceA' 'string_len_counts_80' 'TB_22' 'CoTaskMemFree'\n",
      " 'string_len_counts_66' 'PostQuitMessage' 'SafeArrayCreate' 'Img20.1'\n",
      " 'ent_q_diff_block_0_3' 'TB_b5' 'ent_q_diff_block_1_16'\n",
      " 'UnhookWindowsHookEx' 'Img11.1' 'gs' 'string_len_counts_30_60' 'fdivp'\n",
      " 'void' 'TB_dc' 'db_text' 'IsBadReadPtr' 'GetMenu' 'TB_fd' 'TB_71' 'XREF'\n",
      " 'Img76' 'TB_d3' 'string_len_counts_20' 'SetFileAttributesA' 'Software'\n",
      " 'ent_q_diff_diffs_0' 'CompareStringA' 'ent_p_0' 'TB_e3'\n",
      " 'ent_q_diff_diffs_max-min' 'Img45.1' 'GlobalFree' 'TB_36' 'TB_28' 'TB_d8'\n",
      " 'ent_q_diffs_4' 'TB_cc' 'TB_11' 'GetMessageTime'\n",
      " 'ent_q_diff_diffs_0_max-min' 'InternetCloseHandle' 'System32'\n",
      " 'ent_q_diff_block_3_13' 'TB_7d' 'SelectPalette' 'LoadIconA'\n",
      " 'ent_q_diffs_9' 'align' 'asm_commands_jz' 'GetCommandLineA' 'GlobalAlloc'\n",
      " 'movzx' 'TB_2f' 'nullsub' 'TB_cd' 'MoveWindow' 'Img27.1'\n",
      " 'ent_q_diff_diffs_8' 'Img74' 'string_len_counts_13' 'asm_commands_shl'\n",
      " 'TB_5d' 'Img37.1' 'FreeEnvironmentStringsA' 'ent_q_diff_block_2_2' 'const'\n",
      " 'HWND' 'setz' 'TB_3d' 'DispatchMessageW' 'GetCommandLineW'\n",
      " 'asm_commands_jo' 'ent_p_diffs_11' 'TB_6a' 'TB_d4' 'Img77'\n",
      " 'GetLocaleInfoA' 'imul' 'string_len_counts_11' 'TB_15' 'RaiseException'\n",
      " 'ent_p_diffs_3' 'TB_03' 'SendMessageA' 'dw_por' 'ent_q_diff_block_0_7'\n",
      " 'string_len_counts_56' 'ent_q_diff_block_2_3' 'TB_9b' 'TB_cb' 'Img94'\n",
      " 'TB_0d' 'ent_q_diff_block_2_0' 'SetLastError' 'asm_commands_jb'\n",
      " 'QueryPerformanceCounter' 'TB_ca' 'TB_32' 'regs_cx' 'Img16.1'\n",
      " 'LoadLibraryExA' 'TB_a7' 'TB_99' 'LookupPrivilegeValueA' 'Img4.1' 'TB_02'\n",
      " 'GetThreadLocale' 'TB_fb' 'word' 'fwrite' 'Img13.1' 'TB_86'\n",
      " 'SetUnhandledExceptionFilter' 'WriteFile' '_adj_fdivr_m32i' 'TB_fa'\n",
      " 'TB_e7' 'ent_q_diff_diffs_3_min' '.text:' 'stdcall' 'TB_37' 'TB_12'\n",
      " 'ent_q_diff_diffs_1_var' 'VirtualFree' 'GlobalAddAtomA' 'TB_61'\n",
      " 'asm_commands_xor' 'Star' 'ent_q_diff_diffs_9' 'asm_commands_xchg'\n",
      " 'section_names_.idata' 'TB_ad' 'Img53' 'TB_bb' 'loc' 'CreateProcessW'\n",
      " '_adjust_fdiv' 'TB_77' 'TB_35' 'Img32' 'ent_q_diffs_14' 'Dash' 'Img2.1'\n",
      " 'dd_por' 'TB_80' 'ent_q_diffs_mean' 'dd5' 'regs_ah' 'RegCloseKey'\n",
      " 'GetKeyboardType' 'al' 'TB_f6' 'ent_q_diff_diffs_2' 'GetLastActivePopup'\n",
      " 'regs_ch' 'Img10' 'TB_5f' 'TB_66' 'regs_al' 'db0_por' 'Img22'\n",
      " 'ent_q_diff_block_3_15' 'regs_bh' 'proc' 'IsValidLocale' 'Img60' 'Img42.1'\n",
      " '_initterm' 'IsDBCSLeadByte' 'Img49.1' 'Img6' 'GetConsoleMode' 'TB_eb'\n",
      " 'SetHandleCount' 'TB_ce' 'ent_q_diff_diffs_2_var' 'Img82' '__p__fmode'\n",
      " 'Img47' 'Img48']\n"
     ]
    }
   ],
   "source": [
    "# get all useless features via extra trees classification\n",
    "print('The Number of Usefuless Features via Extra Trees Classification\\n',len(etc_dataImSorted[etc_featureImportance==0]))\n",
    "print('\\nAll Useless Features via Extra Trees Classification\\n', etc_dataImSorted[etc_featureImportance==0])"
   ]
  },
  {
   "cell_type": "code",
   "execution_count": 457,
   "metadata": {
    "collapsed": false
   },
   "outputs": [
    {
     "name": "stdout",
     "output_type": "stream",
     "text": [
      "The Number of Usefuless Features via AdaBoost Classification\n",
      " 1802\n",
      "\n",
      "All Useless Features via AdaBoost Classification\n",
      " ['Virtual' 'TB_5b' 'TB_5a' ..., 'Img107' 'Img37'\n",
      " 'ent_q_diff_diffs_1_median']\n"
     ]
    }
   ],
   "source": [
    "# get all useless features via AdaBoost classification\n",
    "print('The Number of Usefuless Features via AdaBoost Classification\\n',len(abc_dataImSorted[abc_featureImportance==0]))\n",
    "print('\\nAll Useless Features via AdaBoost Classification\\n', abc_dataImSorted[abc_featureImportance==0])"
   ]
  },
  {
   "cell_type": "markdown",
   "metadata": {},
   "source": [
    "# Part III. Model Comparison"
   ]
  },
  {
   "cell_type": "markdown",
   "metadata": {},
   "source": [
    "## 1. Accuracy Comparison"
   ]
  },
  {
   "cell_type": "code",
   "execution_count": 465,
   "metadata": {
    "collapsed": false,
    "scrolled": true
   },
   "outputs": [
    {
     "data": {
      "image/png": "[encoded data removed]",
      "text/plain": [
       "<matplotlib.figure.Figure at 0x161a2cef0>"
      ]
     },
     "metadata": {},
     "output_type": "display_data"
    }
   ],
   "source": [
    "# accuracy statistic analysis and comparison of each classification method\n",
    "plt.rcParams[\"figure.figsize\"] = (10,5)\n",
    "all_scores = np.vstack((rfc_scores, dtc_scores, etc_scores, abc_scores))\n",
    "plt.boxplot(all_scores.T)\n",
    "plt.title('Accuracy Comparison among These Classification Models')\n",
    "plt.xlabel('Classification Model')\n",
    "plt.ylabel('Accuracy')\n",
    "plt.xticks(np.arange(4)+1,['RFC','DTC','ETC','ABC'])\n",
    "plt.grid(True)\n",
    "plt.show()"
   ]
  },
  {
   "cell_type": "markdown",
   "metadata": {},
   "source": [
    "Due the accuracy value of AdaBoost classification, this figure cannot display very well. Hence, we pop the AdaBoost classidication result and re-draw again the accuracy comparison among last four classification methods."
   ]
  },
  {
   "cell_type": "code",
   "execution_count": 464,
   "metadata": {
    "collapsed": false,
    "scrolled": true
   },
   "outputs": [
    {
     "data": {
      "image/png": "[encoded data removed]",
      "text/plain": [
       "<matplotlib.figure.Figure at 0x185d16320>"
      ]
     },
     "metadata": {},
     "output_type": "display_data"
    }
   ],
   "source": [
    "# accuracy statistic analysis and comparison of each classification method\n",
    "all_scores = np.vstack((rfc_scores, dtc_scores, etc_scores))\n",
    "plt.boxplot(all_scores.T)\n",
    "plt.title('Accuracy Comparison among These Classification Models')\n",
    "plt.xlabel('Classification Model')\n",
    "plt.ylabel('Accuracy')\n",
    "plt.xticks(np.arange(3)+1,['RFC','DTC','ETC'])\n",
    "plt.grid(True)\n",
    "plt.show()"
   ]
  },
  {
   "cell_type": "markdown",
   "metadata": {},
   "source": [
    "## 2. Important Features Comparison"
   ]
  },
  {
   "cell_type": "code",
   "execution_count": 501,
   "metadata": {
    "collapsed": false,
    "scrolled": true
   },
   "outputs": [],
   "source": [
    "# extract the top10 features from different classifiers\n",
    "top10_rfc = rfc_dataImSorted[-10:len(rfc_dataImSorted)]\n",
    "top10_dtc = dtc_dataImSorted[-10:len(dtc_dataImSorted)]\n",
    "top10_etc = etc_dataImSorted[-10:len(etc_dataImSorted)]\n",
    "top10_abc = abc_dataImSorted[-10:len(abc_dataImSorted)]"
   ]
  },
  {
   "cell_type": "code",
   "execution_count": 533,
   "metadata": {
    "collapsed": false,
    "scrolled": false
   },
   "outputs": [
    {
     "name": "stdout",
     "output_type": "stream",
     "text": [
      "All Top 10 Features from Different Classifiers:\n",
      " ['string_len_counts_150_250' 'TB_f5' 'TB_b1' 'TB_e5'\n",
      " 'ent_q_diff_diffs_2_median' 'strncpy' '_exit' 'HeapAlloc' 'TB_99' 'Img0.1'\n",
      " 'asm_commands_in' 'VirtualAlloc' 'TB_d5' '.rsrc_por' 'ent_p_19' 'Offset.1'\n",
      " 'Img50' 'dc_por' 'ent_q_diff_diffs_1_median' 'section_names_header'\n",
      " 'Img47' 'ent_q_diff_diffs_2_median' 'Img28' 'ent_p_7' 'GetStringTypeA'\n",
      " 'GetIconInfo' '_onexit' 'Img48' 'Img86' 'IsValidCodePage'\n",
      " 'SetWindowsHookExA' 'EnumWindows' 'CreateBrushIndirect' 'IsIconic'\n",
      " 'GetFileVersionInfoSizeA' 'MoveFileA' 'FileTimeToLocalFileTime' 'Img107'\n",
      " 'Img37' 'ent_q_diff_diffs_1_median']\n",
      "\n",
      "\n",
      "Unique the Features and Theirs Counts\n",
      "\n"
     ]
    },
    {
     "data": {
      "text/html": [
       "<div>\n",
       "<table border=\"1\" class=\"dataframe\">\n",
       "  <thead>\n",
       "    <tr style=\"text-align: right;\">\n",
       "      <th></th>\n",
       "      <th>.rsrc_por</th>\n",
       "      <th>CreateBrushIndirect</th>\n",
       "      <th>EnumWindows</th>\n",
       "      <th>FileTimeToLocalFileTime</th>\n",
       "      <th>GetFileVersionInfoSizeA</th>\n",
       "      <th>GetIconInfo</th>\n",
       "      <th>GetStringTypeA</th>\n",
       "      <th>HeapAlloc</th>\n",
       "      <th>Img0.1</th>\n",
       "      <th>Img107</th>\n",
       "      <th>...</th>\n",
       "      <th>_onexit</th>\n",
       "      <th>asm_commands_in</th>\n",
       "      <th>dc_por</th>\n",
       "      <th>ent_p_19</th>\n",
       "      <th>ent_p_7</th>\n",
       "      <th>ent_q_diff_diffs_1_median</th>\n",
       "      <th>ent_q_diff_diffs_2_median</th>\n",
       "      <th>section_names_header</th>\n",
       "      <th>string_len_counts_150_250</th>\n",
       "      <th>strncpy</th>\n",
       "    </tr>\n",
       "  </thead>\n",
       "  <tbody>\n",
       "    <tr>\n",
       "      <th>counts</th>\n",
       "      <td>1</td>\n",
       "      <td>1</td>\n",
       "      <td>1</td>\n",
       "      <td>1</td>\n",
       "      <td>1</td>\n",
       "      <td>1</td>\n",
       "      <td>1</td>\n",
       "      <td>1</td>\n",
       "      <td>1</td>\n",
       "      <td>1</td>\n",
       "      <td>...</td>\n",
       "      <td>1</td>\n",
       "      <td>1</td>\n",
       "      <td>1</td>\n",
       "      <td>1</td>\n",
       "      <td>1</td>\n",
       "      <td>2</td>\n",
       "      <td>2</td>\n",
       "      <td>1</td>\n",
       "      <td>1</td>\n",
       "      <td>1</td>\n",
       "    </tr>\n",
       "  </tbody>\n",
       "</table>\n",
       "<p>1 rows × 38 columns</p>\n",
       "</div>"
      ],
      "text/plain": [
       "        .rsrc_por  CreateBrushIndirect  EnumWindows  FileTimeToLocalFileTime  \\\n",
       "counts          1                    1            1                        1   \n",
       "\n",
       "        GetFileVersionInfoSizeA  GetIconInfo  GetStringTypeA  HeapAlloc  \\\n",
       "counts                        1            1               1          1   \n",
       "\n",
       "        Img0.1  Img107   ...     _onexit  asm_commands_in  dc_por  ent_p_19  \\\n",
       "counts       1       1   ...           1                1       1         1   \n",
       "\n",
       "        ent_p_7  ent_q_diff_diffs_1_median  ent_q_diff_diffs_2_median  \\\n",
       "counts        1                          2                          2   \n",
       "\n",
       "        section_names_header  string_len_counts_150_250  strncpy  \n",
       "counts                     1                          1        1  \n",
       "\n",
       "[1 rows x 38 columns]"
      ]
     },
     "execution_count": 533,
     "metadata": {},
     "output_type": "execute_result"
    }
   ],
   "source": [
    "# concatenate all top 10 features\n",
    "top10 = np.concatenate((top10_rfc, top10_dtc, top10_etc, top10_abc), axis=0)\n",
    "print('All Top 10 Features from Different Classifiers:\\n',top10)\n",
    "\n",
    "# unique the features and count the appearances of features\n",
    "uni, count = np.unique(top10, return_counts=True)\n",
    "uniFeatures = pd.DataFrame(count, index=uni, columns=['counts'])\n",
    "\n",
    "print('\\n\\nUnique the Features and Theirs Counts\\n')\n",
    "uniFeatures.T.head()"
   ]
  },
  {
   "cell_type": "code",
   "execution_count": 520,
   "metadata": {
    "collapsed": false
   },
   "outputs": [
    {
     "data": {
      "image/png": "[encoded data removed]",
      "text/plain": [
       "<matplotlib.figure.Figure at 0x1165622b0>"
      ]
     },
     "metadata": {},
     "output_type": "display_data"
    }
   ],
   "source": [
    "plt.bar(np.arange(uniFeatures.shape[0])*2,uniFeatures.counts, color='skyblue')\n",
    "plt.title('Top 10 Features from RFC, DTC and ETC')\n",
    "plt.xlabel('Features')\n",
    "plt.ylabel('Appearance time')\n",
    "plt.xticks(np.arange(uniFeatures.shape[0])*2,uniFeatures.index,rotation=90)\n",
    "plt.grid(True)\n",
    "plt.show()"
   ]
  },
  {
   "cell_type": "markdown",
   "metadata": {},
   "source": [
    "# Part IV. Model Validation"
   ]
  },
  {
   "cell_type": "markdown",
   "metadata": {},
   "source": [
    "## 1. Apply SVM to Evaluate the Features\n",
    "### 1.1 Import Packages"
   ]
  },
  {
   "cell_type": "code",
   "execution_count": 526,
   "metadata": {
    "collapsed": true
   },
   "outputs": [],
   "source": [
    "from sklearn.svm import SVC"
   ]
  },
  {
   "cell_type": "markdown",
   "metadata": {},
   "source": [
    "### 1.2 Selected Features from Different Classifiers"
   ]
  },
  {
   "cell_type": "code",
   "execution_count": 534,
   "metadata": {
    "collapsed": false,
    "scrolled": false
   },
   "outputs": [
    {
     "data": {
      "text/html": [
       "<div>\n",
       "<table border=\"1\" class=\"dataframe\">\n",
       "  <thead>\n",
       "    <tr style=\"text-align: right;\">\n",
       "      <th></th>\n",
       "      <th>string_len_counts_150_250</th>\n",
       "      <th>TB_f5</th>\n",
       "      <th>TB_b1</th>\n",
       "      <th>TB_e5</th>\n",
       "      <th>ent_q_diff_diffs_2_median</th>\n",
       "      <th>strncpy</th>\n",
       "      <th>_exit</th>\n",
       "      <th>HeapAlloc</th>\n",
       "      <th>TB_99</th>\n",
       "      <th>Img0.1</th>\n",
       "    </tr>\n",
       "  </thead>\n",
       "  <tbody>\n",
       "    <tr>\n",
       "      <th>0</th>\n",
       "      <td>2.0</td>\n",
       "      <td>265</td>\n",
       "      <td>542</td>\n",
       "      <td>353</td>\n",
       "      <td>3.266095</td>\n",
       "      <td>1</td>\n",
       "      <td>8</td>\n",
       "      <td>6</td>\n",
       "      <td>632</td>\n",
       "      <td>195766.0</td>\n",
       "    </tr>\n",
       "    <tr>\n",
       "      <th>1</th>\n",
       "      <td>0.0</td>\n",
       "      <td>345</td>\n",
       "      <td>231</td>\n",
       "      <td>250</td>\n",
       "      <td>3.190804</td>\n",
       "      <td>0</td>\n",
       "      <td>2</td>\n",
       "      <td>0</td>\n",
       "      <td>260</td>\n",
       "      <td>14812.0</td>\n",
       "    </tr>\n",
       "    <tr>\n",
       "      <th>2</th>\n",
       "      <td>0.0</td>\n",
       "      <td>3233</td>\n",
       "      <td>2705</td>\n",
       "      <td>3179</td>\n",
       "      <td>3.066297</td>\n",
       "      <td>0</td>\n",
       "      <td>6</td>\n",
       "      <td>0</td>\n",
       "      <td>2888</td>\n",
       "      <td>115890.0</td>\n",
       "    </tr>\n",
       "    <tr>\n",
       "      <th>3</th>\n",
       "      <td>0.0</td>\n",
       "      <td>2685</td>\n",
       "      <td>2871</td>\n",
       "      <td>2511</td>\n",
       "      <td>3.711496</td>\n",
       "      <td>0</td>\n",
       "      <td>4</td>\n",
       "      <td>0</td>\n",
       "      <td>2529</td>\n",
       "      <td>128449.0</td>\n",
       "    </tr>\n",
       "    <tr>\n",
       "      <th>4</th>\n",
       "      <td>0.0</td>\n",
       "      <td>348</td>\n",
       "      <td>331</td>\n",
       "      <td>404</td>\n",
       "      <td>3.994911</td>\n",
       "      <td>0</td>\n",
       "      <td>0</td>\n",
       "      <td>0</td>\n",
       "      <td>357</td>\n",
       "      <td>19667.0</td>\n",
       "    </tr>\n",
       "  </tbody>\n",
       "</table>\n",
       "</div>"
      ],
      "text/plain": [
       "   string_len_counts_150_250  TB_f5  TB_b1  TB_e5  ent_q_diff_diffs_2_median  \\\n",
       "0                        2.0    265    542    353                   3.266095   \n",
       "1                        0.0    345    231    250                   3.190804   \n",
       "2                        0.0   3233   2705   3179                   3.066297   \n",
       "3                        0.0   2685   2871   2511                   3.711496   \n",
       "4                        0.0    348    331    404                   3.994911   \n",
       "\n",
       "   strncpy  _exit  HeapAlloc  TB_99    Img0.1  \n",
       "0        1      8          6    632  195766.0  \n",
       "1        0      2          0    260   14812.0  \n",
       "2        0      6          0   2888  115890.0  \n",
       "3        0      4          0   2529  128449.0  \n",
       "4        0      0          0    357   19667.0  "
      ]
     },
     "execution_count": 534,
     "metadata": {},
     "output_type": "execute_result"
    }
   ],
   "source": [
    "# random forest classification\n",
    "rfc_selected = data[top10_rfc]\n",
    "rfc_selected.head()"
   ]
  },
  {
   "cell_type": "code",
   "execution_count": 535,
   "metadata": {
    "collapsed": false
   },
   "outputs": [
    {
     "data": {
      "text/html": [
       "<div>\n",
       "<table border=\"1\" class=\"dataframe\">\n",
       "  <thead>\n",
       "    <tr style=\"text-align: right;\">\n",
       "      <th></th>\n",
       "      <th>asm_commands_in</th>\n",
       "      <th>VirtualAlloc</th>\n",
       "      <th>TB_d5</th>\n",
       "      <th>.rsrc_por</th>\n",
       "      <th>ent_p_19</th>\n",
       "      <th>Offset.1</th>\n",
       "      <th>Img50</th>\n",
       "      <th>dc_por</th>\n",
       "      <th>ent_q_diff_diffs_1_median</th>\n",
       "      <th>section_names_header</th>\n",
       "    </tr>\n",
       "  </thead>\n",
       "  <tbody>\n",
       "    <tr>\n",
       "      <th>0</th>\n",
       "      <td>2397</td>\n",
       "      <td>7</td>\n",
       "      <td>576</td>\n",
       "      <td>0.000000</td>\n",
       "      <td>3.610476</td>\n",
       "      <td>4198400</td>\n",
       "      <td>-0.011662</td>\n",
       "      <td>0.939565</td>\n",
       "      <td>3.303541</td>\n",
       "      <td>0.0</td>\n",
       "    </tr>\n",
       "    <tr>\n",
       "      <th>1</th>\n",
       "      <td>185</td>\n",
       "      <td>0</td>\n",
       "      <td>217</td>\n",
       "      <td>0.000196</td>\n",
       "      <td>3.994819</td>\n",
       "      <td>4198400</td>\n",
       "      <td>-0.068200</td>\n",
       "      <td>0.577673</td>\n",
       "      <td>3.977161</td>\n",
       "      <td>18.0</td>\n",
       "    </tr>\n",
       "    <tr>\n",
       "      <th>2</th>\n",
       "      <td>1234</td>\n",
       "      <td>5</td>\n",
       "      <td>2754</td>\n",
       "      <td>0.000000</td>\n",
       "      <td>3.356995</td>\n",
       "      <td>4198400</td>\n",
       "      <td>-0.002590</td>\n",
       "      <td>0.982791</td>\n",
       "      <td>3.086244</td>\n",
       "      <td>18.0</td>\n",
       "    </tr>\n",
       "    <tr>\n",
       "      <th>3</th>\n",
       "      <td>253</td>\n",
       "      <td>4</td>\n",
       "      <td>2482</td>\n",
       "      <td>0.000000</td>\n",
       "      <td>3.751938</td>\n",
       "      <td>4198400</td>\n",
       "      <td>-0.002597</td>\n",
       "      <td>0.949239</td>\n",
       "      <td>3.728404</td>\n",
       "      <td>18.0</td>\n",
       "    </tr>\n",
       "    <tr>\n",
       "      <th>4</th>\n",
       "      <td>113</td>\n",
       "      <td>5</td>\n",
       "      <td>317</td>\n",
       "      <td>0.002351</td>\n",
       "      <td>3.995484</td>\n",
       "      <td>268439552</td>\n",
       "      <td>-0.032245</td>\n",
       "      <td>0.221787</td>\n",
       "      <td>3.643115</td>\n",
       "      <td>19.0</td>\n",
       "    </tr>\n",
       "  </tbody>\n",
       "</table>\n",
       "</div>"
      ],
      "text/plain": [
       "   asm_commands_in  VirtualAlloc  TB_d5  .rsrc_por  ent_p_19   Offset.1  \\\n",
       "0             2397             7    576   0.000000  3.610476    4198400   \n",
       "1              185             0    217   0.000196  3.994819    4198400   \n",
       "2             1234             5   2754   0.000000  3.356995    4198400   \n",
       "3              253             4   2482   0.000000  3.751938    4198400   \n",
       "4              113             5    317   0.002351  3.995484  268439552   \n",
       "\n",
       "      Img50    dc_por  ent_q_diff_diffs_1_median  section_names_header  \n",
       "0 -0.011662  0.939565                   3.303541                   0.0  \n",
       "1 -0.068200  0.577673                   3.977161                  18.0  \n",
       "2 -0.002590  0.982791                   3.086244                  18.0  \n",
       "3 -0.002597  0.949239                   3.728404                  18.0  \n",
       "4 -0.032245  0.221787                   3.643115                  19.0  "
      ]
     },
     "execution_count": 535,
     "metadata": {},
     "output_type": "execute_result"
    }
   ],
   "source": [
    "# decision tree classification\n",
    "dtc_selected = data[top10_dtc]\n",
    "dtc_selected.head()"
   ]
  },
  {
   "cell_type": "code",
   "execution_count": 536,
   "metadata": {
    "collapsed": false
   },
   "outputs": [
    {
     "data": {
      "text/html": [
       "<div>\n",
       "<table border=\"1\" class=\"dataframe\">\n",
       "  <thead>\n",
       "    <tr style=\"text-align: right;\">\n",
       "      <th></th>\n",
       "      <th>Img47</th>\n",
       "      <th>ent_q_diff_diffs_2_median</th>\n",
       "      <th>Img28</th>\n",
       "      <th>ent_p_7</th>\n",
       "      <th>GetStringTypeA</th>\n",
       "      <th>GetIconInfo</th>\n",
       "      <th>_onexit</th>\n",
       "      <th>Img48</th>\n",
       "      <th>Img86</th>\n",
       "      <th>IsValidCodePage</th>\n",
       "    </tr>\n",
       "  </thead>\n",
       "  <tbody>\n",
       "    <tr>\n",
       "      <th>0</th>\n",
       "      <td>14.739358</td>\n",
       "      <td>3.266095</td>\n",
       "      <td>0.352451</td>\n",
       "      <td>3.264746</td>\n",
       "      <td>14</td>\n",
       "      <td>0</td>\n",
       "      <td>5</td>\n",
       "      <td>0.000009</td>\n",
       "      <td>4041.0</td>\n",
       "      <td>4</td>\n",
       "    </tr>\n",
       "    <tr>\n",
       "      <th>1</th>\n",
       "      <td>13.841109</td>\n",
       "      <td>3.190804</td>\n",
       "      <td>0.345745</td>\n",
       "      <td>3.483986</td>\n",
       "      <td>0</td>\n",
       "      <td>0</td>\n",
       "      <td>0</td>\n",
       "      <td>0.000062</td>\n",
       "      <td>351.0</td>\n",
       "      <td>0</td>\n",
       "    </tr>\n",
       "    <tr>\n",
       "      <th>2</th>\n",
       "      <td>13.337899</td>\n",
       "      <td>3.066297</td>\n",
       "      <td>0.373445</td>\n",
       "      <td>3.065914</td>\n",
       "      <td>0</td>\n",
       "      <td>0</td>\n",
       "      <td>10</td>\n",
       "      <td>0.000019</td>\n",
       "      <td>6549.0</td>\n",
       "      <td>0</td>\n",
       "    </tr>\n",
       "    <tr>\n",
       "      <th>3</th>\n",
       "      <td>15.313738</td>\n",
       "      <td>3.711496</td>\n",
       "      <td>0.039352</td>\n",
       "      <td>3.708903</td>\n",
       "      <td>0</td>\n",
       "      <td>0</td>\n",
       "      <td>0</td>\n",
       "      <td>0.000005</td>\n",
       "      <td>5421.0</td>\n",
       "      <td>0</td>\n",
       "    </tr>\n",
       "    <tr>\n",
       "      <th>4</th>\n",
       "      <td>14.616650</td>\n",
       "      <td>3.994911</td>\n",
       "      <td>0.224905</td>\n",
       "      <td>3.643114</td>\n",
       "      <td>0</td>\n",
       "      <td>0</td>\n",
       "      <td>5</td>\n",
       "      <td>0.000017</td>\n",
       "      <td>696.0</td>\n",
       "      <td>0</td>\n",
       "    </tr>\n",
       "  </tbody>\n",
       "</table>\n",
       "</div>"
      ],
      "text/plain": [
       "       Img47  ent_q_diff_diffs_2_median     Img28   ent_p_7  GetStringTypeA  \\\n",
       "0  14.739358                   3.266095  0.352451  3.264746              14   \n",
       "1  13.841109                   3.190804  0.345745  3.483986               0   \n",
       "2  13.337899                   3.066297  0.373445  3.065914               0   \n",
       "3  15.313738                   3.711496  0.039352  3.708903               0   \n",
       "4  14.616650                   3.994911  0.224905  3.643114               0   \n",
       "\n",
       "   GetIconInfo  _onexit     Img48   Img86  IsValidCodePage  \n",
       "0            0        5  0.000009  4041.0                4  \n",
       "1            0        0  0.000062   351.0                0  \n",
       "2            0       10  0.000019  6549.0                0  \n",
       "3            0        0  0.000005  5421.0                0  \n",
       "4            0        5  0.000017   696.0                0  "
      ]
     },
     "execution_count": 536,
     "metadata": {},
     "output_type": "execute_result"
    }
   ],
   "source": [
    "# extra trees classification\n",
    "etc_selected = data[top10_etc]\n",
    "etc_selected.head()"
   ]
  },
  {
   "cell_type": "code",
   "execution_count": 537,
   "metadata": {
    "collapsed": false
   },
   "outputs": [
    {
     "data": {
      "text/html": [
       "<div>\n",
       "<table border=\"1\" class=\"dataframe\">\n",
       "  <thead>\n",
       "    <tr style=\"text-align: right;\">\n",
       "      <th></th>\n",
       "      <th>SetWindowsHookExA</th>\n",
       "      <th>EnumWindows</th>\n",
       "      <th>CreateBrushIndirect</th>\n",
       "      <th>IsIconic</th>\n",
       "      <th>GetFileVersionInfoSizeA</th>\n",
       "      <th>MoveFileA</th>\n",
       "      <th>FileTimeToLocalFileTime</th>\n",
       "      <th>Img107</th>\n",
       "      <th>Img37</th>\n",
       "      <th>ent_q_diff_diffs_1_median</th>\n",
       "    </tr>\n",
       "  </thead>\n",
       "  <tbody>\n",
       "    <tr>\n",
       "      <th>0</th>\n",
       "      <td>0</td>\n",
       "      <td>0</td>\n",
       "      <td>0</td>\n",
       "      <td>3</td>\n",
       "      <td>0</td>\n",
       "      <td>0</td>\n",
       "      <td>3</td>\n",
       "      <td>162674.0</td>\n",
       "      <td>-0.066673</td>\n",
       "      <td>3.303541</td>\n",
       "    </tr>\n",
       "    <tr>\n",
       "      <th>1</th>\n",
       "      <td>0</td>\n",
       "      <td>0</td>\n",
       "      <td>0</td>\n",
       "      <td>0</td>\n",
       "      <td>0</td>\n",
       "      <td>0</td>\n",
       "      <td>0</td>\n",
       "      <td>6551.0</td>\n",
       "      <td>-0.069701</td>\n",
       "      <td>3.977161</td>\n",
       "    </tr>\n",
       "    <tr>\n",
       "      <th>2</th>\n",
       "      <td>0</td>\n",
       "      <td>0</td>\n",
       "      <td>0</td>\n",
       "      <td>0</td>\n",
       "      <td>0</td>\n",
       "      <td>0</td>\n",
       "      <td>0</td>\n",
       "      <td>12946.0</td>\n",
       "      <td>-0.043849</td>\n",
       "      <td>3.086244</td>\n",
       "    </tr>\n",
       "    <tr>\n",
       "      <th>3</th>\n",
       "      <td>0</td>\n",
       "      <td>0</td>\n",
       "      <td>0</td>\n",
       "      <td>0</td>\n",
       "      <td>0</td>\n",
       "      <td>0</td>\n",
       "      <td>0</td>\n",
       "      <td>98621.0</td>\n",
       "      <td>-0.009142</td>\n",
       "      <td>3.728404</td>\n",
       "    </tr>\n",
       "    <tr>\n",
       "      <th>4</th>\n",
       "      <td>0</td>\n",
       "      <td>0</td>\n",
       "      <td>0</td>\n",
       "      <td>0</td>\n",
       "      <td>0</td>\n",
       "      <td>0</td>\n",
       "      <td>0</td>\n",
       "      <td>11864.0</td>\n",
       "      <td>-0.034729</td>\n",
       "      <td>3.643115</td>\n",
       "    </tr>\n",
       "  </tbody>\n",
       "</table>\n",
       "</div>"
      ],
      "text/plain": [
       "   SetWindowsHookExA  EnumWindows  CreateBrushIndirect  IsIconic  \\\n",
       "0                  0            0                    0         3   \n",
       "1                  0            0                    0         0   \n",
       "2                  0            0                    0         0   \n",
       "3                  0            0                    0         0   \n",
       "4                  0            0                    0         0   \n",
       "\n",
       "   GetFileVersionInfoSizeA  MoveFileA  FileTimeToLocalFileTime    Img107  \\\n",
       "0                        0          0                        3  162674.0   \n",
       "1                        0          0                        0    6551.0   \n",
       "2                        0          0                        0   12946.0   \n",
       "3                        0          0                        0   98621.0   \n",
       "4                        0          0                        0   11864.0   \n",
       "\n",
       "      Img37  ent_q_diff_diffs_1_median  \n",
       "0 -0.066673                   3.303541  \n",
       "1 -0.069701                   3.977161  \n",
       "2 -0.043849                   3.086244  \n",
       "3 -0.009142                   3.728404  \n",
       "4 -0.034729                   3.643115  "
      ]
     },
     "execution_count": 537,
     "metadata": {},
     "output_type": "execute_result"
    }
   ],
   "source": [
    "# Adaboost classification\n",
    "abc_selected = data[top10_abc]\n",
    "abc_selected.head()"
   ]
  },
  {
   "cell_type": "markdown",
   "metadata": {},
   "source": [
    "### 1.3 Feature Evaluation via SVM"
   ]
  },
  {
   "cell_type": "code",
   "execution_count": 544,
   "metadata": {
    "collapsed": false
   },
   "outputs": [
    {
     "name": "stdout",
     "output_type": "stream",
     "text": [
      "RFC training time:  140.96724501499557\n"
     ]
    }
   ],
   "source": [
    "# random forest classification\n",
    "# start to count\n",
    "start = timeit.default_timer()\n",
    "\n",
    "# random forest classification\n",
    "svmRFC_clf = SVC(kernel='rbf', probability=True)\n",
    "svmRFC_scores = cross_val_score(svmRFC_clf, rfc_selected, classType, cv=5)\n",
    "\n",
    "# stop to count\n",
    "stop = timeit.default_timer()\n",
    "print ('svmRFC training time: ', stop - start) "
   ]
  },
  {
   "cell_type": "code",
   "execution_count": 545,
   "metadata": {
    "collapsed": false
   },
   "outputs": [
    {
     "name": "stdout",
     "output_type": "stream",
     "text": [
      "[ 0.27410468  0.27389706  0.275069    0.27373272  0.27419355]\n",
      "0.274199401308\n"
     ]
    }
   ],
   "source": [
    "print(svmRFC_scores)\n",
    "print(svmRFC_scores.mean())"
   ]
  },
  {
   "cell_type": "code",
   "execution_count": 546,
   "metadata": {
    "collapsed": false
   },
   "outputs": [
    {
     "name": "stdout",
     "output_type": "stream",
     "text": [
      "DTC training time:  176.91835269599687\n"
     ]
    }
   ],
   "source": [
    "# decision tree classification\n",
    "# start to count\n",
    "start = timeit.default_timer()\n",
    "\n",
    "# random forest classification\n",
    "svmDTC_clf = SVC(kernel='rbf', probability=True)\n",
    "svmDTC_scores = cross_val_score(svmDTC_clf, dtc_selected, classType, cv=5)\n",
    "\n",
    "# stop to count\n",
    "stop = timeit.default_timer()\n",
    "print ('svmDTC training time: ', stop - start) "
   ]
  },
  {
   "cell_type": "code",
   "execution_count": 547,
   "metadata": {
    "collapsed": false
   },
   "outputs": [
    {
     "name": "stdout",
     "output_type": "stream",
     "text": [
      "[ 0.61065197  0.60294118  0.59015639  0.60460829  0.59953917]\n",
      "0.601579401988\n"
     ]
    }
   ],
   "source": [
    "print(svmDTC_scores)\n",
    "print(svmDTC_scores.mean())"
   ]
  },
  {
   "cell_type": "code",
   "execution_count": 548,
   "metadata": {
    "collapsed": false
   },
   "outputs": [
    {
     "name": "stdout",
     "output_type": "stream",
     "text": [
      "svmETC training time:  135.3473351010034\n"
     ]
    }
   ],
   "source": [
    "# Extra Trees classification\n",
    "# start to count\n",
    "start = timeit.default_timer()\n",
    "\n",
    "# random forest classification\n",
    "svmETC_clf = SVC(kernel='rbf', probability=True)\n",
    "svmETC_scores = cross_val_score(svmETC_clf, etc_selected, classType, cv=5)\n",
    "\n",
    "# stop to count\n",
    "stop = timeit.default_timer()\n",
    "print ('svmETC training time: ', stop - start) "
   ]
  },
  {
   "cell_type": "code",
   "execution_count": 549,
   "metadata": {
    "collapsed": false
   },
   "outputs": [
    {
     "name": "stdout",
     "output_type": "stream",
     "text": [
      "[ 0.79522498  0.79411765  0.79208832  0.78986175  0.78617512]\n",
      "0.791493561386\n"
     ]
    }
   ],
   "source": [
    "print(svmETC_scores)\n",
    "print(svmETC_scores.mean())"
   ]
  },
  {
   "cell_type": "code",
   "execution_count": 550,
   "metadata": {
    "collapsed": false
   },
   "outputs": [
    {
     "name": "stdout",
     "output_type": "stream",
     "text": [
      "svmABC training time:  142.09263482400274\n"
     ]
    }
   ],
   "source": [
    "# AdaBoost classification\n",
    "# start to count\n",
    "start = timeit.default_timer()\n",
    "\n",
    "# random forest classification\n",
    "svmABC_clf = SVC(kernel='rbf', probability=True)\n",
    "svmABC_scores = cross_val_score(svmABC_clf, abc_selected, classType, cv=5)\n",
    "\n",
    "# stop to count\n",
    "stop = timeit.default_timer()\n",
    "print ('svmABC training time: ', stop - start) "
   ]
  },
  {
   "cell_type": "code",
   "execution_count": 551,
   "metadata": {
    "collapsed": false
   },
   "outputs": [
    {
     "name": "stdout",
     "output_type": "stream",
     "text": [
      "[ 0.61616162  0.61259191  0.61775529  0.60368664  0.60737327]\n",
      "0.61151374511\n"
     ]
    }
   ],
   "source": [
    "print(svmABC_scores)\n",
    "print(svmABC_scores.mean())"
   ]
  },
  {
   "cell_type": "markdown",
   "metadata": {},
   "source": [
    "## 2. Comparison"
   ]
  },
  {
   "cell_type": "code",
   "execution_count": 566,
   "metadata": {
    "collapsed": false,
    "scrolled": true
   },
   "outputs": [
    {
     "data": {
      "image/png": "[encoded data removed]",
      "text/plain": [
       "<matplotlib.figure.Figure at 0x158eb5208>"
      ]
     },
     "metadata": {},
     "output_type": "display_data"
    }
   ],
   "source": [
    "methods = ['RFC','DTC','ETC','ABC']\n",
    "totalsvmAcc = np.vstack((svmRFC_scores, svmDTC_scores, svmETC_scores, svmABC_scores))\n",
    "\n",
    "# plot the svm evaluation results via boxplot\n",
    "plt.boxplot(totalsvmAcc.T)\n",
    "plt.title('Top10 Feature Evaluation via SVM')\n",
    "plt.xlabel('Classifiers')\n",
    "plt.ylabel('Accuracy')\n",
    "plt.xticks(np.arange(4)+1, methods)\n",
    "plt.grid(True)\n",
    "plt.show()"
   ]
  },
  {
   "cell_type": "markdown",
   "metadata": {},
   "source": [
    "According to the results above, if we only select 10 features as our modeling features, then the Extra Trees Classification (ETC) showed the best result among the others. However, the RFC did not show good classification result. It could to be concluded that the numbers of features you used was important for random forest classification, hence, here are only 10 features, and this, leads to a low accuracy performance."
   ]
  },
  {
   "cell_type": "markdown",
   "metadata": {},
   "source": [
    "For using 10 features: the best feature selection classifiers in this study is ..."
   ]
  },
  {
   "cell_type": "code",
   "execution_count": 575,
   "metadata": {
    "collapsed": false
   },
   "outputs": [],
   "source": [
    "totalsvmAccAvg = np.zeros(4)\n",
    "\n",
    "for i in range(0,4):\n",
    "    totalsvmAccAvg[i] = totalsvmAcc[i,:].mean()"
   ]
  },
  {
   "cell_type": "code",
   "execution_count": 580,
   "metadata": {
    "collapsed": false
   },
   "outputs": [
    {
     "name": "stdout",
     "output_type": "stream",
     "text": [
      "The Answer is \" ETC \" !\n"
     ]
    }
   ],
   "source": [
    "print('The Answer is \"', methods[np.argmax(totalsvmAccAvg)],'\" !')"
   ]
  },
  {
   "cell_type": "markdown",
   "metadata": {},
   "source": [
    "# <b>The End</b>"
   ]
  },
  {
   "cell_type": "markdown",
   "metadata": {},
   "source": [
    "### Chan, Chun-Hsiang @ Dept. of Geog., NTU"
   ]
  }
 ],
 "metadata": {
  "kernelspec": {
   "display_name": "Python 3",
   "language": "python",
   "name": "python3"
  },
  "language_info": {
   "codemirror_mode": {
    "name": "ipython",
    "version": 3
   },
   "file_extension": ".py",
   "mimetype": "text/x-python",
   "name": "python",
   "nbconvert_exporter": "python",
   "pygments_lexer": "ipython3",
   "version": "3.6.0"
  }
 },
 "nbformat": 4,
 "nbformat_minor": 2
}
