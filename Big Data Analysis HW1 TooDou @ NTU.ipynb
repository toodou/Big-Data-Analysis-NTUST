{
 "cells": [
  {
   "cell_type": "markdown",
   "metadata": {},
   "source": [
    "# Select Important Features via Various Classification Approaches"
   ]
  },
  {
   "cell_type": "markdown",
   "metadata": {},
   "source": [
    "<b>Author</b>: Chan, Chun-Hsiang (<b>TooDou</b>) <b>@</b> D04228002 NTU GEOG"
   ]
  },
  {
   "cell_type": "markdown",
   "metadata": {},
   "source": [
    "<div align=\"justify\">\n",
    "<b>Introduction</b><br/>\n",
    "In this project, we would like to analyze the microsoft malware dataset. Through data-driven aspect, we need to extract the important features which is consist of nine different class types (MD1, SEC, !G, DP, IMG!, REG, MISC, ENT, IMG2, SYM, OPC, STR and API, etc.), moreover, we also need to figure out the useless features from the original dataset.<br/><br/>\n",
    "Although this paper adopted \"random forest\" as the classifier (Ahmadi et al., 2016), I would like to test other classifiers, and attemped to know the accuracy of them. As a result, there are four classifiers have been adopted, including random forest, extra trees, decision tree and AdaBoost.<br/>\n",
    "<br/>\n",
    "<b>Methodology</b><br/>\n",
    "Due to the test data from the microsoft malware, we cannot to realize the performance of model because it is lack of class type. In order to sovle this problem, we divided the training dataset file (LargeTrain.csv) into two parts, 70% is for model training, and the other 30% is for model testing. In addition, this study not only accepted cross validation (K-Fold validation: K = 10) for the evaluation of model stability, but also utilized eight parameters to optimize the performance of each classifier.<br/><br/>\n",
    "It is possible to figure the best parameter for each classifier via the procedure above, we adopted four steps to choose the best parameter. The first step is to compute average accuracy difference between the training and test model, and the second is to calculate standard deviation accuracy difference. Then, we summerized these average accuracy difference and standard deviation accuracy difference for each parameter. Nevertheless, we selected the minimum value among these summerized differences, and indicated the index of this corresponded minimum value from parameter vector.<br/><br/>\n",
    "When the best parameter value for each classifier has been found, we needed to re-built the classifier again by using the whole training dataset, and computed the importance of each feature. As a result, the useful features and useless features have been selected via this procedure. Futhermore, we selected top 10 important features from four different classifiers, and constructed support vector machine (SVM) model to evaluate the potential and performances.<br/>\n",
    "<br/>\n",
    "<b>Results and Dicussions</b>\n",
    "After the parameter optimization, the most suitable parameter has been selected for each classifiers as follows.<br/>\n",
    "(1) Random Forest Classification :: n_estimators      :: 20<br/>\n",
    "(2) Decision Tree Classification :: min_samples_split :: 10<br/>\n",
    "(3) Extra Trees Classificaiton   :: n_estimators      :: 12<br/>\n",
    "(4) AdaBoost Classification      :: n_estimators      :: 5<br/>\n",
    "<br/>\n",
    "For simple model building, the best performance is random forest classification (extra trees classification, decision tree classification and adaboost classification). Moreover, all useful and useless features have been obtained, and the top 10 important features from the analysis of analysis procedure.\n",
    "<br/><br/>\n",
    "In order to realize the performances of the top 10 features selected from four different classification models, we adopted support vector machine to evaluate them. The results showed that the best performance is the top10 features generated via AdaBoost classification, the second is decision tree classification, the third is extra trees classification and the fourth is the random forest classification.\n",
    "<br/><br/>\n",
    "We could observed the different classification results between using all-features and top10-features. I thought that random forest needs more estimators to contrust a good model, hence, less estimators induced lower the accuracy. According to the mechanism of extra tree classifier, it would randomly choose a group of sub variables and randomly select the cutoff, based on their entropy. As a result, if the dataset contained a great number of useless features, then the performance could not show well, and this is the reason why we could obtain the highest accuracy from extra trees classification. The same concept is also worked on AdaBoost and decision tree, the more features we had, then the less accuracy we got. This phenomenon have been proved by over-fitting in several researches. Although the last model we constructed via support vector machine, the results still could be explained.\n",
    "</div>"
   ]
  },
  {
   "cell_type": "markdown",
   "metadata": {},
   "source": [
    "<b>Part I. Load Data and Import Packages</b> <br/>\n",
    "1. Set the Path and Load Data <br/>\n",
    "2. Overview the Whole Dataset"
   ]
  },
  {
   "cell_type": "markdown",
   "metadata": {},
   "source": [
    "<b>Part II. Build Classification Models</b> <br/>\n",
    "1. Preview the Training Dataset for Modeling of Classification <br/>\n",
    "2. Build the Classification Models <br/>\n",
    "3. Rebuild the Classification Model via Suitable Parameter Values <br/>\n",
    "4. Evaluate Classification and Cross Validation by Using K-Fold (K = 10) <br/>\n",
    "5. Statistic Result of Cross Validation on Classification <br/>\n",
    "6. Sight View of the Importance of Each Feature <br/>\n",
    "7. Select Three Types of Features"
   ]
  },
  {
   "cell_type": "markdown",
   "metadata": {},
   "source": [
    "<b>Part III. Model Comparison</b> <br/>\n",
    "1. Accuracy Comparison <br/>\n",
    "2. Important Features Comparison"
   ]
  },
  {
   "cell_type": "markdown",
   "metadata": {},
   "source": [
    "<b>Part III. Model Comparison</b> <br/>\n",
    "1. Accuracy Comparison <br/>\n",
    "2. Important Features Comparison"
   ]
  },
  {
   "cell_type": "markdown",
   "metadata": {},
   "source": [
    "<b>Part IV. Model Validation</b> <br/>\n",
    "1. Apply SVM to Evaluate the Features <br/>\n",
    "2. Comparison"
   ]
  },
  {
   "cell_type": "markdown",
   "metadata": {},
   "source": [
    "For the training dataset, we have 1805 features (included the class type), and 10868 rows of data.<br />\n",
    "For the test dataset, we have 1805 features (included the class type), and 10873 rows of data."
   ]
  },
  {
   "cell_type": "markdown",
   "metadata": {},
   "source": [
    "<b>Reference dataset</b>: https://github.com/ManSoSec/Microsoft-MalwareChallenge <br />\n",
    "<b>Reference paper</b>: https://arxiv.org/abs/1511.04317"
   ]
  },
  {
   "cell_type": "markdown",
   "metadata": {},
   "source": [
    "<b>Python</b> version: 3.6.1<br />\n",
    "<b>Packages requirements</b>:\n",
    "1. os\n",
    "2. timeit\n",
    "3. pandas ver. 0.19.2\n",
    "4. matplotlib ver. 2.0.0\n",
    "5. numpy ver. 1.11.3\n",
    "6. sklearn ver. 0.18.1"
   ]
  },
  {
   "cell_type": "markdown",
   "metadata": {},
   "source": [
    "# Part I. Load Data and Import Packages"
   ]
  },
  {
   "cell_type": "markdown",
   "metadata": {},
   "source": [
    "## 1. Set the Path and Load Data"
   ]
  },
  {
   "cell_type": "code",
   "execution_count": 1,
   "metadata": {
    "collapsed": true
   },
   "outputs": [],
   "source": [
    "# import packages\n",
    "import os\n",
    "import pandas as pd\n",
    "\n",
    "# load dateset\n",
    "os.getcwd()\n",
    "os.chdir('/Users/May/documents/python_code/Microsoft-Malware-Challenge/Dataset/train')\n",
    "train = pd.read_csv('LargeTrain.csv')\n",
    "os.chdir('/Users/May/documents/python_code/Microsoft-Malware-Challenge/Dataset/test/')\n",
    "test = pd.read_csv('LargeTest.csv')"
   ]
  },
  {
   "cell_type": "markdown",
   "metadata": {},
   "source": [
    "## 2. Overview the Whole Dataset"
   ]
  },
  {
   "cell_type": "markdown",
   "metadata": {},
   "source": [
    "We applied two functions to view our Microsoft malware dataset (train and test), including head( ) and describe( ).<br />\n",
    "For the training dataset, we have 1805 features (included the class type), and 10868 rows of data.<br />\n",
    "For the test dataset, we have 1805 features (included the class type), and 10873 rows of data.<br />\n",
    "<br />\n",
    "At last, we plot two figures to present the class distribution of training and test dataset."
   ]
  },
  {
   "cell_type": "code",
   "execution_count": 2,
   "metadata": {
    "collapsed": true
   },
   "outputs": [],
   "source": [
    "# import necessary packages\n",
    "import matplotlib.pyplot as plt\n",
    "import numpy as np"
   ]
  },
  {
   "cell_type": "markdown",
   "metadata": {},
   "source": [
    "### 2.1 Training Dataset\n",
    "(actually this is the original dataset which exists in malware/dataset/train)"
   ]
  },
  {
   "cell_type": "code",
   "execution_count": 3,
   "metadata": {
    "collapsed": false
   },
   "outputs": [
    {
     "data": {
      "text/html": [
       "<div>\n",
       "<table border=\"1\" class=\"dataframe\">\n",
       "  <thead>\n",
       "    <tr style=\"text-align: right;\">\n",
       "      <th></th>\n",
       "      <th>Virtual</th>\n",
       "      <th>Offset</th>\n",
       "      <th>loc</th>\n",
       "      <th>Import</th>\n",
       "      <th>Imports</th>\n",
       "      <th>var</th>\n",
       "      <th>Forwarder</th>\n",
       "      <th>UINT</th>\n",
       "      <th>LONG</th>\n",
       "      <th>BOOL</th>\n",
       "      <th>...</th>\n",
       "      <th>Img99</th>\n",
       "      <th>Img100</th>\n",
       "      <th>Img101</th>\n",
       "      <th>Img102</th>\n",
       "      <th>Img103</th>\n",
       "      <th>Img104</th>\n",
       "      <th>Img105</th>\n",
       "      <th>Img106</th>\n",
       "      <th>Img107</th>\n",
       "      <th>Class</th>\n",
       "    </tr>\n",
       "  </thead>\n",
       "  <tbody>\n",
       "    <tr>\n",
       "      <th>0</th>\n",
       "      <td>3</td>\n",
       "      <td>3</td>\n",
       "      <td>689</td>\n",
       "      <td>18</td>\n",
       "      <td>6</td>\n",
       "      <td>890</td>\n",
       "      <td>6</td>\n",
       "      <td>39</td>\n",
       "      <td>17</td>\n",
       "      <td>88</td>\n",
       "      <td>...</td>\n",
       "      <td>35148.0</td>\n",
       "      <td>8687.0</td>\n",
       "      <td>55835.0</td>\n",
       "      <td>9078.0</td>\n",
       "      <td>21355.0</td>\n",
       "      <td>56302.0</td>\n",
       "      <td>10380.0</td>\n",
       "      <td>171979.0</td>\n",
       "      <td>162674.0</td>\n",
       "      <td>2</td>\n",
       "    </tr>\n",
       "    <tr>\n",
       "      <th>1</th>\n",
       "      <td>3</td>\n",
       "      <td>3</td>\n",
       "      <td>583</td>\n",
       "      <td>15</td>\n",
       "      <td>5</td>\n",
       "      <td>1574</td>\n",
       "      <td>5</td>\n",
       "      <td>6</td>\n",
       "      <td>7</td>\n",
       "      <td>30</td>\n",
       "      <td>...</td>\n",
       "      <td>571.0</td>\n",
       "      <td>718.0</td>\n",
       "      <td>1762.0</td>\n",
       "      <td>642.0</td>\n",
       "      <td>1820.0</td>\n",
       "      <td>1675.0</td>\n",
       "      <td>1100.0</td>\n",
       "      <td>7702.0</td>\n",
       "      <td>6551.0</td>\n",
       "      <td>8</td>\n",
       "    </tr>\n",
       "    <tr>\n",
       "      <th>2</th>\n",
       "      <td>3</td>\n",
       "      <td>4</td>\n",
       "      <td>2796</td>\n",
       "      <td>15</td>\n",
       "      <td>5</td>\n",
       "      <td>625</td>\n",
       "      <td>5</td>\n",
       "      <td>58</td>\n",
       "      <td>11</td>\n",
       "      <td>152</td>\n",
       "      <td>...</td>\n",
       "      <td>29872.0</td>\n",
       "      <td>16910.0</td>\n",
       "      <td>31708.0</td>\n",
       "      <td>9000.0</td>\n",
       "      <td>17586.0</td>\n",
       "      <td>30719.0</td>\n",
       "      <td>30062.0</td>\n",
       "      <td>55331.0</td>\n",
       "      <td>12946.0</td>\n",
       "      <td>9</td>\n",
       "    </tr>\n",
       "    <tr>\n",
       "      <th>3</th>\n",
       "      <td>3</td>\n",
       "      <td>3</td>\n",
       "      <td>373</td>\n",
       "      <td>27</td>\n",
       "      <td>9</td>\n",
       "      <td>615</td>\n",
       "      <td>9</td>\n",
       "      <td>16</td>\n",
       "      <td>10</td>\n",
       "      <td>34</td>\n",
       "      <td>...</td>\n",
       "      <td>10742.0</td>\n",
       "      <td>9755.0</td>\n",
       "      <td>26992.0</td>\n",
       "      <td>9069.0</td>\n",
       "      <td>24885.0</td>\n",
       "      <td>27108.0</td>\n",
       "      <td>13219.0</td>\n",
       "      <td>122247.0</td>\n",
       "      <td>98621.0</td>\n",
       "      <td>9</td>\n",
       "    </tr>\n",
       "    <tr>\n",
       "      <th>4</th>\n",
       "      <td>3</td>\n",
       "      <td>3</td>\n",
       "      <td>77</td>\n",
       "      <td>12</td>\n",
       "      <td>4</td>\n",
       "      <td>66</td>\n",
       "      <td>4</td>\n",
       "      <td>3</td>\n",
       "      <td>0</td>\n",
       "      <td>5</td>\n",
       "      <td>...</td>\n",
       "      <td>962.0</td>\n",
       "      <td>1307.0</td>\n",
       "      <td>3119.0</td>\n",
       "      <td>1172.0</td>\n",
       "      <td>3522.0</td>\n",
       "      <td>3245.0</td>\n",
       "      <td>2001.0</td>\n",
       "      <td>15501.0</td>\n",
       "      <td>11864.0</td>\n",
       "      <td>1</td>\n",
       "    </tr>\n",
       "  </tbody>\n",
       "</table>\n",
       "<p>5 rows × 1805 columns</p>\n",
       "</div>"
      ],
      "text/plain": [
       "   Virtual  Offset   loc  Import  Imports   var  Forwarder  UINT  LONG  BOOL  \\\n",
       "0        3       3   689      18        6   890          6    39    17    88   \n",
       "1        3       3   583      15        5  1574          5     6     7    30   \n",
       "2        3       4  2796      15        5   625          5    58    11   152   \n",
       "3        3       3   373      27        9   615          9    16    10    34   \n",
       "4        3       3    77      12        4    66          4     3     0     5   \n",
       "\n",
       "   ...      Img99   Img100   Img101  Img102   Img103   Img104   Img105  \\\n",
       "0  ...    35148.0   8687.0  55835.0  9078.0  21355.0  56302.0  10380.0   \n",
       "1  ...      571.0    718.0   1762.0   642.0   1820.0   1675.0   1100.0   \n",
       "2  ...    29872.0  16910.0  31708.0  9000.0  17586.0  30719.0  30062.0   \n",
       "3  ...    10742.0   9755.0  26992.0  9069.0  24885.0  27108.0  13219.0   \n",
       "4  ...      962.0   1307.0   3119.0  1172.0   3522.0   3245.0   2001.0   \n",
       "\n",
       "     Img106    Img107  Class  \n",
       "0  171979.0  162674.0      2  \n",
       "1    7702.0    6551.0      8  \n",
       "2   55331.0   12946.0      9  \n",
       "3  122247.0   98621.0      9  \n",
       "4   15501.0   11864.0      1  \n",
       "\n",
       "[5 rows x 1805 columns]"
      ]
     },
     "execution_count": 3,
     "metadata": {},
     "output_type": "execute_result"
    }
   ],
   "source": [
    "# view the training dataset\n",
    "train.head()"
   ]
  },
  {
   "cell_type": "code",
   "execution_count": 4,
   "metadata": {
    "collapsed": false
   },
   "outputs": [
    {
     "data": {
      "text/html": [
       "<div>\n",
       "<table border=\"1\" class=\"dataframe\">\n",
       "  <thead>\n",
       "    <tr style=\"text-align: right;\">\n",
       "      <th></th>\n",
       "      <th>Virtual</th>\n",
       "      <th>Offset</th>\n",
       "      <th>loc</th>\n",
       "      <th>Import</th>\n",
       "      <th>Imports</th>\n",
       "      <th>var</th>\n",
       "      <th>Forwarder</th>\n",
       "      <th>UINT</th>\n",
       "      <th>LONG</th>\n",
       "      <th>BOOL</th>\n",
       "      <th>...</th>\n",
       "      <th>Img99</th>\n",
       "      <th>Img100</th>\n",
       "      <th>Img101</th>\n",
       "      <th>Img102</th>\n",
       "      <th>Img103</th>\n",
       "      <th>Img104</th>\n",
       "      <th>Img105</th>\n",
       "      <th>Img106</th>\n",
       "      <th>Img107</th>\n",
       "      <th>Class</th>\n",
       "    </tr>\n",
       "  </thead>\n",
       "  <tbody>\n",
       "    <tr>\n",
       "      <th>count</th>\n",
       "      <td>10868.000000</td>\n",
       "      <td>10868.000000</td>\n",
       "      <td>10868.000000</td>\n",
       "      <td>10868.000000</td>\n",
       "      <td>10868.000000</td>\n",
       "      <td>10868.000000</td>\n",
       "      <td>10868.000000</td>\n",
       "      <td>10868.000000</td>\n",
       "      <td>10868.000000</td>\n",
       "      <td>10868.000000</td>\n",
       "      <td>...</td>\n",
       "      <td>10868.000000</td>\n",
       "      <td>10868.000000</td>\n",
       "      <td>10868.000000</td>\n",
       "      <td>10868.000000</td>\n",
       "      <td>10868.000000</td>\n",
       "      <td>10868.000000</td>\n",
       "      <td>10868.000000</td>\n",
       "      <td>10868.000000</td>\n",
       "      <td>10868.000000</td>\n",
       "      <td>10868.000000</td>\n",
       "    </tr>\n",
       "    <tr>\n",
       "      <th>mean</th>\n",
       "      <td>3.279076</td>\n",
       "      <td>3.500552</td>\n",
       "      <td>1990.713747</td>\n",
       "      <td>11.586861</td>\n",
       "      <td>4.934671</td>\n",
       "      <td>1264.397957</td>\n",
       "      <td>3.845786</td>\n",
       "      <td>16.559717</td>\n",
       "      <td>5.552908</td>\n",
       "      <td>31.011502</td>\n",
       "      <td>...</td>\n",
       "      <td>10840.809901</td>\n",
       "      <td>5067.437155</td>\n",
       "      <td>19206.655962</td>\n",
       "      <td>4861.557508</td>\n",
       "      <td>13055.646853</td>\n",
       "      <td>19358.439179</td>\n",
       "      <td>7070.320482</td>\n",
       "      <td>66860.996319</td>\n",
       "      <td>53866.402926</td>\n",
       "      <td>4.017851</td>\n",
       "    </tr>\n",
       "    <tr>\n",
       "      <th>std</th>\n",
       "      <td>0.936296</td>\n",
       "      <td>3.725526</td>\n",
       "      <td>5827.675688</td>\n",
       "      <td>8.986606</td>\n",
       "      <td>2.637995</td>\n",
       "      <td>3902.380905</td>\n",
       "      <td>2.925528</td>\n",
       "      <td>23.203308</td>\n",
       "      <td>7.285566</td>\n",
       "      <td>37.299279</td>\n",
       "      <td>...</td>\n",
       "      <td>18299.174269</td>\n",
       "      <td>4215.541706</td>\n",
       "      <td>23749.881264</td>\n",
       "      <td>4084.822497</td>\n",
       "      <td>10759.321012</td>\n",
       "      <td>24745.353583</td>\n",
       "      <td>5963.469543</td>\n",
       "      <td>66364.332846</td>\n",
       "      <td>53145.701929</td>\n",
       "      <td>2.684621</td>\n",
       "    </tr>\n",
       "    <tr>\n",
       "      <th>min</th>\n",
       "      <td>0.000000</td>\n",
       "      <td>0.000000</td>\n",
       "      <td>0.000000</td>\n",
       "      <td>0.000000</td>\n",
       "      <td>0.000000</td>\n",
       "      <td>0.000000</td>\n",
       "      <td>0.000000</td>\n",
       "      <td>0.000000</td>\n",
       "      <td>0.000000</td>\n",
       "      <td>0.000000</td>\n",
       "      <td>...</td>\n",
       "      <td>0.000000</td>\n",
       "      <td>0.000000</td>\n",
       "      <td>0.000000</td>\n",
       "      <td>0.000000</td>\n",
       "      <td>0.000000</td>\n",
       "      <td>0.000000</td>\n",
       "      <td>0.000000</td>\n",
       "      <td>0.000000</td>\n",
       "      <td>0.000000</td>\n",
       "      <td>1.000000</td>\n",
       "    </tr>\n",
       "    <tr>\n",
       "      <th>25%</th>\n",
       "      <td>3.000000</td>\n",
       "      <td>3.000000</td>\n",
       "      <td>58.000000</td>\n",
       "      <td>3.000000</td>\n",
       "      <td>4.000000</td>\n",
       "      <td>37.000000</td>\n",
       "      <td>1.000000</td>\n",
       "      <td>6.000000</td>\n",
       "      <td>0.000000</td>\n",
       "      <td>13.000000</td>\n",
       "      <td>...</td>\n",
       "      <td>1124.000000</td>\n",
       "      <td>1321.000000</td>\n",
       "      <td>3262.000000</td>\n",
       "      <td>1158.750000</td>\n",
       "      <td>3108.000000</td>\n",
       "      <td>3130.750000</td>\n",
       "      <td>1964.750000</td>\n",
       "      <td>11990.250000</td>\n",
       "      <td>7706.000000</td>\n",
       "      <td>2.000000</td>\n",
       "    </tr>\n",
       "    <tr>\n",
       "      <th>50%</th>\n",
       "      <td>3.000000</td>\n",
       "      <td>3.000000</td>\n",
       "      <td>513.000000</td>\n",
       "      <td>12.000000</td>\n",
       "      <td>4.000000</td>\n",
       "      <td>364.000000</td>\n",
       "      <td>4.000000</td>\n",
       "      <td>11.000000</td>\n",
       "      <td>4.000000</td>\n",
       "      <td>19.000000</td>\n",
       "      <td>...</td>\n",
       "      <td>5585.500000</td>\n",
       "      <td>5323.500000</td>\n",
       "      <td>14902.000000</td>\n",
       "      <td>5129.500000</td>\n",
       "      <td>14752.000000</td>\n",
       "      <td>14921.000000</td>\n",
       "      <td>7437.500000</td>\n",
       "      <td>62384.500000</td>\n",
       "      <td>45639.000000</td>\n",
       "      <td>3.000000</td>\n",
       "    </tr>\n",
       "    <tr>\n",
       "      <th>75%</th>\n",
       "      <td>3.000000</td>\n",
       "      <td>4.000000</td>\n",
       "      <td>1652.500000</td>\n",
       "      <td>18.000000</td>\n",
       "      <td>6.000000</td>\n",
       "      <td>1044.000000</td>\n",
       "      <td>5.000000</td>\n",
       "      <td>17.000000</td>\n",
       "      <td>9.000000</td>\n",
       "      <td>33.250000</td>\n",
       "      <td>...</td>\n",
       "      <td>8464.250000</td>\n",
       "      <td>6040.250000</td>\n",
       "      <td>22314.500000</td>\n",
       "      <td>6020.250000</td>\n",
       "      <td>16078.000000</td>\n",
       "      <td>21464.750000</td>\n",
       "      <td>8414.500000</td>\n",
       "      <td>73929.500000</td>\n",
       "      <td>68580.000000</td>\n",
       "      <td>6.000000</td>\n",
       "    </tr>\n",
       "    <tr>\n",
       "      <th>max</th>\n",
       "      <td>34.000000</td>\n",
       "      <td>263.000000</td>\n",
       "      <td>107775.000000</td>\n",
       "      <td>85.000000</td>\n",
       "      <td>58.000000</td>\n",
       "      <td>86560.000000</td>\n",
       "      <td>21.000000</td>\n",
       "      <td>377.000000</td>\n",
       "      <td>166.000000</td>\n",
       "      <td>492.000000</td>\n",
       "      <td>...</td>\n",
       "      <td>189297.000000</td>\n",
       "      <td>24914.000000</td>\n",
       "      <td>214551.000000</td>\n",
       "      <td>25502.000000</td>\n",
       "      <td>63895.000000</td>\n",
       "      <td>212548.000000</td>\n",
       "      <td>38582.000000</td>\n",
       "      <td>397109.000000</td>\n",
       "      <td>322765.000000</td>\n",
       "      <td>9.000000</td>\n",
       "    </tr>\n",
       "  </tbody>\n",
       "</table>\n",
       "<p>8 rows × 1805 columns</p>\n",
       "</div>"
      ],
      "text/plain": [
       "            Virtual        Offset            loc        Import       Imports  \\\n",
       "count  10868.000000  10868.000000   10868.000000  10868.000000  10868.000000   \n",
       "mean       3.279076      3.500552    1990.713747     11.586861      4.934671   \n",
       "std        0.936296      3.725526    5827.675688      8.986606      2.637995   \n",
       "min        0.000000      0.000000       0.000000      0.000000      0.000000   \n",
       "25%        3.000000      3.000000      58.000000      3.000000      4.000000   \n",
       "50%        3.000000      3.000000     513.000000     12.000000      4.000000   \n",
       "75%        3.000000      4.000000    1652.500000     18.000000      6.000000   \n",
       "max       34.000000    263.000000  107775.000000     85.000000     58.000000   \n",
       "\n",
       "                var     Forwarder          UINT          LONG          BOOL  \\\n",
       "count  10868.000000  10868.000000  10868.000000  10868.000000  10868.000000   \n",
       "mean    1264.397957      3.845786     16.559717      5.552908     31.011502   \n",
       "std     3902.380905      2.925528     23.203308      7.285566     37.299279   \n",
       "min        0.000000      0.000000      0.000000      0.000000      0.000000   \n",
       "25%       37.000000      1.000000      6.000000      0.000000     13.000000   \n",
       "50%      364.000000      4.000000     11.000000      4.000000     19.000000   \n",
       "75%     1044.000000      5.000000     17.000000      9.000000     33.250000   \n",
       "max    86560.000000     21.000000    377.000000    166.000000    492.000000   \n",
       "\n",
       "           ...               Img99        Img100         Img101        Img102  \\\n",
       "count      ...        10868.000000  10868.000000   10868.000000  10868.000000   \n",
       "mean       ...        10840.809901   5067.437155   19206.655962   4861.557508   \n",
       "std        ...        18299.174269   4215.541706   23749.881264   4084.822497   \n",
       "min        ...            0.000000      0.000000       0.000000      0.000000   \n",
       "25%        ...         1124.000000   1321.000000    3262.000000   1158.750000   \n",
       "50%        ...         5585.500000   5323.500000   14902.000000   5129.500000   \n",
       "75%        ...         8464.250000   6040.250000   22314.500000   6020.250000   \n",
       "max        ...       189297.000000  24914.000000  214551.000000  25502.000000   \n",
       "\n",
       "             Img103         Img104        Img105         Img106  \\\n",
       "count  10868.000000   10868.000000  10868.000000   10868.000000   \n",
       "mean   13055.646853   19358.439179   7070.320482   66860.996319   \n",
       "std    10759.321012   24745.353583   5963.469543   66364.332846   \n",
       "min        0.000000       0.000000      0.000000       0.000000   \n",
       "25%     3108.000000    3130.750000   1964.750000   11990.250000   \n",
       "50%    14752.000000   14921.000000   7437.500000   62384.500000   \n",
       "75%    16078.000000   21464.750000   8414.500000   73929.500000   \n",
       "max    63895.000000  212548.000000  38582.000000  397109.000000   \n",
       "\n",
       "              Img107         Class  \n",
       "count   10868.000000  10868.000000  \n",
       "mean    53866.402926      4.017851  \n",
       "std     53145.701929      2.684621  \n",
       "min         0.000000      1.000000  \n",
       "25%      7706.000000      2.000000  \n",
       "50%     45639.000000      3.000000  \n",
       "75%     68580.000000      6.000000  \n",
       "max    322765.000000      9.000000  \n",
       "\n",
       "[8 rows x 1805 columns]"
      ]
     },
     "execution_count": 4,
     "metadata": {},
     "output_type": "execute_result"
    }
   ],
   "source": [
    "# statistic table of training dataset\n",
    "train.describe()"
   ]
  },
  {
   "cell_type": "code",
   "execution_count": 5,
   "metadata": {
    "collapsed": false
   },
   "outputs": [
    {
     "data": {
      "text/plain": [
       "['Ramnit (R)',\n",
       " 'Lollipop (L)',\n",
       " 'Kelihos_ver3 (K3)',\n",
       " 'Vundo (V)',\n",
       " 'Simda (S)',\n",
       " 'Tracur (T)',\n",
       " 'Kelihos_ver1 (K1)',\n",
       " 'Obfuscator.ACY (O)',\n",
       " 'Gatak(G)']"
      ]
     },
     "execution_count": 5,
     "metadata": {},
     "output_type": "execute_result"
    }
   ],
   "source": [
    "# get all class types\n",
    "classLabel = ['Ramnit (R)','Lollipop (L)', 'Kelihos_ver3 (K3)', 'Vundo (V)',\\\n",
    "                      'Simda (S)','Tracur (T)', 'Kelihos_ver1 (K1)', 'Obfuscator.ACY (O)', 'Gatak(G)']\n",
    "classLabel"
   ]
  },
  {
   "cell_type": "code",
   "execution_count": 6,
   "metadata": {
    "collapsed": false
   },
   "outputs": [
    {
     "name": "stdout",
     "output_type": "stream",
     "text": [
      "Numbers of rows in each class (Training Data)\n",
      "Ramnit (R) : 1541.0\n",
      "Lollipop (L) : 2478.0\n",
      "Kelihos_ver3 (K3) : 2942.0\n",
      "Vundo (V) : 475.0\n",
      "Simda (S) : 42.0\n",
      "Tracur (T) : 751.0\n",
      "Kelihos_ver1 (K1) : 398.0\n",
      "Obfuscator.ACY (O) : 1228.0\n",
      "Gatak(G) : 1013.0\n"
     ]
    }
   ],
   "source": [
    "# plot the class distribution of training data\n",
    "# observation on the statistics\n",
    "# count the amount\n",
    "countTrainRow_class = np.zeros(9)\n",
    "print('Numbers of rows in each class (Training Data)')\n",
    "for i in range(1,10):\n",
    "    countTrainRow_class[i-1] = sum(train.Class==i)\n",
    "    print(classLabel[i-1],':' , countTrainRow_class[i-1])"
   ]
  },
  {
   "cell_type": "code",
   "execution_count": 7,
   "metadata": {
    "collapsed": false
   },
   "outputs": [
    {
     "data": {
      "image/png": "[encoded data removed]",
      "text/plain": [
       "<matplotlib.figure.Figure at 0x119d39eb8>"
      ]
     },
     "metadata": {},
     "output_type": "display_data"
    }
   ],
   "source": [
    "# show the distribution\n",
    "ind = np.arange(9)+1.5\n",
    "plt.bar(ind,countTrainRow_class,0.6,color='skyblue',tick_label=\\\n",
    "        ['R','L','K3','V','S','T','K1','O','G'])\n",
    "plt.xlabel('Malware Class (Training Dataset)')\n",
    "plt.ylabel('Count')\n",
    "plt.title('The Distribution of Data Across Malware Families (Training Dataset)')\n",
    "plt.xticks(ind)\n",
    "plt.grid(True)\n",
    "plt.show() "
   ]
  },
  {
   "cell_type": "markdown",
   "metadata": {},
   "source": [
    "# Part II. Build Classification Models"
   ]
  },
  {
   "cell_type": "markdown",
   "metadata": {},
   "source": [
    "We utilized the sklearn packages to bulid up our classifier models, including random forest, extra trees, decision tree and AdaBoost. In order to realize the model performance, we added cross validation score from sklearn."
   ]
  },
  {
   "cell_type": "code",
   "execution_count": 8,
   "metadata": {
    "collapsed": true
   },
   "outputs": [],
   "source": [
    "# import packages\n",
    "import sklearn\n",
    "from sklearn.model_selection import cross_val_score\n",
    "from sklearn.ensemble import RandomForestClassifier\n",
    "from sklearn.ensemble import ExtraTreesClassifier\n",
    "from sklearn.tree import DecisionTreeClassifier\n",
    "from sklearn.ensemble import AdaBoostClassifier"
   ]
  },
  {
   "cell_type": "markdown",
   "metadata": {},
   "source": [
    "To separte the dataset into two parts: data (for building the model) and class (for identify their types)"
   ]
  },
  {
   "cell_type": "markdown",
   "metadata": {},
   "source": [
    "## 1. Preview the Training Dataset for Modeling of Classification"
   ]
  },
  {
   "cell_type": "markdown",
   "metadata": {},
   "source": [
    "<div align = \"justify\">Due to the features in the original training dataset, we need to separte the original training dataset into two parts, one is data, and the other is class type.  Moreover, we partition the original data into two subsets, 75% (8151) is for training, and 25% (2717) is for testing.  In order to obtain the best parameter value for model building, this study attempted to utilize 10 different parameters for testing to avoid model over-fitting.</div>"
   ]
  },
  {
   "cell_type": "markdown",
   "metadata": {},
   "source": [
    "### 1.1 Separte the Dataset for Features and Label"
   ]
  },
  {
   "cell_type": "code",
   "execution_count": 9,
   "metadata": {
    "collapsed": false
   },
   "outputs": [],
   "source": [
    "# features\n",
    "data = train[train.columns[np.arange(1804)]]\n",
    "# label\n",
    "classType = train[train.columns[1804]]"
   ]
  },
  {
   "cell_type": "markdown",
   "metadata": {},
   "source": [
    "### 1.2 Compute the Numbers of Data"
   ]
  },
  {
   "cell_type": "code",
   "execution_count": 10,
   "metadata": {
    "collapsed": false
   },
   "outputs": [
    {
     "name": "stdout",
     "output_type": "stream",
     "text": [
      "Number of Training Data:  8151\n",
      "Number of Test Data:  2717\n"
     ]
    }
   ],
   "source": [
    "# training part\n",
    "trainDataNum = data.shape[0]*0.75\n",
    "print('Number of Training Data: ', int(trainDataNum))\n",
    "# test part\n",
    "testDataNum = data.shape[0]*0.25\n",
    "print('Number of Test Data: ', int(testDataNum))"
   ]
  },
  {
   "cell_type": "markdown",
   "metadata": {},
   "source": [
    "### 1.3 Partition (70% for training and 30% for test)"
   ]
  },
  {
   "cell_type": "markdown",
   "metadata": {},
   "source": [
    "Partition the dataset by random sampling without replacement"
   ]
  },
  {
   "cell_type": "code",
   "execution_count": 11,
   "metadata": {
    "collapsed": false
   },
   "outputs": [
    {
     "name": "stdout",
     "output_type": "stream",
     "text": [
      "Training Data Index: \n",
      " [    2     3     4 ..., 10864 10865 10867]\n",
      "Test Data Index: \n",
      " [    0     1    10 ..., 10859 10863 10866]\n"
     ]
    }
   ],
   "source": [
    "# training part\n",
    "trainIndex = np.random.choice(data.shape[0], int(trainDataNum), replace=False)\n",
    "print('Training Data Index: \\n', np.sort(trainIndex))\n",
    "# test part\n",
    "trainSelect = np.in1d(range(data.shape[0]),trainIndex)\n",
    "print('Test Data Index: \\n', np.sort(np.arange(data.shape[0])[~trainSelect]))"
   ]
  },
  {
   "cell_type": "markdown",
   "metadata": {},
   "source": [
    "### 1.4 Extract the Dataset"
   ]
  },
  {
   "cell_type": "code",
   "execution_count": 12,
   "metadata": {
    "collapsed": false
   },
   "outputs": [
    {
     "data": {
      "text/html": [
       "<div>\n",
       "<table border=\"1\" class=\"dataframe\">\n",
       "  <thead>\n",
       "    <tr style=\"text-align: right;\">\n",
       "      <th></th>\n",
       "      <th>Virtual</th>\n",
       "      <th>Offset</th>\n",
       "      <th>loc</th>\n",
       "      <th>Import</th>\n",
       "      <th>Imports</th>\n",
       "      <th>var</th>\n",
       "      <th>Forwarder</th>\n",
       "      <th>UINT</th>\n",
       "      <th>LONG</th>\n",
       "      <th>BOOL</th>\n",
       "      <th>...</th>\n",
       "      <th>Img98</th>\n",
       "      <th>Img99</th>\n",
       "      <th>Img100</th>\n",
       "      <th>Img101</th>\n",
       "      <th>Img102</th>\n",
       "      <th>Img103</th>\n",
       "      <th>Img104</th>\n",
       "      <th>Img105</th>\n",
       "      <th>Img106</th>\n",
       "      <th>Img107</th>\n",
       "    </tr>\n",
       "  </thead>\n",
       "  <tbody>\n",
       "    <tr>\n",
       "      <th>2</th>\n",
       "      <td>3</td>\n",
       "      <td>4</td>\n",
       "      <td>2796</td>\n",
       "      <td>15</td>\n",
       "      <td>5</td>\n",
       "      <td>625</td>\n",
       "      <td>5</td>\n",
       "      <td>58</td>\n",
       "      <td>11</td>\n",
       "      <td>152</td>\n",
       "      <td>...</td>\n",
       "      <td>16918.0</td>\n",
       "      <td>29872.0</td>\n",
       "      <td>16910.0</td>\n",
       "      <td>31708.0</td>\n",
       "      <td>9000.0</td>\n",
       "      <td>17586.0</td>\n",
       "      <td>30719.0</td>\n",
       "      <td>30062.0</td>\n",
       "      <td>55331.0</td>\n",
       "      <td>12946.0</td>\n",
       "    </tr>\n",
       "    <tr>\n",
       "      <th>3</th>\n",
       "      <td>3</td>\n",
       "      <td>3</td>\n",
       "      <td>373</td>\n",
       "      <td>27</td>\n",
       "      <td>9</td>\n",
       "      <td>615</td>\n",
       "      <td>9</td>\n",
       "      <td>16</td>\n",
       "      <td>10</td>\n",
       "      <td>34</td>\n",
       "      <td>...</td>\n",
       "      <td>9734.0</td>\n",
       "      <td>10742.0</td>\n",
       "      <td>9755.0</td>\n",
       "      <td>26992.0</td>\n",
       "      <td>9069.0</td>\n",
       "      <td>24885.0</td>\n",
       "      <td>27108.0</td>\n",
       "      <td>13219.0</td>\n",
       "      <td>122247.0</td>\n",
       "      <td>98621.0</td>\n",
       "    </tr>\n",
       "    <tr>\n",
       "      <th>4</th>\n",
       "      <td>3</td>\n",
       "      <td>3</td>\n",
       "      <td>77</td>\n",
       "      <td>12</td>\n",
       "      <td>4</td>\n",
       "      <td>66</td>\n",
       "      <td>4</td>\n",
       "      <td>3</td>\n",
       "      <td>0</td>\n",
       "      <td>5</td>\n",
       "      <td>...</td>\n",
       "      <td>1256.0</td>\n",
       "      <td>962.0</td>\n",
       "      <td>1307.0</td>\n",
       "      <td>3119.0</td>\n",
       "      <td>1172.0</td>\n",
       "      <td>3522.0</td>\n",
       "      <td>3245.0</td>\n",
       "      <td>2001.0</td>\n",
       "      <td>15501.0</td>\n",
       "      <td>11864.0</td>\n",
       "    </tr>\n",
       "    <tr>\n",
       "      <th>5</th>\n",
       "      <td>3</td>\n",
       "      <td>3</td>\n",
       "      <td>86</td>\n",
       "      <td>6</td>\n",
       "      <td>2</td>\n",
       "      <td>6</td>\n",
       "      <td>2</td>\n",
       "      <td>0</td>\n",
       "      <td>0</td>\n",
       "      <td>1</td>\n",
       "      <td>...</td>\n",
       "      <td>597.0</td>\n",
       "      <td>474.0</td>\n",
       "      <td>561.0</td>\n",
       "      <td>1389.0</td>\n",
       "      <td>581.0</td>\n",
       "      <td>1537.0</td>\n",
       "      <td>1293.0</td>\n",
       "      <td>1275.0</td>\n",
       "      <td>7048.0</td>\n",
       "      <td>6164.0</td>\n",
       "    </tr>\n",
       "    <tr>\n",
       "      <th>6</th>\n",
       "      <td>3</td>\n",
       "      <td>3</td>\n",
       "      <td>469</td>\n",
       "      <td>21</td>\n",
       "      <td>7</td>\n",
       "      <td>291</td>\n",
       "      <td>7</td>\n",
       "      <td>43</td>\n",
       "      <td>15</td>\n",
       "      <td>82</td>\n",
       "      <td>...</td>\n",
       "      <td>15658.0</td>\n",
       "      <td>33452.0</td>\n",
       "      <td>15370.0</td>\n",
       "      <td>63663.0</td>\n",
       "      <td>15581.0</td>\n",
       "      <td>42067.0</td>\n",
       "      <td>63996.0</td>\n",
       "      <td>21127.0</td>\n",
       "      <td>221716.0</td>\n",
       "      <td>176170.0</td>\n",
       "    </tr>\n",
       "  </tbody>\n",
       "</table>\n",
       "<p>5 rows × 1804 columns</p>\n",
       "</div>"
      ],
      "text/plain": [
       "   Virtual  Offset   loc  Import  Imports  var  Forwarder  UINT  LONG  BOOL  \\\n",
       "2        3       4  2796      15        5  625          5    58    11   152   \n",
       "3        3       3   373      27        9  615          9    16    10    34   \n",
       "4        3       3    77      12        4   66          4     3     0     5   \n",
       "5        3       3    86       6        2    6          2     0     0     1   \n",
       "6        3       3   469      21        7  291          7    43    15    82   \n",
       "\n",
       "     ...       Img98    Img99   Img100   Img101   Img102   Img103   Img104  \\\n",
       "2    ...     16918.0  29872.0  16910.0  31708.0   9000.0  17586.0  30719.0   \n",
       "3    ...      9734.0  10742.0   9755.0  26992.0   9069.0  24885.0  27108.0   \n",
       "4    ...      1256.0    962.0   1307.0   3119.0   1172.0   3522.0   3245.0   \n",
       "5    ...       597.0    474.0    561.0   1389.0    581.0   1537.0   1293.0   \n",
       "6    ...     15658.0  33452.0  15370.0  63663.0  15581.0  42067.0  63996.0   \n",
       "\n",
       "    Img105    Img106    Img107  \n",
       "2  30062.0   55331.0   12946.0  \n",
       "3  13219.0  122247.0   98621.0  \n",
       "4   2001.0   15501.0   11864.0  \n",
       "5   1275.0    7048.0    6164.0  \n",
       "6  21127.0  221716.0  176170.0  \n",
       "\n",
       "[5 rows x 1804 columns]"
      ]
     },
     "execution_count": 12,
     "metadata": {},
     "output_type": "execute_result"
    }
   ],
   "source": [
    "# extract training dataset (features and label)\n",
    "trainData = data[trainSelect]\n",
    "trainClass = classType[trainSelect]\n",
    "trainData.head()"
   ]
  },
  {
   "cell_type": "code",
   "execution_count": 13,
   "metadata": {
    "collapsed": false
   },
   "outputs": [
    {
     "data": {
      "text/html": [
       "<div>\n",
       "<table border=\"1\" class=\"dataframe\">\n",
       "  <thead>\n",
       "    <tr style=\"text-align: right;\">\n",
       "      <th></th>\n",
       "      <th>Virtual</th>\n",
       "      <th>Offset</th>\n",
       "      <th>loc</th>\n",
       "      <th>Import</th>\n",
       "      <th>Imports</th>\n",
       "      <th>var</th>\n",
       "      <th>Forwarder</th>\n",
       "      <th>UINT</th>\n",
       "      <th>LONG</th>\n",
       "      <th>BOOL</th>\n",
       "      <th>...</th>\n",
       "      <th>Img98</th>\n",
       "      <th>Img99</th>\n",
       "      <th>Img100</th>\n",
       "      <th>Img101</th>\n",
       "      <th>Img102</th>\n",
       "      <th>Img103</th>\n",
       "      <th>Img104</th>\n",
       "      <th>Img105</th>\n",
       "      <th>Img106</th>\n",
       "      <th>Img107</th>\n",
       "    </tr>\n",
       "  </thead>\n",
       "  <tbody>\n",
       "    <tr>\n",
       "      <th>0</th>\n",
       "      <td>3</td>\n",
       "      <td>3</td>\n",
       "      <td>689</td>\n",
       "      <td>18</td>\n",
       "      <td>6</td>\n",
       "      <td>890</td>\n",
       "      <td>6</td>\n",
       "      <td>39</td>\n",
       "      <td>17</td>\n",
       "      <td>88</td>\n",
       "      <td>...</td>\n",
       "      <td>8658.0</td>\n",
       "      <td>35148.0</td>\n",
       "      <td>8687.0</td>\n",
       "      <td>55835.0</td>\n",
       "      <td>9078.0</td>\n",
       "      <td>21355.0</td>\n",
       "      <td>56302.0</td>\n",
       "      <td>10380.0</td>\n",
       "      <td>171979.0</td>\n",
       "      <td>162674.0</td>\n",
       "    </tr>\n",
       "    <tr>\n",
       "      <th>1</th>\n",
       "      <td>3</td>\n",
       "      <td>3</td>\n",
       "      <td>583</td>\n",
       "      <td>15</td>\n",
       "      <td>5</td>\n",
       "      <td>1574</td>\n",
       "      <td>5</td>\n",
       "      <td>6</td>\n",
       "      <td>7</td>\n",
       "      <td>30</td>\n",
       "      <td>...</td>\n",
       "      <td>650.0</td>\n",
       "      <td>571.0</td>\n",
       "      <td>718.0</td>\n",
       "      <td>1762.0</td>\n",
       "      <td>642.0</td>\n",
       "      <td>1820.0</td>\n",
       "      <td>1675.0</td>\n",
       "      <td>1100.0</td>\n",
       "      <td>7702.0</td>\n",
       "      <td>6551.0</td>\n",
       "    </tr>\n",
       "    <tr>\n",
       "      <th>10</th>\n",
       "      <td>3</td>\n",
       "      <td>3</td>\n",
       "      <td>1158</td>\n",
       "      <td>9</td>\n",
       "      <td>3</td>\n",
       "      <td>649</td>\n",
       "      <td>3</td>\n",
       "      <td>16</td>\n",
       "      <td>6</td>\n",
       "      <td>17</td>\n",
       "      <td>...</td>\n",
       "      <td>5685.0</td>\n",
       "      <td>21872.0</td>\n",
       "      <td>5509.0</td>\n",
       "      <td>30665.0</td>\n",
       "      <td>5760.0</td>\n",
       "      <td>15170.0</td>\n",
       "      <td>31884.0</td>\n",
       "      <td>7785.0</td>\n",
       "      <td>97977.0</td>\n",
       "      <td>77527.0</td>\n",
       "    </tr>\n",
       "    <tr>\n",
       "      <th>21</th>\n",
       "      <td>3</td>\n",
       "      <td>3</td>\n",
       "      <td>536</td>\n",
       "      <td>9</td>\n",
       "      <td>3</td>\n",
       "      <td>198</td>\n",
       "      <td>3</td>\n",
       "      <td>15</td>\n",
       "      <td>6</td>\n",
       "      <td>21</td>\n",
       "      <td>...</td>\n",
       "      <td>8463.0</td>\n",
       "      <td>76048.0</td>\n",
       "      <td>8060.0</td>\n",
       "      <td>88793.0</td>\n",
       "      <td>8461.0</td>\n",
       "      <td>22325.0</td>\n",
       "      <td>95690.0</td>\n",
       "      <td>10854.0</td>\n",
       "      <td>196587.0</td>\n",
       "      <td>116363.0</td>\n",
       "    </tr>\n",
       "    <tr>\n",
       "      <th>22</th>\n",
       "      <td>6</td>\n",
       "      <td>6</td>\n",
       "      <td>366</td>\n",
       "      <td>0</td>\n",
       "      <td>8</td>\n",
       "      <td>497</td>\n",
       "      <td>0</td>\n",
       "      <td>11</td>\n",
       "      <td>1</td>\n",
       "      <td>13</td>\n",
       "      <td>...</td>\n",
       "      <td>6786.0</td>\n",
       "      <td>6231.0</td>\n",
       "      <td>6705.0</td>\n",
       "      <td>18512.0</td>\n",
       "      <td>6272.0</td>\n",
       "      <td>18214.0</td>\n",
       "      <td>17569.0</td>\n",
       "      <td>8761.0</td>\n",
       "      <td>72685.0</td>\n",
       "      <td>38583.0</td>\n",
       "    </tr>\n",
       "  </tbody>\n",
       "</table>\n",
       "<p>5 rows × 1804 columns</p>\n",
       "</div>"
      ],
      "text/plain": [
       "    Virtual  Offset   loc  Import  Imports   var  Forwarder  UINT  LONG  BOOL  \\\n",
       "0         3       3   689      18        6   890          6    39    17    88   \n",
       "1         3       3   583      15        5  1574          5     6     7    30   \n",
       "10        3       3  1158       9        3   649          3    16     6    17   \n",
       "21        3       3   536       9        3   198          3    15     6    21   \n",
       "22        6       6   366       0        8   497          0    11     1    13   \n",
       "\n",
       "      ...      Img98    Img99  Img100   Img101  Img102   Img103   Img104  \\\n",
       "0     ...     8658.0  35148.0  8687.0  55835.0  9078.0  21355.0  56302.0   \n",
       "1     ...      650.0    571.0   718.0   1762.0   642.0   1820.0   1675.0   \n",
       "10    ...     5685.0  21872.0  5509.0  30665.0  5760.0  15170.0  31884.0   \n",
       "21    ...     8463.0  76048.0  8060.0  88793.0  8461.0  22325.0  95690.0   \n",
       "22    ...     6786.0   6231.0  6705.0  18512.0  6272.0  18214.0  17569.0   \n",
       "\n",
       "     Img105    Img106    Img107  \n",
       "0   10380.0  171979.0  162674.0  \n",
       "1    1100.0    7702.0    6551.0  \n",
       "10   7785.0   97977.0   77527.0  \n",
       "21  10854.0  196587.0  116363.0  \n",
       "22   8761.0   72685.0   38583.0  \n",
       "\n",
       "[5 rows x 1804 columns]"
      ]
     },
     "execution_count": 13,
     "metadata": {},
     "output_type": "execute_result"
    }
   ],
   "source": [
    "# extract test dataset (features and label)\n",
    "testData = data[~trainSelect]\n",
    "testClass = classType[~trainSelect]\n",
    "testData.head()"
   ]
  },
  {
   "cell_type": "markdown",
   "metadata": {},
   "source": [
    "### 1.5 View the Numbers of Training and Test Data"
   ]
  },
  {
   "cell_type": "code",
   "execution_count": 14,
   "metadata": {
    "collapsed": false
   },
   "outputs": [
    {
     "name": "stdout",
     "output_type": "stream",
     "text": [
      "Numbers of rows in each class (Training Data)\n",
      "Ramnit (R) : 1144.0\n",
      "Lollipop (L) : 1858.0\n",
      "Kelihos_ver3 (K3) : 2195.0\n",
      "Vundo (V) : 350.0\n",
      "Simda (S) : 31.0\n",
      "Tracur (T) : 563.0\n",
      "Kelihos_ver1 (K1) : 296.0\n",
      "Obfuscator.ACY (O) : 946.0\n",
      "Gatak(G) : 768.0\n"
     ]
    }
   ],
   "source": [
    "# plot the class distribution of training data\n",
    "# observation on the statistics\n",
    "# count the amount\n",
    "countTrainDataRow_class = np.zeros(9)\n",
    "print('Numbers of rows in each class (Training Data)')\n",
    "for i in range(1,10):\n",
    "    countTrainDataRow_class[i-1] = sum(trainClass==i)\n",
    "    print(classLabel[i-1],':' , countTrainDataRow_class[i-1])"
   ]
  },
  {
   "cell_type": "code",
   "execution_count": 15,
   "metadata": {
    "collapsed": false
   },
   "outputs": [
    {
     "name": "stdout",
     "output_type": "stream",
     "text": [
      "Numbers of rows in each class (Test Data)\n",
      "Ramnit (R) : 397.0\n",
      "Lollipop (L) : 620.0\n",
      "Kelihos_ver3 (K3) : 747.0\n",
      "Vundo (V) : 125.0\n",
      "Simda (S) : 11.0\n",
      "Tracur (T) : 188.0\n",
      "Kelihos_ver1 (K1) : 102.0\n",
      "Obfuscator.ACY (O) : 282.0\n",
      "Gatak(G) : 245.0\n"
     ]
    }
   ],
   "source": [
    "# plot the class distribution of test data\n",
    "# observation on the statistics\n",
    "# count the amount\n",
    "countTestDataRow_class = np.zeros(9)\n",
    "print('Numbers of rows in each class (Test Data)')\n",
    "for i in range(1,10):\n",
    "    countTestDataRow_class[i-1] = sum(testClass==i)\n",
    "    print(classLabel[i-1],':' , countTestDataRow_class[i-1])"
   ]
  },
  {
   "cell_type": "markdown",
   "metadata": {},
   "source": [
    "### 1.6 View the Training and Test Data Distribution"
   ]
  },
  {
   "cell_type": "code",
   "execution_count": 16,
   "metadata": {
    "collapsed": false
   },
   "outputs": [
    {
     "data": {
      "image/png": "[encoded data removed]",
      "text/plain": [
       "<matplotlib.figure.Figure at 0x13c3a00b8>"
      ]
     },
     "metadata": {},
     "output_type": "display_data"
    }
   ],
   "source": [
    "# show the distribution\n",
    "ind = np.arange(9)+1.5\n",
    "plt.bar(ind,countTrainDataRow_class,0.6,color='skyblue',tick_label=\\\n",
    "        ['R','L','K3','V','S','T','K1','O','G'])\n",
    "plt.xlabel('Malware Class (Training Dataset)')\n",
    "plt.ylabel('Count')\n",
    "plt.title('The Distribution of Data Across Malware Families (Training Dataset)')\n",
    "plt.xticks(ind)\n",
    "plt.grid(True)\n",
    "plt.show() "
   ]
  },
  {
   "cell_type": "code",
   "execution_count": 17,
   "metadata": {
    "collapsed": false
   },
   "outputs": [
    {
     "data": {
      "image/png": "[encoded data removed]",
      "text/plain": [
       "<matplotlib.figure.Figure at 0x13c451438>"
      ]
     },
     "metadata": {},
     "output_type": "display_data"
    }
   ],
   "source": [
    "# show the distribution\n",
    "ind = np.arange(9)+1.5\n",
    "plt.bar(ind,countTestDataRow_class,0.6,color='skyblue',tick_label=\\\n",
    "        ['R','L','K3','V','S','T','K1','O','G'])\n",
    "plt.xlabel('Malware Class (Test Dataset)')\n",
    "plt.ylabel('Count')\n",
    "plt.title('The Distribution of Data Across Malware Families (Test Dataset)')\n",
    "plt.xticks(ind)\n",
    "plt.grid(True)\n",
    "plt.show() "
   ]
  },
  {
   "cell_type": "markdown",
   "metadata": {},
   "source": [
    "## 2. Build the Classification Models"
   ]
  },
  {
   "cell_type": "markdown",
   "metadata": {},
   "source": [
    "In order to figure the best parameter value for model building, we attempted to accept the cross validationa and different to aviod over-fitting problem."
   ]
  },
  {
   "cell_type": "markdown",
   "metadata": {},
   "source": [
    "## 2.1 Basic Setting"
   ]
  },
  {
   "cell_type": "code",
   "execution_count": 18,
   "metadata": {
    "collapsed": true
   },
   "outputs": [],
   "source": [
    "# in order to measure the run time of classification, we adopted \"timeit\" packages to calculate the duration time.\n",
    "import timeit"
   ]
  },
  {
   "cell_type": "code",
   "execution_count": 19,
   "metadata": {
    "collapsed": true
   },
   "outputs": [],
   "source": [
    "parameters = np.array([5,10,15,20,25,30,35,40])\n",
    "parameters1 = np.array([2,4,6,8,10,12,14,16])"
   ]
  },
  {
   "cell_type": "markdown",
   "metadata": {},
   "source": [
    "## 2.2 Parameter Optimization"
   ]
  },
  {
   "cell_type": "markdown",
   "metadata": {},
   "source": [
    "### 2.2.1 Declare Variables"
   ]
  },
  {
   "cell_type": "code",
   "execution_count": 20,
   "metadata": {
    "collapsed": false
   },
   "outputs": [],
   "source": [
    "rfc_trainScores = np.zeros((10, parameters.shape[0]))\n",
    "rfc_testScores = np.zeros((10, parameters.shape[0]))\n",
    "\n",
    "dtc_trainScores = np.zeros((10, parameters.shape[0]))\n",
    "dtc_testScores = np.zeros((10, parameters.shape[0]))\n",
    "\n",
    "etc_trainScores = np.zeros((10, parameters.shape[0]))\n",
    "etc_testScores = np.zeros((10, parameters.shape[0]))\n",
    "\n",
    "abc_trainScores = np.zeros((10, parameters.shape[0]))\n",
    "abc_testScores = np.zeros((10, parameters.shape[0]))"
   ]
  },
  {
   "cell_type": "markdown",
   "metadata": {},
   "source": [
    "### 2.2.2 Model Fitting for Different Parameters <br/ ><br/ >A. Random Forest Classification"
   ]
  },
  {
   "cell_type": "code",
   "execution_count": 21,
   "metadata": {
    "collapsed": false,
    "scrolled": true
   },
   "outputs": [
    {
     "name": "stdout",
     "output_type": "stream",
     "text": [
      "RFC training time:  106.85335486999247\n"
     ]
    }
   ],
   "source": [
    "# for the training part\n",
    "# start to count\n",
    "start = timeit.default_timer()\n",
    "\n",
    "# model fitting\n",
    "for i in range(0,parameters.shape[0]):\n",
    "    # define the parameters\n",
    "    para = parameters[i] \n",
    "    # build random forest classification model\n",
    "    rfc_clf = RandomForestClassifier(n_estimators=para, max_depth=None, min_samples_split=2, random_state=0)\n",
    "    # cross validation with 10-fold validation for random forest classification\n",
    "    x = cross_val_score(rfc_clf, trainData, trainClass, cv=10)\n",
    "    # store the score of each run in the column\n",
    "    rfc_trainScores[:,i] = x\n",
    "\n",
    "# stop to count\n",
    "stop = timeit.default_timer()\n",
    "print ('RFC training time: ', stop - start) "
   ]
  },
  {
   "cell_type": "code",
   "execution_count": 22,
   "metadata": {
    "collapsed": false
   },
   "outputs": [
    {
     "name": "stdout",
     "output_type": "stream",
     "text": [
      "RFC test time:  30.670627857005456\n"
     ]
    }
   ],
   "source": [
    "# for the test part\n",
    "# start to count\n",
    "start = timeit.default_timer()\n",
    "\n",
    "# model fitting\n",
    "for i in range(0,parameters.shape[0]):\n",
    "    # define the parameters\n",
    "    para = parameters[i] \n",
    "    # build random forest classification model\n",
    "    rfc_clf = RandomForestClassifier(n_estimators=para, max_depth=None, min_samples_split=2, random_state=0)\n",
    "    # cross validation with 10-fold validation for random forest classification\n",
    "    x = cross_val_score(rfc_clf, testData, testClass, cv=10)\n",
    "    # store the score of each run in the column\n",
    "    rfc_testScores[:,i] = x\n",
    "\n",
    "# stop to count\n",
    "stop = timeit.default_timer()\n",
    "print ('RFC test time: ', stop - start) "
   ]
  },
  {
   "cell_type": "markdown",
   "metadata": {},
   "source": [
    "### B. Decision Tree Classification"
   ]
  },
  {
   "cell_type": "code",
   "execution_count": 23,
   "metadata": {
    "collapsed": false
   },
   "outputs": [
    {
     "name": "stdout",
     "output_type": "stream",
     "text": [
      "DTC training time:  208.84502588299802\n"
     ]
    }
   ],
   "source": [
    "# for the training part\n",
    "# start to count\n",
    "start = timeit.default_timer()\n",
    "\n",
    "# model fitting\n",
    "for i in range(0,parameters1.shape[0]):\n",
    "    # define the parameters\n",
    "    para = parameters1[i] \n",
    "    # build random forest classification model\n",
    "    dtc_clf = DecisionTreeClassifier(max_depth=None, min_samples_split=para,random_state=0)\n",
    "    # cross validation with 10-fold validation for random forest classification\n",
    "    x = cross_val_score(dtc_clf, trainData, trainClass, cv=10)\n",
    "    # store the score of each run in the column\n",
    "    dtc_trainScores[:,i] = x\n",
    "\n",
    "# stop to count\n",
    "stop = timeit.default_timer()\n",
    "print ('DTC training time: ', stop - start)"
   ]
  },
  {
   "cell_type": "code",
   "execution_count": 24,
   "metadata": {
    "collapsed": false
   },
   "outputs": [
    {
     "name": "stdout",
     "output_type": "stream",
     "text": [
      "DTC test time:  65.13868699000159\n"
     ]
    }
   ],
   "source": [
    "# for the test part\n",
    "# start to count\n",
    "start = timeit.default_timer()\n",
    "\n",
    "# model fitting\n",
    "for i in range(0,parameters1.shape[0]):\n",
    "    # define the parameters\n",
    "    para = parameters1[i] \n",
    "    # build random forest classification model\n",
    "    dtc_clf = DecisionTreeClassifier(max_depth=None, min_samples_split=para,random_state=0)\n",
    "    # cross validation with 10-fold validation for random forest classification\n",
    "    x = cross_val_score(dtc_clf, testData, testClass, cv=10)\n",
    "    # store the score of each run in the column\n",
    "    dtc_testScores[:,i] = x\n",
    "\n",
    "# stop to count\n",
    "stop = timeit.default_timer()\n",
    "print ('DTC test time: ', stop - start) "
   ]
  },
  {
   "cell_type": "markdown",
   "metadata": {},
   "source": [
    "### C. Extra Trees Classification"
   ]
  },
  {
   "cell_type": "code",
   "execution_count": 25,
   "metadata": {
    "collapsed": false
   },
   "outputs": [
    {
     "name": "stdout",
     "output_type": "stream",
     "text": [
      "ETC training time:  52.23110336599348\n"
     ]
    }
   ],
   "source": [
    "# for the training part\n",
    "# start to count\n",
    "start = timeit.default_timer()\n",
    "\n",
    "# model fitting\n",
    "for i in range(0,parameters.shape[0]):\n",
    "    # define the parameters\n",
    "    para = parameters[i] \n",
    "    # build random forest classification model\n",
    "    etc_clf = ExtraTreesClassifier(n_estimators=para, max_depth=None, min_samples_split=2, random_state=0)\n",
    "    # cross validation with 10-fold validation for random forest classification\n",
    "    x = cross_val_score(etc_clf, trainData, trainClass, cv=10)\n",
    "    # store the score of each run in the column\n",
    "    etc_trainScores[:,i] = x\n",
    "\n",
    "# stop to count\n",
    "stop = timeit.default_timer()\n",
    "print ('ETC training time: ', stop - start)"
   ]
  },
  {
   "cell_type": "code",
   "execution_count": 26,
   "metadata": {
    "collapsed": false
   },
   "outputs": [
    {
     "name": "stdout",
     "output_type": "stream",
     "text": [
      "ETC test time:  14.977865078006289\n"
     ]
    }
   ],
   "source": [
    "# for the test part\n",
    "# start to count\n",
    "start = timeit.default_timer()\n",
    "\n",
    "# model fitting\n",
    "for i in range(0,parameters.shape[0]):\n",
    "    # define the parameters\n",
    "    para = parameters[i] \n",
    "    # build random forest classification model\n",
    "    etc_clf = ExtraTreesClassifier(n_estimators=para, max_depth=None, min_samples_split=2, random_state=0)\n",
    "    # cross validation with 10-fold validation for random forest classification\n",
    "    x = cross_val_score(etc_clf, testData, testClass, cv=10)\n",
    "    # store the score of each run in the column\n",
    "    etc_testScores[:,i] = x\n",
    "\n",
    "# stop to count\n",
    "stop = timeit.default_timer()\n",
    "print ('ETC test time: ', stop - start) "
   ]
  },
  {
   "cell_type": "markdown",
   "metadata": {},
   "source": [
    "### D. AdaBoost Classification"
   ]
  },
  {
   "cell_type": "code",
   "execution_count": 32,
   "metadata": {
    "collapsed": false
   },
   "outputs": [
    {
     "name": "stdout",
     "output_type": "stream",
     "text": [
      "ABC training time:  820.7306321509968\n"
     ]
    }
   ],
   "source": [
    "# for the training part\n",
    "# start to count\n",
    "start = timeit.default_timer()\n",
    "\n",
    "# model fitting\n",
    "for i in range(0,parameters.shape[0]):\n",
    "    # define the parameters\n",
    "    para = parameters[i] \n",
    "    # build random forest classification model\n",
    "    abc_clf = AdaBoostClassifier(n_estimators=para)\n",
    "    # cross validation with 10-fold validation for random forest classification\n",
    "    x = cross_val_score(abc_clf, trainData, trainClass, cv=10)\n",
    "    # store the score of each run in the column\n",
    "    abc_trainScores[:,i] = x\n",
    "\n",
    "# stop to count\n",
    "stop = timeit.default_timer()\n",
    "print ('ABC training time: ', stop - start)"
   ]
  },
  {
   "cell_type": "code",
   "execution_count": 34,
   "metadata": {
    "collapsed": false
   },
   "outputs": [
    {
     "name": "stdout",
     "output_type": "stream",
     "text": [
      "ABC test time:  287.01182108301145\n"
     ]
    }
   ],
   "source": [
    "# for the test part\n",
    "# start to count\n",
    "start = timeit.default_timer()\n",
    "\n",
    "# model fitting\n",
    "for i in range(0,parameters.shape[0]):\n",
    "    # define the parameters\n",
    "    para = parameters[i] \n",
    "    # build random forest classification model\n",
    "    abc_clf = AdaBoostClassifier(n_estimators=para)\n",
    "    # cross validation with 10-fold validation for random forest classification\n",
    "    x = cross_val_score(abc_clf, testData, testClass, cv=10)\n",
    "    # store the score of each run in the column\n",
    "    abc_testScores[:,i] = x\n",
    "\n",
    "# stop to count\n",
    "stop = timeit.default_timer()\n",
    "print ('ABC test time: ', stop - start) "
   ]
  },
  {
   "cell_type": "markdown",
   "metadata": {},
   "source": [
    "### 2.2.3 Statistic Analysis for Modeling"
   ]
  },
  {
   "cell_type": "markdown",
   "metadata": {},
   "source": [
    "### A. Random Forest Classification"
   ]
  },
  {
   "cell_type": "code",
   "execution_count": 35,
   "metadata": {
    "collapsed": false
   },
   "outputs": [],
   "source": [
    "# compute the average scores of each run from cross validation results\n",
    "# training part\n",
    "rfc_AVGtrainScores = np.zeros(parameters.shape[0])\n",
    "rfc_STDtrainScores = np.zeros(parameters.shape[0])\n",
    "for i in range(0,parameters.shape[0]):\n",
    "    rfc_AVGtrainScores[i] = np.mean(rfc_trainScores[:,i])\n",
    "    rfc_STDtrainScores[i] = np.std(rfc_trainScores[:,i])\n",
    "    \n",
    "# test part\n",
    "rfc_AVGtestScores = np.zeros(parameters.shape[0])\n",
    "rfc_STDtestScores = np.zeros(parameters.shape[0])\n",
    "for i in range(0,parameters.shape[0]):\n",
    "    rfc_AVGtestScores[i] = np.mean(rfc_testScores[:,i])\n",
    "    rfc_STDtestScores[i] = np.std(rfc_testScores[:,i])"
   ]
  },
  {
   "cell_type": "markdown",
   "metadata": {},
   "source": [
    "### B. Decision Tree Classification"
   ]
  },
  {
   "cell_type": "code",
   "execution_count": 36,
   "metadata": {
    "collapsed": true
   },
   "outputs": [],
   "source": [
    "# compute the average scores of each run from cross validation results\n",
    "# training part\n",
    "dtc_AVGtrainScores = np.zeros(parameters1.shape[0])\n",
    "dtc_STDtrainScores = np.zeros(parameters1.shape[0])\n",
    "for i in range(0,parameters1.shape[0]):\n",
    "    dtc_AVGtrainScores[i] = np.mean(dtc_trainScores[:,i])\n",
    "    dtc_STDtrainScores[i] = np.std(dtc_trainScores[:,i])\n",
    "    \n",
    "# test part\n",
    "dtc_AVGtestScores = np.zeros(parameters1.shape[0])\n",
    "dtc_STDtestScores = np.zeros(parameters1.shape[0])\n",
    "for i in range(0,parameters1.shape[0]):\n",
    "    dtc_AVGtestScores[i] = np.mean(dtc_testScores[:,i])\n",
    "    dtc_STDtestScores[i] = np.std(dtc_testScores[:,i])"
   ]
  },
  {
   "cell_type": "markdown",
   "metadata": {},
   "source": [
    "### C. Extra Trees Classification"
   ]
  },
  {
   "cell_type": "code",
   "execution_count": 37,
   "metadata": {
    "collapsed": true
   },
   "outputs": [],
   "source": [
    "# compute the average scores of each run from cross validation results\n",
    "# training part\n",
    "etc_AVGtrainScores = np.zeros(parameters1.shape[0])\n",
    "etc_STDtrainScores = np.zeros(parameters1.shape[0])\n",
    "for i in range(0,parameters1.shape[0]):\n",
    "    etc_AVGtrainScores[i] = np.mean(etc_trainScores[:,i])\n",
    "    etc_STDtrainScores[i] = np.std(etc_trainScores[:,i])\n",
    "    \n",
    "# test part\n",
    "etc_AVGtestScores = np.zeros(parameters1.shape[0])\n",
    "etc_STDtestScores = np.zeros(parameters1.shape[0])\n",
    "for i in range(0,parameters1.shape[0]):\n",
    "    etc_AVGtestScores[i] = np.mean(etc_testScores[:,i])\n",
    "    etc_STDtestScores[i] = np.std(etc_testScores[:,i])"
   ]
  },
  {
   "cell_type": "markdown",
   "metadata": {},
   "source": [
    "### D. AdaBoost Classification"
   ]
  },
  {
   "cell_type": "code",
   "execution_count": 38,
   "metadata": {
    "collapsed": true
   },
   "outputs": [],
   "source": [
    "# compute the average scores of each run from cross validation results\n",
    "# training part\n",
    "abc_AVGtrainScores = np.zeros(parameters.shape[0])\n",
    "abc_STDtrainScores = np.zeros(parameters.shape[0])\n",
    "for i in range(0,parameters.shape[0]):\n",
    "    abc_AVGtrainScores[i] = np.mean(abc_trainScores[:,i])\n",
    "    abc_STDtrainScores[i] = np.std(abc_trainScores[:,i])\n",
    "    \n",
    "# test part\n",
    "abc_AVGtestScores = np.zeros(parameters.shape[0])\n",
    "abc_STDtestScores = np.zeros(parameters.shape[0])\n",
    "for i in range(0,parameters.shape[0]):\n",
    "    abc_AVGtestScores[i] = np.mean(abc_testScores[:,i])\n",
    "    abc_STDtestScores[i] = np.std(abc_testScores[:,i])"
   ]
  },
  {
   "cell_type": "markdown",
   "metadata": {},
   "source": [
    "### 2.2.4 Plot the Accuracy Distribution of Each Parameter"
   ]
  },
  {
   "cell_type": "markdown",
   "metadata": {},
   "source": [
    "### A. Random Forest Classification"
   ]
  },
  {
   "cell_type": "code",
   "execution_count": 39,
   "metadata": {
    "collapsed": false
   },
   "outputs": [
    {
     "data": {
      "image/png": "[encoded data removed]",
      "text/plain": [
       "<matplotlib.figure.Figure at 0x145b0fc18>"
      ]
     },
     "metadata": {},
     "output_type": "display_data"
    }
   ],
   "source": [
    "# show the accuracy for each parameter\n",
    "# training parameter accuracy\n",
    "plt.rcParams[\"figure.figsize\"] = (12,9)\n",
    "plt.rc('font', size=12)\n",
    "f, (ax1, ax2, ax3) = plt.subplots(3, sharex=True, sharey=True)\n",
    "ax1.boxplot(rfc_trainScores)\n",
    "ax1.legend(['train'])\n",
    "ax1.grid(True)\n",
    "ax1.set_title('Different Parameter Comparison of Random Forest Classification')\n",
    "\n",
    "# test parameter accuracy\n",
    "ax2.boxplot(rfc_testScores)\n",
    "ax2.legend(['test'])\n",
    "ax2.grid(True)\n",
    "\n",
    "# average accurancy of training and test data among different parameters\n",
    "trainLine, = ax3.plot(np.arange(parameters.shape[0])+1, rfc_AVGtrainScores, label = \"train\")\n",
    "testLine, = ax3.plot(np.arange(parameters.shape[0])+1, rfc_AVGtestScores, label = \"test\")\n",
    "plt.legend(handles=[trainLine, testLine])\n",
    "plt.xticks(np.arange(parameters.shape[0])+1,parameters)\n",
    "ax3.grid(True)\n",
    "f.subplots_adjust(hspace=0)\n",
    "plt.show()\n",
    "f.savefig(\"Different Parameter Comparison of Random Forest Classification.png\", dpi = 400)"
   ]
  },
  {
   "cell_type": "markdown",
   "metadata": {},
   "source": [
    "### B. Decision Tree Classification"
   ]
  },
  {
   "cell_type": "code",
   "execution_count": 40,
   "metadata": {
    "collapsed": false
   },
   "outputs": [
    {
     "data": {
      "image/png": "[encoded data removed]",
      "text/plain": [
       "<matplotlib.figure.Figure at 0x145a59630>"
      ]
     },
     "metadata": {},
     "output_type": "display_data"
    }
   ],
   "source": [
    "# show the accuracy for each parameter\n",
    "# training parameter accuracy\n",
    "plt.rcParams[\"figure.figsize\"] = (12,9)\n",
    "plt.rc('font', size=12)\n",
    "f, (ax1, ax2, ax3) = plt.subplots(3, sharex=True, sharey=True)\n",
    "ax1.boxplot(dtc_trainScores)\n",
    "ax1.legend(['train'])\n",
    "ax1.grid(True)\n",
    "ax1.set_title('Different Parameter Comparison of Decision Tree Classification')\n",
    "\n",
    "# test parameter accuracy\n",
    "ax2.boxplot(dtc_testScores)\n",
    "ax2.legend(['test'])\n",
    "ax2.grid(True)\n",
    "\n",
    "# average accurancy of training and test data among different parameters\n",
    "trainLine, = ax3.plot(np.arange(parameters1.shape[0])+1, dtc_AVGtrainScores, label = \"train\")\n",
    "testLine, = ax3.plot(np.arange(parameters1.shape[0])+1, dtc_AVGtestScores, label = \"test\")\n",
    "plt.legend(handles=[trainLine, testLine])\n",
    "plt.xticks(np.arange(parameters1.shape[0])+1,parameters1)\n",
    "ax3.grid(True)\n",
    "f.subplots_adjust(hspace=0)\n",
    "plt.show()\n",
    "f.savefig(\"Different Parameter Comparison of Decision Tree Classification.png\", dpi = 400)"
   ]
  },
  {
   "cell_type": "markdown",
   "metadata": {},
   "source": [
    "### C. Extra Trees Classification"
   ]
  },
  {
   "cell_type": "code",
   "execution_count": 41,
   "metadata": {
    "collapsed": false
   },
   "outputs": [
    {
     "data": {
      "image/png": "[encoded data removed]",
      "text/plain": [
       "<matplotlib.figure.Figure at 0x11aec7128>"
      ]
     },
     "metadata": {},
     "output_type": "display_data"
    }
   ],
   "source": [
    "# show the accuracy for each parameter\n",
    "# training parameter accuracy\n",
    "plt.rcParams[\"figure.figsize\"] = (12,9)\n",
    "plt.rc('font', size=12)\n",
    "f, (ax1, ax2, ax3) = plt.subplots(3, sharex=True, sharey=True)\n",
    "ax1.boxplot(etc_trainScores)\n",
    "ax1.legend(['train'])\n",
    "ax1.grid(True)\n",
    "ax1.set_title('Different Parameter Comparison of Extra Trees Classification')\n",
    "\n",
    "# test parameter accuracy\n",
    "ax2.boxplot(etc_testScores)\n",
    "ax2.legend(['test'])\n",
    "ax2.grid(True)\n",
    "\n",
    "# average accurancy of training and test data among different parameters\n",
    "trainLine, = ax3.plot(np.arange(parameters1.shape[0])+1, etc_AVGtrainScores, label = \"train\")\n",
    "testLine, = ax3.plot(np.arange(parameters1.shape[0])+1, etc_AVGtestScores, label = \"test\")\n",
    "plt.legend(handles=[trainLine, testLine])\n",
    "plt.xticks(np.arange(parameters1.shape[0])+1,parameters1)\n",
    "ax3.grid(True)\n",
    "f.subplots_adjust(hspace=0)\n",
    "plt.show()\n",
    "f.savefig(\"Different Parameter Comparison of Extra Trees Classification.png\", dpi = 400)"
   ]
  },
  {
   "cell_type": "markdown",
   "metadata": {},
   "source": [
    "### D. AdaBoost Classification"
   ]
  },
  {
   "cell_type": "code",
   "execution_count": 42,
   "metadata": {
    "collapsed": false
   },
   "outputs": [
    {
     "data": {
      "image/png": "[encoded data removed]",
      "text/plain": [
       "<matplotlib.figure.Figure at 0x11a66a198>"
      ]
     },
     "metadata": {},
     "output_type": "display_data"
    }
   ],
   "source": [
    "# show the accuracy for each parameter\n",
    "# training parameter accuracy\n",
    "plt.rcParams[\"figure.figsize\"] = (12,9)\n",
    "plt.rc('font', size=12)\n",
    "f, (ax1, ax2, ax3) = plt.subplots(3, sharex=True, sharey=True)\n",
    "ax1.boxplot(abc_trainScores)\n",
    "ax1.legend(['train'])\n",
    "ax1.grid(True)\n",
    "ax1.set_title('Different Parameter Comparison of AdaBoost Classification')\n",
    "\n",
    "# test parameter accuracy\n",
    "ax2.boxplot(abc_testScores)\n",
    "ax2.legend(['test'])\n",
    "ax2.grid(True)\n",
    "\n",
    "# average accurancy of training and test data among different parameters\n",
    "trainLine, = ax3.plot(np.arange(parameters.shape[0])+1, abc_AVGtrainScores, label = \"train\")\n",
    "testLine, = ax3.plot(np.arange(parameters.shape[0])+1, abc_AVGtestScores, label = \"test\")\n",
    "plt.legend(handles=[trainLine, testLine])\n",
    "plt.xticks(np.arange(parameters.shape[0])+1,parameters)\n",
    "ax3.grid(True)\n",
    "f.subplots_adjust(hspace=0)\n",
    "plt.show()\n",
    "f.savefig(\"Different Parameter Comparison of AdaBoost Classification.png\", dpi = 400)"
   ]
  },
  {
   "cell_type": "markdown",
   "metadata": {},
   "source": [
    "### 2.2.5 Indicate the Most Suitable Parameter for this Model"
   ]
  },
  {
   "cell_type": "markdown",
   "metadata": {},
   "source": [
    "The major concept for the selection of best parameter is simple, we utilized the average accuracy of each parameter and standard deviation accuracy of each parameter. Then, we computed the distance between training accuracy and test accurancy of each parameter, and summarized the same parameter values from average and standard deviation. At last, we chose the minimum value and its corresponed parameter value.\n",
    "\n",
    "assume that we have i parameters\n",
    "for each run we have i*k accuracy value under k-fold cross validation\n",
    "compute \n",
    "avg_i\n",
    "$$"
   ]
  },
  {
   "cell_type": "markdown",
   "metadata": {},
   "source": [
    "### A. Random Forest Classification"
   ]
  },
  {
   "cell_type": "code",
   "execution_count": 43,
   "metadata": {
    "collapsed": false
   },
   "outputs": [
    {
     "name": "stdout",
     "output_type": "stream",
     "text": [
      "Random Forest Classification\n",
      "Average of Accurancy:\n",
      " [ 0.00629054  0.00222485  0.00199943  0.0016284   0.00211908  0.00235258\n",
      "  0.00297153  0.00296572]\n",
      "Standard Deviation of Accurancy:\n",
      " [ 0.00542941  0.00464471  0.00440834  0.00402503  0.00511418  0.00497653\n",
      "  0.00417497  0.00424826]\n",
      "Overall Value:\n",
      " [ 0.01171994  0.00686956  0.00640777  0.00565343  0.00723326  0.00732911\n",
      "  0.00714651  0.00721398]\n",
      "Minimum Index:  3\n",
      "The Best Parameter Value:  20\n"
     ]
    }
   ],
   "source": [
    "# compute the distance between training data and test data\n",
    "print('Random Forest Classification')\n",
    "rfc_avg = abs(rfc_AVGtrainScores - rfc_AVGtestScores)\n",
    "rfc_std = abs(rfc_STDtrainScores - rfc_STDtestScores)\n",
    "print('Average of Accurancy:\\n',rfc_avg)\n",
    "print('Standard Deviation of Accurancy:\\n',rfc_std)\n",
    "\n",
    "# summerize two statistic values\n",
    "rfc_overall = rfc_avg + rfc_std\n",
    "print('Overall Value:\\n',rfc_overall)\n",
    "\n",
    "# select the minimum value which represents the best stability among these parameters\n",
    "rfc_minIndex = np.argmin(rfc_overall)\n",
    "print('Minimum Index: ',rfc_minIndex)\n",
    "\n",
    "# extract the corresponded parameter value from the original parameter set\n",
    "rfc_para = parameters[rfc_minIndex]\n",
    "print('The Best Parameter Value: ',rfc_para)"
   ]
  },
  {
   "cell_type": "markdown",
   "metadata": {},
   "source": [
    "### B. Decision Tree Classification"
   ]
  },
  {
   "cell_type": "code",
   "execution_count": 44,
   "metadata": {
    "collapsed": false
   },
   "outputs": [
    {
     "name": "stdout",
     "output_type": "stream",
     "text": [
      "Decision Tree Classification\n",
      "Average of Accurancy:\n",
      " [ 0.00887014  0.00641302  0.00593743  0.00715757  0.00595297  0.00691908\n",
      "  0.00641865  0.00826886]\n",
      "Standard Deviation of Accurancy:\n",
      " [ 0.00368502  0.00212617  0.00373848  0.0041896   0.00609155  0.00390353\n",
      "  0.00371558  0.00372626]\n",
      "Overall Value:\n",
      " [ 0.01255516  0.00853918  0.00967591  0.01134716  0.01204452  0.01082261\n",
      "  0.01013423  0.01199511]\n",
      "Minimum Index:  1\n",
      "The Best Parameter Value:  4\n"
     ]
    }
   ],
   "source": [
    "# compute the distance between training data and test data\n",
    "print('Decision Tree Classification')\n",
    "dtc_avg = abs(dtc_AVGtrainScores - dtc_AVGtestScores)\n",
    "dtc_std = abs(dtc_STDtrainScores - dtc_STDtestScores)\n",
    "print('Average of Accurancy:\\n',dtc_avg)\n",
    "print('Standard Deviation of Accurancy:\\n',dtc_std)\n",
    "\n",
    "# summerize two statistic values\n",
    "dtc_overall = dtc_avg + dtc_std\n",
    "print('Overall Value:\\n',dtc_overall)\n",
    "\n",
    "# select the minimum value which represents the best stability among these parameters\n",
    "dtc_minIndex = np.argmin(dtc_overall)\n",
    "print('Minimum Index: ',dtc_minIndex)\n",
    "\n",
    "# extract the corresponded parameter value from the original parameter set\n",
    "dtc_para = parameters1[dtc_minIndex]\n",
    "print('The Best Parameter Value: ',dtc_para)"
   ]
  },
  {
   "cell_type": "markdown",
   "metadata": {},
   "source": [
    "### C. Extra Trees Classification"
   ]
  },
  {
   "cell_type": "code",
   "execution_count": 45,
   "metadata": {
    "collapsed": false
   },
   "outputs": [
    {
     "name": "stdout",
     "output_type": "stream",
     "text": [
      "Extra Trees Classification\n",
      "Average of Accurancy:\n",
      " [ 0.00751561  0.00370906  0.00346195  0.00395201  0.00395441  0.00395017\n",
      "  0.00199011  0.00236487]\n",
      "Standard Deviation of Accurancy:\n",
      " [ 0.00437153  0.00410068  0.00487     0.00466431  0.00502131  0.00507735\n",
      "  0.00528663  0.00494824]\n",
      "Overall Value:\n",
      " [ 0.01188714  0.00780974  0.00833195  0.00861632  0.00897573  0.00902752\n",
      "  0.00727674  0.00731311]\n",
      "Minimum Index:  6\n",
      "The Best Parameter Value:  14\n"
     ]
    }
   ],
   "source": [
    "# compute the distance between training data and test data\n",
    "print('Extra Trees Classification')\n",
    "etc_avg = abs(etc_AVGtrainScores - etc_AVGtestScores)\n",
    "etc_std = abs(etc_STDtrainScores - etc_STDtestScores)\n",
    "print('Average of Accurancy:\\n',etc_avg)\n",
    "print('Standard Deviation of Accurancy:\\n',etc_std)\n",
    "\n",
    "# summerize two statistic values\n",
    "etc_overall = etc_avg + etc_std\n",
    "print('Overall Value:\\n',etc_overall)\n",
    "\n",
    "# select the minimum value which represents the best stability among these parameters\n",
    "etc_minIndex = np.argmin(etc_overall)\n",
    "print('Minimum Index: ',etc_minIndex)\n",
    "\n",
    "# extract the corresponded parameter value from the original parameter set\n",
    "etc_para = parameters1[etc_minIndex]\n",
    "print('The Best Parameter Value: ',etc_para)"
   ]
  },
  {
   "cell_type": "markdown",
   "metadata": {},
   "source": [
    "### D. AdaBoost Classification"
   ]
  },
  {
   "cell_type": "code",
   "execution_count": 46,
   "metadata": {
    "collapsed": false
   },
   "outputs": [
    {
     "name": "stdout",
     "output_type": "stream",
     "text": [
      "Random Forest Classification\n",
      "Average of Accurancy:\n",
      " [ 0.06558546  0.2010974   0.01292728  0.19704608  0.03984057  0.19925095\n",
      "  0.01330042  0.22280474]\n",
      "Standard Deviation of Accurancy:\n",
      " [ 0.13137656  0.12931348  0.15963388  0.10422446  0.15288139  0.10607493\n",
      "  0.15933906  0.12405707]\n",
      "Overall Value:\n",
      " [ 0.19696202  0.33041088  0.17256116  0.30127054  0.19272197  0.30532588\n",
      "  0.17263947  0.34686181]\n",
      "Minimum Index:  2\n",
      "The Best Parameter Value:  15\n"
     ]
    }
   ],
   "source": [
    "# compute the distance between training data and test data\n",
    "print('Random Forest Classification')\n",
    "abc_avg = abs(abc_AVGtrainScores - abc_AVGtestScores)\n",
    "abc_std = abs(abc_STDtrainScores - abc_STDtestScores)\n",
    "print('Average of Accurancy:\\n',abc_avg)\n",
    "print('Standard Deviation of Accurancy:\\n',abc_std)\n",
    "\n",
    "# summerize two statistic values\n",
    "abc_overall = abc_avg + abc_std\n",
    "print('Overall Value:\\n',abc_overall)\n",
    "\n",
    "# select the minimum value which represents the best stability among these parameters\n",
    "abc_minIndex = np.argmin(abc_overall)\n",
    "print('Minimum Index: ',abc_minIndex)\n",
    "\n",
    "# extract the corresponded parameter value from the original parameter set\n",
    "abc_para = parameters[abc_minIndex]\n",
    "print('The Best Parameter Value: ',abc_para)"
   ]
  },
  {
   "cell_type": "markdown",
   "metadata": {},
   "source": [
    "## 3. Rebuild the Classification Model via Suitable Parameter Values"
   ]
  },
  {
   "cell_type": "markdown",
   "metadata": {},
   "source": [
    "For example, we selected 20 as the number of estimator for random forest classification As a result, we set the final veriosn model for random forest cassification."
   ]
  },
  {
   "cell_type": "code",
   "execution_count": 47,
   "metadata": {
    "collapsed": true
   },
   "outputs": [],
   "source": [
    "# build random forest classification model\n",
    "rfc_clf = RandomForestClassifier(n_estimators=rfc_para, max_depth=None, min_samples_split=2, random_state=0)"
   ]
  },
  {
   "cell_type": "code",
   "execution_count": 48,
   "metadata": {
    "collapsed": true
   },
   "outputs": [],
   "source": [
    "# build decision tree classification model\n",
    "dtc_clf = DecisionTreeClassifier(max_depth=None, min_samples_split=dtc_para,random_state=0)"
   ]
  },
  {
   "cell_type": "code",
   "execution_count": 49,
   "metadata": {
    "collapsed": true
   },
   "outputs": [],
   "source": [
    "# build extra trees classification model\n",
    "etc_clf = ExtraTreesClassifier(n_estimators=etc_para, max_depth=None,min_samples_split=2, random_state=0)"
   ]
  },
  {
   "cell_type": "code",
   "execution_count": 50,
   "metadata": {
    "collapsed": true
   },
   "outputs": [],
   "source": [
    "# build AdaBoost classification model\n",
    "abc_clf = AdaBoostClassifier(n_estimators=abc_para)"
   ]
  },
  {
   "cell_type": "markdown",
   "metadata": {},
   "source": [
    "## 4. Evaluate Classification and Cross Validation by Using K-fold (K = 10)"
   ]
  },
  {
   "cell_type": "code",
   "execution_count": 51,
   "metadata": {
    "collapsed": true
   },
   "outputs": [],
   "source": [
    "# cross validation with 10-fold validation for random forest classification\n",
    "rfc_scores = cross_val_score(rfc_clf, data, classType, cv=10)"
   ]
  },
  {
   "cell_type": "code",
   "execution_count": 52,
   "metadata": {
    "collapsed": false
   },
   "outputs": [],
   "source": [
    "# cross validation with 10-fold validation for decision tree classification\n",
    "dtc_scores = cross_val_score(dtc_clf, data, classType, cv=10)"
   ]
  },
  {
   "cell_type": "code",
   "execution_count": 53,
   "metadata": {
    "collapsed": true
   },
   "outputs": [],
   "source": [
    "# cross validation with 10-fold validation for extra trees classification\n",
    "etc_scores = cross_val_score(etc_clf, data, classType, cv=10)"
   ]
  },
  {
   "cell_type": "code",
   "execution_count": 54,
   "metadata": {
    "collapsed": true
   },
   "outputs": [],
   "source": [
    "# cross validation with 10-fold validation for AdaBoost classification\n",
    "abc_scores = cross_val_score(abc_clf, data, classType, cv=10)"
   ]
  },
  {
   "cell_type": "markdown",
   "metadata": {},
   "source": [
    "## 5. Statistic Result of Cross Validation on Classification"
   ]
  },
  {
   "cell_type": "code",
   "execution_count": 55,
   "metadata": {
    "collapsed": false
   },
   "outputs": [
    {
     "name": "stdout",
     "output_type": "stream",
     "text": [
      "Model Accuracy of Random Forest Classification of Each Fold\n",
      "[ 0.996337    0.99357798  0.99632353  0.99264029  0.99448022  0.99447514\n",
      "  0.99355433  0.99631676  0.99538319  0.99168975]\n",
      "\n",
      "Average Accuracy of Random Forest Classification\n",
      "0.994477819278\n"
     ]
    }
   ],
   "source": [
    "# calculate the Accuracy of random forest classification and show them on the screen\n",
    "print('Model Accuracy of Random Forest Classification of Each Fold')\n",
    "print(rfc_scores)\n",
    "print('\\nAverage Accuracy of Random Forest Classification')\n",
    "print(rfc_scores.mean())"
   ]
  },
  {
   "cell_type": "code",
   "execution_count": 56,
   "metadata": {
    "collapsed": false
   },
   "outputs": [
    {
     "name": "stdout",
     "output_type": "stream",
     "text": [
      "Accuracy of Decision Tree Classification of Each Fold\n",
      "[ 0.99542125  0.99266055  0.98897059  0.98896044  0.98528059  0.99171271\n",
      "  0.98895028  0.99263352  0.98799631  0.98984303]\n",
      "\n",
      "Average Accuracy of Decision Tree Classification\n",
      "0.990242925057\n"
     ]
    }
   ],
   "source": [
    "# calculate the Accuracy of decision tree classification and show them on the screen\n",
    "print('Accuracy of Decision Tree Classification of Each Fold')\n",
    "print(dtc_scores)\n",
    "print('\\nAverage Accuracy of Decision Tree Classification')\n",
    "print(dtc_scores.mean())"
   ]
  },
  {
   "cell_type": "code",
   "execution_count": 57,
   "metadata": {
    "collapsed": false
   },
   "outputs": [
    {
     "name": "stdout",
     "output_type": "stream",
     "text": [
      "Model Accuracy of Extra Trees Classification of Each Fold\n",
      "[ 0.99450549  0.99174312  0.99356618  0.99080037  0.98896044  0.9907919\n",
      "  0.99171271  0.99631676  0.99353647  0.99168975]\n",
      "\n",
      "Average Accuracy of Extra Trees Classification\n",
      "0.992362318606\n"
     ]
    }
   ],
   "source": [
    "# calculate the Accuracy of extra trees classification and show them on the screen\n",
    "print('Model Accuracy of Extra Trees Classification of Each Fold')\n",
    "print(etc_scores)\n",
    "print('\\nAverage Accuracy of Extra Trees Classification')\n",
    "print(etc_scores.mean())"
   ]
  },
  {
   "cell_type": "code",
   "execution_count": 58,
   "metadata": {
    "collapsed": false
   },
   "outputs": [
    {
     "name": "stdout",
     "output_type": "stream",
     "text": [
      "Accuracy of AdaBoost classification of Each Fold\n",
      "[ 0.496337    0.5         0.49816176  0.49770009  0.49586017  0.5\n",
      "  0.50092081  0.50092081  0.49953832  0.49953832]\n",
      "\n",
      "Average Accuracy of AdaBoost classification\n",
      "0.498897727822\n"
     ]
    }
   ],
   "source": [
    "# calculate the Accuracy of AdaBoost classification and show them on the screen\n",
    "print('Accuracy of AdaBoost classification of Each Fold')\n",
    "print(abc_scores)\n",
    "print('\\nAverage Accuracy of AdaBoost classification')\n",
    "print(abc_scores.mean())"
   ]
  },
  {
   "cell_type": "markdown",
   "metadata": {},
   "source": [
    "## 6. Sight View of the Importnace of Each Feature"
   ]
  },
  {
   "cell_type": "code",
   "execution_count": 59,
   "metadata": {
    "collapsed": false
   },
   "outputs": [
    {
     "name": "stdout",
     "output_type": "stream",
     "text": [
      "The Feature Importance of Random Forest Classifier = \n",
      " [  2.17184326e-04   0.00000000e+00   2.77437925e-04 ...,   1.41892105e-05\n",
      "   7.30011764e-05   1.04857926e-03]\n"
     ]
    },
    {
     "data": {
      "image/png": "[encoded data removed]",
      "text/plain": [
       "<matplotlib.figure.Figure at 0x13c3e5da0>"
      ]
     },
     "metadata": {},
     "output_type": "display_data"
    }
   ],
   "source": [
    "# compute the importance of the features under random forest classification\n",
    "rfc_clf.fit(data, classType)\n",
    "print('The Feature Importance of Random Forest Classifier = \\n',rfc_clf.feature_importances_)\n",
    "plt.plot(rfc_clf.feature_importances_)\n",
    "plt.title('The Feature Importance of Random Forest Classifier')\n",
    "plt.xlabel('Features')\n",
    "plt.ylabel('Importance')\n",
    "plt.grid(True)\n",
    "plt.show()"
   ]
  },
  {
   "cell_type": "code",
   "execution_count": 60,
   "metadata": {
    "collapsed": false
   },
   "outputs": [
    {
     "name": "stdout",
     "output_type": "stream",
     "text": [
      "The Feature Importance of Decision Tree Classifier = \n",
      " [ 0.00022293  0.          0.         ...,  0.          0.          0.        ]\n"
     ]
    },
    {
     "data": {
      "image/png": "[encoded data removed]",
      "text/plain": [
       "<matplotlib.figure.Figure at 0x145b39dd8>"
      ]
     },
     "metadata": {},
     "output_type": "display_data"
    }
   ],
   "source": [
    "# compute the importance of the features under decision tree classification\n",
    "dtc_clf.fit(data, classType)\n",
    "print('The Feature Importance of Decision Tree Classifier = \\n',dtc_clf.feature_importances_)\n",
    "plt.plot(dtc_clf.feature_importances_)\n",
    "plt.title('The Feature Importance of Decision Tree Classifier')\n",
    "plt.xlabel('Features')\n",
    "plt.ylabel('Importance')\n",
    "plt.grid(True)\n",
    "plt.show()"
   ]
  },
  {
   "cell_type": "code",
   "execution_count": 61,
   "metadata": {
    "collapsed": false
   },
   "outputs": [
    {
     "name": "stdout",
     "output_type": "stream",
     "text": [
      "The Feature Importance of Extra Trees Classifier = \n",
      " [ 0.00042684  0.00028206  0.00033619 ...,  0.          0.00511803\n",
      "  0.00173203]\n"
     ]
    },
    {
     "data": {
      "image/png": "[encoded data removed]",
      "text/plain": [
       "<matplotlib.figure.Figure at 0x11b756748>"
      ]
     },
     "metadata": {},
     "output_type": "display_data"
    }
   ],
   "source": [
    "# compute the importance of the features under extra trees classification\n",
    "etc_clf.fit(data, classType)\n",
    "print('The Feature Importance of Extra Trees Classifier = \\n',etc_clf.feature_importances_)\n",
    "plt.plot(etc_clf.feature_importances_)\n",
    "plt.title('The Feature Importance of Extra Trees Classifier')\n",
    "plt.xlabel('Features')\n",
    "plt.ylabel('Importance')\n",
    "plt.grid(True)\n",
    "plt.show()"
   ]
  },
  {
   "cell_type": "code",
   "execution_count": 62,
   "metadata": {
    "collapsed": false
   },
   "outputs": [
    {
     "name": "stdout",
     "output_type": "stream",
     "text": [
      "The Feature Importance of AdaBoost Classifier = \n",
      " [ 0.  0.  0. ...,  0.  0.  0.]\n"
     ]
    },
    {
     "data": {
      "image/png": "[encoded data removed]",
      "text/plain": [
       "<matplotlib.figure.Figure at 0x11b63f6d8>"
      ]
     },
     "metadata": {},
     "output_type": "display_data"
    }
   ],
   "source": [
    "# compute the importance of the features under AdaBoost classification\n",
    "abc_clf.fit(data, classType)\n",
    "print('The Feature Importance of AdaBoost Classifier = \\n',abc_clf.feature_importances_)\n",
    "plt.plot(abc_clf.feature_importances_)\n",
    "plt.title('The Feature Importance of AdaBoost Classifier')\n",
    "plt.xlabel('Features')\n",
    "plt.ylabel('Importance')\n",
    "plt.grid(True)\n",
    "plt.show()"
   ]
  },
  {
   "cell_type": "markdown",
   "metadata": {},
   "source": [
    "## 7. Select Three Types of Features"
   ]
  },
  {
   "cell_type": "markdown",
   "metadata": {},
   "source": [
    "From previous analysis results, we can realize that some of features does not help for classification during this process, hence, we attempted to divide into three types of feature type as follows. <br />\n",
    "1. top 10 useful features\n",
    "2. all useful features\n",
    "3. all useless features\n",
    "\n",
    "(p.s. for no.2 and no.3:: because the numbers of features are quite large, we also showed the numbers.)"
   ]
  },
  {
   "cell_type": "markdown",
   "metadata": {},
   "source": [
    "### 7.1 Get the Importance Index"
   ]
  },
  {
   "cell_type": "code",
   "execution_count": 63,
   "metadata": {
    "collapsed": false
   },
   "outputs": [],
   "source": [
    "# random forest classification\n",
    "# export the importance and obtain the sorting index\n",
    "rfc_featureImportance = rfc_clf.feature_importances_\n",
    "# get the sorting index by argsort function from numpy package\n",
    "rfc_getIndex = np.argsort(rfc_featureImportance)"
   ]
  },
  {
   "cell_type": "code",
   "execution_count": 64,
   "metadata": {
    "collapsed": false
   },
   "outputs": [],
   "source": [
    "# decision tree classification\n",
    "# export the importance and obtain the sorting index\n",
    "dtc_featureImportance = dtc_clf.feature_importances_\n",
    "# get the sorting index by argsort function from numpy package\n",
    "dtc_getIndex = np.argsort(dtc_featureImportance)"
   ]
  },
  {
   "cell_type": "code",
   "execution_count": 65,
   "metadata": {
    "collapsed": false
   },
   "outputs": [],
   "source": [
    "# extra trees classification\n",
    "# export the importance and obtain the sorting index\n",
    "etc_featureImportance = etc_clf.feature_importances_\n",
    "# get the sorting index by argsort function from numpy package\n",
    "etc_getIndex = np.argsort(etc_featureImportance)"
   ]
  },
  {
   "cell_type": "code",
   "execution_count": 66,
   "metadata": {
    "collapsed": false
   },
   "outputs": [],
   "source": [
    "# AdaBoost classification\n",
    "# export the importance and obtain the sorting index\n",
    "abc_featureImportance = abc_clf.feature_importances_\n",
    "# get the sorting index by argsort function from numpy package\n",
    "abc_getIndex = np.argsort(abc_featureImportance)"
   ]
  },
  {
   "cell_type": "markdown",
   "metadata": {},
   "source": [
    "### 7.2 Sort the Importance and Features via Importance Index"
   ]
  },
  {
   "cell_type": "code",
   "execution_count": 67,
   "metadata": {
    "collapsed": false
   },
   "outputs": [
    {
     "name": "stdout",
     "output_type": "stream",
     "text": [
      "The Feature Importance Sorting Result of Random Forest Classification\n",
      " [ 0.          0.          0.         ...,  0.02097451  0.02618645\n",
      "  0.02831551]\n",
      "The Feature Sorting Result of Random Forest Classificatio\n",
      " ['SHGetFileInfoA' 'string_len_counts_72' 'IsWindowVisible' ..., 'HeapAlloc'\n",
      " 'TB_99' 'Img0.1']\n"
     ]
    }
   ],
   "source": [
    "# random forest classidication\n",
    "# sort the importance\n",
    "rfc_imSorted = rfc_featureImportance[rfc_getIndex]\n",
    "print('The Feature Importance Sorting Result of Random Forest Classification\\n',rfc_imSorted)\n",
    "# sort the features\n",
    "rfc_dataImSorted = np.asarray(data.columns[rfc_getIndex])\n",
    "print('The Feature Sorting Result of Random Forest Classificatio\\n',rfc_dataImSorted)"
   ]
  },
  {
   "cell_type": "code",
   "execution_count": 68,
   "metadata": {
    "collapsed": false
   },
   "outputs": [
    {
     "name": "stdout",
     "output_type": "stream",
     "text": [
      "The Feature Importance Sorting Result of Decision Tree Classification\n",
      " [ 0.          0.          0.         ...,  0.12730649  0.28286592\n",
      "  0.36292047]\n",
      "The Feature Sorting Result of Decision Tree Classificatio\n",
      " ['SHGetFileInfoA' 'TB_49' 'TB_48' ..., 'dc_por' 'ent_q_diff_diffs_1_median'\n",
      " 'section_names_header']\n"
     ]
    }
   ],
   "source": [
    "# decision tree classidication\n",
    "# sort the importance\n",
    "dtc_imSorted = dtc_featureImportance[dtc_getIndex]\n",
    "print('The Feature Importance Sorting Result of Decision Tree Classification\\n',dtc_imSorted)\n",
    "# sort the features\n",
    "dtc_dataImSorted = np.asarray(data.columns[dtc_getIndex])\n",
    "print('The Feature Sorting Result of Decision Tree Classificatio\\n',dtc_dataImSorted)"
   ]
  },
  {
   "cell_type": "code",
   "execution_count": 69,
   "metadata": {
    "collapsed": false
   },
   "outputs": [
    {
     "name": "stdout",
     "output_type": "stream",
     "text": [
      "The Feature Importance Sorting Result of Extra Trees Classification\n",
      " [ 0.          0.          0.         ...,  0.01798178  0.02013179\n",
      "  0.02775195]\n",
      "The Feature Sorting Result of Extra Trees Classificatio\n",
      " ['GetTimeZoneInformation' '__vbaErase' 'string_len_counts_71' ..., 'Img86'\n",
      " 'ent_q_diffs_max' 'IsValidCodePage']\n"
     ]
    }
   ],
   "source": [
    "# extra trees classidication\n",
    "# sort the importance\n",
    "etc_imSorted = etc_featureImportance[etc_getIndex]\n",
    "print('The Feature Importance Sorting Result of Extra Trees Classification\\n',etc_imSorted)\n",
    "# sort the features\n",
    "etc_dataImSorted = np.asarray(data.columns[etc_getIndex])\n",
    "print('The Feature Sorting Result of Extra Trees Classificatio\\n',etc_dataImSorted)"
   ]
  },
  {
   "cell_type": "code",
   "execution_count": 70,
   "metadata": {
    "collapsed": false
   },
   "outputs": [
    {
     "name": "stdout",
     "output_type": "stream",
     "text": [
      "The Feature Importance Sorting Result of AdaBoost Classification\n",
      " [ 0.          0.          0.         ...,  0.          0.46666667\n",
      "  0.53333333]\n",
      "The Feature Sorting Result of AdaBoost Classificatio\n",
      " ['Virtual' 'TB_5b' 'TB_5a' ..., 'Img107' 'Img37'\n",
      " 'ent_q_diff_diffs_1_median']\n"
     ]
    }
   ],
   "source": [
    "# AdaBoost classidication\n",
    "# sort the importance\n",
    "abc_imSorted = abc_featureImportance[abc_getIndex]\n",
    "print('The Feature Importance Sorting Result of AdaBoost Classification\\n',abc_imSorted)\n",
    "# sort the features\n",
    "abc_dataImSorted = np.asarray(data.columns[abc_getIndex])\n",
    "print('The Feature Sorting Result of AdaBoost Classificatio\\n',abc_dataImSorted)"
   ]
  },
  {
   "cell_type": "markdown",
   "metadata": {},
   "source": [
    "### 7.3 Plot the Importance Distribution"
   ]
  },
  {
   "cell_type": "code",
   "execution_count": 71,
   "metadata": {
    "collapsed": false
   },
   "outputs": [
    {
     "data": {
      "image/png": "[encoded data removed]",
      "text/plain": [
       "<matplotlib.figure.Figure at 0x119f00828>"
      ]
     },
     "metadata": {},
     "output_type": "display_data"
    }
   ],
   "source": [
    "# feature importance distribution by random forst classification\n",
    "plt.scatter(np.arange(len(rfc_imSorted)),rfc_imSorted)\n",
    "plt.title('Feature Importance Distribution by Random Forst Classification')\n",
    "plt.xlabel('The Sorting Index of Features')\n",
    "plt.ylabel('The Importance of Features')\n",
    "plt.grid(True)\n",
    "plt.show()"
   ]
  },
  {
   "cell_type": "code",
   "execution_count": 72,
   "metadata": {
    "collapsed": false
   },
   "outputs": [
    {
     "data": {
      "image/png": "[encoded data removed]",
      "text/plain": [
       "<matplotlib.figure.Figure at 0x11aed0a58>"
      ]
     },
     "metadata": {},
     "output_type": "display_data"
    }
   ],
   "source": [
    "# feature importance distribution by decision tree classification\n",
    "plt.scatter(np.arange(len(dtc_imSorted)),dtc_imSorted)\n",
    "plt.title('Feature Importance Distribution by Decision Tree Classification')\n",
    "plt.xlabel('The Sorting Index of Features')\n",
    "plt.ylabel('The Importance of Features')\n",
    "plt.grid(True)\n",
    "plt.show()"
   ]
  },
  {
   "cell_type": "code",
   "execution_count": 73,
   "metadata": {
    "collapsed": false
   },
   "outputs": [
    {
     "data": {
      "image/png": "[encoded data removed]",
      "text/plain": [
       "<matplotlib.figure.Figure at 0x11a6abc50>"
      ]
     },
     "metadata": {},
     "output_type": "display_data"
    }
   ],
   "source": [
    "# feature importance distribution by extra trees classification\n",
    "plt.scatter(np.arange(len(etc_imSorted)),etc_imSorted)\n",
    "plt.title('Feature Importance Distribution by Extra Trees Classification')\n",
    "plt.xlabel('The Sorting Index of Features')\n",
    "plt.ylabel('The Importance of Features')\n",
    "plt.grid(True)\n",
    "plt.show()"
   ]
  },
  {
   "cell_type": "code",
   "execution_count": 74,
   "metadata": {
    "collapsed": false
   },
   "outputs": [
    {
     "data": {
      "image/png": "[encoded data removed]",
      "text/plain": [
       "<matplotlib.figure.Figure at 0x119777d68>"
      ]
     },
     "metadata": {},
     "output_type": "display_data"
    }
   ],
   "source": [
    "# feature importance distribution by AdaBoost classification\n",
    "plt.scatter(np.arange(len(abc_imSorted)),abc_imSorted)\n",
    "plt.title('Feature Importance Distribution by AdaBoost Classification')\n",
    "plt.xlabel('The Sorting Index of Features')\n",
    "plt.ylabel('The Importance of Features')\n",
    "plt.grid(True)\n",
    "plt.show()"
   ]
  },
  {
   "cell_type": "markdown",
   "metadata": {},
   "source": [
    "### 7.4 Top 10 Useful Features"
   ]
  },
  {
   "cell_type": "code",
   "execution_count": 75,
   "metadata": {
    "collapsed": false
   },
   "outputs": [
    {
     "name": "stdout",
     "output_type": "stream",
     "text": [
      "Top 10 Useful Features via Random Forest Classification\n",
      " ['string_len_counts_150_250' 'TB_f5' 'TB_b1' 'TB_e5'\n",
      " 'ent_q_diff_diffs_2_median' 'strncpy' '_exit' 'HeapAlloc' 'TB_99' 'Img0.1']\n"
     ]
    }
   ],
   "source": [
    "# get the top 10 useful features via random forest classification\n",
    "print('Top 10 Useful Features via Random Forest Classification\\n',rfc_dataImSorted[-10:len(rfc_dataImSorted)])"
   ]
  },
  {
   "cell_type": "code",
   "execution_count": 76,
   "metadata": {
    "collapsed": false
   },
   "outputs": [
    {
     "name": "stdout",
     "output_type": "stream",
     "text": [
      "Top 10 Useful Features via Decision Tree Classification\n",
      " ['asm_commands_in' 'VirtualAlloc' 'TB_d5' '.rsrc_por' 'ent_p_19' 'Offset.1'\n",
      " 'Img50' 'dc_por' 'ent_q_diff_diffs_1_median' 'section_names_header']\n"
     ]
    }
   ],
   "source": [
    "# get the top 10 useful features via decision tree classification\n",
    "print('Top 10 Useful Features via Decision Tree Classification\\n',dtc_dataImSorted[-10:len(dtc_dataImSorted)])"
   ]
  },
  {
   "cell_type": "code",
   "execution_count": 77,
   "metadata": {
    "collapsed": false
   },
   "outputs": [
    {
     "name": "stdout",
     "output_type": "stream",
     "text": [
      "Top 10 Useful Features via Extra Trees Classification\n",
      " ['Img47' 'GetIconInfo' 'ent_p_7' '_onexit' 'Img48' 'GetStringTypeA'\n",
      " 'Img45.1' 'Img86' 'ent_q_diffs_max' 'IsValidCodePage']\n"
     ]
    }
   ],
   "source": [
    "# get the top 10 useful features via extra trees classification\n",
    "print('Top 10 Useful Features via Extra Trees Classification\\n',etc_dataImSorted[-10:len(etc_dataImSorted)])"
   ]
  },
  {
   "cell_type": "code",
   "execution_count": 78,
   "metadata": {
    "collapsed": false
   },
   "outputs": [
    {
     "name": "stdout",
     "output_type": "stream",
     "text": [
      "Top 10 Useful Features via AdaBoost Classification\n",
      " ['SetWindowsHookExA' 'EnumWindows' 'CreateBrushIndirect' 'IsIconic'\n",
      " 'GetFileVersionInfoSizeA' 'MoveFileA' 'FileTimeToLocalFileTime' 'Img107'\n",
      " 'Img37' 'ent_q_diff_diffs_1_median']\n"
     ]
    }
   ],
   "source": [
    "# get the top 10 useful features via AdaBoost classification\n",
    "print('Top 10 Useful Features via AdaBoost Classification\\n',abc_dataImSorted[-10:len(abc_dataImSorted)])"
   ]
  },
  {
   "cell_type": "markdown",
   "metadata": {},
   "source": [
    "### 7.5 All Useful Features"
   ]
  },
  {
   "cell_type": "code",
   "execution_count": 79,
   "metadata": {
    "collapsed": false
   },
   "outputs": [
    {
     "name": "stdout",
     "output_type": "stream",
     "text": [
      "The Number of Useful Features via Random Forest Classification\n",
      " 1072\n",
      "\n",
      "All Useful Features via Random Forest Classification\n",
      " ['SHGetFileInfoA' 'IsWindowVisible' 'LoadLibraryExA' ..., 'HeapAlloc'\n",
      " 'TB_99' 'Img0.1']\n"
     ]
    }
   ],
   "source": [
    "# get all useful features via random forest classification\n",
    "print('The Number of Useful Features via Random Forest Classification\\n',len(rfc_dataImSorted[rfc_featureImportance>0]))\n",
    "print('\\nAll Useful Features via Random Forest Classification\\n', rfc_dataImSorted[rfc_featureImportance>0])"
   ]
  },
  {
   "cell_type": "code",
   "execution_count": 80,
   "metadata": {
    "collapsed": false
   },
   "outputs": [
    {
     "name": "stdout",
     "output_type": "stream",
     "text": [
      "The Number of Useful Features via Decision Tree Classification\n",
      " 63\n",
      "\n",
      "All Useful Features via Decision Tree Classification\n",
      " ['SHGetFileInfoA' 'TB_43' 'TB_4b' 'TB_68' 'TB_67' 'TB_12' 'TB_0e' 'TB_2d'\n",
      " 'TB_17' 'TB_6b' 'TB_bb' 'TB_b7' 'TB_b4' 'TB_ac' 'TB_81' 'TB_a0'\n",
      " '__vbaStrVarVal' 'RegFlushKey' '__vbaVarCat' 'GetMenuItemInfoA'\n",
      " 'ExcludeClipRect' 'AppendMenuA' 'GetScrollPos' 'atoi' 'SHFileOperationA'\n",
      " 'MapVirtualKeyA' 'CheckDlgButton' 'SetScrollInfo' 'FileTimeToSystemTime'\n",
      " 'SetScrollRange' 'Img4' 'Img25' 'string_len_counts_73'\n",
      " 'string_len_counts_69' 'TB_e3' 'System32' 'DllEntryPoint'\n",
      " 'ent_q_diff_block_1_20' 'ent_q_diff_block_1_19' 'ent_q_diff_block_1_4'\n",
      " 'ent_q_diff_block_2_10' 'ent_q_diff_diffs_18' 'ent_q_diff_block_0_20'\n",
      " 'ent_q_diff_block_0_1' 'LockResource' 'RestoreDC' 'GetCapture' 'EndPaint'\n",
      " 'RegCreateKeyExA' 'LoadImageA' 'GetSysColorBrush' 'RemovePropA'\n",
      " 'CharToOemA' 'CreatePalette' 'DrawIcon' 'StretchBlt' 'MapViewOfFile'\n",
      " 'EnableMenuItem' '_CIlog' 'CloseHandle' 'CoUninitialize'\n",
      " 'GetModuleHandleA' 'MultiByteToWideChar']\n"
     ]
    }
   ],
   "source": [
    "# get all useful features via decision tree classification\n",
    "print('The Number of Useful Features via Decision Tree Classification\\n',len(dtc_dataImSorted[dtc_featureImportance>0]))\n",
    "print('\\nAll Useful Features via Decision Tree Classification\\n', dtc_dataImSorted[dtc_featureImportance>0])"
   ]
  },
  {
   "cell_type": "code",
   "execution_count": 81,
   "metadata": {
    "collapsed": false
   },
   "outputs": [
    {
     "name": "stdout",
     "output_type": "stream",
     "text": [
      "The Number of Useful Features via Extra Trees Classification\n",
      " 1372\n",
      "\n",
      "All Useful Features via Extra Trees Classification\n",
      " ['GetTimeZoneInformation' '__vbaErase' 'string_len_counts_71' ...,\n",
      " 'Img45.1' 'ent_q_diffs_max' 'IsValidCodePage']\n"
     ]
    }
   ],
   "source": [
    "# get all useful features via extra trees classification\n",
    "print('The Number of Useful Features via Extra Trees Classification\\n',len(etc_dataImSorted[etc_featureImportance>0]))\n",
    "print('\\nAll Useful Features via Extra Trees Classification\\n', etc_dataImSorted[etc_featureImportance>0])"
   ]
  },
  {
   "cell_type": "code",
   "execution_count": 82,
   "metadata": {
    "collapsed": false
   },
   "outputs": [
    {
     "name": "stdout",
     "output_type": "stream",
     "text": [
      "The Number of Useful Features via AdaBoost Classification\n",
      " 2\n",
      "\n",
      "All Useful Features via AdaBoost Classification\n",
      " ['TB_ae' 'LocalAlloc']\n"
     ]
    }
   ],
   "source": [
    "# get all useful features via AdaBoost classicaition\n",
    "print('The Number of Useful Features via AdaBoost Classification\\n',len(abc_dataImSorted[abc_featureImportance>0]))\n",
    "print('\\nAll Useful Features via AdaBoost Classification\\n', abc_dataImSorted[abc_featureImportance>0])"
   ]
  },
  {
   "cell_type": "markdown",
   "metadata": {},
   "source": [
    "### 7.6 All Useless Features"
   ]
  },
  {
   "cell_type": "code",
   "execution_count": 83,
   "metadata": {
    "collapsed": false
   },
   "outputs": [
    {
     "name": "stdout",
     "output_type": "stream",
     "text": [
      "The Number of Usefuless Features via Random Forest Classification\n",
      " 732\n",
      "\n",
      "All Useless Features via Random Forest Classification\n",
      " ['string_len_counts_72' 'SetUnhandledExceptionFilter' 'SetTextColor'\n",
      " 'GetFileAttributesA' 'RealizePalette' '_CIcos' 'PatBlt' 'GetPixel'\n",
      " 'GlobalHandle' 'SetWindowPos' 'GetDesktopWindow' '_adj_fdivr_m16i'\n",
      " 'GetPropA' 'RegEnumKeyA' '_adj_fdiv_m16i' '__vbaChkstk'\n",
      " 'GetTimeZoneInformation' '__vbaFreeVar' '__vbaHresultCheckObj'\n",
      " 'WindowFromPoint' 'RemovePropA' '__vbaStrMove' 'string_len_counts_63'\n",
      " '__vbaFreeVarList' '__vbaFreeStrList' '_adj_fptan' '_CItan'\n",
      " 'IsWindowEnabled' 'SetWindowTextA' 'ScreenToClient' 'GetDiskFreeSpaceA'\n",
      " 'GetClipBox' 'SetMenu' 'GetSystemDirectoryA' 'GlobalUnlock'\n",
      " 'GetSystemMenu' 'EVENT_SINK_AddRef' 'string_len_counts_93' 'TB_84' 'GetDC'\n",
      " 'TB_7d' 'string_len_counts_90' 'ImageList_Destroy' 'SetFileTime'\n",
      " 'PtInRect' 'VariantClear' 'InternetReadFile' 'MapWindowPoints' 'GetFocus'\n",
      " 'CreateSolidBrush' 'CloseClipboard' 'UnregisterClassA' 'RegisterClassExA'\n",
      " 'VariantChangeTypeEx' 'URLDownloadToFileA' 'OpenSCManagerA'\n",
      " 'GetKeyNameTextA' 'ImageList_GetBkColor' 'TB_53' 'string_len_counts_46'\n",
      " 'string_len_counts_42' 'string_len_counts_40' 'string_len_counts_39'\n",
      " 'string_len_counts_37' 'string_len_counts_35' 'TB_3c'\n",
      " 'string_len_counts_48' 'SetWinMetaFileBits' 'LoadStringW'\n",
      " 'GetEnhMetaFileBits' '__vbaI2I4' '__vbaAryLock' 'GetFileAttributesW'\n",
      " '__vbaFpI4' 'RegSetValueExW' 'GetLocaleInfoW' '__vbaVar2Vec'\n",
      " 'VirtualAllocEx' 'DeleteFileW' 'SendMessageW' 'PostThreadMessageA' 'fopen'\n",
      " 'RegCreateKeyA' 'OutputDebugStringA' 'strcmp' 'MessageBoxIndirectA'\n",
      " 'StartServiceA' 'PlayEnhMetaFile' 'SHGetMalloc' 'DeleteEnhMetaFile'\n",
      " 'SendDlgItemMessageA' '__vbaVarAdd' 'SetEnhMetaFileBits'\n",
      " '__vbaObjSetAddref' 'ImageList_DrawEx' 'GetComputerNameA'\n",
      " 'string_len_counts_53' 'EnableScrollBar' '__vbaOnError' 'GetStringTypeExA'\n",
      " 'CreateMenu' 'EnumThreadWindows' 'SetWindowOrgEx' 'GetDriveTypeA'\n",
      " 'WinHelpA' 'SetScrollPos' 'SHFileOperationA' 'string_len_counts_57'\n",
      " 'FrameRect' 'RegisterClipboardFormatA' '__vbaLenBstr' '__dllonexit' 'atoi'\n",
      " 'GetScrollPos' 'AppendMenuA' 'ExcludeClipRect' 'SetROP2' 'GetTextMetricsA'\n",
      " 'GetDCEx' 'ShowOwnedPopups' 'CreateDialogParamA' 'DestroyCursor'\n",
      " 'GetTextExtentPoint32A' 'string_len_counts_62' 'MoveToEx'\n",
      " 'string_len_counts_61' '__vbaNew2' 'DrawEdge' '__vbaStrCat' '__p__commode'\n",
      " '__vbaStrCopy' '__vbaFreeObj' 'IsZoomed' 'GetIconInfo'\n",
      " 'string_len_counts_58' 'CreatePalette' 'GetKeyboardState'\n",
      " 'string_len_counts_59' 'strstr' 'GetDlgItemTextA' '__vbaStrVarMove'\n",
      " 'DeleteMenu' 'LoadLibraryW' 'IsValidCodePage' 'CharPrevA' 'CharLowerA'\n",
      " 'DrawFrameControl' '??2@YAPAXI@Z' '__vbaStrToAnsi' 'ShowScrollBar'\n",
      " 'SendMessageTimeoutA' 'string_len_counts_55' '__vbaFileOpen'\n",
      " 'GetBitmapBits' '__vbaFileClose' 'GetPaletteEntries' 'ImageList_DragEnter'\n",
      " 'MessageBeep' 'TranslateMDISysAccel' 'ActivateKeyboardLayout' 'TB_5f'\n",
      " 'GetWindowOrgEx' 'CreateHalftonePalette' 'ImageList_EndDrag'\n",
      " 'ImageList_GetIconSize' 'GetCurrentPositionEx' 'SetDIBColorTable'\n",
      " '__vbaVarCat' 'ImageList_DragLeave' 'CloseServiceHandle'\n",
      " 'ImageList_SetBkColor' '__vbaObjSet' 'Process32Next' 'InsertMenuA'\n",
      " 'ImageList_Draw' 'MapVirtualKeyA' '__vbaErrorOverflow' 'OemToCharA'\n",
      " 'WaitMessage' 'InternetOpenUrlA' 'FileTimeToDosDateTime' 'RemoveMenu'\n",
      " 'SafeArrayCreate' '__vbaAryDestruct' 'SetScrollRange' 'GetScrollRange'\n",
      " 'IsDBCSLeadByte' '__vbaLsetFixstr' '__vbaAryVar' '__vbaExitProc'\n",
      " 'WSAStartup' 'LPSTR' 'wcslen' 'asm_commands_rcl' 'DispatchMessageW'\n",
      " 'TextOutA' 'GetClassLongA' 'PeekMessageW' 'lstrcmpW'\n",
      " 'SHGetSpecialFolderPathA' 'DrawFocusRect' '_strlwr' 'strncmp'\n",
      " 'LocalFileTimeToFileTime' 'System32' 'Img73' 'InternetConnectA' '.tls_por'\n",
      " 'ClosePrinter' 'ent_q_diff_diffs_min' 'ent_q_diff_block_3_20' 'TB_fd' 'ss'\n",
      " 'gs' 'ent_q_diffs_11' 'Img48.1' 'Img50.1' 'asm_commands_sidt' 'TB_d6'\n",
      " 'ent_q_diff_diffs_20' 'setb' 'ent_q_diff_block_2_20' 'TB_f2'\n",
      " 'ent_q_diff_block_3_14' 'setle' 'fstcw' 'asm_commands_wait'\n",
      " 'ent_q_diff_block_3_6' 'ent_q_diff_diffs_2' 'ent_q_diff_diffs_1' 'shld'\n",
      " 'ent_q_diff_block_3_3' 'misc1_hkey_current_user' 'misc1_hardware' 'TB_a5'\n",
      " 'INT_PTR' 'CurrentVersion' 'TB_a0' 'Software' 'fstcwimul'\n",
      " 'ent_q_diff_block_2_6' 'Img13' 'TB_97' 'ATOM' 'config' 'UINT_PTR'\n",
      " 'PCCTL_CONTEXT' 'misc_visualc' 'ent_p_diffs_1' 'misc_search'\n",
      " 'misc_scrollwindow' 'misc_microsoft' 'Img32' 'misc_installdir'\n",
      " 'INTERNET_STATUS_CALLBACK' 'asm_commands_rol' 'GetVersionExW' 'TB_ec'\n",
      " 'ent_q_diff_block_1_13' 'UnlockFile' 'GetTextExtentPointA'\n",
      " 'InternetGetConnectedState' 'string_len_counts_60_90' 'GetThreadContext'\n",
      " 'asm_commands_fchs' 'RegDeleteValueW' 'RegCloseKey' '__vbaVarIndexLoad'\n",
      " 'CreateProcessW' 'TranslateAcceleratorA' '__vbaStrFixstr' 'wsprintfW'\n",
      " 'ent_q_diff_block_0_12' 'ent_q_diff_block_0_11' 'fild' 'FreeSid' 'Escape'\n",
      " 'GetSaveFileNameA' 'string_len_counts_100_150' 'SetFileAttributesW'\n",
      " 'SetServiceStatus' 'keybd_event' 'string_len_counts_900_1300'\n",
      " 'asm_commands_fistp' 'LockFile' 'ent_q_diff_block_1_5'\n",
      " 'string_len_counts_600_900' '__vbaRecAnsiToUni' 'GetWindowTextW'\n",
      " 'string_len_counts_400_600' 'GdiFlush' 'CreatePipe' 'VerQueryValueW'\n",
      " 'GetTokenInformation' 'asm_commands_fdivr' 'dd' 'asm_commands_jno'\n",
      " 'asm_commands_fword' 'EnumSystemLocalesA' 'GetFileTitleA' '__vbaI4ErrVar'\n",
      " 'asm_commands_faddp' 'string_len_counts_1300_2000' 'Offset'\n",
      " 'StringFromCLSID' 'ent_q_diff_block_1_0' 'CLSIDFromProgID'\n",
      " 'GlobalMemoryStatus' 'lstrcmpiW' 'ent_q_diff_block_1_20' 'ControlService'\n",
      " 'SetWindowExtEx' 'Import' 'Img83' 'EnumChildWindows' 'IsValidLocale'\n",
      " 'RegQueryValueA' 'asm_commands_fxch' 'Img23.1' 'CreateServiceA' 'ptr'\n",
      " 'TB_fe' 'CreateDirectoryA' 'dd4' 'misc_case' 'GetConsoleMode'\n",
      " 'GetMenuItemCount' 'GetClassInfoA' 'SizeofResource' 'PostQuitMessage'\n",
      " 'HMENU' 'SystemTimeToFileTime' 'TB_88' 'TB_dd' 'Img68' 'TB_f7' 'WinExec'\n",
      " 'asm_commands_cwd' 'GetVersion' 'ent_q_diff_block_1_12' 'SetBrushOrgEx'\n",
      " 'SetFilePointer' 'GetLastError' 'ent_q_diff_block_2_16' 'TB_4c' 'Img45.1'\n",
      " 'TB_40' 'TranslateMessage' 'WPARAM' 'Img43.1' 'DrawIconEx' 'CopyRect'\n",
      " 'string_len_counts_25' '_adj_fdiv_m32i' 'GetParent' 'asm_commands_cmc'\n",
      " 'IsIconic' 'PeekMessageA' '_CIsin' 'ent_q_diff_block_2_7'\n",
      " 'ent_q_diff_block_0_2' 'GetDlgItem' 'Polyline' 'TB_a2' 'TB_ea'\n",
      " '__vbaBoolVarNull' 'RtlUnwind' 'strcpy' 'HLOCAL' 'ent_q_diff_diffs_median'\n",
      " 'TB_f9' 'Img26.1' 'GetCapture' 'SendMessageA' 'GetCurrentProcessId'\n",
      " 'asm_commands_add' 'GetEnvironmentStrings' 'ent_q_diff_block_1_7'\n",
      " 'ent_q_diff_block_2_4' 'section_names_.tls' 'InterlockedCompareExchange'\n",
      " 'GetConsoleOutputCP' 'TB_ad' 'SetEndOfFile' 'DeviceIoControl'\n",
      " 'LoadBitmapA' 'lstrcmpA' 'SetLastError' 'CreateIcon'\n",
      " 'ent_q_diff_block_2_17' 'FindWindowA' 'SetActiveWindow'\n",
      " 'ent_q_diff_block_0_0' 'CreateEventA' 'RegOpenKeyExA' 'FindResourceA'\n",
      " '__vbaAryConstruct2' 'TB_c6' 'SetCapture' 'closesocket' '??3@YAXPAX@Z'\n",
      " '_adj_fprem1' 'GetDIBits' 'DefWindowProcA' 'Img3' 'SetThreadPriority'\n",
      " 'WriteProcessMemory' 'Img54' 'malloc' 'RegisterClassA' 'FlushFileBuffers'\n",
      " 'Img25.1' 'Img65' 'Img34.1' 'TB_55' 'ent_q_diff_block_2_19' 'Img82'\n",
      " 'GetSystemInfo' 'Img105' 'Img84' 'GetClassNameA' 'Img38' 'TB_56' 'Img46'\n",
      " 'CharNextA' 'TB_12' 'ReleaseCapture' 'TB_11' 'asm_commands_sal'\n",
      " 'ent_q_diffs_3' 'ent_q_diff_block_1_18' 'lstrcatA' 'locret' 'TB_03'\n",
      " 'ent_q_diff_block_1_10' 'GetSysColor' 'GetExitCodeProcess' 'Img55'\n",
      " 'Img10.1' 'TB_57' 'TB_d1' 'ReadProcessMemory' 'RaiseException'\n",
      " 'string_len_counts_26' 'RegSetValueExA' 'Img18.1' 'ent_q_diffs_9' 'TB_43'\n",
      " 'ent_q_diff_block_2_3' 'TB_46' 'FreeResource' 'TB_63' 'ent_q_diff_diffs_6'\n",
      " 'VirtualQuery' 'Img22.1' 'ent_q_diffs_0' 'ent_q_diffs_8' 'memmove'\n",
      " 'GetScrollInfo' 'InitializeCriticalSectionAndSpinCount'\n",
      " 'string_len_counts_250_400' 'TB_09' 'ent_q_diff_block_0_8' 'fclose'\n",
      " 'EnterCriticalSection' 'ReadFile' 'DllFunctionCall' 'regs_ebp'\n",
      " 'ent_q_diff_block_3_19' 'ent_q_diff_block_3_15' 'neg' 'GetStartupInfoW'\n",
      " '_adj_fdivr_m32i' 'LockResource' '_CIsqrt' 'TB_c7' 'GetStdHandle'\n",
      " 'ent_q_diff_block_1_3' 'GetTempPathA' 'ent_q_diff_block_0_10' 'Img64'\n",
      " 'TB_8d' 'Img56' 'ent_p_diffs_17' 'CLSIDFromString' 'connect'\n",
      " 'string_len_counts_36' 'TB_b4' 'TB_10' 'HeapSize' 'fdivp' 'FindFirstFileW'\n",
      " 'ent_q_diff_diffs_11' 'LoadCursorW' 'asm_commands_stc'\n",
      " 'ent_q_diff_block_0_4' 'HeapCreate' 'InterlockedDecrement' 'TB_e9'\n",
      " 'ent_p_3' 'TB_c0' 'Img15' 'Img39.1' '_adj_fdivr_m32'\n",
      " 'ent_q_diff_block_0_14' '_onexit' 'ent_q_diff_block_0_7' 'TB_0a'\n",
      " 'ent_q_diff_block_1_14' 'ent_q_diff_block_0_15' 'ent_q_diff_diffs_18'\n",
      " '_adjust_fdiv' 'EnableMenuItem' 'TB_d5' 'GetClientRect' 'RegOpenKeyA'\n",
      " 'TB_37' 'TB_69' 'TB_51' 'TB_4e' 'regs_dl' 'asm_commands_not' 'Img2.1'\n",
      " 'string_len_counts_19' 'string_len_counts_51' 'SetEnvironmentVariableA'\n",
      " 'ent_q_diff_block_3_4' 'TB_25' 'TB_1e' 'TB_1b' 'TB_0d' '_CIlog'\n",
      " 'asm_commands_ror' 'Img18' 'VariantCopy' 'GetFileType'\n",
      " 'WideCharToMultiByte' 'IsBadReadPtr' 'string_len_counts_41'\n",
      " 'GetKeyboardLayout' 'strrchr' 'TB_e3' 'TB_67' 'regs_eax' 'TB_72' 'TB_75'\n",
      " 'FindNextFileA' 'ReleaseMutex' 'string_len_counts_34' 'TB_78' 'TB_2c'\n",
      " 'GetConsoleCP' 'TB_28' 'TB_7c' 'Question' 'string_len_counts_33' 'al'\n",
      " 'TB_4d' 'Img47.1' 'wsprintfA' 'SHGetSpecialFolderLocation' 'TB_c3' 'TB_3f'\n",
      " 'RegFlushKey' 'asm_commands_out' 'TB_a4' 'CreateToolhelp32Snapshot'\n",
      " 'CompareStringA' 'ent_p_17' 'string_len_counts_21' 'Img37.1'\n",
      " 'asm_commands_ret' 'ImageList_SetDragCursorImage' 'AtSign'\n",
      " 'asm_commands_jo' 'Img46.1' 'InitCommonControlsEx' 'TB_fa' 'TB_e6'\n",
      " 'ent_q_diff_diffs_2_var' 'entry' 'Img70' 'TB_c1' 'dd4_all' 'Img87' 'TB_bd'\n",
      " 'ent_q_diff_diffs_2_min' 'ent_q_diff_diffs_17' 'TB_cc' 'TB_bc' 'TB_3b'\n",
      " 'TB_44' 'TB_64' 'TB_6f' 'Img44.1' 'TB_b6' 'TB_1c' 'Plus' 'Img75'\n",
      " 'SetWindowLongA' 'GlobalLock' 'lstrcmpiA' 'db0_por' 'ent_p_15' 'TB_da'\n",
      " 'inet_addr' 'near' 'db3_NdNt' 'GetStockObject' 'Img6'\n",
      " 'string_len_counts_75' 'asm_commands_in' 'Img28' 'TB_22' 'TB_2d'\n",
      " 'EnumCalendarInfoA' 'ent_q_diff_diffs_5' 'rand' 'int.1' 'Img57' 'lstrlenA'\n",
      " 'WriteConsoleA' 'Img92' 'ent_q_diff_block_3_12' 'asm_commands_std'\n",
      " 'ent_q_diff_diffs_3_var' '.reloc_por' 'HMODULE' 'TB_32' 'dll'\n",
      " 'ent_q_diffs_12' 'dd6_all' 'ent_q_diff_block_2_0' 'TB_a9' 'Img7.1' 'Img66'\n",
      " 'Img6.1' 'VariantInit' 'regs_ebx' 'Entropy' 'Img21.1' 'Img29.1' 'HANDLE'\n",
      " 'ent_q_diff_block_3_5' 'Img48' 'TB_95' 'Img15.1' 'Img51' 'regs_ecx' 'Img0'\n",
      " 'short' 'HDC' 'stdcall' 'TB_36' 'CharToOemA' 'ent_q_diff_block_2_14'\n",
      " 'TB_ff' 'TB_d7' 'asm_commands_mov' 'ent_q_diff_block_0_19' '_cexit'\n",
      " 'misc1_sp-analysisfailed' 'ent_q_diffs_20' 'Img33' 'asm_commands_mul'\n",
      " 'Img63' 'Img2' 'string_ratio' 'ent_p_diffs_19' 'db3_data' 'Img39'\n",
      " 'CreateCompatibleDC' 'regs_ch' 'asm_commands_fdiv' 'dd5_all'\n",
      " 'GetModuleHandleA' 'TB_1f' 'string_len_counts_7' '__IMPORT_'\n",
      " 'asm_commands_call' 'TB_f6' 'SetHandleCount' 'TB_2b' 'TB_0c'\n",
      " 'asm_commands_cmp' 'ExitProcess' 'ent_q_diff_diffs_1_mean'\n",
      " 'ent_q_diffs_max-min' 'asm_commands_daa' 'ent_p_12' 'string_len_counts_4'\n",
      " 'ent_q_diff_block_3_18' 'asm_commands_dd' 'TB_73' 'ent_q_diff_diffs_12'\n",
      " 'LONG' 'large' 'TB_47' 'Imports' 'Img10' 'ent_q_diff_diffs_1_min'\n",
      " 'string_len_counts_6' 'asm_commands_test' 'TB_ce' 'proc'\n",
      " 'ent_q_diff_diffs_0_max' 'strchr' 'BYTES' 'cookie' 'Img25' 'Img107'\n",
      " 'Img27' 'TB_6a' '_except_handler3' 'ent_p_19' 'Img26' 'var' 'dd4_NdNt'\n",
      " 'ent_p_1' 'TB_e4' '.data_por' 'ent_p_5' 'Img74' 'string_len_counts_10_30'\n",
      " 'COLLAPSED' 'asm_commands_lea' 'asm_commands_stos' 'TB_00'\n",
      " 'FreeEnvironmentStringsW' 'arg' 'LCMapStringA' 'TB_7e']\n"
     ]
    }
   ],
   "source": [
    "# get all useless features via random forest classification\n",
    "print('The Number of Usefuless Features via Random Forest Classification\\n',len(rfc_dataImSorted[rfc_featureImportance==0]))\n",
    "print('\\nAll Useless Features via Random Forest Classification\\n', rfc_dataImSorted[rfc_featureImportance==0])"
   ]
  },
  {
   "cell_type": "code",
   "execution_count": 84,
   "metadata": {
    "collapsed": false
   },
   "outputs": [
    {
     "name": "stdout",
     "output_type": "stream",
     "text": [
      "The Number of Usefuless Features via Decision Tree Classification\n",
      " 1741\n",
      "\n",
      "All Useless Features via Decision Tree Classification\n",
      " ['TB_49' 'TB_48' 'TB_47' ..., 'dc_por' 'ent_q_diff_diffs_1_median'\n",
      " 'section_names_header']\n"
     ]
    }
   ],
   "source": [
    "# get all useless features via decision tree classification\n",
    "print('The Number of Usefuless Features via Decision Tree Classification\\n',len(dtc_dataImSorted[dtc_featureImportance==0]))\n",
    "print('\\nAll Useless Features via Decision Tree Classification\\n', dtc_dataImSorted[dtc_featureImportance==0])"
   ]
  },
  {
   "cell_type": "code",
   "execution_count": 85,
   "metadata": {
    "collapsed": false
   },
   "outputs": [
    {
     "name": "stdout",
     "output_type": "stream",
     "text": [
      "The Number of Usefuless Features via Extra Trees Classification\n",
      " 432\n",
      "\n",
      "All Useless Features via Extra Trees Classification\n",
      " ['InterlockedExchange' 'string_len_counts_74' 'CreateWindowExW'\n",
      " 'GetFileVersionInfoSizeA' 'string_len_counts_62' 'RegOpenKeyA'\n",
      " 'GetKeyboardState' 'string_len_counts_58' 'RegisterClipboardFormatA'\n",
      " 'CreateMenu' '__vbaFreeStrList' 'MapViewOfFile' 'string_len_counts_68'\n",
      " 'string_len_counts_67' 'RemovePropA' 'SetFileAttributesW'\n",
      " 'GetTextExtentPointA' 'Escape' 'GetTimeFormatA' '__vbaFpI4'\n",
      " 'GetEnhMetaFileHeader' 'setle' 'LRESULT' 'Img88' 'GetEnhMetaFileBits'\n",
      " 'SetWinMetaFileBits' 'CreateMutexA' '__vbaVarVargNofree' 'ExtTextOutA'\n",
      " 'OpenMutexA' '__vbaVarCopy' 'CopyEnhMetaFileA' '__vbaAryCopy'\n",
      " 'string_len_counts_96' 'ExcludeClipRect' 'SafeArrayGetLBound'\n",
      " 'ImageList_Draw' 'InsertMenuA' 'WriteProcessMemory' 'SetBrushOrgEx'\n",
      " 'ShowScrollBar' 'SetThreadLocale' '__vbaFileOpen' 'GetScrollInfo'\n",
      " 'GetBitmapBits' 'GetPaletteEntries' 'GetClientRect' 'TranslateMDISysAccel'\n",
      " 'GetWindowOrgEx' 'GetObjectA' 'SetPixel' 'GetSystemPaletteEntries'\n",
      " 'GetDCEx' 'SetWindowPlacement' 'MapVirtualKeyA' '__vbaErrorOverflow'\n",
      " 'OemToCharA' 'GetTextMetricsA' 'GetFocus' 'InternetOpenUrlA'\n",
      " 'GetMenuItemInfoA' '__vbaAryDestruct' '__vbaStrCmp' 'ScrollWindow'\n",
      " 'IntersectClipRect' 'GetClipboardData' 'ent_q_diff_block_1_1'\n",
      " 'CreatePenIndirect' '__vbaStrToUnicode' 'ImageList_DrawEx' 'RegOpenKeyExW'\n",
      " 'GetKeyboardLayoutList' '__vbaStrVarVal' 'ImageList_Read'\n",
      " 'CreateHalftonePalette' 'ImageList_GetImageCount' 'ImageList_SetBkColor'\n",
      " 'ImageList_BeginDrag' 'DefFrameProcA' 'DefMDIChildProcA' '__vbaEnd'\n",
      " 'ImageList_EndDrag' 'string_len_counts_89' '__vbaVarCat'\n",
      " 'string_len_counts_55' 'GetCurrentPositionEx' '__vbaGenerateBoundsError'\n",
      " 'wsprintfA' 'CallNextHookEx' 'GetBrushOrgEx' 'SearchPathA' 'RegEnumKeyExA'\n",
      " 'TB_ec' 'ImageList_AddMasked' 'string_len_counts_78' 'SetActiveWindow'\n",
      " 'DrawIconEx' 'TB_e6' 'OffsetRect' 'string_len_counts_250_400' 'TB_98'\n",
      " 'TB_ee' 'string_len_counts_100_150' 'lstrlenW' 'CreateEventA'\n",
      " 'string_len_counts_25' 'asm_commands_dec' 'TB_6c' 'GetMenuState'\n",
      " 'MapWindowPoints' 'GetMenuItemCount' 'IsBadWritePtr' 'RegOpenKeyExA'\n",
      " '__vbaFixstrConstruct' 'CreateDirectoryA' 'ent_q_diff_block_0_10' 'config'\n",
      " 'ent_p_diffs_18' 'RegSetValueExA' 'send' 'DeviceIoControl' 'DeleteService'\n",
      " 'SendMessageTimeoutA' '__vbaVarIndexLoad' '__vbaStrToAnsi' 'GlobalUnlock'\n",
      " 'ent_q_diff_block_1_7' 'extrn' 'CheckDlgButton' 'ShowOwnedPopups'\n",
      " 'GdiFlush' 'ExpandEnvironmentStringsA' '__vbaStrCopy' 'GetVersionExW'\n",
      " 'SetWindowTextW' 'string_len_counts_41' '__vbaSetSystemError'\n",
      " 'ent_q_diff_block_0_20' 'GetTokenInformation' 'shld' 'CreateFontIndirectA'\n",
      " 'TB_90' 'asm_commands_rol' 'string_len_counts_14' 'GetDlgCtrlID'\n",
      " 'PostMessageW' 'GetWindowThreadProcessId' '_CIsin' 'CloseServiceHandle'\n",
      " 'DeleteCriticalSection' 'ent_q_diff_diffs_11' 'WindowFromPoint'\n",
      " 'ent_p_diffs_9' 'wvsprintfA' 'Img20' 'GetStringTypeExA'\n",
      " 'WritePrivateProfileStringA' 'Img27' 'string_len_counts_59'\n",
      " 'ent_q_diffs_8' 'SHGetSpecialFolderLocation' 'TB_74' 'ScreenToClient'\n",
      " 'DeleteFileA' 'dll' 'GetStartupInfoW' 'TB_db' 'InitCommonControlsEx'\n",
      " '__vbaLenBstr' 'ImageList_SetIconSize' 'asm_commands_rcl'\n",
      " 'ent_q_diff_block_1_18' 'ent_q_diff_block_0_12' 'SetCurrentDirectoryA'\n",
      " 'LPWSTR' 'string_len_counts_23' 'Img52' 'GetFullPathNameA'\n",
      " 'string_len_counts_57' 'TB_07' 'IsBadCodePtr' 'ent_q_diff_block_3_5'\n",
      " 'CheckMenuItem' 'TB_f2' 'string_len_counts_9' 'asm_commands_cdq'\n",
      " 'string_len_counts_6' 'GetDateFormatA' 'TB_4d' 'GetEnvironmentVariableA'\n",
      " 'BOOL' 'HMENU' 'SysFreeString' 'string_len_counts_69'\n",
      " 'ent_q_diff_block_2_1' 'ent_q_diff_block_3_20' 'ent_q_diff_block_3_16'\n",
      " 'GetFileType' 'TranslateMessage' 'asm_commands_jnb' 'GlobalMemoryStatus'\n",
      " 'Img19' 'EnterCriticalSection' 'Img8.1' 'string_len_counts_400_600'\n",
      " 'ent_q_diff_block_3_7' 'ent_p_diffs_16' 'FreeLibrary' 'TB_c6'\n",
      " 'string_len_counts_35' 'TB_c1' 'GetProcessHeap' 'Img48.1'\n",
      " 'ent_q_diff_block_3_17' 'RestoreDC' 'TB_20' 'TB_e4'\n",
      " 'ent_q_diff_block_1_10' 'GetCursor' 'SetRect' 'TB_e0'\n",
      " 'string_len_counts_40' 'TB_91' 'string_len_counts_31'\n",
      " 'string_len_counts_34' 'TB_fe' 'asm_commands_fxch' 'asm_commands_ret'\n",
      " 'LoadCursorA' 'PostMessageA' 'TB_45' 'LeaveCriticalSection' 'TB_2b'\n",
      " 'string_len_counts_10' 'Img31' 'string_len_counts_30' 'FindResourceA'\n",
      " 'string_len_counts_80' '_CIcos' 'CoTaskMemFree' 'ent_q_diff_block_0_4'\n",
      " 'Img36.1' 'LoadResource' 'string_len_counts_44' 'Img11.1'\n",
      " 'string_len_counts_30_60' 'fdivp' 'TB_dc' 'GetMenu' 'CoTaskMemAlloc'\n",
      " 'TB_fd' 'XREF' 'Img28.1' 'ent_p_0' 'ent_q_diff_block_1_9'\n",
      " 'ent_q_diff_diffs_max-min' 'TB_e8' 'TB_a1' 'WORD' 'byte' 'TB_36' 'TB_28'\n",
      " 'TB_d8' 'ent_q_diffs_4' 'regs_bl' 'TB_11' 'GetMessageTime' 'TB_29' 'fild'\n",
      " 'Img50.1' 'GetModuleFileNameW' 'ent_q_diff_block_2_10' '__vbaFreeObj'\n",
      " 'SelectPalette' 'SetEnvironmentVariableA' 'ent_q_diff_diffs_0_max-min'\n",
      " 'misc1_assume' 'TB_65' 'DeleteFileW' 'TB_b5' 'GetCommandLineA' 'TB_3a'\n",
      " 'movzx' 'Img27.1' 'GetLocalTime' 'Img74' '_CIatan' 'TB_5d' 'SetEndOfFile'\n",
      " 'lstrcmpA' 'GetDesktopWindow' 'TB_0e' 'void' 'ent_q_diffs_3' 'TB_85'\n",
      " 'ent_q_diff_block_3_3' 'FreeEnvironmentStringsA' 'GetTempPathW' 'TB_22'\n",
      " 'const' 'ent_q_diff_diffs_19' 'ent_q_diff_block_3_8' 'setz' 'Software'\n",
      " 'TB_71' 'ent_q_diff_block_3_9' 'GetCommandLineW' 'asm_commands_jo'\n",
      " 'ent_p_diffs_11' 'FindNextFileA' 'memset' 'TB_6a' 'TB_d4' 'arg'\n",
      " 'CompareStringA' 'GetLocaleInfoA' 'string_len_counts_11' 'TB_40' 'TB_5e'\n",
      " 'TB_50' 'ent_p_diffs_3' 'dw_por' 'VirtualQuery' 'asm_commands_stos'\n",
      " 'ent_q_diff_block_0_7' 'Import' 'GetWindowsDirectoryA'\n",
      " 'string_len_counts_56' 'ent_q_diff_block_0_6' 'ent_q_diff_block_2_3'\n",
      " 'string_len_counts_13' 'TB_9b' 'SetLastError' 'ent_p_15' 'TB_a7'\n",
      " 'LookupPrivilegeValueA' 'setnz' 'TB_02' 'TB_2f' 'GetThreadLocale' 'fwrite'\n",
      " 'int' 'ent_q_diff_block_3_14' 'ent_q_diff_diffs_var' 'TB_a4' 'near'\n",
      " 'string_len_counts_12' 'SetDlgItemTextA' 'OpenSCManagerA'\n",
      " 'asm_commands_or' 'TB_9f' 'TB_32' 'VariantChangeType' 'TB_fb'\n",
      " 'LoadLibraryW' 'TB_23' 'MultiByteToWideChar' 'ent_q_diff_block_0_13'\n",
      " 'TB_2e' 'GetMessagePos' 'misc1_sp-analysisfailed' 'TB_92'\n",
      " 'ent_q_diff_block_1_6' 'TB_14' 'ent_q_diff_block_1_11' 'asm_commands_jmp'\n",
      " '_CIlog' 'TB_df' 'ent_p_diffs_12' 'TB_82' 'FUNCTION' 'asc' 'TB_c0'\n",
      " 'GetStockObject' 'OpenServiceA' 'ent_p_diffs_2' 'SHGetSpecialFolderPathA'\n",
      " 'RegDeleteValueA' 'time' 'TB_86' 'TB_21' 'HeapFree' 'rdtsc'\n",
      " 'string_len_counts_27' 'ShellExecuteA' 'TB_a2' 'CoCreateInstance'\n",
      " '.bss_por' 'ent_q_diff_block_3_2' 'Img91' 'ReadFile' 'CreateProcessA'\n",
      " 'ent_p_18' 'GetProcAddress' 'TB_b7' 'GetParent' 'Img22'\n",
      " 'section_names_.rdata' 'Imports' 'Img60' 'WriteConsoleA' 'TB_f6' 'Img42.1'\n",
      " 'Img8' 'ent_q_diff_block_3_12' 'IsDBCSLeadByte' 'ent_p_13' 'regs_bh'\n",
      " 'dd5_NdNt' 'Img49.1' 'db_por' 'rand' 'TB_89' 'SetHandleCount' 'TB_eb'\n",
      " 'TB_ce' '_initterm' 'misc1_unableto' 'TB_87' 'TB_1c'\n",
      " 'ent_q_diff_diffs_3_median' 'TB_1b' 'TB_80' 'string_len_counts_0_100'\n",
      " 'Img12' 'dd_por' 'asm_commands_add' 'TB_6d' 'TB_c3' 'Img34' 'Img47'\n",
      " 'Img86']\n"
     ]
    }
   ],
   "source": [
    "# get all useless features via extra trees classification\n",
    "print('The Number of Usefuless Features via Extra Trees Classification\\n',len(etc_dataImSorted[etc_featureImportance==0]))\n",
    "print('\\nAll Useless Features via Extra Trees Classification\\n', etc_dataImSorted[etc_featureImportance==0])"
   ]
  },
  {
   "cell_type": "code",
   "execution_count": 86,
   "metadata": {
    "collapsed": false
   },
   "outputs": [
    {
     "name": "stdout",
     "output_type": "stream",
     "text": [
      "The Number of Usefuless Features via AdaBoost Classification\n",
      " 1802\n",
      "\n",
      "All Useless Features via AdaBoost Classification\n",
      " ['Virtual' 'TB_5b' 'TB_5a' ..., 'Img107' 'Img37'\n",
      " 'ent_q_diff_diffs_1_median']\n"
     ]
    }
   ],
   "source": [
    "# get all useless features via AdaBoost classification\n",
    "print('The Number of Usefuless Features via AdaBoost Classification\\n',len(abc_dataImSorted[abc_featureImportance==0]))\n",
    "print('\\nAll Useless Features via AdaBoost Classification\\n', abc_dataImSorted[abc_featureImportance==0])"
   ]
  },
  {
   "cell_type": "markdown",
   "metadata": {},
   "source": [
    "# Part III. Model Comparison"
   ]
  },
  {
   "cell_type": "markdown",
   "metadata": {},
   "source": [
    "## 1. Accuracy Comparison"
   ]
  },
  {
   "cell_type": "code",
   "execution_count": 87,
   "metadata": {
    "collapsed": false,
    "scrolled": true
   },
   "outputs": [
    {
     "data": {
      "image/png": "[encoded data removed]",
      "text/plain": [
       "<matplotlib.figure.Figure at 0x11b5c74a8>"
      ]
     },
     "metadata": {},
     "output_type": "display_data"
    }
   ],
   "source": [
    "# accuracy statistic analysis and comparison of each classification method\n",
    "plt.rcParams[\"figure.figsize\"] = (10,5)\n",
    "all_scores = np.vstack((rfc_scores, dtc_scores, etc_scores, abc_scores))\n",
    "plt.boxplot(all_scores.T)\n",
    "plt.title('Accuracy Comparison among These Classification Models')\n",
    "plt.xlabel('Classification Model')\n",
    "plt.ylabel('Accuracy')\n",
    "plt.xticks(np.arange(4)+1,['RFC','DTC','ETC','ABC'])\n",
    "plt.grid(True)\n",
    "plt.show()"
   ]
  },
  {
   "cell_type": "markdown",
   "metadata": {},
   "source": [
    "Due the accuracy value of AdaBoost classification, this figure cannot display very well. Hence, we pop the AdaBoost classidication result and re-draw again the accuracy comparison among last four classification methods."
   ]
  },
  {
   "cell_type": "code",
   "execution_count": 88,
   "metadata": {
    "collapsed": false,
    "scrolled": true
   },
   "outputs": [
    {
     "data": {
      "image/png": "[encoded data removed]",
      "text/plain": [
       "<matplotlib.figure.Figure at 0x11a6c6780>"
      ]
     },
     "metadata": {},
     "output_type": "display_data"
    }
   ],
   "source": [
    "# accuracy statistic analysis and comparison of each classification method\n",
    "all_scores = np.vstack((rfc_scores, dtc_scores, etc_scores))\n",
    "plt.boxplot(all_scores.T)\n",
    "plt.title('Accuracy Comparison among These Classification Models')\n",
    "plt.xlabel('Classification Model')\n",
    "plt.ylabel('Accuracy')\n",
    "plt.xticks(np.arange(3)+1,['RFC','DTC','ETC'])\n",
    "plt.grid(True)\n",
    "plt.show()"
   ]
  },
  {
   "cell_type": "markdown",
   "metadata": {},
   "source": [
    "## 2. Important Features Comparison"
   ]
  },
  {
   "cell_type": "code",
   "execution_count": 89,
   "metadata": {
    "collapsed": false,
    "scrolled": true
   },
   "outputs": [],
   "source": [
    "# extract the top10 features from different classifiers\n",
    "top10_rfc = rfc_dataImSorted[-10:len(rfc_dataImSorted)]\n",
    "top10_dtc = dtc_dataImSorted[-10:len(dtc_dataImSorted)]\n",
    "top10_etc = etc_dataImSorted[-10:len(etc_dataImSorted)]\n",
    "top10_abc = abc_dataImSorted[-10:len(abc_dataImSorted)]"
   ]
  },
  {
   "cell_type": "code",
   "execution_count": 90,
   "metadata": {
    "collapsed": false,
    "scrolled": false
   },
   "outputs": [
    {
     "name": "stdout",
     "output_type": "stream",
     "text": [
      "All Top 10 Features from Different Classifiers:\n",
      " ['string_len_counts_150_250' 'TB_f5' 'TB_b1' 'TB_e5'\n",
      " 'ent_q_diff_diffs_2_median' 'strncpy' '_exit' 'HeapAlloc' 'TB_99' 'Img0.1'\n",
      " 'asm_commands_in' 'VirtualAlloc' 'TB_d5' '.rsrc_por' 'ent_p_19' 'Offset.1'\n",
      " 'Img50' 'dc_por' 'ent_q_diff_diffs_1_median' 'section_names_header'\n",
      " 'Img47' 'GetIconInfo' 'ent_p_7' '_onexit' 'Img48' 'GetStringTypeA'\n",
      " 'Img45.1' 'Img86' 'ent_q_diffs_max' 'IsValidCodePage' 'SetWindowsHookExA'\n",
      " 'EnumWindows' 'CreateBrushIndirect' 'IsIconic' 'GetFileVersionInfoSizeA'\n",
      " 'MoveFileA' 'FileTimeToLocalFileTime' 'Img107' 'Img37'\n",
      " 'ent_q_diff_diffs_1_median']\n",
      "\n",
      "\n",
      "Unique the Features and Theirs Counts\n",
      "\n"
     ]
    },
    {
     "data": {
      "text/html": [
       "<div>\n",
       "<table border=\"1\" class=\"dataframe\">\n",
       "  <thead>\n",
       "    <tr style=\"text-align: right;\">\n",
       "      <th></th>\n",
       "      <th>.rsrc_por</th>\n",
       "      <th>CreateBrushIndirect</th>\n",
       "      <th>EnumWindows</th>\n",
       "      <th>FileTimeToLocalFileTime</th>\n",
       "      <th>GetFileVersionInfoSizeA</th>\n",
       "      <th>GetIconInfo</th>\n",
       "      <th>GetStringTypeA</th>\n",
       "      <th>HeapAlloc</th>\n",
       "      <th>Img0.1</th>\n",
       "      <th>Img107</th>\n",
       "      <th>...</th>\n",
       "      <th>asm_commands_in</th>\n",
       "      <th>dc_por</th>\n",
       "      <th>ent_p_19</th>\n",
       "      <th>ent_p_7</th>\n",
       "      <th>ent_q_diff_diffs_1_median</th>\n",
       "      <th>ent_q_diff_diffs_2_median</th>\n",
       "      <th>ent_q_diffs_max</th>\n",
       "      <th>section_names_header</th>\n",
       "      <th>string_len_counts_150_250</th>\n",
       "      <th>strncpy</th>\n",
       "    </tr>\n",
       "  </thead>\n",
       "  <tbody>\n",
       "    <tr>\n",
       "      <th>counts</th>\n",
       "      <td>1</td>\n",
       "      <td>1</td>\n",
       "      <td>1</td>\n",
       "      <td>1</td>\n",
       "      <td>1</td>\n",
       "      <td>1</td>\n",
       "      <td>1</td>\n",
       "      <td>1</td>\n",
       "      <td>1</td>\n",
       "      <td>1</td>\n",
       "      <td>...</td>\n",
       "      <td>1</td>\n",
       "      <td>1</td>\n",
       "      <td>1</td>\n",
       "      <td>1</td>\n",
       "      <td>2</td>\n",
       "      <td>1</td>\n",
       "      <td>1</td>\n",
       "      <td>1</td>\n",
       "      <td>1</td>\n",
       "      <td>1</td>\n",
       "    </tr>\n",
       "  </tbody>\n",
       "</table>\n",
       "<p>1 rows × 39 columns</p>\n",
       "</div>"
      ],
      "text/plain": [
       "        .rsrc_por  CreateBrushIndirect  EnumWindows  FileTimeToLocalFileTime  \\\n",
       "counts          1                    1            1                        1   \n",
       "\n",
       "        GetFileVersionInfoSizeA  GetIconInfo  GetStringTypeA  HeapAlloc  \\\n",
       "counts                        1            1               1          1   \n",
       "\n",
       "        Img0.1  Img107   ...     asm_commands_in  dc_por  ent_p_19  ent_p_7  \\\n",
       "counts       1       1   ...                   1       1         1        1   \n",
       "\n",
       "        ent_q_diff_diffs_1_median  ent_q_diff_diffs_2_median  ent_q_diffs_max  \\\n",
       "counts                          2                          1                1   \n",
       "\n",
       "        section_names_header  string_len_counts_150_250  strncpy  \n",
       "counts                     1                          1        1  \n",
       "\n",
       "[1 rows x 39 columns]"
      ]
     },
     "execution_count": 90,
     "metadata": {},
     "output_type": "execute_result"
    }
   ],
   "source": [
    "# concatenate all top 10 features\n",
    "top10 = np.concatenate((top10_rfc, top10_dtc, top10_etc, top10_abc), axis=0)\n",
    "print('All Top 10 Features from Different Classifiers:\\n',top10)\n",
    "\n",
    "# unique the features and count the appearances of features\n",
    "uni, count = np.unique(top10, return_counts=True)\n",
    "uniFeatures = pd.DataFrame(count, index=uni, columns=['counts'])\n",
    "\n",
    "print('\\n\\nUnique the Features and Theirs Counts\\n')\n",
    "uniFeatures.T.head()"
   ]
  },
  {
   "cell_type": "code",
   "execution_count": 91,
   "metadata": {
    "collapsed": false
   },
   "outputs": [
    {
     "data": {
      "image/png": "[encoded data removed]",
      "text/plain": [
       "<matplotlib.figure.Figure at 0x118f95860>"
      ]
     },
     "metadata": {},
     "output_type": "display_data"
    }
   ],
   "source": [
    "plt.bar(np.arange(uniFeatures.shape[0])*2,uniFeatures.counts, color='skyblue')\n",
    "plt.title('Top 10 Features from RFC, DTC and ETC')\n",
    "plt.xlabel('Features')\n",
    "plt.ylabel('Appearance time')\n",
    "plt.xticks(np.arange(uniFeatures.shape[0])*2,uniFeatures.index,rotation=90)\n",
    "plt.grid(True)\n",
    "plt.show()"
   ]
  },
  {
   "cell_type": "markdown",
   "metadata": {},
   "source": [
    "# Part IV. Model Validation"
   ]
  },
  {
   "cell_type": "markdown",
   "metadata": {},
   "source": [
    "## 1. Apply SVM to Evaluate the Features\n",
    "### 1.1 Import Packages"
   ]
  },
  {
   "cell_type": "code",
   "execution_count": 92,
   "metadata": {
    "collapsed": true
   },
   "outputs": [],
   "source": [
    "from sklearn.svm import SVC"
   ]
  },
  {
   "cell_type": "markdown",
   "metadata": {},
   "source": [
    "### 1.2 Selected Features from Different Classifiers"
   ]
  },
  {
   "cell_type": "code",
   "execution_count": 93,
   "metadata": {
    "collapsed": false,
    "scrolled": false
   },
   "outputs": [
    {
     "data": {
      "text/html": [
       "<div>\n",
       "<table border=\"1\" class=\"dataframe\">\n",
       "  <thead>\n",
       "    <tr style=\"text-align: right;\">\n",
       "      <th></th>\n",
       "      <th>string_len_counts_150_250</th>\n",
       "      <th>TB_f5</th>\n",
       "      <th>TB_b1</th>\n",
       "      <th>TB_e5</th>\n",
       "      <th>ent_q_diff_diffs_2_median</th>\n",
       "      <th>strncpy</th>\n",
       "      <th>_exit</th>\n",
       "      <th>HeapAlloc</th>\n",
       "      <th>TB_99</th>\n",
       "      <th>Img0.1</th>\n",
       "    </tr>\n",
       "  </thead>\n",
       "  <tbody>\n",
       "    <tr>\n",
       "      <th>0</th>\n",
       "      <td>2.0</td>\n",
       "      <td>265</td>\n",
       "      <td>542</td>\n",
       "      <td>353</td>\n",
       "      <td>3.266095</td>\n",
       "      <td>1</td>\n",
       "      <td>8</td>\n",
       "      <td>6</td>\n",
       "      <td>632</td>\n",
       "      <td>195766.0</td>\n",
       "    </tr>\n",
       "    <tr>\n",
       "      <th>1</th>\n",
       "      <td>0.0</td>\n",
       "      <td>345</td>\n",
       "      <td>231</td>\n",
       "      <td>250</td>\n",
       "      <td>3.190804</td>\n",
       "      <td>0</td>\n",
       "      <td>2</td>\n",
       "      <td>0</td>\n",
       "      <td>260</td>\n",
       "      <td>14812.0</td>\n",
       "    </tr>\n",
       "    <tr>\n",
       "      <th>2</th>\n",
       "      <td>0.0</td>\n",
       "      <td>3233</td>\n",
       "      <td>2705</td>\n",
       "      <td>3179</td>\n",
       "      <td>3.066297</td>\n",
       "      <td>0</td>\n",
       "      <td>6</td>\n",
       "      <td>0</td>\n",
       "      <td>2888</td>\n",
       "      <td>115890.0</td>\n",
       "    </tr>\n",
       "    <tr>\n",
       "      <th>3</th>\n",
       "      <td>0.0</td>\n",
       "      <td>2685</td>\n",
       "      <td>2871</td>\n",
       "      <td>2511</td>\n",
       "      <td>3.711496</td>\n",
       "      <td>0</td>\n",
       "      <td>4</td>\n",
       "      <td>0</td>\n",
       "      <td>2529</td>\n",
       "      <td>128449.0</td>\n",
       "    </tr>\n",
       "    <tr>\n",
       "      <th>4</th>\n",
       "      <td>0.0</td>\n",
       "      <td>348</td>\n",
       "      <td>331</td>\n",
       "      <td>404</td>\n",
       "      <td>3.994911</td>\n",
       "      <td>0</td>\n",
       "      <td>0</td>\n",
       "      <td>0</td>\n",
       "      <td>357</td>\n",
       "      <td>19667.0</td>\n",
       "    </tr>\n",
       "  </tbody>\n",
       "</table>\n",
       "</div>"
      ],
      "text/plain": [
       "   string_len_counts_150_250  TB_f5  TB_b1  TB_e5  ent_q_diff_diffs_2_median  \\\n",
       "0                        2.0    265    542    353                   3.266095   \n",
       "1                        0.0    345    231    250                   3.190804   \n",
       "2                        0.0   3233   2705   3179                   3.066297   \n",
       "3                        0.0   2685   2871   2511                   3.711496   \n",
       "4                        0.0    348    331    404                   3.994911   \n",
       "\n",
       "   strncpy  _exit  HeapAlloc  TB_99    Img0.1  \n",
       "0        1      8          6    632  195766.0  \n",
       "1        0      2          0    260   14812.0  \n",
       "2        0      6          0   2888  115890.0  \n",
       "3        0      4          0   2529  128449.0  \n",
       "4        0      0          0    357   19667.0  "
      ]
     },
     "execution_count": 93,
     "metadata": {},
     "output_type": "execute_result"
    }
   ],
   "source": [
    "# random forest classification\n",
    "rfc_selected = data[top10_rfc]\n",
    "rfc_selected.head()"
   ]
  },
  {
   "cell_type": "code",
   "execution_count": 94,
   "metadata": {
    "collapsed": false
   },
   "outputs": [
    {
     "data": {
      "text/html": [
       "<div>\n",
       "<table border=\"1\" class=\"dataframe\">\n",
       "  <thead>\n",
       "    <tr style=\"text-align: right;\">\n",
       "      <th></th>\n",
       "      <th>asm_commands_in</th>\n",
       "      <th>VirtualAlloc</th>\n",
       "      <th>TB_d5</th>\n",
       "      <th>.rsrc_por</th>\n",
       "      <th>ent_p_19</th>\n",
       "      <th>Offset.1</th>\n",
       "      <th>Img50</th>\n",
       "      <th>dc_por</th>\n",
       "      <th>ent_q_diff_diffs_1_median</th>\n",
       "      <th>section_names_header</th>\n",
       "    </tr>\n",
       "  </thead>\n",
       "  <tbody>\n",
       "    <tr>\n",
       "      <th>0</th>\n",
       "      <td>2397</td>\n",
       "      <td>7</td>\n",
       "      <td>576</td>\n",
       "      <td>0.000000</td>\n",
       "      <td>3.610476</td>\n",
       "      <td>4198400</td>\n",
       "      <td>-0.011662</td>\n",
       "      <td>0.939565</td>\n",
       "      <td>3.303541</td>\n",
       "      <td>0.0</td>\n",
       "    </tr>\n",
       "    <tr>\n",
       "      <th>1</th>\n",
       "      <td>185</td>\n",
       "      <td>0</td>\n",
       "      <td>217</td>\n",
       "      <td>0.000196</td>\n",
       "      <td>3.994819</td>\n",
       "      <td>4198400</td>\n",
       "      <td>-0.068200</td>\n",
       "      <td>0.577673</td>\n",
       "      <td>3.977161</td>\n",
       "      <td>18.0</td>\n",
       "    </tr>\n",
       "    <tr>\n",
       "      <th>2</th>\n",
       "      <td>1234</td>\n",
       "      <td>5</td>\n",
       "      <td>2754</td>\n",
       "      <td>0.000000</td>\n",
       "      <td>3.356995</td>\n",
       "      <td>4198400</td>\n",
       "      <td>-0.002590</td>\n",
       "      <td>0.982791</td>\n",
       "      <td>3.086244</td>\n",
       "      <td>18.0</td>\n",
       "    </tr>\n",
       "    <tr>\n",
       "      <th>3</th>\n",
       "      <td>253</td>\n",
       "      <td>4</td>\n",
       "      <td>2482</td>\n",
       "      <td>0.000000</td>\n",
       "      <td>3.751938</td>\n",
       "      <td>4198400</td>\n",
       "      <td>-0.002597</td>\n",
       "      <td>0.949239</td>\n",
       "      <td>3.728404</td>\n",
       "      <td>18.0</td>\n",
       "    </tr>\n",
       "    <tr>\n",
       "      <th>4</th>\n",
       "      <td>113</td>\n",
       "      <td>5</td>\n",
       "      <td>317</td>\n",
       "      <td>0.002351</td>\n",
       "      <td>3.995484</td>\n",
       "      <td>268439552</td>\n",
       "      <td>-0.032245</td>\n",
       "      <td>0.221787</td>\n",
       "      <td>3.643115</td>\n",
       "      <td>19.0</td>\n",
       "    </tr>\n",
       "  </tbody>\n",
       "</table>\n",
       "</div>"
      ],
      "text/plain": [
       "   asm_commands_in  VirtualAlloc  TB_d5  .rsrc_por  ent_p_19   Offset.1  \\\n",
       "0             2397             7    576   0.000000  3.610476    4198400   \n",
       "1              185             0    217   0.000196  3.994819    4198400   \n",
       "2             1234             5   2754   0.000000  3.356995    4198400   \n",
       "3              253             4   2482   0.000000  3.751938    4198400   \n",
       "4              113             5    317   0.002351  3.995484  268439552   \n",
       "\n",
       "      Img50    dc_por  ent_q_diff_diffs_1_median  section_names_header  \n",
       "0 -0.011662  0.939565                   3.303541                   0.0  \n",
       "1 -0.068200  0.577673                   3.977161                  18.0  \n",
       "2 -0.002590  0.982791                   3.086244                  18.0  \n",
       "3 -0.002597  0.949239                   3.728404                  18.0  \n",
       "4 -0.032245  0.221787                   3.643115                  19.0  "
      ]
     },
     "execution_count": 94,
     "metadata": {},
     "output_type": "execute_result"
    }
   ],
   "source": [
    "# decision tree classification\n",
    "dtc_selected = data[top10_dtc]\n",
    "dtc_selected.head()"
   ]
  },
  {
   "cell_type": "code",
   "execution_count": 95,
   "metadata": {
    "collapsed": false
   },
   "outputs": [
    {
     "data": {
      "text/html": [
       "<div>\n",
       "<table border=\"1\" class=\"dataframe\">\n",
       "  <thead>\n",
       "    <tr style=\"text-align: right;\">\n",
       "      <th></th>\n",
       "      <th>Img47</th>\n",
       "      <th>GetIconInfo</th>\n",
       "      <th>ent_p_7</th>\n",
       "      <th>_onexit</th>\n",
       "      <th>Img48</th>\n",
       "      <th>GetStringTypeA</th>\n",
       "      <th>Img45.1</th>\n",
       "      <th>Img86</th>\n",
       "      <th>ent_q_diffs_max</th>\n",
       "      <th>IsValidCodePage</th>\n",
       "    </tr>\n",
       "  </thead>\n",
       "  <tbody>\n",
       "    <tr>\n",
       "      <th>0</th>\n",
       "      <td>14.739358</td>\n",
       "      <td>0</td>\n",
       "      <td>3.264746</td>\n",
       "      <td>5</td>\n",
       "      <td>0.000009</td>\n",
       "      <td>14</td>\n",
       "      <td>8527.0</td>\n",
       "      <td>4041.0</td>\n",
       "      <td>3.993254</td>\n",
       "      <td>4</td>\n",
       "    </tr>\n",
       "    <tr>\n",
       "      <th>1</th>\n",
       "      <td>13.841109</td>\n",
       "      <td>0</td>\n",
       "      <td>3.483986</td>\n",
       "      <td>0</td>\n",
       "      <td>0.000062</td>\n",
       "      <td>0</td>\n",
       "      <td>411.0</td>\n",
       "      <td>351.0</td>\n",
       "      <td>4.048986</td>\n",
       "      <td>0</td>\n",
       "    </tr>\n",
       "    <tr>\n",
       "      <th>2</th>\n",
       "      <td>13.337899</td>\n",
       "      <td>0</td>\n",
       "      <td>3.065914</td>\n",
       "      <td>10</td>\n",
       "      <td>0.000019</td>\n",
       "      <td>0</td>\n",
       "      <td>8614.0</td>\n",
       "      <td>6549.0</td>\n",
       "      <td>3.755269</td>\n",
       "      <td>0</td>\n",
       "    </tr>\n",
       "    <tr>\n",
       "      <th>3</th>\n",
       "      <td>15.313738</td>\n",
       "      <td>0</td>\n",
       "      <td>3.708903</td>\n",
       "      <td>0</td>\n",
       "      <td>0.000005</td>\n",
       "      <td>0</td>\n",
       "      <td>5921.0</td>\n",
       "      <td>5421.0</td>\n",
       "      <td>3.900933</td>\n",
       "      <td>0</td>\n",
       "    </tr>\n",
       "    <tr>\n",
       "      <th>4</th>\n",
       "      <td>14.616650</td>\n",
       "      <td>0</td>\n",
       "      <td>3.643114</td>\n",
       "      <td>5</td>\n",
       "      <td>0.000017</td>\n",
       "      <td>0</td>\n",
       "      <td>834.0</td>\n",
       "      <td>696.0</td>\n",
       "      <td>3.996103</td>\n",
       "      <td>0</td>\n",
       "    </tr>\n",
       "  </tbody>\n",
       "</table>\n",
       "</div>"
      ],
      "text/plain": [
       "       Img47  GetIconInfo   ent_p_7  _onexit     Img48  GetStringTypeA  \\\n",
       "0  14.739358            0  3.264746        5  0.000009              14   \n",
       "1  13.841109            0  3.483986        0  0.000062               0   \n",
       "2  13.337899            0  3.065914       10  0.000019               0   \n",
       "3  15.313738            0  3.708903        0  0.000005               0   \n",
       "4  14.616650            0  3.643114        5  0.000017               0   \n",
       "\n",
       "   Img45.1   Img86  ent_q_diffs_max  IsValidCodePage  \n",
       "0   8527.0  4041.0         3.993254                4  \n",
       "1    411.0   351.0         4.048986                0  \n",
       "2   8614.0  6549.0         3.755269                0  \n",
       "3   5921.0  5421.0         3.900933                0  \n",
       "4    834.0   696.0         3.996103                0  "
      ]
     },
     "execution_count": 95,
     "metadata": {},
     "output_type": "execute_result"
    }
   ],
   "source": [
    "# extra trees classification\n",
    "etc_selected = data[top10_etc]\n",
    "etc_selected.head()"
   ]
  },
  {
   "cell_type": "code",
   "execution_count": 96,
   "metadata": {
    "collapsed": false
   },
   "outputs": [
    {
     "data": {
      "text/html": [
       "<div>\n",
       "<table border=\"1\" class=\"dataframe\">\n",
       "  <thead>\n",
       "    <tr style=\"text-align: right;\">\n",
       "      <th></th>\n",
       "      <th>SetWindowsHookExA</th>\n",
       "      <th>EnumWindows</th>\n",
       "      <th>CreateBrushIndirect</th>\n",
       "      <th>IsIconic</th>\n",
       "      <th>GetFileVersionInfoSizeA</th>\n",
       "      <th>MoveFileA</th>\n",
       "      <th>FileTimeToLocalFileTime</th>\n",
       "      <th>Img107</th>\n",
       "      <th>Img37</th>\n",
       "      <th>ent_q_diff_diffs_1_median</th>\n",
       "    </tr>\n",
       "  </thead>\n",
       "  <tbody>\n",
       "    <tr>\n",
       "      <th>0</th>\n",
       "      <td>0</td>\n",
       "      <td>0</td>\n",
       "      <td>0</td>\n",
       "      <td>3</td>\n",
       "      <td>0</td>\n",
       "      <td>0</td>\n",
       "      <td>3</td>\n",
       "      <td>162674.0</td>\n",
       "      <td>-0.066673</td>\n",
       "      <td>3.303541</td>\n",
       "    </tr>\n",
       "    <tr>\n",
       "      <th>1</th>\n",
       "      <td>0</td>\n",
       "      <td>0</td>\n",
       "      <td>0</td>\n",
       "      <td>0</td>\n",
       "      <td>0</td>\n",
       "      <td>0</td>\n",
       "      <td>0</td>\n",
       "      <td>6551.0</td>\n",
       "      <td>-0.069701</td>\n",
       "      <td>3.977161</td>\n",
       "    </tr>\n",
       "    <tr>\n",
       "      <th>2</th>\n",
       "      <td>0</td>\n",
       "      <td>0</td>\n",
       "      <td>0</td>\n",
       "      <td>0</td>\n",
       "      <td>0</td>\n",
       "      <td>0</td>\n",
       "      <td>0</td>\n",
       "      <td>12946.0</td>\n",
       "      <td>-0.043849</td>\n",
       "      <td>3.086244</td>\n",
       "    </tr>\n",
       "    <tr>\n",
       "      <th>3</th>\n",
       "      <td>0</td>\n",
       "      <td>0</td>\n",
       "      <td>0</td>\n",
       "      <td>0</td>\n",
       "      <td>0</td>\n",
       "      <td>0</td>\n",
       "      <td>0</td>\n",
       "      <td>98621.0</td>\n",
       "      <td>-0.009142</td>\n",
       "      <td>3.728404</td>\n",
       "    </tr>\n",
       "    <tr>\n",
       "      <th>4</th>\n",
       "      <td>0</td>\n",
       "      <td>0</td>\n",
       "      <td>0</td>\n",
       "      <td>0</td>\n",
       "      <td>0</td>\n",
       "      <td>0</td>\n",
       "      <td>0</td>\n",
       "      <td>11864.0</td>\n",
       "      <td>-0.034729</td>\n",
       "      <td>3.643115</td>\n",
       "    </tr>\n",
       "  </tbody>\n",
       "</table>\n",
       "</div>"
      ],
      "text/plain": [
       "   SetWindowsHookExA  EnumWindows  CreateBrushIndirect  IsIconic  \\\n",
       "0                  0            0                    0         3   \n",
       "1                  0            0                    0         0   \n",
       "2                  0            0                    0         0   \n",
       "3                  0            0                    0         0   \n",
       "4                  0            0                    0         0   \n",
       "\n",
       "   GetFileVersionInfoSizeA  MoveFileA  FileTimeToLocalFileTime    Img107  \\\n",
       "0                        0          0                        3  162674.0   \n",
       "1                        0          0                        0    6551.0   \n",
       "2                        0          0                        0   12946.0   \n",
       "3                        0          0                        0   98621.0   \n",
       "4                        0          0                        0   11864.0   \n",
       "\n",
       "      Img37  ent_q_diff_diffs_1_median  \n",
       "0 -0.066673                   3.303541  \n",
       "1 -0.069701                   3.977161  \n",
       "2 -0.043849                   3.086244  \n",
       "3 -0.009142                   3.728404  \n",
       "4 -0.034729                   3.643115  "
      ]
     },
     "execution_count": 96,
     "metadata": {},
     "output_type": "execute_result"
    }
   ],
   "source": [
    "# Adaboost classification\n",
    "abc_selected = data[top10_abc]\n",
    "abc_selected.head()"
   ]
  },
  {
   "cell_type": "markdown",
   "metadata": {},
   "source": [
    "### 1.3 Feature Evaluation via SVM"
   ]
  },
  {
   "cell_type": "code",
   "execution_count": 97,
   "metadata": {
    "collapsed": false
   },
   "outputs": [
    {
     "name": "stdout",
     "output_type": "stream",
     "text": [
      "svmRFC training time:  124.94763663499907\n"
     ]
    }
   ],
   "source": [
    "# random forest classification\n",
    "# start to count\n",
    "start = timeit.default_timer()\n",
    "\n",
    "# random forest classification\n",
    "svmRFC_clf = SVC(kernel='rbf', probability=True)\n",
    "svmRFC_scores = cross_val_score(svmRFC_clf, rfc_selected, classType, cv=5)\n",
    "\n",
    "# stop to count\n",
    "stop = timeit.default_timer()\n",
    "print ('svmRFC training time: ', stop - start) "
   ]
  },
  {
   "cell_type": "code",
   "execution_count": 98,
   "metadata": {
    "collapsed": false
   },
   "outputs": [
    {
     "name": "stdout",
     "output_type": "stream",
     "text": [
      "[ 0.27410468  0.27389706  0.275069    0.27373272  0.27419355]\n",
      "0.274199401308\n"
     ]
    }
   ],
   "source": [
    "print(svmRFC_scores)\n",
    "print(svmRFC_scores.mean())"
   ]
  },
  {
   "cell_type": "code",
   "execution_count": 99,
   "metadata": {
    "collapsed": false
   },
   "outputs": [
    {
     "name": "stdout",
     "output_type": "stream",
     "text": [
      "svmDTC training time:  169.86059126700275\n"
     ]
    }
   ],
   "source": [
    "# decision tree classification\n",
    "# start to count\n",
    "start = timeit.default_timer()\n",
    "\n",
    "# random forest classification\n",
    "svmDTC_clf = SVC(kernel='rbf', probability=True)\n",
    "svmDTC_scores = cross_val_score(svmDTC_clf, dtc_selected, classType, cv=5)\n",
    "\n",
    "# stop to count\n",
    "stop = timeit.default_timer()\n",
    "print ('svmDTC training time: ', stop - start) "
   ]
  },
  {
   "cell_type": "code",
   "execution_count": 100,
   "metadata": {
    "collapsed": false
   },
   "outputs": [
    {
     "name": "stdout",
     "output_type": "stream",
     "text": [
      "[ 0.61065197  0.60294118  0.59015639  0.60460829  0.59953917]\n",
      "0.601579401988\n"
     ]
    }
   ],
   "source": [
    "print(svmDTC_scores)\n",
    "print(svmDTC_scores.mean())"
   ]
  },
  {
   "cell_type": "code",
   "execution_count": 101,
   "metadata": {
    "collapsed": false
   },
   "outputs": [
    {
     "name": "stdout",
     "output_type": "stream",
     "text": [
      "svmETC training time:  153.4904306190001\n"
     ]
    }
   ],
   "source": [
    "# Extra Trees classification\n",
    "# start to count\n",
    "start = timeit.default_timer()\n",
    "\n",
    "# random forest classification\n",
    "svmETC_clf = SVC(kernel='rbf', probability=True)\n",
    "svmETC_scores = cross_val_score(svmETC_clf, etc_selected, classType, cv=5)\n",
    "\n",
    "# stop to count\n",
    "stop = timeit.default_timer()\n",
    "print ('svmETC training time: ', stop - start) "
   ]
  },
  {
   "cell_type": "code",
   "execution_count": 102,
   "metadata": {
    "collapsed": false
   },
   "outputs": [
    {
     "name": "stdout",
     "output_type": "stream",
     "text": [
      "[ 0.5174472   0.51792279  0.52391904  0.52304147  0.50506912]\n",
      "0.51747992714\n"
     ]
    }
   ],
   "source": [
    "print(svmETC_scores)\n",
    "print(svmETC_scores.mean())"
   ]
  },
  {
   "cell_type": "code",
   "execution_count": 103,
   "metadata": {
    "collapsed": false
   },
   "outputs": [
    {
     "name": "stdout",
     "output_type": "stream",
     "text": [
      "svmABC training time:  139.90794814100082\n"
     ]
    }
   ],
   "source": [
    "# AdaBoost classification\n",
    "# start to count\n",
    "start = timeit.default_timer()\n",
    "\n",
    "# random forest classification\n",
    "svmABC_clf = SVC(kernel='rbf', probability=True)\n",
    "svmABC_scores = cross_val_score(svmABC_clf, abc_selected, classType, cv=5)\n",
    "\n",
    "# stop to count\n",
    "stop = timeit.default_timer()\n",
    "print ('svmABC training time: ', stop - start) "
   ]
  },
  {
   "cell_type": "code",
   "execution_count": 104,
   "metadata": {
    "collapsed": false
   },
   "outputs": [
    {
     "name": "stdout",
     "output_type": "stream",
     "text": [
      "[ 0.61616162  0.61259191  0.61775529  0.60368664  0.60737327]\n",
      "0.61151374511\n"
     ]
    }
   ],
   "source": [
    "print(svmABC_scores)\n",
    "print(svmABC_scores.mean())"
   ]
  },
  {
   "cell_type": "markdown",
   "metadata": {},
   "source": [
    "## 2. Comparison"
   ]
  },
  {
   "cell_type": "code",
   "execution_count": 105,
   "metadata": {
    "collapsed": false,
    "scrolled": true
   },
   "outputs": [
    {
     "data": {
      "image/png": "[encoded data removed]",
      "text/plain": [
       "<matplotlib.figure.Figure at 0x11ad05f28>"
      ]
     },
     "metadata": {},
     "output_type": "display_data"
    }
   ],
   "source": [
    "methods = ['RFC','DTC','ETC','ABC']\n",
    "totalsvmAcc = np.vstack((svmRFC_scores, svmDTC_scores, svmETC_scores, svmABC_scores))\n",
    "\n",
    "# plot the svm evaluation results via boxplot\n",
    "plt.boxplot(totalsvmAcc.T)\n",
    "plt.title('Top10 Feature Evaluation via SVM')\n",
    "plt.xlabel('Classifiers')\n",
    "plt.ylabel('Accuracy')\n",
    "plt.xticks(np.arange(4)+1, methods)\n",
    "plt.grid(True)\n",
    "plt.show()"
   ]
  },
  {
   "cell_type": "markdown",
   "metadata": {},
   "source": [
    "According to the results above, if we only select 10 features as our modeling features, then the AdaBoost Classification (ABC) showed the best result among the others. However, the RFC did not show good classification result. It could to be concluded that the numbers of features you used was important for random forest classification, hence, here are only 10 features, and this, leads to a low accuracy performance."
   ]
  },
  {
   "cell_type": "markdown",
   "metadata": {},
   "source": [
    "For using 10 features: the best feature selection classifiers in this study is ..."
   ]
  },
  {
   "cell_type": "code",
   "execution_count": 106,
   "metadata": {
    "collapsed": false
   },
   "outputs": [],
   "source": [
    "totalsvmAccAvg = np.zeros(4)\n",
    "\n",
    "for i in range(0,4):\n",
    "    totalsvmAccAvg[i] = totalsvmAcc[i,:].mean()"
   ]
  },
  {
   "cell_type": "code",
   "execution_count": 107,
   "metadata": {
    "collapsed": false
   },
   "outputs": [
    {
     "name": "stdout",
     "output_type": "stream",
     "text": [
      "The Answer is \" ABC \" !\n"
     ]
    }
   ],
   "source": [
    "print('The Answer is \"', methods[np.argmax(totalsvmAccAvg)],'\" !')"
   ]
  },
  {
   "cell_type": "markdown",
   "metadata": {},
   "source": [
    "# <b>The End</b>"
   ]
  },
  {
   "cell_type": "markdown",
   "metadata": {},
   "source": [
    "### Chan, Chun-Hsiang @ Dept. of Geog., NTU"
   ]
  }
 ],
 "metadata": {
  "kernelspec": {
   "display_name": "Python 3",
   "language": "python",
   "name": "python3"
  },
  "language_info": {
   "codemirror_mode": {
    "name": "ipython",
    "version": 3
   },
   "file_extension": ".py",
   "mimetype": "text/x-python",
   "name": "python",
   "nbconvert_exporter": "python",
   "pygments_lexer": "ipython3",
   "version": "3.6.0"
  }
 },
 "nbformat": 4,
 "nbformat_minor": 2
}
