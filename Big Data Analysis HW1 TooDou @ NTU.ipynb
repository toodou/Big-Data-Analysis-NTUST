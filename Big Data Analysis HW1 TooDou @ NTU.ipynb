{
 "cells": [
  {
   "cell_type": "markdown",
   "metadata": {},
   "source": [
    "# Select Important Features via Various Classification Approaches"
   ]
  },
  {
   "cell_type": "markdown",
   "metadata": {},
   "source": [
    "<b>Author</b>: Chan, Chun-Hsiang (<b>TooDou</b>) <b>@</b> D04228002 NTU GEOG"
   ]
  },
  {
   "cell_type": "markdown",
   "metadata": {},
   "source": [
    "In this project, we would like to analyze the microsoft malware dataset. Through data-driven aspect, we need to extract the important features and identify their feature types (MD1, SEC, !G, DP, IMG!, REG, MISC, ENT, IMG2, SYM, OPC, STR and API, etc.), moreover, we also need to figure out the useless features from the original dataset.\n",
    "Although this paper adopted \"random forest\" as the classifier, I wanted to test other classifiers, and attemped to know the accuracy of them. As a result, there are five classifiers have been adopted, including random forest, extra trees, decision tree, AdaBoost and KNN."
   ]
  },
  {
   "cell_type": "markdown",
   "metadata": {},
   "source": [
    "For the training dataset, we have 1805 features (included the class type), and 10868 rows of data.<br />\n",
    "For the test dataset, we have 1805 features (included the class type), and 10873 rows of data."
   ]
  },
  {
   "cell_type": "markdown",
   "metadata": {},
   "source": [
    "1. load training data and test data\n",
    "2. try different models (parameters changed)\n",
    "3. plot the accuracy and found the best parameters of this model\n",
    "4. output the results"
   ]
  },
  {
   "cell_type": "markdown",
   "metadata": {},
   "source": [
    "<b>Reference dataset</b>: https://github.com/ManSoSec/Microsoft-MalwareChallenge <br />\n",
    "<b>Reference paper</b>: https://arxiv.org/abs/1511.04317"
   ]
  },
  {
   "cell_type": "markdown",
   "metadata": {},
   "source": [
    "<b>Python</b> version: 3.6.1<br />\n",
    "<b>Packages requirements</b>:\n",
    "1. os\n",
    "2. pandas ver. 0.19.2\n",
    "3. matplotlib ver. 2.0.0\n",
    "4. numpy ver. 1.11.3\n",
    "5. sklearn ver. 0.18.1\n"
   ]
  },
  {
   "cell_type": "markdown",
   "metadata": {},
   "source": [
    "# Part I. Load Data and Import Packages"
   ]
  },
  {
   "cell_type": "markdown",
   "metadata": {},
   "source": [
    "## 1. Set the Path and Load Data"
   ]
  },
  {
   "cell_type": "code",
   "execution_count": 1,
   "metadata": {
    "collapsed": true
   },
   "outputs": [],
   "source": [
    "# import packages\n",
    "import os\n",
    "import pandas as pd\n",
    "\n",
    "# load dateset\n",
    "os.getcwd()\n",
    "os.chdir('/Users/May/documents/python_code/Microsoft-Malware-Challenge/Dataset/train')\n",
    "train = pd.read_csv('LargeTrain.csv')\n",
    "os.chdir('/Users/May/documents/python_code/Microsoft-Malware-Challenge/Dataset/test/')\n",
    "test = pd.read_csv('LargeTest.csv')"
   ]
  },
  {
   "cell_type": "markdown",
   "metadata": {},
   "source": [
    "## 2. Overview the Whole Dataset"
   ]
  },
  {
   "cell_type": "markdown",
   "metadata": {},
   "source": [
    "We applied two functions to view our Microsoft malware dataset (train and test), including head( ) and describe( ).<br />\n",
    "For the training dataset, we have 1805 features (included the class type), and 10868 rows of data.<br />\n",
    "For the test dataset, we have 1805 features (included the class type), and 10873 rows of data.<br />\n",
    "<br />\n",
    "At last, we plot two figures to present the class distribution of training and test dataset."
   ]
  },
  {
   "cell_type": "code",
   "execution_count": 2,
   "metadata": {
    "collapsed": true
   },
   "outputs": [],
   "source": [
    "# import necessary packages\n",
    "import matplotlib.pyplot as plt\n",
    "import numpy as np"
   ]
  },
  {
   "cell_type": "markdown",
   "metadata": {},
   "source": [
    "### 2.1 Training Dataset"
   ]
  },
  {
   "cell_type": "code",
   "execution_count": 3,
   "metadata": {
    "collapsed": false
   },
   "outputs": [
    {
     "data": {
      "text/html": [
       "<div>\n",
       "<table border=\"1\" class=\"dataframe\">\n",
       "  <thead>\n",
       "    <tr style=\"text-align: right;\">\n",
       "      <th></th>\n",
       "      <th>Virtual</th>\n",
       "      <th>Offset</th>\n",
       "      <th>loc</th>\n",
       "      <th>Import</th>\n",
       "      <th>Imports</th>\n",
       "      <th>var</th>\n",
       "      <th>Forwarder</th>\n",
       "      <th>UINT</th>\n",
       "      <th>LONG</th>\n",
       "      <th>BOOL</th>\n",
       "      <th>...</th>\n",
       "      <th>Img99</th>\n",
       "      <th>Img100</th>\n",
       "      <th>Img101</th>\n",
       "      <th>Img102</th>\n",
       "      <th>Img103</th>\n",
       "      <th>Img104</th>\n",
       "      <th>Img105</th>\n",
       "      <th>Img106</th>\n",
       "      <th>Img107</th>\n",
       "      <th>Class</th>\n",
       "    </tr>\n",
       "  </thead>\n",
       "  <tbody>\n",
       "    <tr>\n",
       "      <th>0</th>\n",
       "      <td>3</td>\n",
       "      <td>3</td>\n",
       "      <td>689</td>\n",
       "      <td>18</td>\n",
       "      <td>6</td>\n",
       "      <td>890</td>\n",
       "      <td>6</td>\n",
       "      <td>39</td>\n",
       "      <td>17</td>\n",
       "      <td>88</td>\n",
       "      <td>...</td>\n",
       "      <td>35148.0</td>\n",
       "      <td>8687.0</td>\n",
       "      <td>55835.0</td>\n",
       "      <td>9078.0</td>\n",
       "      <td>21355.0</td>\n",
       "      <td>56302.0</td>\n",
       "      <td>10380.0</td>\n",
       "      <td>171979.0</td>\n",
       "      <td>162674.0</td>\n",
       "      <td>2</td>\n",
       "    </tr>\n",
       "    <tr>\n",
       "      <th>1</th>\n",
       "      <td>3</td>\n",
       "      <td>3</td>\n",
       "      <td>583</td>\n",
       "      <td>15</td>\n",
       "      <td>5</td>\n",
       "      <td>1574</td>\n",
       "      <td>5</td>\n",
       "      <td>6</td>\n",
       "      <td>7</td>\n",
       "      <td>30</td>\n",
       "      <td>...</td>\n",
       "      <td>571.0</td>\n",
       "      <td>718.0</td>\n",
       "      <td>1762.0</td>\n",
       "      <td>642.0</td>\n",
       "      <td>1820.0</td>\n",
       "      <td>1675.0</td>\n",
       "      <td>1100.0</td>\n",
       "      <td>7702.0</td>\n",
       "      <td>6551.0</td>\n",
       "      <td>8</td>\n",
       "    </tr>\n",
       "    <tr>\n",
       "      <th>2</th>\n",
       "      <td>3</td>\n",
       "      <td>4</td>\n",
       "      <td>2796</td>\n",
       "      <td>15</td>\n",
       "      <td>5</td>\n",
       "      <td>625</td>\n",
       "      <td>5</td>\n",
       "      <td>58</td>\n",
       "      <td>11</td>\n",
       "      <td>152</td>\n",
       "      <td>...</td>\n",
       "      <td>29872.0</td>\n",
       "      <td>16910.0</td>\n",
       "      <td>31708.0</td>\n",
       "      <td>9000.0</td>\n",
       "      <td>17586.0</td>\n",
       "      <td>30719.0</td>\n",
       "      <td>30062.0</td>\n",
       "      <td>55331.0</td>\n",
       "      <td>12946.0</td>\n",
       "      <td>9</td>\n",
       "    </tr>\n",
       "    <tr>\n",
       "      <th>3</th>\n",
       "      <td>3</td>\n",
       "      <td>3</td>\n",
       "      <td>373</td>\n",
       "      <td>27</td>\n",
       "      <td>9</td>\n",
       "      <td>615</td>\n",
       "      <td>9</td>\n",
       "      <td>16</td>\n",
       "      <td>10</td>\n",
       "      <td>34</td>\n",
       "      <td>...</td>\n",
       "      <td>10742.0</td>\n",
       "      <td>9755.0</td>\n",
       "      <td>26992.0</td>\n",
       "      <td>9069.0</td>\n",
       "      <td>24885.0</td>\n",
       "      <td>27108.0</td>\n",
       "      <td>13219.0</td>\n",
       "      <td>122247.0</td>\n",
       "      <td>98621.0</td>\n",
       "      <td>9</td>\n",
       "    </tr>\n",
       "    <tr>\n",
       "      <th>4</th>\n",
       "      <td>3</td>\n",
       "      <td>3</td>\n",
       "      <td>77</td>\n",
       "      <td>12</td>\n",
       "      <td>4</td>\n",
       "      <td>66</td>\n",
       "      <td>4</td>\n",
       "      <td>3</td>\n",
       "      <td>0</td>\n",
       "      <td>5</td>\n",
       "      <td>...</td>\n",
       "      <td>962.0</td>\n",
       "      <td>1307.0</td>\n",
       "      <td>3119.0</td>\n",
       "      <td>1172.0</td>\n",
       "      <td>3522.0</td>\n",
       "      <td>3245.0</td>\n",
       "      <td>2001.0</td>\n",
       "      <td>15501.0</td>\n",
       "      <td>11864.0</td>\n",
       "      <td>1</td>\n",
       "    </tr>\n",
       "  </tbody>\n",
       "</table>\n",
       "<p>5 rows × 1805 columns</p>\n",
       "</div>"
      ],
      "text/plain": [
       "   Virtual  Offset   loc  Import  Imports   var  Forwarder  UINT  LONG  BOOL  \\\n",
       "0        3       3   689      18        6   890          6    39    17    88   \n",
       "1        3       3   583      15        5  1574          5     6     7    30   \n",
       "2        3       4  2796      15        5   625          5    58    11   152   \n",
       "3        3       3   373      27        9   615          9    16    10    34   \n",
       "4        3       3    77      12        4    66          4     3     0     5   \n",
       "\n",
       "   ...      Img99   Img100   Img101  Img102   Img103   Img104   Img105  \\\n",
       "0  ...    35148.0   8687.0  55835.0  9078.0  21355.0  56302.0  10380.0   \n",
       "1  ...      571.0    718.0   1762.0   642.0   1820.0   1675.0   1100.0   \n",
       "2  ...    29872.0  16910.0  31708.0  9000.0  17586.0  30719.0  30062.0   \n",
       "3  ...    10742.0   9755.0  26992.0  9069.0  24885.0  27108.0  13219.0   \n",
       "4  ...      962.0   1307.0   3119.0  1172.0   3522.0   3245.0   2001.0   \n",
       "\n",
       "     Img106    Img107  Class  \n",
       "0  171979.0  162674.0      2  \n",
       "1    7702.0    6551.0      8  \n",
       "2   55331.0   12946.0      9  \n",
       "3  122247.0   98621.0      9  \n",
       "4   15501.0   11864.0      1  \n",
       "\n",
       "[5 rows x 1805 columns]"
      ]
     },
     "execution_count": 3,
     "metadata": {},
     "output_type": "execute_result"
    }
   ],
   "source": [
    "# view the training dataset\n",
    "train.head()"
   ]
  },
  {
   "cell_type": "code",
   "execution_count": 4,
   "metadata": {
    "collapsed": false
   },
   "outputs": [
    {
     "data": {
      "text/html": [
       "<div>\n",
       "<table border=\"1\" class=\"dataframe\">\n",
       "  <thead>\n",
       "    <tr style=\"text-align: right;\">\n",
       "      <th></th>\n",
       "      <th>Virtual</th>\n",
       "      <th>Offset</th>\n",
       "      <th>loc</th>\n",
       "      <th>Import</th>\n",
       "      <th>Imports</th>\n",
       "      <th>var</th>\n",
       "      <th>Forwarder</th>\n",
       "      <th>UINT</th>\n",
       "      <th>LONG</th>\n",
       "      <th>BOOL</th>\n",
       "      <th>...</th>\n",
       "      <th>Img99</th>\n",
       "      <th>Img100</th>\n",
       "      <th>Img101</th>\n",
       "      <th>Img102</th>\n",
       "      <th>Img103</th>\n",
       "      <th>Img104</th>\n",
       "      <th>Img105</th>\n",
       "      <th>Img106</th>\n",
       "      <th>Img107</th>\n",
       "      <th>Class</th>\n",
       "    </tr>\n",
       "  </thead>\n",
       "  <tbody>\n",
       "    <tr>\n",
       "      <th>count</th>\n",
       "      <td>10868.000000</td>\n",
       "      <td>10868.000000</td>\n",
       "      <td>10868.000000</td>\n",
       "      <td>10868.000000</td>\n",
       "      <td>10868.000000</td>\n",
       "      <td>10868.000000</td>\n",
       "      <td>10868.000000</td>\n",
       "      <td>10868.000000</td>\n",
       "      <td>10868.000000</td>\n",
       "      <td>10868.000000</td>\n",
       "      <td>...</td>\n",
       "      <td>10868.000000</td>\n",
       "      <td>10868.000000</td>\n",
       "      <td>10868.000000</td>\n",
       "      <td>10868.000000</td>\n",
       "      <td>10868.000000</td>\n",
       "      <td>10868.000000</td>\n",
       "      <td>10868.000000</td>\n",
       "      <td>10868.000000</td>\n",
       "      <td>10868.000000</td>\n",
       "      <td>10868.000000</td>\n",
       "    </tr>\n",
       "    <tr>\n",
       "      <th>mean</th>\n",
       "      <td>3.279076</td>\n",
       "      <td>3.500552</td>\n",
       "      <td>1990.713747</td>\n",
       "      <td>11.586861</td>\n",
       "      <td>4.934671</td>\n",
       "      <td>1264.397957</td>\n",
       "      <td>3.845786</td>\n",
       "      <td>16.559717</td>\n",
       "      <td>5.552908</td>\n",
       "      <td>31.011502</td>\n",
       "      <td>...</td>\n",
       "      <td>10840.809901</td>\n",
       "      <td>5067.437155</td>\n",
       "      <td>19206.655962</td>\n",
       "      <td>4861.557508</td>\n",
       "      <td>13055.646853</td>\n",
       "      <td>19358.439179</td>\n",
       "      <td>7070.320482</td>\n",
       "      <td>66860.996319</td>\n",
       "      <td>53866.402926</td>\n",
       "      <td>4.017851</td>\n",
       "    </tr>\n",
       "    <tr>\n",
       "      <th>std</th>\n",
       "      <td>0.936296</td>\n",
       "      <td>3.725526</td>\n",
       "      <td>5827.675688</td>\n",
       "      <td>8.986606</td>\n",
       "      <td>2.637995</td>\n",
       "      <td>3902.380905</td>\n",
       "      <td>2.925528</td>\n",
       "      <td>23.203308</td>\n",
       "      <td>7.285566</td>\n",
       "      <td>37.299279</td>\n",
       "      <td>...</td>\n",
       "      <td>18299.174269</td>\n",
       "      <td>4215.541706</td>\n",
       "      <td>23749.881264</td>\n",
       "      <td>4084.822497</td>\n",
       "      <td>10759.321012</td>\n",
       "      <td>24745.353583</td>\n",
       "      <td>5963.469543</td>\n",
       "      <td>66364.332846</td>\n",
       "      <td>53145.701929</td>\n",
       "      <td>2.684621</td>\n",
       "    </tr>\n",
       "    <tr>\n",
       "      <th>min</th>\n",
       "      <td>0.000000</td>\n",
       "      <td>0.000000</td>\n",
       "      <td>0.000000</td>\n",
       "      <td>0.000000</td>\n",
       "      <td>0.000000</td>\n",
       "      <td>0.000000</td>\n",
       "      <td>0.000000</td>\n",
       "      <td>0.000000</td>\n",
       "      <td>0.000000</td>\n",
       "      <td>0.000000</td>\n",
       "      <td>...</td>\n",
       "      <td>0.000000</td>\n",
       "      <td>0.000000</td>\n",
       "      <td>0.000000</td>\n",
       "      <td>0.000000</td>\n",
       "      <td>0.000000</td>\n",
       "      <td>0.000000</td>\n",
       "      <td>0.000000</td>\n",
       "      <td>0.000000</td>\n",
       "      <td>0.000000</td>\n",
       "      <td>1.000000</td>\n",
       "    </tr>\n",
       "    <tr>\n",
       "      <th>25%</th>\n",
       "      <td>3.000000</td>\n",
       "      <td>3.000000</td>\n",
       "      <td>58.000000</td>\n",
       "      <td>3.000000</td>\n",
       "      <td>4.000000</td>\n",
       "      <td>37.000000</td>\n",
       "      <td>1.000000</td>\n",
       "      <td>6.000000</td>\n",
       "      <td>0.000000</td>\n",
       "      <td>13.000000</td>\n",
       "      <td>...</td>\n",
       "      <td>1124.000000</td>\n",
       "      <td>1321.000000</td>\n",
       "      <td>3262.000000</td>\n",
       "      <td>1158.750000</td>\n",
       "      <td>3108.000000</td>\n",
       "      <td>3130.750000</td>\n",
       "      <td>1964.750000</td>\n",
       "      <td>11990.250000</td>\n",
       "      <td>7706.000000</td>\n",
       "      <td>2.000000</td>\n",
       "    </tr>\n",
       "    <tr>\n",
       "      <th>50%</th>\n",
       "      <td>3.000000</td>\n",
       "      <td>3.000000</td>\n",
       "      <td>513.000000</td>\n",
       "      <td>12.000000</td>\n",
       "      <td>4.000000</td>\n",
       "      <td>364.000000</td>\n",
       "      <td>4.000000</td>\n",
       "      <td>11.000000</td>\n",
       "      <td>4.000000</td>\n",
       "      <td>19.000000</td>\n",
       "      <td>...</td>\n",
       "      <td>5585.500000</td>\n",
       "      <td>5323.500000</td>\n",
       "      <td>14902.000000</td>\n",
       "      <td>5129.500000</td>\n",
       "      <td>14752.000000</td>\n",
       "      <td>14921.000000</td>\n",
       "      <td>7437.500000</td>\n",
       "      <td>62384.500000</td>\n",
       "      <td>45639.000000</td>\n",
       "      <td>3.000000</td>\n",
       "    </tr>\n",
       "    <tr>\n",
       "      <th>75%</th>\n",
       "      <td>3.000000</td>\n",
       "      <td>4.000000</td>\n",
       "      <td>1652.500000</td>\n",
       "      <td>18.000000</td>\n",
       "      <td>6.000000</td>\n",
       "      <td>1044.000000</td>\n",
       "      <td>5.000000</td>\n",
       "      <td>17.000000</td>\n",
       "      <td>9.000000</td>\n",
       "      <td>33.250000</td>\n",
       "      <td>...</td>\n",
       "      <td>8464.250000</td>\n",
       "      <td>6040.250000</td>\n",
       "      <td>22314.500000</td>\n",
       "      <td>6020.250000</td>\n",
       "      <td>16078.000000</td>\n",
       "      <td>21464.750000</td>\n",
       "      <td>8414.500000</td>\n",
       "      <td>73929.500000</td>\n",
       "      <td>68580.000000</td>\n",
       "      <td>6.000000</td>\n",
       "    </tr>\n",
       "    <tr>\n",
       "      <th>max</th>\n",
       "      <td>34.000000</td>\n",
       "      <td>263.000000</td>\n",
       "      <td>107775.000000</td>\n",
       "      <td>85.000000</td>\n",
       "      <td>58.000000</td>\n",
       "      <td>86560.000000</td>\n",
       "      <td>21.000000</td>\n",
       "      <td>377.000000</td>\n",
       "      <td>166.000000</td>\n",
       "      <td>492.000000</td>\n",
       "      <td>...</td>\n",
       "      <td>189297.000000</td>\n",
       "      <td>24914.000000</td>\n",
       "      <td>214551.000000</td>\n",
       "      <td>25502.000000</td>\n",
       "      <td>63895.000000</td>\n",
       "      <td>212548.000000</td>\n",
       "      <td>38582.000000</td>\n",
       "      <td>397109.000000</td>\n",
       "      <td>322765.000000</td>\n",
       "      <td>9.000000</td>\n",
       "    </tr>\n",
       "  </tbody>\n",
       "</table>\n",
       "<p>8 rows × 1805 columns</p>\n",
       "</div>"
      ],
      "text/plain": [
       "            Virtual        Offset            loc        Import       Imports  \\\n",
       "count  10868.000000  10868.000000   10868.000000  10868.000000  10868.000000   \n",
       "mean       3.279076      3.500552    1990.713747     11.586861      4.934671   \n",
       "std        0.936296      3.725526    5827.675688      8.986606      2.637995   \n",
       "min        0.000000      0.000000       0.000000      0.000000      0.000000   \n",
       "25%        3.000000      3.000000      58.000000      3.000000      4.000000   \n",
       "50%        3.000000      3.000000     513.000000     12.000000      4.000000   \n",
       "75%        3.000000      4.000000    1652.500000     18.000000      6.000000   \n",
       "max       34.000000    263.000000  107775.000000     85.000000     58.000000   \n",
       "\n",
       "                var     Forwarder          UINT          LONG          BOOL  \\\n",
       "count  10868.000000  10868.000000  10868.000000  10868.000000  10868.000000   \n",
       "mean    1264.397957      3.845786     16.559717      5.552908     31.011502   \n",
       "std     3902.380905      2.925528     23.203308      7.285566     37.299279   \n",
       "min        0.000000      0.000000      0.000000      0.000000      0.000000   \n",
       "25%       37.000000      1.000000      6.000000      0.000000     13.000000   \n",
       "50%      364.000000      4.000000     11.000000      4.000000     19.000000   \n",
       "75%     1044.000000      5.000000     17.000000      9.000000     33.250000   \n",
       "max    86560.000000     21.000000    377.000000    166.000000    492.000000   \n",
       "\n",
       "           ...               Img99        Img100         Img101        Img102  \\\n",
       "count      ...        10868.000000  10868.000000   10868.000000  10868.000000   \n",
       "mean       ...        10840.809901   5067.437155   19206.655962   4861.557508   \n",
       "std        ...        18299.174269   4215.541706   23749.881264   4084.822497   \n",
       "min        ...            0.000000      0.000000       0.000000      0.000000   \n",
       "25%        ...         1124.000000   1321.000000    3262.000000   1158.750000   \n",
       "50%        ...         5585.500000   5323.500000   14902.000000   5129.500000   \n",
       "75%        ...         8464.250000   6040.250000   22314.500000   6020.250000   \n",
       "max        ...       189297.000000  24914.000000  214551.000000  25502.000000   \n",
       "\n",
       "             Img103         Img104        Img105         Img106  \\\n",
       "count  10868.000000   10868.000000  10868.000000   10868.000000   \n",
       "mean   13055.646853   19358.439179   7070.320482   66860.996319   \n",
       "std    10759.321012   24745.353583   5963.469543   66364.332846   \n",
       "min        0.000000       0.000000      0.000000       0.000000   \n",
       "25%     3108.000000    3130.750000   1964.750000   11990.250000   \n",
       "50%    14752.000000   14921.000000   7437.500000   62384.500000   \n",
       "75%    16078.000000   21464.750000   8414.500000   73929.500000   \n",
       "max    63895.000000  212548.000000  38582.000000  397109.000000   \n",
       "\n",
       "              Img107         Class  \n",
       "count   10868.000000  10868.000000  \n",
       "mean    53866.402926      4.017851  \n",
       "std     53145.701929      2.684621  \n",
       "min         0.000000      1.000000  \n",
       "25%      7706.000000      2.000000  \n",
       "50%     45639.000000      3.000000  \n",
       "75%     68580.000000      6.000000  \n",
       "max    322765.000000      9.000000  \n",
       "\n",
       "[8 rows x 1805 columns]"
      ]
     },
     "execution_count": 4,
     "metadata": {},
     "output_type": "execute_result"
    }
   ],
   "source": [
    "# statistic table of training dataset\n",
    "train.describe()"
   ]
  },
  {
   "cell_type": "code",
   "execution_count": 5,
   "metadata": {
    "collapsed": false
   },
   "outputs": [
    {
     "data": {
      "text/plain": [
       "['Ramnit (R)',\n",
       " 'Lollipop (L)',\n",
       " 'Kelihos_ver3 (K3)',\n",
       " 'Vundo (V)',\n",
       " 'Simda (S)',\n",
       " 'Tracur (T)',\n",
       " 'Kelihos_ver1 (K1)',\n",
       " 'Obfuscator.ACY (O)',\n",
       " 'Gatak(G)']"
      ]
     },
     "execution_count": 5,
     "metadata": {},
     "output_type": "execute_result"
    }
   ],
   "source": [
    "# get all class types\n",
    "classType = ['Ramnit (R)','Lollipop (L)', 'Kelihos_ver3 (K3)', 'Vundo (V)',\\\n",
    "                      'Simda (S)','Tracur (T)', 'Kelihos_ver1 (K1)', 'Obfuscator.ACY (O)', 'Gatak(G)']\n",
    "classType"
   ]
  },
  {
   "cell_type": "code",
   "execution_count": 6,
   "metadata": {
    "collapsed": false
   },
   "outputs": [
    {
     "name": "stdout",
     "output_type": "stream",
     "text": [
      "Numbers of rows in each class (Training Data)\n",
      "Ramnit (R) : 1541.0\n",
      "Lollipop (L) : 2478.0\n",
      "Kelihos_ver3 (K3) : 2942.0\n",
      "Vundo (V) : 475.0\n",
      "Simda (S) : 42.0\n",
      "Tracur (T) : 751.0\n",
      "Kelihos_ver1 (K1) : 398.0\n",
      "Obfuscator.ACY (O) : 1228.0\n",
      "Gatak(G) : 1013.0\n"
     ]
    }
   ],
   "source": [
    "# plot the class distribution of training data\n",
    "# observation on the statistics\n",
    "# count the amount\n",
    "countTrainRow_class = np.zeros(9)\n",
    "print('Numbers of rows in each class (Training Data)')\n",
    "for i in range(1,10):\n",
    "    countTrainRow_class[i-1] = sum(train.Class==i)\n",
    "    print(classType[i-1],':' , countTrainRow_class[i-1])"
   ]
  },
  {
   "cell_type": "code",
   "execution_count": 7,
   "metadata": {
    "collapsed": false
   },
   "outputs": [
    {
     "data": {
      "image/png": "[encoded data removed]",
      "text/plain": [
       "<matplotlib.figure.Figure at 0x1148b9f60>"
      ]
     },
     "metadata": {},
     "output_type": "display_data"
    }
   ],
   "source": [
    "# show the distribution\n",
    "ind = np.arange(9)+1.5\n",
    "plt.bar(ind,countTrainRow_class,0.6,color='skyblue',tick_label=\\\n",
    "        ['R','L','K3','V','S','T','K1','O','G'])\n",
    "plt.xlabel('Malware Class (Training Dataset)')\n",
    "plt.ylabel('Count')\n",
    "plt.title('The Distribution of Data Across Malware Families (Training Dataset)')\n",
    "plt.xticks(ind)\n",
    "plt.grid(True)\n",
    "plt.show() "
   ]
  },
  {
   "cell_type": "markdown",
   "metadata": {},
   "source": [
    "### 2.2 Test Dataset"
   ]
  },
  {
   "cell_type": "code",
   "execution_count": 8,
   "metadata": {
    "collapsed": false
   },
   "outputs": [
    {
     "data": {
      "text/html": [
       "<div>\n",
       "<table border=\"1\" class=\"dataframe\">\n",
       "  <thead>\n",
       "    <tr style=\"text-align: right;\">\n",
       "      <th></th>\n",
       "      <th>Virtual</th>\n",
       "      <th>Offset</th>\n",
       "      <th>loc</th>\n",
       "      <th>Import</th>\n",
       "      <th>Imports</th>\n",
       "      <th>var</th>\n",
       "      <th>Forwarder</th>\n",
       "      <th>UINT</th>\n",
       "      <th>LONG</th>\n",
       "      <th>BOOL</th>\n",
       "      <th>...</th>\n",
       "      <th>Img98</th>\n",
       "      <th>Img99</th>\n",
       "      <th>Img100</th>\n",
       "      <th>Img101</th>\n",
       "      <th>Img102</th>\n",
       "      <th>Img103</th>\n",
       "      <th>Img104</th>\n",
       "      <th>Img105</th>\n",
       "      <th>Img106</th>\n",
       "      <th>Img107</th>\n",
       "    </tr>\n",
       "  </thead>\n",
       "  <tbody>\n",
       "    <tr>\n",
       "      <th>0</th>\n",
       "      <td>10</td>\n",
       "      <td>10</td>\n",
       "      <td>137</td>\n",
       "      <td>18</td>\n",
       "      <td>6</td>\n",
       "      <td>90</td>\n",
       "      <td>6</td>\n",
       "      <td>27</td>\n",
       "      <td>0</td>\n",
       "      <td>31</td>\n",
       "      <td>...</td>\n",
       "      <td>1393</td>\n",
       "      <td>1310</td>\n",
       "      <td>1440</td>\n",
       "      <td>3302</td>\n",
       "      <td>1393</td>\n",
       "      <td>3434</td>\n",
       "      <td>3153</td>\n",
       "      <td>1788</td>\n",
       "      <td>13968</td>\n",
       "      <td>12444</td>\n",
       "    </tr>\n",
       "    <tr>\n",
       "      <th>1</th>\n",
       "      <td>9</td>\n",
       "      <td>9</td>\n",
       "      <td>108</td>\n",
       "      <td>12</td>\n",
       "      <td>4</td>\n",
       "      <td>135</td>\n",
       "      <td>4</td>\n",
       "      <td>17</td>\n",
       "      <td>2</td>\n",
       "      <td>39</td>\n",
       "      <td>...</td>\n",
       "      <td>1146</td>\n",
       "      <td>979</td>\n",
       "      <td>1139</td>\n",
       "      <td>2965</td>\n",
       "      <td>1011</td>\n",
       "      <td>2925</td>\n",
       "      <td>2742</td>\n",
       "      <td>1464</td>\n",
       "      <td>13360</td>\n",
       "      <td>12201</td>\n",
       "    </tr>\n",
       "    <tr>\n",
       "      <th>2</th>\n",
       "      <td>11</td>\n",
       "      <td>11</td>\n",
       "      <td>73</td>\n",
       "      <td>21</td>\n",
       "      <td>7</td>\n",
       "      <td>155</td>\n",
       "      <td>7</td>\n",
       "      <td>53</td>\n",
       "      <td>4</td>\n",
       "      <td>67</td>\n",
       "      <td>...</td>\n",
       "      <td>1435</td>\n",
       "      <td>1093</td>\n",
       "      <td>1446</td>\n",
       "      <td>2986</td>\n",
       "      <td>1116</td>\n",
       "      <td>3073</td>\n",
       "      <td>2991</td>\n",
       "      <td>1609</td>\n",
       "      <td>14162</td>\n",
       "      <td>12916</td>\n",
       "    </tr>\n",
       "    <tr>\n",
       "      <th>3</th>\n",
       "      <td>3</td>\n",
       "      <td>3</td>\n",
       "      <td>78</td>\n",
       "      <td>0</td>\n",
       "      <td>12</td>\n",
       "      <td>133</td>\n",
       "      <td>0</td>\n",
       "      <td>60</td>\n",
       "      <td>3</td>\n",
       "      <td>117</td>\n",
       "      <td>...</td>\n",
       "      <td>891</td>\n",
       "      <td>889</td>\n",
       "      <td>876</td>\n",
       "      <td>2488</td>\n",
       "      <td>883</td>\n",
       "      <td>2465</td>\n",
       "      <td>2461</td>\n",
       "      <td>1157</td>\n",
       "      <td>11004</td>\n",
       "      <td>9908</td>\n",
       "    </tr>\n",
       "    <tr>\n",
       "      <th>4</th>\n",
       "      <td>3</td>\n",
       "      <td>3</td>\n",
       "      <td>37</td>\n",
       "      <td>12</td>\n",
       "      <td>4</td>\n",
       "      <td>44</td>\n",
       "      <td>4</td>\n",
       "      <td>3</td>\n",
       "      <td>0</td>\n",
       "      <td>14</td>\n",
       "      <td>...</td>\n",
       "      <td>5644</td>\n",
       "      <td>5657</td>\n",
       "      <td>5641</td>\n",
       "      <td>15300</td>\n",
       "      <td>5864</td>\n",
       "      <td>15428</td>\n",
       "      <td>15124</td>\n",
       "      <td>7624</td>\n",
       "      <td>68675</td>\n",
       "      <td>65623</td>\n",
       "    </tr>\n",
       "  </tbody>\n",
       "</table>\n",
       "<p>5 rows × 1804 columns</p>\n",
       "</div>"
      ],
      "text/plain": [
       "   Virtual  Offset  loc  Import  Imports  var  Forwarder  UINT  LONG  BOOL  \\\n",
       "0       10      10  137      18        6   90          6    27     0    31   \n",
       "1        9       9  108      12        4  135          4    17     2    39   \n",
       "2       11      11   73      21        7  155          7    53     4    67   \n",
       "3        3       3   78       0       12  133          0    60     3   117   \n",
       "4        3       3   37      12        4   44          4     3     0    14   \n",
       "\n",
       "    ...    Img98  Img99  Img100  Img101  Img102  Img103  Img104  Img105  \\\n",
       "0   ...     1393   1310    1440    3302    1393    3434    3153    1788   \n",
       "1   ...     1146    979    1139    2965    1011    2925    2742    1464   \n",
       "2   ...     1435   1093    1446    2986    1116    3073    2991    1609   \n",
       "3   ...      891    889     876    2488     883    2465    2461    1157   \n",
       "4   ...     5644   5657    5641   15300    5864   15428   15124    7624   \n",
       "\n",
       "   Img106  Img107  \n",
       "0   13968   12444  \n",
       "1   13360   12201  \n",
       "2   14162   12916  \n",
       "3   11004    9908  \n",
       "4   68675   65623  \n",
       "\n",
       "[5 rows x 1804 columns]"
      ]
     },
     "execution_count": 8,
     "metadata": {},
     "output_type": "execute_result"
    }
   ],
   "source": [
    "# view the test dataset\n",
    "test.head()"
   ]
  },
  {
   "cell_type": "code",
   "execution_count": 9,
   "metadata": {
    "collapsed": false
   },
   "outputs": [
    {
     "data": {
      "text/html": [
       "<div>\n",
       "<table border=\"1\" class=\"dataframe\">\n",
       "  <thead>\n",
       "    <tr style=\"text-align: right;\">\n",
       "      <th></th>\n",
       "      <th>Virtual</th>\n",
       "      <th>Offset</th>\n",
       "      <th>loc</th>\n",
       "      <th>Import</th>\n",
       "      <th>Imports</th>\n",
       "      <th>var</th>\n",
       "      <th>Forwarder</th>\n",
       "      <th>UINT</th>\n",
       "      <th>LONG</th>\n",
       "      <th>BOOL</th>\n",
       "      <th>...</th>\n",
       "      <th>Img98</th>\n",
       "      <th>Img99</th>\n",
       "      <th>Img100</th>\n",
       "      <th>Img101</th>\n",
       "      <th>Img102</th>\n",
       "      <th>Img103</th>\n",
       "      <th>Img104</th>\n",
       "      <th>Img105</th>\n",
       "      <th>Img106</th>\n",
       "      <th>Img107</th>\n",
       "    </tr>\n",
       "  </thead>\n",
       "  <tbody>\n",
       "    <tr>\n",
       "      <th>count</th>\n",
       "      <td>10873.000000</td>\n",
       "      <td>10873.000000</td>\n",
       "      <td>10873.000000</td>\n",
       "      <td>10873.000000</td>\n",
       "      <td>10873.000000</td>\n",
       "      <td>10873.000000</td>\n",
       "      <td>10873.000000</td>\n",
       "      <td>10873.000000</td>\n",
       "      <td>10873.000000</td>\n",
       "      <td>10873.000000</td>\n",
       "      <td>...</td>\n",
       "      <td>10873.000000</td>\n",
       "      <td>10873.000000</td>\n",
       "      <td>10873.000000</td>\n",
       "      <td>10873.000000</td>\n",
       "      <td>10873.000000</td>\n",
       "      <td>10873.000000</td>\n",
       "      <td>10873.000000</td>\n",
       "      <td>10873.000000</td>\n",
       "      <td>10873.000000</td>\n",
       "      <td>10873.000000</td>\n",
       "    </tr>\n",
       "    <tr>\n",
       "      <th>mean</th>\n",
       "      <td>3.271774</td>\n",
       "      <td>3.463809</td>\n",
       "      <td>1854.658972</td>\n",
       "      <td>11.471259</td>\n",
       "      <td>4.894509</td>\n",
       "      <td>1178.450658</td>\n",
       "      <td>3.815506</td>\n",
       "      <td>16.263313</td>\n",
       "      <td>5.475490</td>\n",
       "      <td>30.322726</td>\n",
       "      <td>...</td>\n",
       "      <td>5103.914007</td>\n",
       "      <td>10988.594500</td>\n",
       "      <td>5089.921825</td>\n",
       "      <td>19265.238940</td>\n",
       "      <td>4865.849352</td>\n",
       "      <td>13058.873540</td>\n",
       "      <td>19408.878690</td>\n",
       "      <td>7118.167755</td>\n",
       "      <td>66562.498482</td>\n",
       "      <td>53450.453509</td>\n",
       "    </tr>\n",
       "    <tr>\n",
       "      <th>std</th>\n",
       "      <td>0.947961</td>\n",
       "      <td>2.721734</td>\n",
       "      <td>5235.835749</td>\n",
       "      <td>8.822817</td>\n",
       "      <td>2.591483</td>\n",
       "      <td>3703.120404</td>\n",
       "      <td>2.895531</td>\n",
       "      <td>21.712164</td>\n",
       "      <td>7.238129</td>\n",
       "      <td>35.784613</td>\n",
       "      <td>...</td>\n",
       "      <td>4287.216688</td>\n",
       "      <td>18370.696438</td>\n",
       "      <td>4267.506497</td>\n",
       "      <td>23768.632577</td>\n",
       "      <td>4104.740919</td>\n",
       "      <td>10806.929553</td>\n",
       "      <td>24739.694841</td>\n",
       "      <td>6113.708690</td>\n",
       "      <td>66124.332105</td>\n",
       "      <td>52841.429996</td>\n",
       "    </tr>\n",
       "    <tr>\n",
       "      <th>min</th>\n",
       "      <td>0.000000</td>\n",
       "      <td>0.000000</td>\n",
       "      <td>0.000000</td>\n",
       "      <td>0.000000</td>\n",
       "      <td>0.000000</td>\n",
       "      <td>0.000000</td>\n",
       "      <td>0.000000</td>\n",
       "      <td>0.000000</td>\n",
       "      <td>0.000000</td>\n",
       "      <td>0.000000</td>\n",
       "      <td>...</td>\n",
       "      <td>0.000000</td>\n",
       "      <td>0.000000</td>\n",
       "      <td>0.000000</td>\n",
       "      <td>0.000000</td>\n",
       "      <td>0.000000</td>\n",
       "      <td>0.000000</td>\n",
       "      <td>0.000000</td>\n",
       "      <td>0.000000</td>\n",
       "      <td>0.000000</td>\n",
       "      <td>0.000000</td>\n",
       "    </tr>\n",
       "    <tr>\n",
       "      <th>25%</th>\n",
       "      <td>3.000000</td>\n",
       "      <td>3.000000</td>\n",
       "      <td>46.000000</td>\n",
       "      <td>3.000000</td>\n",
       "      <td>4.000000</td>\n",
       "      <td>36.000000</td>\n",
       "      <td>1.000000</td>\n",
       "      <td>6.000000</td>\n",
       "      <td>0.000000</td>\n",
       "      <td>13.000000</td>\n",
       "      <td>...</td>\n",
       "      <td>1316.000000</td>\n",
       "      <td>1119.000000</td>\n",
       "      <td>1323.000000</td>\n",
       "      <td>3275.000000</td>\n",
       "      <td>1144.000000</td>\n",
       "      <td>3094.000000</td>\n",
       "      <td>3109.000000</td>\n",
       "      <td>1923.000000</td>\n",
       "      <td>11912.000000</td>\n",
       "      <td>7664.000000</td>\n",
       "    </tr>\n",
       "    <tr>\n",
       "      <th>50%</th>\n",
       "      <td>3.000000</td>\n",
       "      <td>3.000000</td>\n",
       "      <td>510.000000</td>\n",
       "      <td>12.000000</td>\n",
       "      <td>4.000000</td>\n",
       "      <td>352.000000</td>\n",
       "      <td>4.000000</td>\n",
       "      <td>11.000000</td>\n",
       "      <td>4.000000</td>\n",
       "      <td>18.000000</td>\n",
       "      <td>...</td>\n",
       "      <td>5331.000000</td>\n",
       "      <td>5597.000000</td>\n",
       "      <td>5339.000000</td>\n",
       "      <td>14911.000000</td>\n",
       "      <td>5120.000000</td>\n",
       "      <td>14739.000000</td>\n",
       "      <td>14912.000000</td>\n",
       "      <td>7439.000000</td>\n",
       "      <td>59928.000000</td>\n",
       "      <td>43830.000000</td>\n",
       "    </tr>\n",
       "    <tr>\n",
       "      <th>75%</th>\n",
       "      <td>3.000000</td>\n",
       "      <td>4.000000</td>\n",
       "      <td>1551.000000</td>\n",
       "      <td>15.000000</td>\n",
       "      <td>6.000000</td>\n",
       "      <td>993.000000</td>\n",
       "      <td>5.000000</td>\n",
       "      <td>17.000000</td>\n",
       "      <td>9.000000</td>\n",
       "      <td>33.000000</td>\n",
       "      <td>...</td>\n",
       "      <td>6033.000000</td>\n",
       "      <td>8960.000000</td>\n",
       "      <td>6043.000000</td>\n",
       "      <td>22489.000000</td>\n",
       "      <td>6022.000000</td>\n",
       "      <td>16078.000000</td>\n",
       "      <td>21393.000000</td>\n",
       "      <td>8406.000000</td>\n",
       "      <td>73565.000000</td>\n",
       "      <td>68573.000000</td>\n",
       "    </tr>\n",
       "    <tr>\n",
       "      <th>max</th>\n",
       "      <td>21.000000</td>\n",
       "      <td>126.000000</td>\n",
       "      <td>95866.000000</td>\n",
       "      <td>73.000000</td>\n",
       "      <td>41.000000</td>\n",
       "      <td>104069.000000</td>\n",
       "      <td>24.000000</td>\n",
       "      <td>390.000000</td>\n",
       "      <td>165.000000</td>\n",
       "      <td>492.000000</td>\n",
       "      <td>...</td>\n",
       "      <td>22952.000000</td>\n",
       "      <td>156141.000000</td>\n",
       "      <td>22901.000000</td>\n",
       "      <td>170483.000000</td>\n",
       "      <td>24263.000000</td>\n",
       "      <td>62666.000000</td>\n",
       "      <td>184903.000000</td>\n",
       "      <td>59898.000000</td>\n",
       "      <td>376761.000000</td>\n",
       "      <td>313716.000000</td>\n",
       "    </tr>\n",
       "  </tbody>\n",
       "</table>\n",
       "<p>8 rows × 1804 columns</p>\n",
       "</div>"
      ],
      "text/plain": [
       "            Virtual        Offset           loc        Import       Imports  \\\n",
       "count  10873.000000  10873.000000  10873.000000  10873.000000  10873.000000   \n",
       "mean       3.271774      3.463809   1854.658972     11.471259      4.894509   \n",
       "std        0.947961      2.721734   5235.835749      8.822817      2.591483   \n",
       "min        0.000000      0.000000      0.000000      0.000000      0.000000   \n",
       "25%        3.000000      3.000000     46.000000      3.000000      4.000000   \n",
       "50%        3.000000      3.000000    510.000000     12.000000      4.000000   \n",
       "75%        3.000000      4.000000   1551.000000     15.000000      6.000000   \n",
       "max       21.000000    126.000000  95866.000000     73.000000     41.000000   \n",
       "\n",
       "                 var     Forwarder          UINT          LONG          BOOL  \\\n",
       "count   10873.000000  10873.000000  10873.000000  10873.000000  10873.000000   \n",
       "mean     1178.450658      3.815506     16.263313      5.475490     30.322726   \n",
       "std      3703.120404      2.895531     21.712164      7.238129     35.784613   \n",
       "min         0.000000      0.000000      0.000000      0.000000      0.000000   \n",
       "25%        36.000000      1.000000      6.000000      0.000000     13.000000   \n",
       "50%       352.000000      4.000000     11.000000      4.000000     18.000000   \n",
       "75%       993.000000      5.000000     17.000000      9.000000     33.000000   \n",
       "max    104069.000000     24.000000    390.000000    165.000000    492.000000   \n",
       "\n",
       "           ...               Img98          Img99        Img100  \\\n",
       "count      ...        10873.000000   10873.000000  10873.000000   \n",
       "mean       ...         5103.914007   10988.594500   5089.921825   \n",
       "std        ...         4287.216688   18370.696438   4267.506497   \n",
       "min        ...            0.000000       0.000000      0.000000   \n",
       "25%        ...         1316.000000    1119.000000   1323.000000   \n",
       "50%        ...         5331.000000    5597.000000   5339.000000   \n",
       "75%        ...         6033.000000    8960.000000   6043.000000   \n",
       "max        ...        22952.000000  156141.000000  22901.000000   \n",
       "\n",
       "              Img101        Img102        Img103         Img104        Img105  \\\n",
       "count   10873.000000  10873.000000  10873.000000   10873.000000  10873.000000   \n",
       "mean    19265.238940   4865.849352  13058.873540   19408.878690   7118.167755   \n",
       "std     23768.632577   4104.740919  10806.929553   24739.694841   6113.708690   \n",
       "min         0.000000      0.000000      0.000000       0.000000      0.000000   \n",
       "25%      3275.000000   1144.000000   3094.000000    3109.000000   1923.000000   \n",
       "50%     14911.000000   5120.000000  14739.000000   14912.000000   7439.000000   \n",
       "75%     22489.000000   6022.000000  16078.000000   21393.000000   8406.000000   \n",
       "max    170483.000000  24263.000000  62666.000000  184903.000000  59898.000000   \n",
       "\n",
       "              Img106         Img107  \n",
       "count   10873.000000   10873.000000  \n",
       "mean    66562.498482   53450.453509  \n",
       "std     66124.332105   52841.429996  \n",
       "min         0.000000       0.000000  \n",
       "25%     11912.000000    7664.000000  \n",
       "50%     59928.000000   43830.000000  \n",
       "75%     73565.000000   68573.000000  \n",
       "max    376761.000000  313716.000000  \n",
       "\n",
       "[8 rows x 1804 columns]"
      ]
     },
     "execution_count": 9,
     "metadata": {},
     "output_type": "execute_result"
    }
   ],
   "source": [
    "# statistic table of test dataset\n",
    "test.describe()"
   ]
  },
  {
   "cell_type": "code",
   "execution_count": 10,
   "metadata": {
    "collapsed": false
   },
   "outputs": [
    {
     "name": "stdout",
     "output_type": "stream",
     "text": [
      "Numbers of rows in each class (Test Data)\n"
     ]
    },
    {
     "ename": "AttributeError",
     "evalue": "'DataFrame' object has no attribute 'Class'",
     "output_type": "error",
     "traceback": [
      "\u001b[0;31m---------------------------------------------------------------------------\u001b[0m",
      "\u001b[0;31mAttributeError\u001b[0m                            Traceback (most recent call last)",
      "\u001b[0;32m<ipython-input-10-4d493d34c1af>\u001b[0m in \u001b[0;36m<module>\u001b[0;34m()\u001b[0m\n\u001b[1;32m      5\u001b[0m \u001b[0mprint\u001b[0m\u001b[0;34m(\u001b[0m\u001b[0;34m'Numbers of rows in each class (Test Data)'\u001b[0m\u001b[0;34m)\u001b[0m\u001b[0;34m\u001b[0m\u001b[0m\n\u001b[1;32m      6\u001b[0m \u001b[0;32mfor\u001b[0m \u001b[0mi\u001b[0m \u001b[0;32min\u001b[0m \u001b[0mrange\u001b[0m\u001b[0;34m(\u001b[0m\u001b[0;36m1\u001b[0m\u001b[0;34m,\u001b[0m\u001b[0;36m10\u001b[0m\u001b[0;34m)\u001b[0m\u001b[0;34m:\u001b[0m\u001b[0;34m\u001b[0m\u001b[0m\n\u001b[0;32m----> 7\u001b[0;31m     \u001b[0mcountTestRow_class\u001b[0m\u001b[0;34m[\u001b[0m\u001b[0mi\u001b[0m\u001b[0;34m-\u001b[0m\u001b[0;36m1\u001b[0m\u001b[0;34m]\u001b[0m \u001b[0;34m=\u001b[0m \u001b[0msum\u001b[0m\u001b[0;34m(\u001b[0m\u001b[0mtest\u001b[0m\u001b[0;34m.\u001b[0m\u001b[0mClass\u001b[0m\u001b[0;34m==\u001b[0m\u001b[0mi\u001b[0m\u001b[0;34m)\u001b[0m\u001b[0;34m\u001b[0m\u001b[0m\n\u001b[0m\u001b[1;32m      8\u001b[0m     \u001b[0mprint\u001b[0m\u001b[0;34m(\u001b[0m\u001b[0mclassType\u001b[0m\u001b[0;34m[\u001b[0m\u001b[0mi\u001b[0m\u001b[0;34m-\u001b[0m\u001b[0;36m1\u001b[0m\u001b[0;34m]\u001b[0m\u001b[0;34m,\u001b[0m\u001b[0;34m':'\u001b[0m \u001b[0;34m,\u001b[0m \u001b[0mcountTestRow_class\u001b[0m\u001b[0;34m[\u001b[0m\u001b[0mi\u001b[0m\u001b[0;34m-\u001b[0m\u001b[0;36m1\u001b[0m\u001b[0;34m]\u001b[0m\u001b[0;34m)\u001b[0m\u001b[0;34m\u001b[0m\u001b[0m\n",
      "\u001b[0;32m/anaconda/lib/python3.6/site-packages/pandas/core/generic.py\u001b[0m in \u001b[0;36m__getattr__\u001b[0;34m(self, name)\u001b[0m\n\u001b[1;32m   2742\u001b[0m             \u001b[0;32mif\u001b[0m \u001b[0mname\u001b[0m \u001b[0;32min\u001b[0m \u001b[0mself\u001b[0m\u001b[0;34m.\u001b[0m\u001b[0m_info_axis\u001b[0m\u001b[0;34m:\u001b[0m\u001b[0;34m\u001b[0m\u001b[0m\n\u001b[1;32m   2743\u001b[0m                 \u001b[0;32mreturn\u001b[0m \u001b[0mself\u001b[0m\u001b[0;34m[\u001b[0m\u001b[0mname\u001b[0m\u001b[0;34m]\u001b[0m\u001b[0;34m\u001b[0m\u001b[0m\n\u001b[0;32m-> 2744\u001b[0;31m             \u001b[0;32mreturn\u001b[0m \u001b[0mobject\u001b[0m\u001b[0;34m.\u001b[0m\u001b[0m__getattribute__\u001b[0m\u001b[0;34m(\u001b[0m\u001b[0mself\u001b[0m\u001b[0;34m,\u001b[0m \u001b[0mname\u001b[0m\u001b[0;34m)\u001b[0m\u001b[0;34m\u001b[0m\u001b[0m\n\u001b[0m\u001b[1;32m   2745\u001b[0m \u001b[0;34m\u001b[0m\u001b[0m\n\u001b[1;32m   2746\u001b[0m     \u001b[0;32mdef\u001b[0m \u001b[0m__setattr__\u001b[0m\u001b[0;34m(\u001b[0m\u001b[0mself\u001b[0m\u001b[0;34m,\u001b[0m \u001b[0mname\u001b[0m\u001b[0;34m,\u001b[0m \u001b[0mvalue\u001b[0m\u001b[0;34m)\u001b[0m\u001b[0;34m:\u001b[0m\u001b[0;34m\u001b[0m\u001b[0m\n",
      "\u001b[0;31mAttributeError\u001b[0m: 'DataFrame' object has no attribute 'Class'"
     ]
    }
   ],
   "source": [
    "# plot the class distribution of test data\n",
    "# observation on the statistics\n",
    "# count the amount\n",
    "countTestRow_class = np.zeros(9)\n",
    "print('Numbers of rows in each class (Test Data)')\n",
    "for i in range(1,10):\n",
    "    countTestRow_class[i-1] = sum(test.Class==i)\n",
    "    print(classType[i-1],':' , countTestRow_class[i-1])"
   ]
  },
  {
   "cell_type": "markdown",
   "metadata": {},
   "source": [
    "# Part II. Build Classification Models"
   ]
  },
  {
   "cell_type": "markdown",
   "metadata": {},
   "source": [
    "We utilized the sklearn packages to bulid up our classifier models, including random forest, extra trees, decision tree, AdaBoost and KNN. In order to realize the model performance, we added cross validation score from sklearn."
   ]
  },
  {
   "cell_type": "code",
   "execution_count": 11,
   "metadata": {
    "collapsed": true
   },
   "outputs": [],
   "source": [
    "# import packages\n",
    "import sklearn\n",
    "from sklearn.model_selection import cross_val_score\n",
    "from sklearn.ensemble import RandomForestClassifier\n",
    "from sklearn.ensemble import ExtraTreesClassifier\n",
    "from sklearn.tree import DecisionTreeClassifier\n",
    "from sklearn.ensemble import AdaBoostClassifier\n",
    "from sklearn.neighbors import KNeighborsClassifier"
   ]
  },
  {
   "cell_type": "markdown",
   "metadata": {},
   "source": [
    "To separte the dataset into two parts: data (for building the model) and class (for identify their types)"
   ]
  },
  {
   "cell_type": "markdown",
   "metadata": {},
   "source": [
    "## 1. Preview the Training Dataset for Modeling of Classification"
   ]
  },
  {
   "cell_type": "markdown",
   "metadata": {},
   "source": [
    "Due to the features in the original training dataset, we need to separte the original training dataset into two parts, one is data, and the other is class type. "
   ]
  },
  {
   "cell_type": "code",
   "execution_count": 12,
   "metadata": {
    "collapsed": false
   },
   "outputs": [
    {
     "data": {
      "text/html": [
       "<div>\n",
       "<table border=\"1\" class=\"dataframe\">\n",
       "  <thead>\n",
       "    <tr style=\"text-align: right;\">\n",
       "      <th></th>\n",
       "      <th>Virtual</th>\n",
       "      <th>Offset</th>\n",
       "      <th>loc</th>\n",
       "      <th>Import</th>\n",
       "      <th>Imports</th>\n",
       "      <th>var</th>\n",
       "      <th>Forwarder</th>\n",
       "      <th>UINT</th>\n",
       "      <th>LONG</th>\n",
       "      <th>BOOL</th>\n",
       "      <th>...</th>\n",
       "      <th>Img98</th>\n",
       "      <th>Img99</th>\n",
       "      <th>Img100</th>\n",
       "      <th>Img101</th>\n",
       "      <th>Img102</th>\n",
       "      <th>Img103</th>\n",
       "      <th>Img104</th>\n",
       "      <th>Img105</th>\n",
       "      <th>Img106</th>\n",
       "      <th>Img107</th>\n",
       "    </tr>\n",
       "  </thead>\n",
       "  <tbody>\n",
       "    <tr>\n",
       "      <th>0</th>\n",
       "      <td>3</td>\n",
       "      <td>3</td>\n",
       "      <td>689</td>\n",
       "      <td>18</td>\n",
       "      <td>6</td>\n",
       "      <td>890</td>\n",
       "      <td>6</td>\n",
       "      <td>39</td>\n",
       "      <td>17</td>\n",
       "      <td>88</td>\n",
       "      <td>...</td>\n",
       "      <td>8658.0</td>\n",
       "      <td>35148.0</td>\n",
       "      <td>8687.0</td>\n",
       "      <td>55835.0</td>\n",
       "      <td>9078.0</td>\n",
       "      <td>21355.0</td>\n",
       "      <td>56302.0</td>\n",
       "      <td>10380.0</td>\n",
       "      <td>171979.0</td>\n",
       "      <td>162674.0</td>\n",
       "    </tr>\n",
       "    <tr>\n",
       "      <th>1</th>\n",
       "      <td>3</td>\n",
       "      <td>3</td>\n",
       "      <td>583</td>\n",
       "      <td>15</td>\n",
       "      <td>5</td>\n",
       "      <td>1574</td>\n",
       "      <td>5</td>\n",
       "      <td>6</td>\n",
       "      <td>7</td>\n",
       "      <td>30</td>\n",
       "      <td>...</td>\n",
       "      <td>650.0</td>\n",
       "      <td>571.0</td>\n",
       "      <td>718.0</td>\n",
       "      <td>1762.0</td>\n",
       "      <td>642.0</td>\n",
       "      <td>1820.0</td>\n",
       "      <td>1675.0</td>\n",
       "      <td>1100.0</td>\n",
       "      <td>7702.0</td>\n",
       "      <td>6551.0</td>\n",
       "    </tr>\n",
       "    <tr>\n",
       "      <th>2</th>\n",
       "      <td>3</td>\n",
       "      <td>4</td>\n",
       "      <td>2796</td>\n",
       "      <td>15</td>\n",
       "      <td>5</td>\n",
       "      <td>625</td>\n",
       "      <td>5</td>\n",
       "      <td>58</td>\n",
       "      <td>11</td>\n",
       "      <td>152</td>\n",
       "      <td>...</td>\n",
       "      <td>16918.0</td>\n",
       "      <td>29872.0</td>\n",
       "      <td>16910.0</td>\n",
       "      <td>31708.0</td>\n",
       "      <td>9000.0</td>\n",
       "      <td>17586.0</td>\n",
       "      <td>30719.0</td>\n",
       "      <td>30062.0</td>\n",
       "      <td>55331.0</td>\n",
       "      <td>12946.0</td>\n",
       "    </tr>\n",
       "    <tr>\n",
       "      <th>3</th>\n",
       "      <td>3</td>\n",
       "      <td>3</td>\n",
       "      <td>373</td>\n",
       "      <td>27</td>\n",
       "      <td>9</td>\n",
       "      <td>615</td>\n",
       "      <td>9</td>\n",
       "      <td>16</td>\n",
       "      <td>10</td>\n",
       "      <td>34</td>\n",
       "      <td>...</td>\n",
       "      <td>9734.0</td>\n",
       "      <td>10742.0</td>\n",
       "      <td>9755.0</td>\n",
       "      <td>26992.0</td>\n",
       "      <td>9069.0</td>\n",
       "      <td>24885.0</td>\n",
       "      <td>27108.0</td>\n",
       "      <td>13219.0</td>\n",
       "      <td>122247.0</td>\n",
       "      <td>98621.0</td>\n",
       "    </tr>\n",
       "    <tr>\n",
       "      <th>4</th>\n",
       "      <td>3</td>\n",
       "      <td>3</td>\n",
       "      <td>77</td>\n",
       "      <td>12</td>\n",
       "      <td>4</td>\n",
       "      <td>66</td>\n",
       "      <td>4</td>\n",
       "      <td>3</td>\n",
       "      <td>0</td>\n",
       "      <td>5</td>\n",
       "      <td>...</td>\n",
       "      <td>1256.0</td>\n",
       "      <td>962.0</td>\n",
       "      <td>1307.0</td>\n",
       "      <td>3119.0</td>\n",
       "      <td>1172.0</td>\n",
       "      <td>3522.0</td>\n",
       "      <td>3245.0</td>\n",
       "      <td>2001.0</td>\n",
       "      <td>15501.0</td>\n",
       "      <td>11864.0</td>\n",
       "    </tr>\n",
       "  </tbody>\n",
       "</table>\n",
       "<p>5 rows × 1804 columns</p>\n",
       "</div>"
      ],
      "text/plain": [
       "   Virtual  Offset   loc  Import  Imports   var  Forwarder  UINT  LONG  BOOL  \\\n",
       "0        3       3   689      18        6   890          6    39    17    88   \n",
       "1        3       3   583      15        5  1574          5     6     7    30   \n",
       "2        3       4  2796      15        5   625          5    58    11   152   \n",
       "3        3       3   373      27        9   615          9    16    10    34   \n",
       "4        3       3    77      12        4    66          4     3     0     5   \n",
       "\n",
       "     ...       Img98    Img99   Img100   Img101  Img102   Img103   Img104  \\\n",
       "0    ...      8658.0  35148.0   8687.0  55835.0  9078.0  21355.0  56302.0   \n",
       "1    ...       650.0    571.0    718.0   1762.0   642.0   1820.0   1675.0   \n",
       "2    ...     16918.0  29872.0  16910.0  31708.0  9000.0  17586.0  30719.0   \n",
       "3    ...      9734.0  10742.0   9755.0  26992.0  9069.0  24885.0  27108.0   \n",
       "4    ...      1256.0    962.0   1307.0   3119.0  1172.0   3522.0   3245.0   \n",
       "\n",
       "    Img105    Img106    Img107  \n",
       "0  10380.0  171979.0  162674.0  \n",
       "1   1100.0    7702.0    6551.0  \n",
       "2  30062.0   55331.0   12946.0  \n",
       "3  13219.0  122247.0   98621.0  \n",
       "4   2001.0   15501.0   11864.0  \n",
       "\n",
       "[5 rows x 1804 columns]"
      ]
     },
     "execution_count": 12,
     "metadata": {},
     "output_type": "execute_result"
    }
   ],
   "source": [
    "# data for analysis\n",
    "data = train[train.columns[np.arange(1804)]]\n",
    "data.head()"
   ]
  },
  {
   "cell_type": "code",
   "execution_count": 13,
   "metadata": {
    "collapsed": false
   },
   "outputs": [
    {
     "data": {
      "text/plain": [
       "0    2\n",
       "1    8\n",
       "2    9\n",
       "3    9\n",
       "4    1\n",
       "Name: Class, dtype: int64"
      ]
     },
     "execution_count": 13,
     "metadata": {},
     "output_type": "execute_result"
    }
   ],
   "source": [
    "# data for analysis\n",
    "classType = train[train.columns[1804]]\n",
    "classType.head()"
   ]
  },
  {
   "cell_type": "markdown",
   "metadata": {},
   "source": [
    "## 2. Build the Classification Models"
   ]
  },
  {
   "cell_type": "code",
   "execution_count": 14,
   "metadata": {
    "collapsed": false
   },
   "outputs": [],
   "source": [
    "# build random forest classification model\n",
    "rfc_clf = RandomForestClassifier(n_estimators=10, max_depth=None, min_samples_split=2, random_state=0)"
   ]
  },
  {
   "cell_type": "code",
   "execution_count": 15,
   "metadata": {
    "collapsed": true
   },
   "outputs": [],
   "source": [
    "# build decision tree classification model\n",
    "dtc_clf = DecisionTreeClassifier(max_depth=None, min_samples_split=2,random_state=0)"
   ]
  },
  {
   "cell_type": "code",
   "execution_count": 16,
   "metadata": {
    "collapsed": true
   },
   "outputs": [],
   "source": [
    "# build extra trees classification model\n",
    "etc_clf = ExtraTreesClassifier(n_estimators=10, max_depth=None,min_samples_split=2, random_state=0)"
   ]
  },
  {
   "cell_type": "code",
   "execution_count": 17,
   "metadata": {
    "collapsed": true
   },
   "outputs": [],
   "source": [
    "# build AdaBoost classification model\n",
    "abc_clf = AdaBoostClassifier(n_estimators=10)"
   ]
  },
  {
   "cell_type": "code",
   "execution_count": 18,
   "metadata": {
    "collapsed": true
   },
   "outputs": [],
   "source": [
    "# build K Nearest Neighbors classification model\n",
    "knn_clf = KNeighborsClassifier(n_neighbors=5)"
   ]
  },
  {
   "cell_type": "markdown",
   "metadata": {},
   "source": [
    "## 3. Evaluate Classification and Cross Validation by Using K-fold (K = 10)"
   ]
  },
  {
   "cell_type": "code",
   "execution_count": 19,
   "metadata": {
    "collapsed": true
   },
   "outputs": [],
   "source": [
    "# cross validation with 10-fold validation for random forest classification\n",
    "rfc_scores = cross_val_score(rfc_clf, data, classType, cv=10)"
   ]
  },
  {
   "cell_type": "code",
   "execution_count": 21,
   "metadata": {
    "collapsed": false
   },
   "outputs": [],
   "source": [
    "# cross validation with 10-fold validation for decision tree classification\n",
    "dtc_scores = cross_val_score(dtc_clf, data, classType, cv=10)"
   ]
  },
  {
   "cell_type": "code",
   "execution_count": 22,
   "metadata": {
    "collapsed": true
   },
   "outputs": [],
   "source": [
    "# cross validation with 10-fold validation for extra trees classification\n",
    "etc_scores = cross_val_score(etc_clf, data, classType, cv=10)"
   ]
  },
  {
   "cell_type": "code",
   "execution_count": 23,
   "metadata": {
    "collapsed": true
   },
   "outputs": [],
   "source": [
    "# cross validation with 10-fold validation for AdaBoost classification\n",
    "abc_scores = cross_val_score(abc_clf, data, classType, cv=10)"
   ]
  },
  {
   "cell_type": "code",
   "execution_count": 24,
   "metadata": {
    "collapsed": true
   },
   "outputs": [],
   "source": [
    "# cross validation with 10-fold validation for K Nearest Neighbors classification\n",
    "knn_scores = cross_val_score(knn_clf, data, classType, cv=10)"
   ]
  },
  {
   "cell_type": "markdown",
   "metadata": {},
   "source": [
    "## 4. Statistic Result of Cross Validation on Classification"
   ]
  },
  {
   "cell_type": "code",
   "execution_count": 25,
   "metadata": {
    "collapsed": false
   },
   "outputs": [
    {
     "name": "stdout",
     "output_type": "stream",
     "text": [
      "Model Accuracy of Random Forest Classification of Each Fold\n",
      "[ 0.99450549  0.98990826  0.99448529  0.99264029  0.99264029  0.99355433\n",
      "  0.99355433  0.99539595  0.99445983  0.99076639]\n",
      "\n",
      "Average Accuracy of Random Forest Classification\n",
      "0.993191046179\n"
     ]
    }
   ],
   "source": [
    "# calculate the Accuracy of random forest classification and show them on the screen\n",
    "print('Model Accuracy of Random Forest Classification of Each Fold')\n",
    "print(rfc_scores)\n",
    "print('\\nAverage Accuracy of Random Forest Classification')\n",
    "print(rfc_scores.mean())"
   ]
  },
  {
   "cell_type": "code",
   "execution_count": 26,
   "metadata": {
    "collapsed": false
   },
   "outputs": [
    {
     "name": "stdout",
     "output_type": "stream",
     "text": [
      "Accuracy of Decision Tree Classification of Each Fold\n",
      "[ 0.99358974  0.99449541  0.99172794  0.98620055  0.98712052  0.99171271\n",
      "  0.98987109  0.99631676  0.98707295  0.99076639]\n",
      "\n",
      "Average Accuracy of Decision Tree Classification\n",
      "0.990887405243\n"
     ]
    }
   ],
   "source": [
    "# calculate the Accuracy of decision tree classification and show them on the screen\n",
    "print('Accuracy of Decision Tree Classification of Each Fold')\n",
    "print(dtc_scores)\n",
    "print('\\nAverage Accuracy of Decision Tree Classification')\n",
    "print(dtc_scores.mean())"
   ]
  },
  {
   "cell_type": "code",
   "execution_count": 27,
   "metadata": {
    "collapsed": false
   },
   "outputs": [
    {
     "name": "stdout",
     "output_type": "stream",
     "text": [
      "Model Accuracy of Extra Trees Classification of Each Fold\n",
      "[ 0.99450549  0.99082569  0.99448529  0.99080037  0.98804048  0.98987109\n",
      "  0.98987109  0.99631676  0.99168975  0.99168975]\n",
      "\n",
      "Average Accuracy of Extra Trees Classification\n",
      "0.991809575631\n"
     ]
    }
   ],
   "source": [
    "# calculate the Accuracy of extra trees classification and show them on the screen\n",
    "print('Model Accuracy of Extra Trees Classification of Each Fold')\n",
    "print(etc_scores)\n",
    "print('\\nAverage Accuracy of Extra Trees Classification')\n",
    "print(etc_scores.mean())"
   ]
  },
  {
   "cell_type": "code",
   "execution_count": 28,
   "metadata": {
    "collapsed": false
   },
   "outputs": [
    {
     "name": "stdout",
     "output_type": "stream",
     "text": [
      "Accuracy of AdaBoost classification of Each Fold\n",
      "[ 0.22802198  0.2293578   0.22886029  0.22815087  0.22631095  0.22928177\n",
      "  0.23020258  0.23020258  0.22899354  0.22807018]\n",
      "\n",
      "Average Accuracy of AdaBoost classification\n",
      "0.228745252824\n"
     ]
    }
   ],
   "source": [
    "# calculate the Accuracy of AdaBoost classification and show them on the screen\n",
    "print('Accuracy of AdaBoost classification of Each Fold')\n",
    "print(abc_scores)\n",
    "print('\\nAverage Accuracy of AdaBoost classification')\n",
    "print(abc_scores.mean())"
   ]
  },
  {
   "cell_type": "code",
   "execution_count": 29,
   "metadata": {
    "collapsed": false
   },
   "outputs": [
    {
     "name": "stdout",
     "output_type": "stream",
     "text": [
      "Accuracy of K Nearest Neighbors Classification of Each Fold\n",
      "[ 0.96520147  0.96422018  0.96599265  0.96964121  0.96596136  0.96869245\n",
      "  0.97145488  0.96869245  0.96952909  0.97045245]\n",
      "\n",
      "Average Accuracy of K Nearest Neighbors Classification\n",
      "0.967983818343\n"
     ]
    }
   ],
   "source": [
    "# calculate the Accuracy of K Nearest Neighbors classification and show them on the screen\n",
    "print('Accuracy of K Nearest Neighbors Classification of Each Fold')\n",
    "print(knn_scores)\n",
    "print('\\nAverage Accuracy of K Nearest Neighbors Classification')\n",
    "print(knn_scores.mean())"
   ]
  },
  {
   "cell_type": "markdown",
   "metadata": {},
   "source": [
    "## 5. Sight View of the Importnace of Each Feature"
   ]
  },
  {
   "cell_type": "code",
   "execution_count": 30,
   "metadata": {
    "collapsed": false
   },
   "outputs": [
    {
     "name": "stdout",
     "output_type": "stream",
     "text": [
      "The Feature Importance of Random Forest Classifier = \n",
      " [  4.23199927e-04   0.00000000e+00   8.71372920e-05 ...,   2.83784211e-05\n",
      "   0.00000000e+00   2.04285500e-03]\n"
     ]
    },
    {
     "data": {
      "image/png": "[encoded data removed]",
      "text/plain": [
       "<matplotlib.figure.Figure at 0x1404efac8>"
      ]
     },
     "metadata": {},
     "output_type": "display_data"
    }
   ],
   "source": [
    "# compute the importance of the features under random forest classification\n",
    "rfc_clf.fit(data, classType)\n",
    "print('The Feature Importance of Random Forest Classifier = \\n',rfc_clf.feature_importances_)\n",
    "plt.plot(rfc_clf.feature_importances_)\n",
    "plt.title('The Feature Importance of Random Forest Classifier')\n",
    "plt.xlabel('Features')\n",
    "plt.ylabel('Importance')\n",
    "plt.grid(True)\n",
    "plt.show()"
   ]
  },
  {
   "cell_type": "code",
   "execution_count": 31,
   "metadata": {
    "collapsed": false
   },
   "outputs": [
    {
     "name": "stdout",
     "output_type": "stream",
     "text": [
      "The Feature Importance of Decision Tree Classifier = \n",
      " [ 0.00022272  0.          0.         ...,  0.          0.          0.        ]\n"
     ]
    },
    {
     "data": {
      "image/png": "[encoded data removed]",
      "text/plain": [
       "<matplotlib.figure.Figure at 0x114dc9c50>"
      ]
     },
     "metadata": {},
     "output_type": "display_data"
    }
   ],
   "source": [
    "# compute the importance of the features under decision tree classification\n",
    "dtc_clf.fit(data, classType)\n",
    "print('The Feature Importance of Decision Tree Classifier = \\n',dtc_clf.feature_importances_)\n",
    "plt.plot(dtc_clf.feature_importances_)\n",
    "plt.title('The Feature Importance of Decision Tree Classifier')\n",
    "plt.xlabel('Features')\n",
    "plt.ylabel('Importance')\n",
    "plt.grid(True)\n",
    "plt.show()"
   ]
  },
  {
   "cell_type": "code",
   "execution_count": 32,
   "metadata": {
    "collapsed": false
   },
   "outputs": [
    {
     "name": "stdout",
     "output_type": "stream",
     "text": [
      "The Feature Importance of Extra Trees Classifier = \n",
      " [ 0.00057527  0.00032946  0.00034836 ...,  0.          0.00714435\n",
      "  0.00240402]\n"
     ]
    },
    {
     "data": {
      "image/png": "[encoded data removed]",
      "text/plain": [
       "<matplotlib.figure.Figure at 0x1141f5c88>"
      ]
     },
     "metadata": {},
     "output_type": "display_data"
    }
   ],
   "source": [
    "# compute the importance of the features under extra trees classification\n",
    "etc_clf.fit(data, classType)\n",
    "print('The Feature Importance of Extra Trees Classifier = \\n',etc_clf.feature_importances_)\n",
    "plt.plot(etc_clf.feature_importances_)\n",
    "plt.title('The Feature Importance of Extra Trees Classifier')\n",
    "plt.xlabel('Features')\n",
    "plt.ylabel('Importance')\n",
    "plt.grid(True)\n",
    "plt.show()"
   ]
  },
  {
   "cell_type": "code",
   "execution_count": 33,
   "metadata": {
    "collapsed": false
   },
   "outputs": [
    {
     "name": "stdout",
     "output_type": "stream",
     "text": [
      "The Feature Importance of AdaBoost Classifier = \n",
      " [ 0.  0.  0. ...,  0.  0.  0.]\n"
     ]
    },
    {
     "data": {
      "image/png": "[encoded data removed]",
      "text/plain": [
       "<matplotlib.figure.Figure at 0x142362c18>"
      ]
     },
     "metadata": {},
     "output_type": "display_data"
    }
   ],
   "source": [
    "# compute the importance of the features under AdaBoost classification\n",
    "abc_clf.fit(data, classType)\n",
    "print('The Feature Importance of AdaBoost Classifier = \\n',abc_clf.feature_importances_)\n",
    "plt.plot(abc_clf.feature_importances_)\n",
    "plt.title('The Feature Importance of AdaBoost Classifier')\n",
    "plt.xlabel('Features')\n",
    "plt.ylabel('Importance')\n",
    "plt.grid(True)\n",
    "plt.show()"
   ]
  },
  {
   "cell_type": "code",
   "execution_count": 34,
   "metadata": {
    "collapsed": false
   },
   "outputs": [
    {
     "ename": "AttributeError",
     "evalue": "'KNeighborsClassifier' object has no attribute 'feature_importances_'",
     "output_type": "error",
     "traceback": [
      "\u001b[0;31m---------------------------------------------------------------------------\u001b[0m",
      "\u001b[0;31mAttributeError\u001b[0m                            Traceback (most recent call last)",
      "\u001b[0;32m<ipython-input-34-eef40f300ac2>\u001b[0m in \u001b[0;36m<module>\u001b[0;34m()\u001b[0m\n\u001b[1;32m      1\u001b[0m \u001b[0;31m# compute the importance of the features under K Nearest Neighbors classification\u001b[0m\u001b[0;34m\u001b[0m\u001b[0;34m\u001b[0m\u001b[0m\n\u001b[1;32m      2\u001b[0m \u001b[0mknn_clf\u001b[0m\u001b[0;34m.\u001b[0m\u001b[0mfit\u001b[0m\u001b[0;34m(\u001b[0m\u001b[0mdata\u001b[0m\u001b[0;34m,\u001b[0m \u001b[0mclassType\u001b[0m\u001b[0;34m)\u001b[0m\u001b[0;34m\u001b[0m\u001b[0m\n\u001b[0;32m----> 3\u001b[0;31m \u001b[0mprint\u001b[0m\u001b[0;34m(\u001b[0m\u001b[0;34m'The Feature Importance of K Nearest Neighbors Classifier = \\n'\u001b[0m\u001b[0;34m,\u001b[0m\u001b[0mknn_clf\u001b[0m\u001b[0;34m.\u001b[0m\u001b[0mfeature_importances_\u001b[0m\u001b[0;34m)\u001b[0m\u001b[0;34m\u001b[0m\u001b[0m\n\u001b[0m\u001b[1;32m      4\u001b[0m \u001b[0mplt\u001b[0m\u001b[0;34m.\u001b[0m\u001b[0mplot\u001b[0m\u001b[0;34m(\u001b[0m\u001b[0mknn_clf\u001b[0m\u001b[0;34m.\u001b[0m\u001b[0mfeature_importances_\u001b[0m\u001b[0;34m)\u001b[0m\u001b[0;34m\u001b[0m\u001b[0m\n\u001b[1;32m      5\u001b[0m \u001b[0mplt\u001b[0m\u001b[0;34m.\u001b[0m\u001b[0mtitle\u001b[0m\u001b[0;34m(\u001b[0m\u001b[0;34m'The Feature Importance of K Nearest Neighbors Classifier'\u001b[0m\u001b[0;34m)\u001b[0m\u001b[0;34m\u001b[0m\u001b[0m\n",
      "\u001b[0;31mAttributeError\u001b[0m: 'KNeighborsClassifier' object has no attribute 'feature_importances_'"
     ]
    }
   ],
   "source": [
    "# compute the importance of the features under K Nearest Neighbors classification\n",
    "knn_clf.fit(data, classType)\n",
    "print('The Feature Importance of K Nearest Neighbors Classifier = \\n',knn_clf.feature_importances_)\n",
    "plt.plot(knn_clf.feature_importances_)\n",
    "plt.title('The Feature Importance of K Nearest Neighbors Classifier')\n",
    "plt.xlabel('Features')\n",
    "plt.ylabel('Importance')\n",
    "plt.grid(True)\n",
    "plt.show()"
   ]
  },
  {
   "cell_type": "markdown",
   "metadata": {},
   "source": [
    "## 6. Select Three Types of Features"
   ]
  },
  {
   "cell_type": "markdown",
   "metadata": {},
   "source": [
    "From previous analysis results, we can realize that some of features does not help for classification during this process, hence, we attempted to divide into three types of feature type as follows. <br />\n",
    "1. top 10 useful features\n",
    "2. all useful features\n",
    "3. all useless features\n",
    "\n",
    "(p.s. for no.2 and no.3:: because the numbers of features are quite large, we also showed the numbers.)"
   ]
  },
  {
   "cell_type": "markdown",
   "metadata": {},
   "source": [
    "### 6.1 Get the Importance Index"
   ]
  },
  {
   "cell_type": "code",
   "execution_count": 24,
   "metadata": {
    "collapsed": false
   },
   "outputs": [],
   "source": [
    "# random forest classification\n",
    "# export the importance and obtain the sorting index\n",
    "rfc_featureImportance = rfc_clf.feature_importances_\n",
    "# get the sorting index by argsort function from numpy package\n",
    "rfc_getIndex = np.argsort(rfc_featureImportance)"
   ]
  },
  {
   "cell_type": "code",
   "execution_count": 24,
   "metadata": {
    "collapsed": false
   },
   "outputs": [],
   "source": [
    "# decision tree classification\n",
    "# export the importance and obtain the sorting index\n",
    "dtc_featureImportance = dtc_clf.feature_importances_\n",
    "# get the sorting index by argsort function from numpy package\n",
    "dtc_getIndex = np.argsort(dtc_featureImportance)"
   ]
  },
  {
   "cell_type": "code",
   "execution_count": 24,
   "metadata": {
    "collapsed": false
   },
   "outputs": [],
   "source": [
    "# extra trees classification\n",
    "# export the importance and obtain the sorting index\n",
    "etc_featureImportance = etc_clf.feature_importances_\n",
    "# get the sorting index by argsort function from numpy package\n",
    "etc_getIndex = np.argsort(etc_featureImportance)"
   ]
  },
  {
   "cell_type": "code",
   "execution_count": 24,
   "metadata": {
    "collapsed": false
   },
   "outputs": [],
   "source": [
    "# AdaBoost classification\n",
    "# export the importance and obtain the sorting index\n",
    "abc_featureImportance = abc_clf.feature_importances_\n",
    "# get the sorting index by argsort function from numpy package\n",
    "abc_getIndex = np.argsort(abc_featureImportance)"
   ]
  },
  {
   "cell_type": "code",
   "execution_count": 24,
   "metadata": {
    "collapsed": false
   },
   "outputs": [],
   "source": [
    "# K Nearest Neighbors classification\n",
    "# export the importance and obtain the sorting index\n",
    "knn_featureImportance = knn_clf.feature_importances_\n",
    "# get the sorting index by argsort function from numpy package\n",
    "knn_getIndex = np.argsort(knn_featureImportance)"
   ]
  },
  {
   "cell_type": "markdown",
   "metadata": {},
   "source": [
    "### 6.2 Sort the Importance and Features via Importance Index"
   ]
  },
  {
   "cell_type": "code",
   "execution_count": 25,
   "metadata": {
    "collapsed": false
   },
   "outputs": [
    {
     "name": "stdout",
     "output_type": "stream",
     "text": [
      "The Feature Importance Sorting Result\n",
      " [ 0.          0.          0.         ...,  0.03094596  0.03192617\n",
      "  0.05194113]\n",
      "The Feature Sorting Result\n",
      " ['SHGetFileInfoA' 'CreateMenu' 'GetStringTypeExA' ...,\n",
      " 'ent_q_diff_diffs_2_median' 'strncpy' 'TB_99']\n"
     ]
    }
   ],
   "source": [
    "# random forest classidication\n",
    "# sort the importance\n",
    "rfc_imSorted = rfc_featureImportance[rfc_getIndex]\n",
    "print('The Feature Importance Sorting Result of Random Forest Classification\\n',rfc_imSorted)\n",
    "# sort the features\n",
    "rfc_dataImSorted = np.asarray(data.columns[rfc_getIndex])\n",
    "print('The Feature Sorting Result of Random Forest Classificatio\\n',rfc_dataImSorted)"
   ]
  },
  {
   "cell_type": "code",
   "execution_count": 25,
   "metadata": {
    "collapsed": false
   },
   "outputs": [
    {
     "name": "stdout",
     "output_type": "stream",
     "text": [
      "The Feature Importance Sorting Result\n",
      " [ 0.          0.          0.         ...,  0.03094596  0.03192617\n",
      "  0.05194113]\n",
      "The Feature Sorting Result\n",
      " ['SHGetFileInfoA' 'CreateMenu' 'GetStringTypeExA' ...,\n",
      " 'ent_q_diff_diffs_2_median' 'strncpy' 'TB_99']\n"
     ]
    }
   ],
   "source": [
    "# decision tree classidication\n",
    "# sort the importance\n",
    "dtc_imSorted = dtc_featureImportance[dtc_getIndex]\n",
    "print('The Feature Importance Sorting Result of Decision Tree Classification\\n',dtc_imSorted)\n",
    "# sort the features\n",
    "dtc_dataImSorted = np.asarray(data.columns[dtc_getIndex])\n",
    "print('The Feature Sorting Result of Decision Tree Classificatio\\n',dtc_dataImSorted)"
   ]
  },
  {
   "cell_type": "code",
   "execution_count": 25,
   "metadata": {
    "collapsed": false
   },
   "outputs": [
    {
     "name": "stdout",
     "output_type": "stream",
     "text": [
      "The Feature Importance Sorting Result\n",
      " [ 0.          0.          0.         ...,  0.03094596  0.03192617\n",
      "  0.05194113]\n",
      "The Feature Sorting Result\n",
      " ['SHGetFileInfoA' 'CreateMenu' 'GetStringTypeExA' ...,\n",
      " 'ent_q_diff_diffs_2_median' 'strncpy' 'TB_99']\n"
     ]
    }
   ],
   "source": [
    "# extra trees classidication\n",
    "# sort the importance\n",
    "etc_imSorted = etc_featureImportance[etc_getIndex]\n",
    "print('The Feature Importance Sorting Result of Extra Trees Classification\\n',etc_imSorted)\n",
    "# sort the features\n",
    "etc_dataImSorted = np.asarray(data.columns[etc_getIndex])\n",
    "print('The Feature Sorting Result of Extra Trees Classificatio\\n',etc_dataImSorted)"
   ]
  },
  {
   "cell_type": "code",
   "execution_count": 25,
   "metadata": {
    "collapsed": false
   },
   "outputs": [
    {
     "name": "stdout",
     "output_type": "stream",
     "text": [
      "The Feature Importance Sorting Result\n",
      " [ 0.          0.          0.         ...,  0.03094596  0.03192617\n",
      "  0.05194113]\n",
      "The Feature Sorting Result\n",
      " ['SHGetFileInfoA' 'CreateMenu' 'GetStringTypeExA' ...,\n",
      " 'ent_q_diff_diffs_2_median' 'strncpy' 'TB_99']\n"
     ]
    }
   ],
   "source": [
    "# AdaBoost classidication\n",
    "# sort the importance\n",
    "abc_imSorted = abc_featureImportance[abc_getIndex]\n",
    "print('The Feature Importance Sorting Result of AdaBoost Classification\\n',abc_imSorted)\n",
    "# sort the features\n",
    "abc_dataImSorted = np.asarray(data.columns[abc_getIndex])\n",
    "print('The Feature Sorting Result of AdaBoost Classificatio\\n',abc_dataImSorted)"
   ]
  },
  {
   "cell_type": "code",
   "execution_count": 25,
   "metadata": {
    "collapsed": false
   },
   "outputs": [
    {
     "name": "stdout",
     "output_type": "stream",
     "text": [
      "The Feature Importance Sorting Result\n",
      " [ 0.          0.          0.         ...,  0.03094596  0.03192617\n",
      "  0.05194113]\n",
      "The Feature Sorting Result\n",
      " ['SHGetFileInfoA' 'CreateMenu' 'GetStringTypeExA' ...,\n",
      " 'ent_q_diff_diffs_2_median' 'strncpy' 'TB_99']\n"
     ]
    }
   ],
   "source": [
    "# K Nearest Neighbors classidication\n",
    "# sort the importance\n",
    "knn_imSorted = knn_featureImportance[knn_getIndex]\n",
    "print('The Feature Importance Sorting Result of K Nearest Neighbors Classification\\n',knn_imSorted)\n",
    "# sort the features\n",
    "knn_dataImSorted = np.asarray(data.columns[knn_getIndex])\n",
    "print('The Feature Sorting Result of K Nearest Neighbors Classificatio\\n',knn_dataImSorted)"
   ]
  },
  {
   "cell_type": "markdown",
   "metadata": {},
   "source": [
    "### 6.3 Plot the Importance Distribution"
   ]
  },
  {
   "cell_type": "code",
   "execution_count": 26,
   "metadata": {
    "collapsed": false
   },
   "outputs": [
    {
     "data": {
      "image/png": "[encoded data removed]",
      "text/plain": [
       "<matplotlib.figure.Figure at 0x13dda2320>"
      ]
     },
     "metadata": {},
     "output_type": "display_data"
    }
   ],
   "source": [
    "# feature importance distribution by random forst classification\n",
    "plt.scatter(np.arange(len(rfc_imSorted)),rfc_imSorted)\n",
    "plt.title('Feature Importance Distribution by Random Forst Classification')\n",
    "plt.xlabel('The Sorting Index of Features')\n",
    "plt.ylabel('The Importance of Features')\n",
    "plt.grid(True)\n",
    "plt.show()"
   ]
  },
  {
   "cell_type": "code",
   "execution_count": 26,
   "metadata": {
    "collapsed": false
   },
   "outputs": [
    {
     "data": {
      "image/png": "[encoded data removed]",
      "text/plain": [
       "<matplotlib.figure.Figure at 0x13dda2320>"
      ]
     },
     "metadata": {},
     "output_type": "display_data"
    }
   ],
   "source": [
    "# feature importance distribution by decision tree classification\n",
    "plt.scatter(np.arange(len(dtc_imSorted)),dtc_imSorted)\n",
    "plt.title('Feature Importance Distribution by Decision Tree Classification')\n",
    "plt.xlabel('The Sorting Index of Features')\n",
    "plt.ylabel('The Importance of Features')\n",
    "plt.grid(True)\n",
    "plt.show()"
   ]
  },
  {
   "cell_type": "code",
   "execution_count": 26,
   "metadata": {
    "collapsed": false
   },
   "outputs": [
    {
     "data": {
      "image/png": "[encoded data removed]",
      "text/plain": [
       "<matplotlib.figure.Figure at 0x13dda2320>"
      ]
     },
     "metadata": {},
     "output_type": "display_data"
    }
   ],
   "source": [
    "# feature importance distribution by extra trees classification\n",
    "plt.scatter(np.arange(len(etc_imSorted)),etc_imSorted)\n",
    "plt.title('Feature Importance Distribution by Extra Trees Classification')\n",
    "plt.xlabel('The Sorting Index of Features')\n",
    "plt.ylabel('The Importance of Features')\n",
    "plt.grid(True)\n",
    "plt.show()"
   ]
  },
  {
   "cell_type": "code",
   "execution_count": 26,
   "metadata": {
    "collapsed": false
   },
   "outputs": [
    {
     "data": {
      "image/png": "[encoded data removed]",
      "text/plain": [
       "<matplotlib.figure.Figure at 0x13dda2320>"
      ]
     },
     "metadata": {},
     "output_type": "display_data"
    }
   ],
   "source": [
    "# feature importance distribution by AdaBoost classification\n",
    "plt.scatter(np.arange(len(abc_imSorted)),abc_imSorted)\n",
    "plt.title('Feature Importance Distribution by AdaBoost Classification')\n",
    "plt.xlabel('The Sorting Index of Features')\n",
    "plt.ylabel('The Importance of Features')\n",
    "plt.grid(True)\n",
    "plt.show()"
   ]
  },
  {
   "cell_type": "code",
   "execution_count": 26,
   "metadata": {
    "collapsed": false
   },
   "outputs": [
    {
     "data": {
      "image/png": "[encoded data removed]",
      "text/plain": [
       "<matplotlib.figure.Figure at 0x13dda2320>"
      ]
     },
     "metadata": {},
     "output_type": "display_data"
    }
   ],
   "source": [
    "# feature importance distribution by K Nearest Neighbors classification\n",
    "plt.scatter(np.arange(len(knn_imSorted)),knn_imSorted)\n",
    "plt.title('Feature Importance Distribution by K Nearest Neighbors Classification')\n",
    "plt.xlabel('The Sorting Index of Features')\n",
    "plt.ylabel('The Importance of Features')\n",
    "plt.grid(True)\n",
    "plt.show()"
   ]
  },
  {
   "cell_type": "markdown",
   "metadata": {},
   "source": [
    "### 6.4 Top 10 Useful Features"
   ]
  },
  {
   "cell_type": "code",
   "execution_count": 27,
   "metadata": {
    "collapsed": false
   },
   "outputs": [
    {
     "name": "stdout",
     "output_type": "stream",
     "text": [
      "Top 10 Useful Features\n",
      " ['TB_b8' 'TB_98' 'TB_ed' 'TB_a3' 'TB_ae' 'TB_82' 'TB_d4'\n",
      " 'ent_q_diff_diffs_2_median' 'strncpy' 'TB_99']\n"
     ]
    }
   ],
   "source": [
    "# get the top 10 useful features via random forest classification\n",
    "print('Top 10 Useful Features via Random Forest Classification\\n',rfc_dataImSorted[-10:len(rfc_dataImSorted)])"
   ]
  },
  {
   "cell_type": "code",
   "execution_count": 27,
   "metadata": {
    "collapsed": false
   },
   "outputs": [
    {
     "name": "stdout",
     "output_type": "stream",
     "text": [
      "Top 10 Useful Features\n",
      " ['TB_b8' 'TB_98' 'TB_ed' 'TB_a3' 'TB_ae' 'TB_82' 'TB_d4'\n",
      " 'ent_q_diff_diffs_2_median' 'strncpy' 'TB_99']\n"
     ]
    }
   ],
   "source": [
    "# get the top 10 useful features via decision tree classification\n",
    "print('Top 10 Useful Features via Decision Tree Classification\\n',dtc_dataImSorted[-10:len(dtc_dataImSorted)])"
   ]
  },
  {
   "cell_type": "code",
   "execution_count": 27,
   "metadata": {
    "collapsed": false
   },
   "outputs": [
    {
     "name": "stdout",
     "output_type": "stream",
     "text": [
      "Top 10 Useful Features\n",
      " ['TB_b8' 'TB_98' 'TB_ed' 'TB_a3' 'TB_ae' 'TB_82' 'TB_d4'\n",
      " 'ent_q_diff_diffs_2_median' 'strncpy' 'TB_99']\n"
     ]
    }
   ],
   "source": [
    "# get the top 10 useful features via extra trees classification\n",
    "print('Top 10 Useful Features via Extra Trees Classification\\n',etc_dataImSorted[-10:len(etc_dataImSorted)])"
   ]
  },
  {
   "cell_type": "code",
   "execution_count": 27,
   "metadata": {
    "collapsed": false
   },
   "outputs": [
    {
     "name": "stdout",
     "output_type": "stream",
     "text": [
      "Top 10 Useful Features\n",
      " ['TB_b8' 'TB_98' 'TB_ed' 'TB_a3' 'TB_ae' 'TB_82' 'TB_d4'\n",
      " 'ent_q_diff_diffs_2_median' 'strncpy' 'TB_99']\n"
     ]
    }
   ],
   "source": [
    "# get the top 10 useful features via AdaBoost classification\n",
    "print('Top 10 Useful Features via AdaBoost Classification\\n',abc_dataImSorted[-10:len(abc_dataImSorted)])"
   ]
  },
  {
   "cell_type": "code",
   "execution_count": 27,
   "metadata": {
    "collapsed": false,
    "scrolled": true
   },
   "outputs": [
    {
     "name": "stdout",
     "output_type": "stream",
     "text": [
      "Top 10 Useful Features\n",
      " ['TB_b8' 'TB_98' 'TB_ed' 'TB_a3' 'TB_ae' 'TB_82' 'TB_d4'\n",
      " 'ent_q_diff_diffs_2_median' 'strncpy' 'TB_99']\n"
     ]
    }
   ],
   "source": [
    "# get the top 10 useful features via K Nearest Neighbors classification\n",
    "print('Top 10 Useful Features via K Nearest Neighbors Classification\\n',knn_dataImSorted[-10:len(knn_dataImSorted)])"
   ]
  },
  {
   "cell_type": "markdown",
   "metadata": {},
   "source": [
    "### 6.5 All Useful Features"
   ]
  },
  {
   "cell_type": "code",
   "execution_count": 28,
   "metadata": {
    "collapsed": false
   },
   "outputs": [
    {
     "name": "stdout",
     "output_type": "stream",
     "text": [
      "The Number of Useful Features\n",
      " 793\n",
      "\n",
      "All Useful Features\n",
      " ['SHGetFileInfoA' 'GetStringTypeExA' 'RegisterClipboardFormatA'\n",
      " 'DestroyCursor' 'Img5.1' 'LoadLibraryW' 'DeleteMenu' '__vbaSetSystemError'\n",
      " 'DrawIconEx' 'EnumThreadWindows' 'DrawMenuBar' '__vbaVarMove' 'SetPixel'\n",
      " 'AppendMenuA' 'GetScrollPos' 'atoi' 'Img106' '__dllonexit' 'strstr'\n",
      " '__vbaVarDup' 'VariantInit' 'SHFileOperationA' 'SetScrollPos' 'WinHelpA'\n",
      " 'GetDriveTypeA' 'ShowOwnedPopups' 'ExcludeClipRect' 'CreateDIBitmap'\n",
      " '__vbaFreeStrList' '__vbaFreeVarList' 'EqualRect' 'RemovePropA'\n",
      " 'WindowFromPoint' '__vbaHresultCheckObj' '__vbaFreeStr' 'RedrawWindow'\n",
      " 'RectVisible' 'AdjustTokenPrivileges' 'ImageList_SetIconSize' 'LoadImageA'\n",
      " 'SHGetPathFromIDListA' 'CharLowerA' 'GetIconInfo' 'GetKeyboardState'\n",
      " '__p__commode' 'UnmapViewOfFile' 'IsRectEmpty' 'SetROP2' '__vbaObjSet'\n",
      " 'TranslateMDISysAccel' 'ImageList_DragEnter' 'GetPaletteEntries'\n",
      " 'GetBitmapBits' 'SendMessageTimeoutA' 'GetDIBColorTable'\n",
      " 'ImageList_EndDrag' 'ImageList_GetIconSize' 'SearchPathA'\n",
      " 'ImageList_GetImageCount' '__vbaStrVarVal' 'SetParent' 'ShowScrollBar'\n",
      " 'RegFlushKey' 'CloseServiceHandle' 'SetDIBColorTable'\n",
      " 'GetCurrentPositionEx' 'EnableScrollBar' 'WriteProcessMemory'\n",
      " '__vbaStrToAnsi' 'Process32Next' 'GetVolumeInformationA' 'SetScrollRange'\n",
      " '__vbaAryDestruct' 'SafeArrayCreate' '__vbaStrCmp' 'InternetOpenUrlA'\n",
      " '__vbaErrorOverflow' '??2@YAPAXI@Z' 'SetWindowPlacement'\n",
      " 'DrawFrameControl' 'CreateDialogParamA' 'WaitMessage'\n",
      " 'GetTimeZoneInformation' 'FileTimeToSystemTime' 'ScrollWindow'\n",
      " 'InsertMenuA' 'ImageList_Draw' 'SafeArrayGetLBound' 'CreateFileMappingA'\n",
      " 'SetThreadLocale' 'GetMenuItemInfoA' 'CompareFileTime' 'GetScrollRange'\n",
      " 'GetCursor' 'SetScrollInfo' 'CheckDlgButton' '__vbaChkstk'\n",
      " '_adj_fdiv_m16i' 'Img16.1' 'SetPropA' 'PatBlt' 'GlobalReAlloc' '_CIcos'\n",
      " 'InflateRect' 'GetMenuItemID' 'RealizePalette' 'CreateFileW'\n",
      " 'SysReAllocStringLen' 'GetDateFormatA' 'LineTo' 'SetDlgItemTextA'\n",
      " 'GlobalHandle' 'SetUnhandledExceptionFilter' 'SizeofResource' 'lstrcpynA'\n",
      " 'GetFileAttributesA' 'LoadResource' 'PostQuitMessage'\n",
      " 'GetWindowsDirectoryA' 'SetWindowLongA' 'RegCreateKeyExA'\n",
      " 'IsDebuggerPresent' 'GetModuleFileNameW' 'SetRect' 'GetMessagePos'\n",
      " 'ResumeThread' 'InternetReadFile' 'VariantClear' 'FindWindowExA'\n",
      " 'DestroyMenu' 'SetCapture' 'GetWindowDC' 'GlobalDeleteAtom' 'GetMenuState'\n",
      " 'ExitThread' 'SysAllocStringLen' 'IsChild' 'lstrlenW' 'GetCapture'\n",
      " 'GetWindowPlacement' 'CreateBitmap' 'DrawIcon' 'GetMenuItemCount'\n",
      " 'DestroyIcon' 'GetKeyNameTextA' 'Img14.1' 'MapViewOfFile' 'GlobalAddAtomA'\n",
      " 'IntersectRect' 'GetCurrentDirectoryA' 'SetMenu' 'IsDialogMessageA'\n",
      " 'GetClipBox' 'CoInitialize' 'GetStockObject' 'lstrcmpA'\n",
      " 'GetWindowThreadProcessId' 'LoadIconA' 'string_len_counts_79' '_CIlog'\n",
      " '_CIexp' '_CIatan' '__vbaFPException' 'RegEnumKeyA' '_adj_fdivr_m32i'\n",
      " '_adj_fdiv_m32i' 'GetPropA' '_adj_fdivr_m64' 'GetDiskFreeSpaceA'\n",
      " '_adj_fpatan' '_adj_fdiv_r' '_adj_fptan' '_adj_fprem1' '_adj_fdiv_m32'\n",
      " '_CItan' '_adj_fdiv_m64' '_adj_fdivr_m16i' 'PostMessageA'\n",
      " 'CreateCompatibleDC' 'CompareStringA' 'HeapDestroy' 'SetCursor' 'BitBlt'\n",
      " 'GetSystemTimeAsFileTime' 'TlsAlloc' 'ReleaseDC' 'SetTextColor'\n",
      " 'InvalidateRect' 'FreeEnvironmentStringsA' 'LockResource' 'RegisterClassA'\n",
      " 'GetSysColor' 'GetProcessHeap' 'Img13.1' 'GetFullPathNameA' 'MulDiv'\n",
      " 'SystemParametersInfoA' 'GetKeyboardType' 'SetBkMode' 'IsWindowEnabled'\n",
      " 'CoCreateInstance' 'SetFileAttributesA' 'GetDesktopWindow' 'SetEvent'\n",
      " 'FillRect' 'CreateEventA' 'CopyFileA' 'GetWindowTextA' 'GetDlgItem'\n",
      " 'EmptyClipboard' 'ImageList_DragShowNolock' 'GetKeyboardLayoutList'\n",
      " 'string_len_counts_3000_6000' 'string_len_counts_6000_15000'\n",
      " 'asm_commands_je' 'asm_commands_fxch' 'string_len_counts_400_600' 'Img31'\n",
      " 'TB_f9' 'Img21' 'string_len_counts_69' 'string_len_counts_94'\n",
      " 'string_len_counts_89' 'string_len_counts_95' 'string_len_counts_83'\n",
      " 'string_len_counts_18' 'string_len_counts_84' 'string_len_counts_85'\n",
      " 'string_len_counts_86' 'string_len_counts_24' 'TB_a5' 'Img32' 'CopyRect'\n",
      " 'TerminateThread' '__vbaRedim' 'ProcCallEngine' 'CoTaskMemAlloc'\n",
      " '__vbaUbound' '__vbaFreeObjList' 'OpenServiceA' '??3@YAXPAX@Z'\n",
      " 'CLSIDFromString' 'GetFileAttributesW' '__vbaVar2Vec' 'Rectangle'\n",
      " 'GetCommandLineW' 'SetThreadPriority' '__vbaGenerateBoundsError'\n",
      " '_stricmp' 'DefFrameProcA' 'RegQueryInfoKeyA' 'CreatePenIndirect'\n",
      " '__vbaStrToUnicode' 'ImageList_GetBkColor' 'WriteConsoleW' 'strcpy'\n",
      " 'InitCommonControls' 'URLDownloadToFileA' 'IsBadWritePtr' 'SetMapMode'\n",
      " 'RegisterClassExA' 'GetDCOrgEx' 'ImageList_AddMasked' 'ImageList_Read'\n",
      " 'TB_5a' 'TB_53' 'Img49' 'TB_9d' 'TB_9c' 'Img34' 'TB_9a'\n",
      " 'GetEnhMetaFileHeader' 'SetEnhMetaFileBits' 'CopyEnhMetaFileA' 'TB_24'\n",
      " 'SuspendThread' 'DeviceIoControl' '__vbaI2Var' 'wvsprintfA'\n",
      " 'VirtualProtectEx' 'section_names_.tls' 'SetViewportExtEx' 'wcscpy'\n",
      " '__vbaI4ErrVar' 'BringWindowToTop' 'CreateRectRgn' '__vbaStrFixstr'\n",
      " 'GetUserDefaultLangID' '__vbaInStrVar' 'DisableThreadLibraryCalls'\n",
      " 'ValidateRect' '__vbaBoolVarNull' 'GetClassLongA' 'LPtoDP'\n",
      " '__vbaPutOwner3' 'DeleteService' 'CLSIDFromProgID' 'EnumChildWindows'\n",
      " 'IsValidLocale' 'TranslateAcceleratorA' 'misc_scrollwindow' 'misc_search'\n",
      " 'misc1_hardware' 'ent_q_diffs_15' 'ent_q_diff_diffs_5' 'UINT' 'WORD' 'dd'\n",
      " 'System32' 'LPWSTR' 'ATOM' 'Software' 'Img51.1' 'ent_p_17'\n",
      " 'ent_q_diff_diffs_min' 'Img70' 'ent_q_diff_block_1_2'\n",
      " 'ent_q_diff_block_1_4' 'ent_q_diff_block_1_8' 'ent_q_diff_block_1_19'\n",
      " 'string_len_counts_80' 'DestroyWindow' 'MoveFileA' 'DeleteObject'\n",
      " 'TrackPopupMenu' 'GetWindowRect' 'EVENT_SINK_QueryInterface'\n",
      " 'GetShortPathNameA' 'Img31.1' 'ExitWindowsEx' 'UnlockFile' 'CreateFileA'\n",
      " 'LeaveCriticalSection' '_cexit' 'ent_q_diff_block_2_12' 'WPARAM' 'TB_fc'\n",
      " 'TB_37' 'GetLocalTime' '.reloc' 'Img43.1' 'WriteFile' 'PeekMessageA'\n",
      " 'Img10.1' 'misc1____security_cookie' 'ent_q_diff_diffs_16'\n",
      " 'ent_q_diff_block_2_4' 'Img97' 'lstrcatA' 'WSACleanup' 'ent_q_diffs_18'\n",
      " 'CreateIcon' 'SetActiveWindow' 'RegOpenKeyExA' 'dll' '__p__fmode' 'Img102'\n",
      " 'string_len_counts_5' 'EnterCriticalSection' 'TB_c6'\n",
      " 'CreateStreamOnHGlobal' 'QueryPerformanceCounter' 'ent_p_15' 'TB_cf'\n",
      " 'ent_q_diff_diffs_3_max' 'TB_ac' 'ent_p_diffs_17' 'ent_p_diffs_2' 'TB_6e'\n",
      " 'setnle' 'Img78' 'FlushFileBuffers' 'OleInitialize' 'Img25.1' 'Img65'\n",
      " 'Img82' 'GetSystemInfo' 'TB_19' 'ent_q_diff_block_0_20' 'TB_10'\n",
      " 'GetClassNameA' 'TB_b4' 'InitializeCriticalSectionAndSpinCount'\n",
      " '.rsrc_por' 'ent_q_diff_block_0_16' 'Img56' 'TB_12' 'TB_11'\n",
      " 'string_len_counts_33' 'ent_q_diff_block_3_19' 'near' 'GlobalFree' 'srand'\n",
      " 'InterlockedIncrement' 'ent_q_diff_diffs_11' 'Img22'\n",
      " 'ent_q_diff_block_1_10' 'GetExitCodeProcess' 'Img55'\n",
      " 'ent_q_diff_diffs_0_mean' 'TB_52' 'TB_27' 'ent_p_diffs_12'\n",
      " 'asm_commands_jg' 'TB_e3' 'string_len_counts_26' 'ExtendedAscii' 'TB_e0'\n",
      " 'ent_q_diff_block_0_4' 'Img18.1' 'TB_43' 'ent_q_diff_block_2_3' 'TB_46'\n",
      " 'TB_72' 'Img12.1' 'TB_6f' 'ent_q_diff_diffs_19' 'Img39.1'\n",
      " 'string_len_counts_250_400' 'ent_q_diff_block_0_8' 'Img92' 'Img19.1'\n",
      " 'Img74' 'TB_c5' 'DllFunctionCall' 'TB_1d' 'ent_q_diff_diffs_18' 'TB_2c'\n",
      " 'HeapFree' 'FUNCTION' 'Img72' 'GetStartupInfoW' 'ent_q_diff_diffs_14'\n",
      " 'TB_44' 'DWORD' 'TB_b9' 'ent_q_diffs_var' 'Img71' '_CIsqrt' 'GetStdHandle'\n",
      " 'string_len_counts_2' 'Img47.1' 'TB_d0' 'ent_q_diffs_14' 'TB_25' 'TB_67'\n",
      " 'TB_68' 'ent_q_diff_block_3_13' 'TB_36' 'ent_p_diffs_6' 'GetWindowLongA'\n",
      " 'Img75' 'HeapSize' 'TB_39' 'ent_p_6' 'GetModuleHandleA'\n",
      " 'ent_q_diff_block_0_14' 'string_len_counts_8' 'ent_q_diff_diffs_1_max-min'\n",
      " 'GetCPInfo' 'TB_b7' 'TB_d5' 'TB_69' 'misc1_assume' 'TB_51'\n",
      " 'ent_q_diff_block_3_0' 'Img87' 'Img2.1' 'SetEnvironmentVariableA' 'TB_ca'\n",
      " 'db3_NdNt' 'ent_q_diff_block_3_10' 'TB_3e' 'MsgWaitForMultipleObjects'\n",
      " 'Img85' 'TB_1b' 'TB_26' 'asm_commands_ror' 'Img18' 'VariantCopy' 'Img5'\n",
      " 'ent_p_10' 'Img76' 'ent_q_diffs_1' 'ShowWindow' 'asm_commands_jb'\n",
      " 'misc_proc' 'asm_commands_xchg' 'db0_por' 'ent_q_diff_block_2_18'\n",
      " 'string_len_counts_34' '__CxxFrameHandler' 'Img6.1' 'TB_f0' 'TB_4d'\n",
      " 'asm_commands_cli' 'Img44.1' 'TB_c8' 'DispatchMessageA' 'Img90' 'Img77'\n",
      " 'ent_q_diffs_10' 'Img20' 'TB_bf' 'TB_be' 'asm_commands_cld' 'CHUNK'\n",
      " 'ent_q_diff_block_3_8' 'TB_48' 'Img62' 'asm_commands_ret'\n",
      " 'ImageList_SetDragCursorImage' 'Img52' 'Img93' 'ends' 'void'\n",
      " 'SafeArrayGetUBound' '_controlfp' 'ent_p_diffs_3' 'TB_c1' 'ent_q_diffs_17'\n",
      " 'ent_q_diff_diffs_17' 'regs_edi' 'string_len_counts_98' 'ent_p_13' 'TB_3b'\n",
      " 'ent_q_diff_block_3_11' 'GlobalAlloc' 'TB_2e' 'TB_5e' 'asm_commands_xor'\n",
      " 'TB_4a' 'lstrcmpiA' 'TB_6c' 'asm_commands_sub' 'TB_50' 'TB_77'\n",
      " 'ent_q_diff_diffs_3_mean' 'Img96' 'TB_e5' 'TB_6b' 'ent_q_diff_diffs_0_var'\n",
      " 'string_len_counts_22' 'inet_addr' 'Bracket_Close' 'Img47'\n",
      " 'ent_q_diff_block_0_5' 'TB_b3' 'TB_17' 'DialogBoxParamA' 'TB_ef' 'HANDLE'\n",
      " 'TB_2f' 'TB_13' 'TB_89' 'fs' 'asm_commands_pop' 'ent_q_diff_block_2_1'\n",
      " 'TB_a7' 'TB_66' 'TB_20' 'Imports' 'regs_cx' 'asm_commands_imul' 'HMODULE'\n",
      " 'TB_4b' 'TB_2a' 'ent_p_4' 'Img27' 'Img30' 'ent_q_diff_diffs_0_min' 'Sleep'\n",
      " 'Img4' 'TB_3d' 'ent_q_diff_diffs_4' 'TB_73' 'string_len_counts_27' 'TB_23'\n",
      " 'imul' 'Img28' 'socket' 'Img59' 'Img6' 'Img7.1' 'TB_0f' 'GetVersionExA'\n",
      " 'movzx' 'line_count_asm' 'HWND' 'TB_22' 'DeleteDC' 'Img7'\n",
      " 'ent_q_diff_block_1_9' 'Img36' 'Img10' 'TB_83' 'db_text'\n",
      " 'asm_commands_rcr' 'CloseHandle' 'TB_2d' 'db3_all_zero' 'TB_42'\n",
      " 'ent_q_diffs_12' 'TB_f3' 'stdcall' 'Img80' 'ent_q_diff_diffs_2_mean'\n",
      " 'ent_p_7' 'regs_ecx' 'Bracket_Open' 'ent_p_diffs_14' 'TB_76' 'Img103'\n",
      " 'FileSize' 'nullsub' 'asm_commands_sti' 'Img86' 'MessageBoxA'\n",
      " 'asm_commands_endp' 'rand' 'ent_q_diff_block_2_14' 'BYTES' 'SysFreeString'\n",
      " 'TB_af' 'Img37' 'SHBrowseForFolderA' 'Unknown_Sections_lines' 'word'\n",
      " 'Img33.1' 'TB_8b' '---Seperator' 'Img57' 'ent_q_diff_block_3_2' 'Img17.1'\n",
      " 'Img19' 'CallWindowProcA' 'TB_d9' 'ent_q_diff_diffs_0_max' 'TB_df'\n",
      " 'FreeLibrary' 'align' 'Num_Sections' 'TB_ba' 'TB_c2' 'ent_p_diffs_7'\n",
      " 'asm_commands_inc' 'MessageBoxW' 'ent_p_1' 'ent_q_diff_diffs_max' 'db_por'\n",
      " 'Img32.1' 'GetModuleFileNameA' 'TB_01' 'string_len_counts_1' 'regs_bh'\n",
      " 'asm_commands_dw' 'ent_q_diffs_max-min' 'cs' 'TB_86' 'ent_q_diffs_5'\n",
      " 'GetSystemTime' 'TB_cd' 'Img48' 'Img99' 'ent_q_diff_block_3_1' 'retn'\n",
      " 'Img20.1' 'Img104' 'regs_ch' 'TB_dc' '.idata_por' 'db3_data' 'dd_por'\n",
      " 'string_len_counts_31' 'TB_15' 'ent_q_diff_block_2_2' 'Img94'\n",
      " 'ent_q_diff_diffs_3_min' 'TB_1f' 'Img39' 'FreeEnvironmentStringsW'\n",
      " 'string_len_counts_20' 'string_len_counts_7' 'DLL'\n",
      " 'misc1_sp-analysisfailed' 'regs_al' 'Dash' 'Img16' 'dd4_NdNt' 'TB_f5'\n",
      " 'ent_p_8' 'TB_38' 'ent_p_12' 'var' 'TB_f1' 'HDC' 'ent_q_diff_diffs_2_max'\n",
      " 'TB_ff' 'CreateDIBSection' 'off' 'CharToOemA' 'ent_q_diff_block_1_15'\n",
      " 'Img42.1' 'ent_p_diffs_19' 'ent_q_diff_diffs_1_mean' 'Img63' 'ExitProcess'\n",
      " 'TB_0c' 'ent_p_19' 'string_ratio' 'LCMapStringW' 'TB_8a'\n",
      " 'ent_q_diff_diffs_12' 'TB_f6' 'TB_2b' 'section_names_.rdata' 'DATA'\n",
      " 'string_len_counts_4' 'dd6' 'proc' '_allmul' 'TB_9b' 'Forwarder' 'dc_por'\n",
      " 'string_len_counts_30_60' 'Img107' 'cookie' 'size_asm'\n",
      " 'ent_q_diff_block_3_17' 'Star' 'Img43' 'Img35' 'COLLAPSED'\n",
      " 'section_names_.rsrc' 'setz' 'asm_commands_lea' 'Img30.1'\n",
      " 'ent_q_diffs_max' 'Img45' 'misc1_exportedentry' 'ent_p_16' 'DllEntryPoint'\n",
      " 'VirtualAlloc' 'ent_q_diff_diffs_3_max-min' 'char' 'GetStringTypeW'\n",
      " 'TB_3a' 'Img17' 'regs_dx' 'Img12' 'Img41' 'ent_q_diffs_6' 'regs_esp'\n",
      " 'ent_q_diff_diffs_8' '__setusermatherr' 'string_len_counts_0_100'\n",
      " 'db3_all' 'byte' 'LoadLibraryA' 'Img100' 'TB_90' 'misc_trap' 'FARPROC'\n",
      " 'Img91' 'Img1' 'TB_0e' 'jnz' '__imp_' 'ent_p_diffs_10'\n",
      " 'known_Sections_por' 'Img24' 'regs_ah' 'WinMain' 'TlsGetValue' '.text_por'\n",
      " 'arg' 'string_len_counts_150_250' 'section_names_header'\n",
      " 'GetModuleHandleW' 'HeapAlloc' '_initterm' 'GetStringTypeA' 'LCMapStringA'\n",
      " '_exit' 'TB_b8' 'TB_98' 'TB_ed' 'TB_a3' 'TB_ae' 'TB_82' 'TB_d4'\n",
      " 'ent_q_diff_diffs_2_median' 'TB_99']\n"
     ]
    }
   ],
   "source": [
    "# get all useful features via random forest classification\n",
    "print('The Number of Useful Features via Random Forest Classification\\n',len(rfc_dataImSorted[rfc_featureImportance>0]))\n",
    "print('\\nAll Useful Features via Random Forest Classification\\n', rfc_dataImSorted[rfc_featureImportance>0])"
   ]
  },
  {
   "cell_type": "code",
   "execution_count": 28,
   "metadata": {
    "collapsed": false
   },
   "outputs": [
    {
     "name": "stdout",
     "output_type": "stream",
     "text": [
      "The Number of Useful Features\n",
      " 793\n",
      "\n",
      "All Useful Features\n",
      " ['SHGetFileInfoA' 'GetStringTypeExA' 'RegisterClipboardFormatA'\n",
      " 'DestroyCursor' 'Img5.1' 'LoadLibraryW' 'DeleteMenu' '__vbaSetSystemError'\n",
      " 'DrawIconEx' 'EnumThreadWindows' 'DrawMenuBar' '__vbaVarMove' 'SetPixel'\n",
      " 'AppendMenuA' 'GetScrollPos' 'atoi' 'Img106' '__dllonexit' 'strstr'\n",
      " '__vbaVarDup' 'VariantInit' 'SHFileOperationA' 'SetScrollPos' 'WinHelpA'\n",
      " 'GetDriveTypeA' 'ShowOwnedPopups' 'ExcludeClipRect' 'CreateDIBitmap'\n",
      " '__vbaFreeStrList' '__vbaFreeVarList' 'EqualRect' 'RemovePropA'\n",
      " 'WindowFromPoint' '__vbaHresultCheckObj' '__vbaFreeStr' 'RedrawWindow'\n",
      " 'RectVisible' 'AdjustTokenPrivileges' 'ImageList_SetIconSize' 'LoadImageA'\n",
      " 'SHGetPathFromIDListA' 'CharLowerA' 'GetIconInfo' 'GetKeyboardState'\n",
      " '__p__commode' 'UnmapViewOfFile' 'IsRectEmpty' 'SetROP2' '__vbaObjSet'\n",
      " 'TranslateMDISysAccel' 'ImageList_DragEnter' 'GetPaletteEntries'\n",
      " 'GetBitmapBits' 'SendMessageTimeoutA' 'GetDIBColorTable'\n",
      " 'ImageList_EndDrag' 'ImageList_GetIconSize' 'SearchPathA'\n",
      " 'ImageList_GetImageCount' '__vbaStrVarVal' 'SetParent' 'ShowScrollBar'\n",
      " 'RegFlushKey' 'CloseServiceHandle' 'SetDIBColorTable'\n",
      " 'GetCurrentPositionEx' 'EnableScrollBar' 'WriteProcessMemory'\n",
      " '__vbaStrToAnsi' 'Process32Next' 'GetVolumeInformationA' 'SetScrollRange'\n",
      " '__vbaAryDestruct' 'SafeArrayCreate' '__vbaStrCmp' 'InternetOpenUrlA'\n",
      " '__vbaErrorOverflow' '??2@YAPAXI@Z' 'SetWindowPlacement'\n",
      " 'DrawFrameControl' 'CreateDialogParamA' 'WaitMessage'\n",
      " 'GetTimeZoneInformation' 'FileTimeToSystemTime' 'ScrollWindow'\n",
      " 'InsertMenuA' 'ImageList_Draw' 'SafeArrayGetLBound' 'CreateFileMappingA'\n",
      " 'SetThreadLocale' 'GetMenuItemInfoA' 'CompareFileTime' 'GetScrollRange'\n",
      " 'GetCursor' 'SetScrollInfo' 'CheckDlgButton' '__vbaChkstk'\n",
      " '_adj_fdiv_m16i' 'Img16.1' 'SetPropA' 'PatBlt' 'GlobalReAlloc' '_CIcos'\n",
      " 'InflateRect' 'GetMenuItemID' 'RealizePalette' 'CreateFileW'\n",
      " 'SysReAllocStringLen' 'GetDateFormatA' 'LineTo' 'SetDlgItemTextA'\n",
      " 'GlobalHandle' 'SetUnhandledExceptionFilter' 'SizeofResource' 'lstrcpynA'\n",
      " 'GetFileAttributesA' 'LoadResource' 'PostQuitMessage'\n",
      " 'GetWindowsDirectoryA' 'SetWindowLongA' 'RegCreateKeyExA'\n",
      " 'IsDebuggerPresent' 'GetModuleFileNameW' 'SetRect' 'GetMessagePos'\n",
      " 'ResumeThread' 'InternetReadFile' 'VariantClear' 'FindWindowExA'\n",
      " 'DestroyMenu' 'SetCapture' 'GetWindowDC' 'GlobalDeleteAtom' 'GetMenuState'\n",
      " 'ExitThread' 'SysAllocStringLen' 'IsChild' 'lstrlenW' 'GetCapture'\n",
      " 'GetWindowPlacement' 'CreateBitmap' 'DrawIcon' 'GetMenuItemCount'\n",
      " 'DestroyIcon' 'GetKeyNameTextA' 'Img14.1' 'MapViewOfFile' 'GlobalAddAtomA'\n",
      " 'IntersectRect' 'GetCurrentDirectoryA' 'SetMenu' 'IsDialogMessageA'\n",
      " 'GetClipBox' 'CoInitialize' 'GetStockObject' 'lstrcmpA'\n",
      " 'GetWindowThreadProcessId' 'LoadIconA' 'string_len_counts_79' '_CIlog'\n",
      " '_CIexp' '_CIatan' '__vbaFPException' 'RegEnumKeyA' '_adj_fdivr_m32i'\n",
      " '_adj_fdiv_m32i' 'GetPropA' '_adj_fdivr_m64' 'GetDiskFreeSpaceA'\n",
      " '_adj_fpatan' '_adj_fdiv_r' '_adj_fptan' '_adj_fprem1' '_adj_fdiv_m32'\n",
      " '_CItan' '_adj_fdiv_m64' '_adj_fdivr_m16i' 'PostMessageA'\n",
      " 'CreateCompatibleDC' 'CompareStringA' 'HeapDestroy' 'SetCursor' 'BitBlt'\n",
      " 'GetSystemTimeAsFileTime' 'TlsAlloc' 'ReleaseDC' 'SetTextColor'\n",
      " 'InvalidateRect' 'FreeEnvironmentStringsA' 'LockResource' 'RegisterClassA'\n",
      " 'GetSysColor' 'GetProcessHeap' 'Img13.1' 'GetFullPathNameA' 'MulDiv'\n",
      " 'SystemParametersInfoA' 'GetKeyboardType' 'SetBkMode' 'IsWindowEnabled'\n",
      " 'CoCreateInstance' 'SetFileAttributesA' 'GetDesktopWindow' 'SetEvent'\n",
      " 'FillRect' 'CreateEventA' 'CopyFileA' 'GetWindowTextA' 'GetDlgItem'\n",
      " 'EmptyClipboard' 'ImageList_DragShowNolock' 'GetKeyboardLayoutList'\n",
      " 'string_len_counts_3000_6000' 'string_len_counts_6000_15000'\n",
      " 'asm_commands_je' 'asm_commands_fxch' 'string_len_counts_400_600' 'Img31'\n",
      " 'TB_f9' 'Img21' 'string_len_counts_69' 'string_len_counts_94'\n",
      " 'string_len_counts_89' 'string_len_counts_95' 'string_len_counts_83'\n",
      " 'string_len_counts_18' 'string_len_counts_84' 'string_len_counts_85'\n",
      " 'string_len_counts_86' 'string_len_counts_24' 'TB_a5' 'Img32' 'CopyRect'\n",
      " 'TerminateThread' '__vbaRedim' 'ProcCallEngine' 'CoTaskMemAlloc'\n",
      " '__vbaUbound' '__vbaFreeObjList' 'OpenServiceA' '??3@YAXPAX@Z'\n",
      " 'CLSIDFromString' 'GetFileAttributesW' '__vbaVar2Vec' 'Rectangle'\n",
      " 'GetCommandLineW' 'SetThreadPriority' '__vbaGenerateBoundsError'\n",
      " '_stricmp' 'DefFrameProcA' 'RegQueryInfoKeyA' 'CreatePenIndirect'\n",
      " '__vbaStrToUnicode' 'ImageList_GetBkColor' 'WriteConsoleW' 'strcpy'\n",
      " 'InitCommonControls' 'URLDownloadToFileA' 'IsBadWritePtr' 'SetMapMode'\n",
      " 'RegisterClassExA' 'GetDCOrgEx' 'ImageList_AddMasked' 'ImageList_Read'\n",
      " 'TB_5a' 'TB_53' 'Img49' 'TB_9d' 'TB_9c' 'Img34' 'TB_9a'\n",
      " 'GetEnhMetaFileHeader' 'SetEnhMetaFileBits' 'CopyEnhMetaFileA' 'TB_24'\n",
      " 'SuspendThread' 'DeviceIoControl' '__vbaI2Var' 'wvsprintfA'\n",
      " 'VirtualProtectEx' 'section_names_.tls' 'SetViewportExtEx' 'wcscpy'\n",
      " '__vbaI4ErrVar' 'BringWindowToTop' 'CreateRectRgn' '__vbaStrFixstr'\n",
      " 'GetUserDefaultLangID' '__vbaInStrVar' 'DisableThreadLibraryCalls'\n",
      " 'ValidateRect' '__vbaBoolVarNull' 'GetClassLongA' 'LPtoDP'\n",
      " '__vbaPutOwner3' 'DeleteService' 'CLSIDFromProgID' 'EnumChildWindows'\n",
      " 'IsValidLocale' 'TranslateAcceleratorA' 'misc_scrollwindow' 'misc_search'\n",
      " 'misc1_hardware' 'ent_q_diffs_15' 'ent_q_diff_diffs_5' 'UINT' 'WORD' 'dd'\n",
      " 'System32' 'LPWSTR' 'ATOM' 'Software' 'Img51.1' 'ent_p_17'\n",
      " 'ent_q_diff_diffs_min' 'Img70' 'ent_q_diff_block_1_2'\n",
      " 'ent_q_diff_block_1_4' 'ent_q_diff_block_1_8' 'ent_q_diff_block_1_19'\n",
      " 'string_len_counts_80' 'DestroyWindow' 'MoveFileA' 'DeleteObject'\n",
      " 'TrackPopupMenu' 'GetWindowRect' 'EVENT_SINK_QueryInterface'\n",
      " 'GetShortPathNameA' 'Img31.1' 'ExitWindowsEx' 'UnlockFile' 'CreateFileA'\n",
      " 'LeaveCriticalSection' '_cexit' 'ent_q_diff_block_2_12' 'WPARAM' 'TB_fc'\n",
      " 'TB_37' 'GetLocalTime' '.reloc' 'Img43.1' 'WriteFile' 'PeekMessageA'\n",
      " 'Img10.1' 'misc1____security_cookie' 'ent_q_diff_diffs_16'\n",
      " 'ent_q_diff_block_2_4' 'Img97' 'lstrcatA' 'WSACleanup' 'ent_q_diffs_18'\n",
      " 'CreateIcon' 'SetActiveWindow' 'RegOpenKeyExA' 'dll' '__p__fmode' 'Img102'\n",
      " 'string_len_counts_5' 'EnterCriticalSection' 'TB_c6'\n",
      " 'CreateStreamOnHGlobal' 'QueryPerformanceCounter' 'ent_p_15' 'TB_cf'\n",
      " 'ent_q_diff_diffs_3_max' 'TB_ac' 'ent_p_diffs_17' 'ent_p_diffs_2' 'TB_6e'\n",
      " 'setnle' 'Img78' 'FlushFileBuffers' 'OleInitialize' 'Img25.1' 'Img65'\n",
      " 'Img82' 'GetSystemInfo' 'TB_19' 'ent_q_diff_block_0_20' 'TB_10'\n",
      " 'GetClassNameA' 'TB_b4' 'InitializeCriticalSectionAndSpinCount'\n",
      " '.rsrc_por' 'ent_q_diff_block_0_16' 'Img56' 'TB_12' 'TB_11'\n",
      " 'string_len_counts_33' 'ent_q_diff_block_3_19' 'near' 'GlobalFree' 'srand'\n",
      " 'InterlockedIncrement' 'ent_q_diff_diffs_11' 'Img22'\n",
      " 'ent_q_diff_block_1_10' 'GetExitCodeProcess' 'Img55'\n",
      " 'ent_q_diff_diffs_0_mean' 'TB_52' 'TB_27' 'ent_p_diffs_12'\n",
      " 'asm_commands_jg' 'TB_e3' 'string_len_counts_26' 'ExtendedAscii' 'TB_e0'\n",
      " 'ent_q_diff_block_0_4' 'Img18.1' 'TB_43' 'ent_q_diff_block_2_3' 'TB_46'\n",
      " 'TB_72' 'Img12.1' 'TB_6f' 'ent_q_diff_diffs_19' 'Img39.1'\n",
      " 'string_len_counts_250_400' 'ent_q_diff_block_0_8' 'Img92' 'Img19.1'\n",
      " 'Img74' 'TB_c5' 'DllFunctionCall' 'TB_1d' 'ent_q_diff_diffs_18' 'TB_2c'\n",
      " 'HeapFree' 'FUNCTION' 'Img72' 'GetStartupInfoW' 'ent_q_diff_diffs_14'\n",
      " 'TB_44' 'DWORD' 'TB_b9' 'ent_q_diffs_var' 'Img71' '_CIsqrt' 'GetStdHandle'\n",
      " 'string_len_counts_2' 'Img47.1' 'TB_d0' 'ent_q_diffs_14' 'TB_25' 'TB_67'\n",
      " 'TB_68' 'ent_q_diff_block_3_13' 'TB_36' 'ent_p_diffs_6' 'GetWindowLongA'\n",
      " 'Img75' 'HeapSize' 'TB_39' 'ent_p_6' 'GetModuleHandleA'\n",
      " 'ent_q_diff_block_0_14' 'string_len_counts_8' 'ent_q_diff_diffs_1_max-min'\n",
      " 'GetCPInfo' 'TB_b7' 'TB_d5' 'TB_69' 'misc1_assume' 'TB_51'\n",
      " 'ent_q_diff_block_3_0' 'Img87' 'Img2.1' 'SetEnvironmentVariableA' 'TB_ca'\n",
      " 'db3_NdNt' 'ent_q_diff_block_3_10' 'TB_3e' 'MsgWaitForMultipleObjects'\n",
      " 'Img85' 'TB_1b' 'TB_26' 'asm_commands_ror' 'Img18' 'VariantCopy' 'Img5'\n",
      " 'ent_p_10' 'Img76' 'ent_q_diffs_1' 'ShowWindow' 'asm_commands_jb'\n",
      " 'misc_proc' 'asm_commands_xchg' 'db0_por' 'ent_q_diff_block_2_18'\n",
      " 'string_len_counts_34' '__CxxFrameHandler' 'Img6.1' 'TB_f0' 'TB_4d'\n",
      " 'asm_commands_cli' 'Img44.1' 'TB_c8' 'DispatchMessageA' 'Img90' 'Img77'\n",
      " 'ent_q_diffs_10' 'Img20' 'TB_bf' 'TB_be' 'asm_commands_cld' 'CHUNK'\n",
      " 'ent_q_diff_block_3_8' 'TB_48' 'Img62' 'asm_commands_ret'\n",
      " 'ImageList_SetDragCursorImage' 'Img52' 'Img93' 'ends' 'void'\n",
      " 'SafeArrayGetUBound' '_controlfp' 'ent_p_diffs_3' 'TB_c1' 'ent_q_diffs_17'\n",
      " 'ent_q_diff_diffs_17' 'regs_edi' 'string_len_counts_98' 'ent_p_13' 'TB_3b'\n",
      " 'ent_q_diff_block_3_11' 'GlobalAlloc' 'TB_2e' 'TB_5e' 'asm_commands_xor'\n",
      " 'TB_4a' 'lstrcmpiA' 'TB_6c' 'asm_commands_sub' 'TB_50' 'TB_77'\n",
      " 'ent_q_diff_diffs_3_mean' 'Img96' 'TB_e5' 'TB_6b' 'ent_q_diff_diffs_0_var'\n",
      " 'string_len_counts_22' 'inet_addr' 'Bracket_Close' 'Img47'\n",
      " 'ent_q_diff_block_0_5' 'TB_b3' 'TB_17' 'DialogBoxParamA' 'TB_ef' 'HANDLE'\n",
      " 'TB_2f' 'TB_13' 'TB_89' 'fs' 'asm_commands_pop' 'ent_q_diff_block_2_1'\n",
      " 'TB_a7' 'TB_66' 'TB_20' 'Imports' 'regs_cx' 'asm_commands_imul' 'HMODULE'\n",
      " 'TB_4b' 'TB_2a' 'ent_p_4' 'Img27' 'Img30' 'ent_q_diff_diffs_0_min' 'Sleep'\n",
      " 'Img4' 'TB_3d' 'ent_q_diff_diffs_4' 'TB_73' 'string_len_counts_27' 'TB_23'\n",
      " 'imul' 'Img28' 'socket' 'Img59' 'Img6' 'Img7.1' 'TB_0f' 'GetVersionExA'\n",
      " 'movzx' 'line_count_asm' 'HWND' 'TB_22' 'DeleteDC' 'Img7'\n",
      " 'ent_q_diff_block_1_9' 'Img36' 'Img10' 'TB_83' 'db_text'\n",
      " 'asm_commands_rcr' 'CloseHandle' 'TB_2d' 'db3_all_zero' 'TB_42'\n",
      " 'ent_q_diffs_12' 'TB_f3' 'stdcall' 'Img80' 'ent_q_diff_diffs_2_mean'\n",
      " 'ent_p_7' 'regs_ecx' 'Bracket_Open' 'ent_p_diffs_14' 'TB_76' 'Img103'\n",
      " 'FileSize' 'nullsub' 'asm_commands_sti' 'Img86' 'MessageBoxA'\n",
      " 'asm_commands_endp' 'rand' 'ent_q_diff_block_2_14' 'BYTES' 'SysFreeString'\n",
      " 'TB_af' 'Img37' 'SHBrowseForFolderA' 'Unknown_Sections_lines' 'word'\n",
      " 'Img33.1' 'TB_8b' '---Seperator' 'Img57' 'ent_q_diff_block_3_2' 'Img17.1'\n",
      " 'Img19' 'CallWindowProcA' 'TB_d9' 'ent_q_diff_diffs_0_max' 'TB_df'\n",
      " 'FreeLibrary' 'align' 'Num_Sections' 'TB_ba' 'TB_c2' 'ent_p_diffs_7'\n",
      " 'asm_commands_inc' 'MessageBoxW' 'ent_p_1' 'ent_q_diff_diffs_max' 'db_por'\n",
      " 'Img32.1' 'GetModuleFileNameA' 'TB_01' 'string_len_counts_1' 'regs_bh'\n",
      " 'asm_commands_dw' 'ent_q_diffs_max-min' 'cs' 'TB_86' 'ent_q_diffs_5'\n",
      " 'GetSystemTime' 'TB_cd' 'Img48' 'Img99' 'ent_q_diff_block_3_1' 'retn'\n",
      " 'Img20.1' 'Img104' 'regs_ch' 'TB_dc' '.idata_por' 'db3_data' 'dd_por'\n",
      " 'string_len_counts_31' 'TB_15' 'ent_q_diff_block_2_2' 'Img94'\n",
      " 'ent_q_diff_diffs_3_min' 'TB_1f' 'Img39' 'FreeEnvironmentStringsW'\n",
      " 'string_len_counts_20' 'string_len_counts_7' 'DLL'\n",
      " 'misc1_sp-analysisfailed' 'regs_al' 'Dash' 'Img16' 'dd4_NdNt' 'TB_f5'\n",
      " 'ent_p_8' 'TB_38' 'ent_p_12' 'var' 'TB_f1' 'HDC' 'ent_q_diff_diffs_2_max'\n",
      " 'TB_ff' 'CreateDIBSection' 'off' 'CharToOemA' 'ent_q_diff_block_1_15'\n",
      " 'Img42.1' 'ent_p_diffs_19' 'ent_q_diff_diffs_1_mean' 'Img63' 'ExitProcess'\n",
      " 'TB_0c' 'ent_p_19' 'string_ratio' 'LCMapStringW' 'TB_8a'\n",
      " 'ent_q_diff_diffs_12' 'TB_f6' 'TB_2b' 'section_names_.rdata' 'DATA'\n",
      " 'string_len_counts_4' 'dd6' 'proc' '_allmul' 'TB_9b' 'Forwarder' 'dc_por'\n",
      " 'string_len_counts_30_60' 'Img107' 'cookie' 'size_asm'\n",
      " 'ent_q_diff_block_3_17' 'Star' 'Img43' 'Img35' 'COLLAPSED'\n",
      " 'section_names_.rsrc' 'setz' 'asm_commands_lea' 'Img30.1'\n",
      " 'ent_q_diffs_max' 'Img45' 'misc1_exportedentry' 'ent_p_16' 'DllEntryPoint'\n",
      " 'VirtualAlloc' 'ent_q_diff_diffs_3_max-min' 'char' 'GetStringTypeW'\n",
      " 'TB_3a' 'Img17' 'regs_dx' 'Img12' 'Img41' 'ent_q_diffs_6' 'regs_esp'\n",
      " 'ent_q_diff_diffs_8' '__setusermatherr' 'string_len_counts_0_100'\n",
      " 'db3_all' 'byte' 'LoadLibraryA' 'Img100' 'TB_90' 'misc_trap' 'FARPROC'\n",
      " 'Img91' 'Img1' 'TB_0e' 'jnz' '__imp_' 'ent_p_diffs_10'\n",
      " 'known_Sections_por' 'Img24' 'regs_ah' 'WinMain' 'TlsGetValue' '.text_por'\n",
      " 'arg' 'string_len_counts_150_250' 'section_names_header'\n",
      " 'GetModuleHandleW' 'HeapAlloc' '_initterm' 'GetStringTypeA' 'LCMapStringA'\n",
      " '_exit' 'TB_b8' 'TB_98' 'TB_ed' 'TB_a3' 'TB_ae' 'TB_82' 'TB_d4'\n",
      " 'ent_q_diff_diffs_2_median' 'TB_99']\n"
     ]
    }
   ],
   "source": [
    "# get all useful features via decision tree classification\n",
    "print('The Number of Useful Features via Decision Tree Classification\\n',len(dtc_dataImSorted[dtc_featureImportance>0]))\n",
    "print('\\nAll Useful Features via Decision Tree Classification\\n', dtc_dataImSorted[dtc_featureImportance>0])"
   ]
  },
  {
   "cell_type": "code",
   "execution_count": 28,
   "metadata": {
    "collapsed": false
   },
   "outputs": [
    {
     "name": "stdout",
     "output_type": "stream",
     "text": [
      "The Number of Useful Features\n",
      " 793\n",
      "\n",
      "All Useful Features\n",
      " ['SHGetFileInfoA' 'GetStringTypeExA' 'RegisterClipboardFormatA'\n",
      " 'DestroyCursor' 'Img5.1' 'LoadLibraryW' 'DeleteMenu' '__vbaSetSystemError'\n",
      " 'DrawIconEx' 'EnumThreadWindows' 'DrawMenuBar' '__vbaVarMove' 'SetPixel'\n",
      " 'AppendMenuA' 'GetScrollPos' 'atoi' 'Img106' '__dllonexit' 'strstr'\n",
      " '__vbaVarDup' 'VariantInit' 'SHFileOperationA' 'SetScrollPos' 'WinHelpA'\n",
      " 'GetDriveTypeA' 'ShowOwnedPopups' 'ExcludeClipRect' 'CreateDIBitmap'\n",
      " '__vbaFreeStrList' '__vbaFreeVarList' 'EqualRect' 'RemovePropA'\n",
      " 'WindowFromPoint' '__vbaHresultCheckObj' '__vbaFreeStr' 'RedrawWindow'\n",
      " 'RectVisible' 'AdjustTokenPrivileges' 'ImageList_SetIconSize' 'LoadImageA'\n",
      " 'SHGetPathFromIDListA' 'CharLowerA' 'GetIconInfo' 'GetKeyboardState'\n",
      " '__p__commode' 'UnmapViewOfFile' 'IsRectEmpty' 'SetROP2' '__vbaObjSet'\n",
      " 'TranslateMDISysAccel' 'ImageList_DragEnter' 'GetPaletteEntries'\n",
      " 'GetBitmapBits' 'SendMessageTimeoutA' 'GetDIBColorTable'\n",
      " 'ImageList_EndDrag' 'ImageList_GetIconSize' 'SearchPathA'\n",
      " 'ImageList_GetImageCount' '__vbaStrVarVal' 'SetParent' 'ShowScrollBar'\n",
      " 'RegFlushKey' 'CloseServiceHandle' 'SetDIBColorTable'\n",
      " 'GetCurrentPositionEx' 'EnableScrollBar' 'WriteProcessMemory'\n",
      " '__vbaStrToAnsi' 'Process32Next' 'GetVolumeInformationA' 'SetScrollRange'\n",
      " '__vbaAryDestruct' 'SafeArrayCreate' '__vbaStrCmp' 'InternetOpenUrlA'\n",
      " '__vbaErrorOverflow' '??2@YAPAXI@Z' 'SetWindowPlacement'\n",
      " 'DrawFrameControl' 'CreateDialogParamA' 'WaitMessage'\n",
      " 'GetTimeZoneInformation' 'FileTimeToSystemTime' 'ScrollWindow'\n",
      " 'InsertMenuA' 'ImageList_Draw' 'SafeArrayGetLBound' 'CreateFileMappingA'\n",
      " 'SetThreadLocale' 'GetMenuItemInfoA' 'CompareFileTime' 'GetScrollRange'\n",
      " 'GetCursor' 'SetScrollInfo' 'CheckDlgButton' '__vbaChkstk'\n",
      " '_adj_fdiv_m16i' 'Img16.1' 'SetPropA' 'PatBlt' 'GlobalReAlloc' '_CIcos'\n",
      " 'InflateRect' 'GetMenuItemID' 'RealizePalette' 'CreateFileW'\n",
      " 'SysReAllocStringLen' 'GetDateFormatA' 'LineTo' 'SetDlgItemTextA'\n",
      " 'GlobalHandle' 'SetUnhandledExceptionFilter' 'SizeofResource' 'lstrcpynA'\n",
      " 'GetFileAttributesA' 'LoadResource' 'PostQuitMessage'\n",
      " 'GetWindowsDirectoryA' 'SetWindowLongA' 'RegCreateKeyExA'\n",
      " 'IsDebuggerPresent' 'GetModuleFileNameW' 'SetRect' 'GetMessagePos'\n",
      " 'ResumeThread' 'InternetReadFile' 'VariantClear' 'FindWindowExA'\n",
      " 'DestroyMenu' 'SetCapture' 'GetWindowDC' 'GlobalDeleteAtom' 'GetMenuState'\n",
      " 'ExitThread' 'SysAllocStringLen' 'IsChild' 'lstrlenW' 'GetCapture'\n",
      " 'GetWindowPlacement' 'CreateBitmap' 'DrawIcon' 'GetMenuItemCount'\n",
      " 'DestroyIcon' 'GetKeyNameTextA' 'Img14.1' 'MapViewOfFile' 'GlobalAddAtomA'\n",
      " 'IntersectRect' 'GetCurrentDirectoryA' 'SetMenu' 'IsDialogMessageA'\n",
      " 'GetClipBox' 'CoInitialize' 'GetStockObject' 'lstrcmpA'\n",
      " 'GetWindowThreadProcessId' 'LoadIconA' 'string_len_counts_79' '_CIlog'\n",
      " '_CIexp' '_CIatan' '__vbaFPException' 'RegEnumKeyA' '_adj_fdivr_m32i'\n",
      " '_adj_fdiv_m32i' 'GetPropA' '_adj_fdivr_m64' 'GetDiskFreeSpaceA'\n",
      " '_adj_fpatan' '_adj_fdiv_r' '_adj_fptan' '_adj_fprem1' '_adj_fdiv_m32'\n",
      " '_CItan' '_adj_fdiv_m64' '_adj_fdivr_m16i' 'PostMessageA'\n",
      " 'CreateCompatibleDC' 'CompareStringA' 'HeapDestroy' 'SetCursor' 'BitBlt'\n",
      " 'GetSystemTimeAsFileTime' 'TlsAlloc' 'ReleaseDC' 'SetTextColor'\n",
      " 'InvalidateRect' 'FreeEnvironmentStringsA' 'LockResource' 'RegisterClassA'\n",
      " 'GetSysColor' 'GetProcessHeap' 'Img13.1' 'GetFullPathNameA' 'MulDiv'\n",
      " 'SystemParametersInfoA' 'GetKeyboardType' 'SetBkMode' 'IsWindowEnabled'\n",
      " 'CoCreateInstance' 'SetFileAttributesA' 'GetDesktopWindow' 'SetEvent'\n",
      " 'FillRect' 'CreateEventA' 'CopyFileA' 'GetWindowTextA' 'GetDlgItem'\n",
      " 'EmptyClipboard' 'ImageList_DragShowNolock' 'GetKeyboardLayoutList'\n",
      " 'string_len_counts_3000_6000' 'string_len_counts_6000_15000'\n",
      " 'asm_commands_je' 'asm_commands_fxch' 'string_len_counts_400_600' 'Img31'\n",
      " 'TB_f9' 'Img21' 'string_len_counts_69' 'string_len_counts_94'\n",
      " 'string_len_counts_89' 'string_len_counts_95' 'string_len_counts_83'\n",
      " 'string_len_counts_18' 'string_len_counts_84' 'string_len_counts_85'\n",
      " 'string_len_counts_86' 'string_len_counts_24' 'TB_a5' 'Img32' 'CopyRect'\n",
      " 'TerminateThread' '__vbaRedim' 'ProcCallEngine' 'CoTaskMemAlloc'\n",
      " '__vbaUbound' '__vbaFreeObjList' 'OpenServiceA' '??3@YAXPAX@Z'\n",
      " 'CLSIDFromString' 'GetFileAttributesW' '__vbaVar2Vec' 'Rectangle'\n",
      " 'GetCommandLineW' 'SetThreadPriority' '__vbaGenerateBoundsError'\n",
      " '_stricmp' 'DefFrameProcA' 'RegQueryInfoKeyA' 'CreatePenIndirect'\n",
      " '__vbaStrToUnicode' 'ImageList_GetBkColor' 'WriteConsoleW' 'strcpy'\n",
      " 'InitCommonControls' 'URLDownloadToFileA' 'IsBadWritePtr' 'SetMapMode'\n",
      " 'RegisterClassExA' 'GetDCOrgEx' 'ImageList_AddMasked' 'ImageList_Read'\n",
      " 'TB_5a' 'TB_53' 'Img49' 'TB_9d' 'TB_9c' 'Img34' 'TB_9a'\n",
      " 'GetEnhMetaFileHeader' 'SetEnhMetaFileBits' 'CopyEnhMetaFileA' 'TB_24'\n",
      " 'SuspendThread' 'DeviceIoControl' '__vbaI2Var' 'wvsprintfA'\n",
      " 'VirtualProtectEx' 'section_names_.tls' 'SetViewportExtEx' 'wcscpy'\n",
      " '__vbaI4ErrVar' 'BringWindowToTop' 'CreateRectRgn' '__vbaStrFixstr'\n",
      " 'GetUserDefaultLangID' '__vbaInStrVar' 'DisableThreadLibraryCalls'\n",
      " 'ValidateRect' '__vbaBoolVarNull' 'GetClassLongA' 'LPtoDP'\n",
      " '__vbaPutOwner3' 'DeleteService' 'CLSIDFromProgID' 'EnumChildWindows'\n",
      " 'IsValidLocale' 'TranslateAcceleratorA' 'misc_scrollwindow' 'misc_search'\n",
      " 'misc1_hardware' 'ent_q_diffs_15' 'ent_q_diff_diffs_5' 'UINT' 'WORD' 'dd'\n",
      " 'System32' 'LPWSTR' 'ATOM' 'Software' 'Img51.1' 'ent_p_17'\n",
      " 'ent_q_diff_diffs_min' 'Img70' 'ent_q_diff_block_1_2'\n",
      " 'ent_q_diff_block_1_4' 'ent_q_diff_block_1_8' 'ent_q_diff_block_1_19'\n",
      " 'string_len_counts_80' 'DestroyWindow' 'MoveFileA' 'DeleteObject'\n",
      " 'TrackPopupMenu' 'GetWindowRect' 'EVENT_SINK_QueryInterface'\n",
      " 'GetShortPathNameA' 'Img31.1' 'ExitWindowsEx' 'UnlockFile' 'CreateFileA'\n",
      " 'LeaveCriticalSection' '_cexit' 'ent_q_diff_block_2_12' 'WPARAM' 'TB_fc'\n",
      " 'TB_37' 'GetLocalTime' '.reloc' 'Img43.1' 'WriteFile' 'PeekMessageA'\n",
      " 'Img10.1' 'misc1____security_cookie' 'ent_q_diff_diffs_16'\n",
      " 'ent_q_diff_block_2_4' 'Img97' 'lstrcatA' 'WSACleanup' 'ent_q_diffs_18'\n",
      " 'CreateIcon' 'SetActiveWindow' 'RegOpenKeyExA' 'dll' '__p__fmode' 'Img102'\n",
      " 'string_len_counts_5' 'EnterCriticalSection' 'TB_c6'\n",
      " 'CreateStreamOnHGlobal' 'QueryPerformanceCounter' 'ent_p_15' 'TB_cf'\n",
      " 'ent_q_diff_diffs_3_max' 'TB_ac' 'ent_p_diffs_17' 'ent_p_diffs_2' 'TB_6e'\n",
      " 'setnle' 'Img78' 'FlushFileBuffers' 'OleInitialize' 'Img25.1' 'Img65'\n",
      " 'Img82' 'GetSystemInfo' 'TB_19' 'ent_q_diff_block_0_20' 'TB_10'\n",
      " 'GetClassNameA' 'TB_b4' 'InitializeCriticalSectionAndSpinCount'\n",
      " '.rsrc_por' 'ent_q_diff_block_0_16' 'Img56' 'TB_12' 'TB_11'\n",
      " 'string_len_counts_33' 'ent_q_diff_block_3_19' 'near' 'GlobalFree' 'srand'\n",
      " 'InterlockedIncrement' 'ent_q_diff_diffs_11' 'Img22'\n",
      " 'ent_q_diff_block_1_10' 'GetExitCodeProcess' 'Img55'\n",
      " 'ent_q_diff_diffs_0_mean' 'TB_52' 'TB_27' 'ent_p_diffs_12'\n",
      " 'asm_commands_jg' 'TB_e3' 'string_len_counts_26' 'ExtendedAscii' 'TB_e0'\n",
      " 'ent_q_diff_block_0_4' 'Img18.1' 'TB_43' 'ent_q_diff_block_2_3' 'TB_46'\n",
      " 'TB_72' 'Img12.1' 'TB_6f' 'ent_q_diff_diffs_19' 'Img39.1'\n",
      " 'string_len_counts_250_400' 'ent_q_diff_block_0_8' 'Img92' 'Img19.1'\n",
      " 'Img74' 'TB_c5' 'DllFunctionCall' 'TB_1d' 'ent_q_diff_diffs_18' 'TB_2c'\n",
      " 'HeapFree' 'FUNCTION' 'Img72' 'GetStartupInfoW' 'ent_q_diff_diffs_14'\n",
      " 'TB_44' 'DWORD' 'TB_b9' 'ent_q_diffs_var' 'Img71' '_CIsqrt' 'GetStdHandle'\n",
      " 'string_len_counts_2' 'Img47.1' 'TB_d0' 'ent_q_diffs_14' 'TB_25' 'TB_67'\n",
      " 'TB_68' 'ent_q_diff_block_3_13' 'TB_36' 'ent_p_diffs_6' 'GetWindowLongA'\n",
      " 'Img75' 'HeapSize' 'TB_39' 'ent_p_6' 'GetModuleHandleA'\n",
      " 'ent_q_diff_block_0_14' 'string_len_counts_8' 'ent_q_diff_diffs_1_max-min'\n",
      " 'GetCPInfo' 'TB_b7' 'TB_d5' 'TB_69' 'misc1_assume' 'TB_51'\n",
      " 'ent_q_diff_block_3_0' 'Img87' 'Img2.1' 'SetEnvironmentVariableA' 'TB_ca'\n",
      " 'db3_NdNt' 'ent_q_diff_block_3_10' 'TB_3e' 'MsgWaitForMultipleObjects'\n",
      " 'Img85' 'TB_1b' 'TB_26' 'asm_commands_ror' 'Img18' 'VariantCopy' 'Img5'\n",
      " 'ent_p_10' 'Img76' 'ent_q_diffs_1' 'ShowWindow' 'asm_commands_jb'\n",
      " 'misc_proc' 'asm_commands_xchg' 'db0_por' 'ent_q_diff_block_2_18'\n",
      " 'string_len_counts_34' '__CxxFrameHandler' 'Img6.1' 'TB_f0' 'TB_4d'\n",
      " 'asm_commands_cli' 'Img44.1' 'TB_c8' 'DispatchMessageA' 'Img90' 'Img77'\n",
      " 'ent_q_diffs_10' 'Img20' 'TB_bf' 'TB_be' 'asm_commands_cld' 'CHUNK'\n",
      " 'ent_q_diff_block_3_8' 'TB_48' 'Img62' 'asm_commands_ret'\n",
      " 'ImageList_SetDragCursorImage' 'Img52' 'Img93' 'ends' 'void'\n",
      " 'SafeArrayGetUBound' '_controlfp' 'ent_p_diffs_3' 'TB_c1' 'ent_q_diffs_17'\n",
      " 'ent_q_diff_diffs_17' 'regs_edi' 'string_len_counts_98' 'ent_p_13' 'TB_3b'\n",
      " 'ent_q_diff_block_3_11' 'GlobalAlloc' 'TB_2e' 'TB_5e' 'asm_commands_xor'\n",
      " 'TB_4a' 'lstrcmpiA' 'TB_6c' 'asm_commands_sub' 'TB_50' 'TB_77'\n",
      " 'ent_q_diff_diffs_3_mean' 'Img96' 'TB_e5' 'TB_6b' 'ent_q_diff_diffs_0_var'\n",
      " 'string_len_counts_22' 'inet_addr' 'Bracket_Close' 'Img47'\n",
      " 'ent_q_diff_block_0_5' 'TB_b3' 'TB_17' 'DialogBoxParamA' 'TB_ef' 'HANDLE'\n",
      " 'TB_2f' 'TB_13' 'TB_89' 'fs' 'asm_commands_pop' 'ent_q_diff_block_2_1'\n",
      " 'TB_a7' 'TB_66' 'TB_20' 'Imports' 'regs_cx' 'asm_commands_imul' 'HMODULE'\n",
      " 'TB_4b' 'TB_2a' 'ent_p_4' 'Img27' 'Img30' 'ent_q_diff_diffs_0_min' 'Sleep'\n",
      " 'Img4' 'TB_3d' 'ent_q_diff_diffs_4' 'TB_73' 'string_len_counts_27' 'TB_23'\n",
      " 'imul' 'Img28' 'socket' 'Img59' 'Img6' 'Img7.1' 'TB_0f' 'GetVersionExA'\n",
      " 'movzx' 'line_count_asm' 'HWND' 'TB_22' 'DeleteDC' 'Img7'\n",
      " 'ent_q_diff_block_1_9' 'Img36' 'Img10' 'TB_83' 'db_text'\n",
      " 'asm_commands_rcr' 'CloseHandle' 'TB_2d' 'db3_all_zero' 'TB_42'\n",
      " 'ent_q_diffs_12' 'TB_f3' 'stdcall' 'Img80' 'ent_q_diff_diffs_2_mean'\n",
      " 'ent_p_7' 'regs_ecx' 'Bracket_Open' 'ent_p_diffs_14' 'TB_76' 'Img103'\n",
      " 'FileSize' 'nullsub' 'asm_commands_sti' 'Img86' 'MessageBoxA'\n",
      " 'asm_commands_endp' 'rand' 'ent_q_diff_block_2_14' 'BYTES' 'SysFreeString'\n",
      " 'TB_af' 'Img37' 'SHBrowseForFolderA' 'Unknown_Sections_lines' 'word'\n",
      " 'Img33.1' 'TB_8b' '---Seperator' 'Img57' 'ent_q_diff_block_3_2' 'Img17.1'\n",
      " 'Img19' 'CallWindowProcA' 'TB_d9' 'ent_q_diff_diffs_0_max' 'TB_df'\n",
      " 'FreeLibrary' 'align' 'Num_Sections' 'TB_ba' 'TB_c2' 'ent_p_diffs_7'\n",
      " 'asm_commands_inc' 'MessageBoxW' 'ent_p_1' 'ent_q_diff_diffs_max' 'db_por'\n",
      " 'Img32.1' 'GetModuleFileNameA' 'TB_01' 'string_len_counts_1' 'regs_bh'\n",
      " 'asm_commands_dw' 'ent_q_diffs_max-min' 'cs' 'TB_86' 'ent_q_diffs_5'\n",
      " 'GetSystemTime' 'TB_cd' 'Img48' 'Img99' 'ent_q_diff_block_3_1' 'retn'\n",
      " 'Img20.1' 'Img104' 'regs_ch' 'TB_dc' '.idata_por' 'db3_data' 'dd_por'\n",
      " 'string_len_counts_31' 'TB_15' 'ent_q_diff_block_2_2' 'Img94'\n",
      " 'ent_q_diff_diffs_3_min' 'TB_1f' 'Img39' 'FreeEnvironmentStringsW'\n",
      " 'string_len_counts_20' 'string_len_counts_7' 'DLL'\n",
      " 'misc1_sp-analysisfailed' 'regs_al' 'Dash' 'Img16' 'dd4_NdNt' 'TB_f5'\n",
      " 'ent_p_8' 'TB_38' 'ent_p_12' 'var' 'TB_f1' 'HDC' 'ent_q_diff_diffs_2_max'\n",
      " 'TB_ff' 'CreateDIBSection' 'off' 'CharToOemA' 'ent_q_diff_block_1_15'\n",
      " 'Img42.1' 'ent_p_diffs_19' 'ent_q_diff_diffs_1_mean' 'Img63' 'ExitProcess'\n",
      " 'TB_0c' 'ent_p_19' 'string_ratio' 'LCMapStringW' 'TB_8a'\n",
      " 'ent_q_diff_diffs_12' 'TB_f6' 'TB_2b' 'section_names_.rdata' 'DATA'\n",
      " 'string_len_counts_4' 'dd6' 'proc' '_allmul' 'TB_9b' 'Forwarder' 'dc_por'\n",
      " 'string_len_counts_30_60' 'Img107' 'cookie' 'size_asm'\n",
      " 'ent_q_diff_block_3_17' 'Star' 'Img43' 'Img35' 'COLLAPSED'\n",
      " 'section_names_.rsrc' 'setz' 'asm_commands_lea' 'Img30.1'\n",
      " 'ent_q_diffs_max' 'Img45' 'misc1_exportedentry' 'ent_p_16' 'DllEntryPoint'\n",
      " 'VirtualAlloc' 'ent_q_diff_diffs_3_max-min' 'char' 'GetStringTypeW'\n",
      " 'TB_3a' 'Img17' 'regs_dx' 'Img12' 'Img41' 'ent_q_diffs_6' 'regs_esp'\n",
      " 'ent_q_diff_diffs_8' '__setusermatherr' 'string_len_counts_0_100'\n",
      " 'db3_all' 'byte' 'LoadLibraryA' 'Img100' 'TB_90' 'misc_trap' 'FARPROC'\n",
      " 'Img91' 'Img1' 'TB_0e' 'jnz' '__imp_' 'ent_p_diffs_10'\n",
      " 'known_Sections_por' 'Img24' 'regs_ah' 'WinMain' 'TlsGetValue' '.text_por'\n",
      " 'arg' 'string_len_counts_150_250' 'section_names_header'\n",
      " 'GetModuleHandleW' 'HeapAlloc' '_initterm' 'GetStringTypeA' 'LCMapStringA'\n",
      " '_exit' 'TB_b8' 'TB_98' 'TB_ed' 'TB_a3' 'TB_ae' 'TB_82' 'TB_d4'\n",
      " 'ent_q_diff_diffs_2_median' 'TB_99']\n"
     ]
    }
   ],
   "source": [
    "# get all useful features via extra trees classification\n",
    "print('The Number of Useful Features via Extra Trees Classification\\n',len(etc_dataImSorted[etc_featureImportance>0]))\n",
    "print('\\nAll Useful Features via Extra Trees Classification\\n', etc_dataImSorted[etc_featureImportance>0])"
   ]
  },
  {
   "cell_type": "code",
   "execution_count": 28,
   "metadata": {
    "collapsed": false
   },
   "outputs": [
    {
     "name": "stdout",
     "output_type": "stream",
     "text": [
      "The Number of Useful Features\n",
      " 793\n",
      "\n",
      "All Useful Features\n",
      " ['SHGetFileInfoA' 'GetStringTypeExA' 'RegisterClipboardFormatA'\n",
      " 'DestroyCursor' 'Img5.1' 'LoadLibraryW' 'DeleteMenu' '__vbaSetSystemError'\n",
      " 'DrawIconEx' 'EnumThreadWindows' 'DrawMenuBar' '__vbaVarMove' 'SetPixel'\n",
      " 'AppendMenuA' 'GetScrollPos' 'atoi' 'Img106' '__dllonexit' 'strstr'\n",
      " '__vbaVarDup' 'VariantInit' 'SHFileOperationA' 'SetScrollPos' 'WinHelpA'\n",
      " 'GetDriveTypeA' 'ShowOwnedPopups' 'ExcludeClipRect' 'CreateDIBitmap'\n",
      " '__vbaFreeStrList' '__vbaFreeVarList' 'EqualRect' 'RemovePropA'\n",
      " 'WindowFromPoint' '__vbaHresultCheckObj' '__vbaFreeStr' 'RedrawWindow'\n",
      " 'RectVisible' 'AdjustTokenPrivileges' 'ImageList_SetIconSize' 'LoadImageA'\n",
      " 'SHGetPathFromIDListA' 'CharLowerA' 'GetIconInfo' 'GetKeyboardState'\n",
      " '__p__commode' 'UnmapViewOfFile' 'IsRectEmpty' 'SetROP2' '__vbaObjSet'\n",
      " 'TranslateMDISysAccel' 'ImageList_DragEnter' 'GetPaletteEntries'\n",
      " 'GetBitmapBits' 'SendMessageTimeoutA' 'GetDIBColorTable'\n",
      " 'ImageList_EndDrag' 'ImageList_GetIconSize' 'SearchPathA'\n",
      " 'ImageList_GetImageCount' '__vbaStrVarVal' 'SetParent' 'ShowScrollBar'\n",
      " 'RegFlushKey' 'CloseServiceHandle' 'SetDIBColorTable'\n",
      " 'GetCurrentPositionEx' 'EnableScrollBar' 'WriteProcessMemory'\n",
      " '__vbaStrToAnsi' 'Process32Next' 'GetVolumeInformationA' 'SetScrollRange'\n",
      " '__vbaAryDestruct' 'SafeArrayCreate' '__vbaStrCmp' 'InternetOpenUrlA'\n",
      " '__vbaErrorOverflow' '??2@YAPAXI@Z' 'SetWindowPlacement'\n",
      " 'DrawFrameControl' 'CreateDialogParamA' 'WaitMessage'\n",
      " 'GetTimeZoneInformation' 'FileTimeToSystemTime' 'ScrollWindow'\n",
      " 'InsertMenuA' 'ImageList_Draw' 'SafeArrayGetLBound' 'CreateFileMappingA'\n",
      " 'SetThreadLocale' 'GetMenuItemInfoA' 'CompareFileTime' 'GetScrollRange'\n",
      " 'GetCursor' 'SetScrollInfo' 'CheckDlgButton' '__vbaChkstk'\n",
      " '_adj_fdiv_m16i' 'Img16.1' 'SetPropA' 'PatBlt' 'GlobalReAlloc' '_CIcos'\n",
      " 'InflateRect' 'GetMenuItemID' 'RealizePalette' 'CreateFileW'\n",
      " 'SysReAllocStringLen' 'GetDateFormatA' 'LineTo' 'SetDlgItemTextA'\n",
      " 'GlobalHandle' 'SetUnhandledExceptionFilter' 'SizeofResource' 'lstrcpynA'\n",
      " 'GetFileAttributesA' 'LoadResource' 'PostQuitMessage'\n",
      " 'GetWindowsDirectoryA' 'SetWindowLongA' 'RegCreateKeyExA'\n",
      " 'IsDebuggerPresent' 'GetModuleFileNameW' 'SetRect' 'GetMessagePos'\n",
      " 'ResumeThread' 'InternetReadFile' 'VariantClear' 'FindWindowExA'\n",
      " 'DestroyMenu' 'SetCapture' 'GetWindowDC' 'GlobalDeleteAtom' 'GetMenuState'\n",
      " 'ExitThread' 'SysAllocStringLen' 'IsChild' 'lstrlenW' 'GetCapture'\n",
      " 'GetWindowPlacement' 'CreateBitmap' 'DrawIcon' 'GetMenuItemCount'\n",
      " 'DestroyIcon' 'GetKeyNameTextA' 'Img14.1' 'MapViewOfFile' 'GlobalAddAtomA'\n",
      " 'IntersectRect' 'GetCurrentDirectoryA' 'SetMenu' 'IsDialogMessageA'\n",
      " 'GetClipBox' 'CoInitialize' 'GetStockObject' 'lstrcmpA'\n",
      " 'GetWindowThreadProcessId' 'LoadIconA' 'string_len_counts_79' '_CIlog'\n",
      " '_CIexp' '_CIatan' '__vbaFPException' 'RegEnumKeyA' '_adj_fdivr_m32i'\n",
      " '_adj_fdiv_m32i' 'GetPropA' '_adj_fdivr_m64' 'GetDiskFreeSpaceA'\n",
      " '_adj_fpatan' '_adj_fdiv_r' '_adj_fptan' '_adj_fprem1' '_adj_fdiv_m32'\n",
      " '_CItan' '_adj_fdiv_m64' '_adj_fdivr_m16i' 'PostMessageA'\n",
      " 'CreateCompatibleDC' 'CompareStringA' 'HeapDestroy' 'SetCursor' 'BitBlt'\n",
      " 'GetSystemTimeAsFileTime' 'TlsAlloc' 'ReleaseDC' 'SetTextColor'\n",
      " 'InvalidateRect' 'FreeEnvironmentStringsA' 'LockResource' 'RegisterClassA'\n",
      " 'GetSysColor' 'GetProcessHeap' 'Img13.1' 'GetFullPathNameA' 'MulDiv'\n",
      " 'SystemParametersInfoA' 'GetKeyboardType' 'SetBkMode' 'IsWindowEnabled'\n",
      " 'CoCreateInstance' 'SetFileAttributesA' 'GetDesktopWindow' 'SetEvent'\n",
      " 'FillRect' 'CreateEventA' 'CopyFileA' 'GetWindowTextA' 'GetDlgItem'\n",
      " 'EmptyClipboard' 'ImageList_DragShowNolock' 'GetKeyboardLayoutList'\n",
      " 'string_len_counts_3000_6000' 'string_len_counts_6000_15000'\n",
      " 'asm_commands_je' 'asm_commands_fxch' 'string_len_counts_400_600' 'Img31'\n",
      " 'TB_f9' 'Img21' 'string_len_counts_69' 'string_len_counts_94'\n",
      " 'string_len_counts_89' 'string_len_counts_95' 'string_len_counts_83'\n",
      " 'string_len_counts_18' 'string_len_counts_84' 'string_len_counts_85'\n",
      " 'string_len_counts_86' 'string_len_counts_24' 'TB_a5' 'Img32' 'CopyRect'\n",
      " 'TerminateThread' '__vbaRedim' 'ProcCallEngine' 'CoTaskMemAlloc'\n",
      " '__vbaUbound' '__vbaFreeObjList' 'OpenServiceA' '??3@YAXPAX@Z'\n",
      " 'CLSIDFromString' 'GetFileAttributesW' '__vbaVar2Vec' 'Rectangle'\n",
      " 'GetCommandLineW' 'SetThreadPriority' '__vbaGenerateBoundsError'\n",
      " '_stricmp' 'DefFrameProcA' 'RegQueryInfoKeyA' 'CreatePenIndirect'\n",
      " '__vbaStrToUnicode' 'ImageList_GetBkColor' 'WriteConsoleW' 'strcpy'\n",
      " 'InitCommonControls' 'URLDownloadToFileA' 'IsBadWritePtr' 'SetMapMode'\n",
      " 'RegisterClassExA' 'GetDCOrgEx' 'ImageList_AddMasked' 'ImageList_Read'\n",
      " 'TB_5a' 'TB_53' 'Img49' 'TB_9d' 'TB_9c' 'Img34' 'TB_9a'\n",
      " 'GetEnhMetaFileHeader' 'SetEnhMetaFileBits' 'CopyEnhMetaFileA' 'TB_24'\n",
      " 'SuspendThread' 'DeviceIoControl' '__vbaI2Var' 'wvsprintfA'\n",
      " 'VirtualProtectEx' 'section_names_.tls' 'SetViewportExtEx' 'wcscpy'\n",
      " '__vbaI4ErrVar' 'BringWindowToTop' 'CreateRectRgn' '__vbaStrFixstr'\n",
      " 'GetUserDefaultLangID' '__vbaInStrVar' 'DisableThreadLibraryCalls'\n",
      " 'ValidateRect' '__vbaBoolVarNull' 'GetClassLongA' 'LPtoDP'\n",
      " '__vbaPutOwner3' 'DeleteService' 'CLSIDFromProgID' 'EnumChildWindows'\n",
      " 'IsValidLocale' 'TranslateAcceleratorA' 'misc_scrollwindow' 'misc_search'\n",
      " 'misc1_hardware' 'ent_q_diffs_15' 'ent_q_diff_diffs_5' 'UINT' 'WORD' 'dd'\n",
      " 'System32' 'LPWSTR' 'ATOM' 'Software' 'Img51.1' 'ent_p_17'\n",
      " 'ent_q_diff_diffs_min' 'Img70' 'ent_q_diff_block_1_2'\n",
      " 'ent_q_diff_block_1_4' 'ent_q_diff_block_1_8' 'ent_q_diff_block_1_19'\n",
      " 'string_len_counts_80' 'DestroyWindow' 'MoveFileA' 'DeleteObject'\n",
      " 'TrackPopupMenu' 'GetWindowRect' 'EVENT_SINK_QueryInterface'\n",
      " 'GetShortPathNameA' 'Img31.1' 'ExitWindowsEx' 'UnlockFile' 'CreateFileA'\n",
      " 'LeaveCriticalSection' '_cexit' 'ent_q_diff_block_2_12' 'WPARAM' 'TB_fc'\n",
      " 'TB_37' 'GetLocalTime' '.reloc' 'Img43.1' 'WriteFile' 'PeekMessageA'\n",
      " 'Img10.1' 'misc1____security_cookie' 'ent_q_diff_diffs_16'\n",
      " 'ent_q_diff_block_2_4' 'Img97' 'lstrcatA' 'WSACleanup' 'ent_q_diffs_18'\n",
      " 'CreateIcon' 'SetActiveWindow' 'RegOpenKeyExA' 'dll' '__p__fmode' 'Img102'\n",
      " 'string_len_counts_5' 'EnterCriticalSection' 'TB_c6'\n",
      " 'CreateStreamOnHGlobal' 'QueryPerformanceCounter' 'ent_p_15' 'TB_cf'\n",
      " 'ent_q_diff_diffs_3_max' 'TB_ac' 'ent_p_diffs_17' 'ent_p_diffs_2' 'TB_6e'\n",
      " 'setnle' 'Img78' 'FlushFileBuffers' 'OleInitialize' 'Img25.1' 'Img65'\n",
      " 'Img82' 'GetSystemInfo' 'TB_19' 'ent_q_diff_block_0_20' 'TB_10'\n",
      " 'GetClassNameA' 'TB_b4' 'InitializeCriticalSectionAndSpinCount'\n",
      " '.rsrc_por' 'ent_q_diff_block_0_16' 'Img56' 'TB_12' 'TB_11'\n",
      " 'string_len_counts_33' 'ent_q_diff_block_3_19' 'near' 'GlobalFree' 'srand'\n",
      " 'InterlockedIncrement' 'ent_q_diff_diffs_11' 'Img22'\n",
      " 'ent_q_diff_block_1_10' 'GetExitCodeProcess' 'Img55'\n",
      " 'ent_q_diff_diffs_0_mean' 'TB_52' 'TB_27' 'ent_p_diffs_12'\n",
      " 'asm_commands_jg' 'TB_e3' 'string_len_counts_26' 'ExtendedAscii' 'TB_e0'\n",
      " 'ent_q_diff_block_0_4' 'Img18.1' 'TB_43' 'ent_q_diff_block_2_3' 'TB_46'\n",
      " 'TB_72' 'Img12.1' 'TB_6f' 'ent_q_diff_diffs_19' 'Img39.1'\n",
      " 'string_len_counts_250_400' 'ent_q_diff_block_0_8' 'Img92' 'Img19.1'\n",
      " 'Img74' 'TB_c5' 'DllFunctionCall' 'TB_1d' 'ent_q_diff_diffs_18' 'TB_2c'\n",
      " 'HeapFree' 'FUNCTION' 'Img72' 'GetStartupInfoW' 'ent_q_diff_diffs_14'\n",
      " 'TB_44' 'DWORD' 'TB_b9' 'ent_q_diffs_var' 'Img71' '_CIsqrt' 'GetStdHandle'\n",
      " 'string_len_counts_2' 'Img47.1' 'TB_d0' 'ent_q_diffs_14' 'TB_25' 'TB_67'\n",
      " 'TB_68' 'ent_q_diff_block_3_13' 'TB_36' 'ent_p_diffs_6' 'GetWindowLongA'\n",
      " 'Img75' 'HeapSize' 'TB_39' 'ent_p_6' 'GetModuleHandleA'\n",
      " 'ent_q_diff_block_0_14' 'string_len_counts_8' 'ent_q_diff_diffs_1_max-min'\n",
      " 'GetCPInfo' 'TB_b7' 'TB_d5' 'TB_69' 'misc1_assume' 'TB_51'\n",
      " 'ent_q_diff_block_3_0' 'Img87' 'Img2.1' 'SetEnvironmentVariableA' 'TB_ca'\n",
      " 'db3_NdNt' 'ent_q_diff_block_3_10' 'TB_3e' 'MsgWaitForMultipleObjects'\n",
      " 'Img85' 'TB_1b' 'TB_26' 'asm_commands_ror' 'Img18' 'VariantCopy' 'Img5'\n",
      " 'ent_p_10' 'Img76' 'ent_q_diffs_1' 'ShowWindow' 'asm_commands_jb'\n",
      " 'misc_proc' 'asm_commands_xchg' 'db0_por' 'ent_q_diff_block_2_18'\n",
      " 'string_len_counts_34' '__CxxFrameHandler' 'Img6.1' 'TB_f0' 'TB_4d'\n",
      " 'asm_commands_cli' 'Img44.1' 'TB_c8' 'DispatchMessageA' 'Img90' 'Img77'\n",
      " 'ent_q_diffs_10' 'Img20' 'TB_bf' 'TB_be' 'asm_commands_cld' 'CHUNK'\n",
      " 'ent_q_diff_block_3_8' 'TB_48' 'Img62' 'asm_commands_ret'\n",
      " 'ImageList_SetDragCursorImage' 'Img52' 'Img93' 'ends' 'void'\n",
      " 'SafeArrayGetUBound' '_controlfp' 'ent_p_diffs_3' 'TB_c1' 'ent_q_diffs_17'\n",
      " 'ent_q_diff_diffs_17' 'regs_edi' 'string_len_counts_98' 'ent_p_13' 'TB_3b'\n",
      " 'ent_q_diff_block_3_11' 'GlobalAlloc' 'TB_2e' 'TB_5e' 'asm_commands_xor'\n",
      " 'TB_4a' 'lstrcmpiA' 'TB_6c' 'asm_commands_sub' 'TB_50' 'TB_77'\n",
      " 'ent_q_diff_diffs_3_mean' 'Img96' 'TB_e5' 'TB_6b' 'ent_q_diff_diffs_0_var'\n",
      " 'string_len_counts_22' 'inet_addr' 'Bracket_Close' 'Img47'\n",
      " 'ent_q_diff_block_0_5' 'TB_b3' 'TB_17' 'DialogBoxParamA' 'TB_ef' 'HANDLE'\n",
      " 'TB_2f' 'TB_13' 'TB_89' 'fs' 'asm_commands_pop' 'ent_q_diff_block_2_1'\n",
      " 'TB_a7' 'TB_66' 'TB_20' 'Imports' 'regs_cx' 'asm_commands_imul' 'HMODULE'\n",
      " 'TB_4b' 'TB_2a' 'ent_p_4' 'Img27' 'Img30' 'ent_q_diff_diffs_0_min' 'Sleep'\n",
      " 'Img4' 'TB_3d' 'ent_q_diff_diffs_4' 'TB_73' 'string_len_counts_27' 'TB_23'\n",
      " 'imul' 'Img28' 'socket' 'Img59' 'Img6' 'Img7.1' 'TB_0f' 'GetVersionExA'\n",
      " 'movzx' 'line_count_asm' 'HWND' 'TB_22' 'DeleteDC' 'Img7'\n",
      " 'ent_q_diff_block_1_9' 'Img36' 'Img10' 'TB_83' 'db_text'\n",
      " 'asm_commands_rcr' 'CloseHandle' 'TB_2d' 'db3_all_zero' 'TB_42'\n",
      " 'ent_q_diffs_12' 'TB_f3' 'stdcall' 'Img80' 'ent_q_diff_diffs_2_mean'\n",
      " 'ent_p_7' 'regs_ecx' 'Bracket_Open' 'ent_p_diffs_14' 'TB_76' 'Img103'\n",
      " 'FileSize' 'nullsub' 'asm_commands_sti' 'Img86' 'MessageBoxA'\n",
      " 'asm_commands_endp' 'rand' 'ent_q_diff_block_2_14' 'BYTES' 'SysFreeString'\n",
      " 'TB_af' 'Img37' 'SHBrowseForFolderA' 'Unknown_Sections_lines' 'word'\n",
      " 'Img33.1' 'TB_8b' '---Seperator' 'Img57' 'ent_q_diff_block_3_2' 'Img17.1'\n",
      " 'Img19' 'CallWindowProcA' 'TB_d9' 'ent_q_diff_diffs_0_max' 'TB_df'\n",
      " 'FreeLibrary' 'align' 'Num_Sections' 'TB_ba' 'TB_c2' 'ent_p_diffs_7'\n",
      " 'asm_commands_inc' 'MessageBoxW' 'ent_p_1' 'ent_q_diff_diffs_max' 'db_por'\n",
      " 'Img32.1' 'GetModuleFileNameA' 'TB_01' 'string_len_counts_1' 'regs_bh'\n",
      " 'asm_commands_dw' 'ent_q_diffs_max-min' 'cs' 'TB_86' 'ent_q_diffs_5'\n",
      " 'GetSystemTime' 'TB_cd' 'Img48' 'Img99' 'ent_q_diff_block_3_1' 'retn'\n",
      " 'Img20.1' 'Img104' 'regs_ch' 'TB_dc' '.idata_por' 'db3_data' 'dd_por'\n",
      " 'string_len_counts_31' 'TB_15' 'ent_q_diff_block_2_2' 'Img94'\n",
      " 'ent_q_diff_diffs_3_min' 'TB_1f' 'Img39' 'FreeEnvironmentStringsW'\n",
      " 'string_len_counts_20' 'string_len_counts_7' 'DLL'\n",
      " 'misc1_sp-analysisfailed' 'regs_al' 'Dash' 'Img16' 'dd4_NdNt' 'TB_f5'\n",
      " 'ent_p_8' 'TB_38' 'ent_p_12' 'var' 'TB_f1' 'HDC' 'ent_q_diff_diffs_2_max'\n",
      " 'TB_ff' 'CreateDIBSection' 'off' 'CharToOemA' 'ent_q_diff_block_1_15'\n",
      " 'Img42.1' 'ent_p_diffs_19' 'ent_q_diff_diffs_1_mean' 'Img63' 'ExitProcess'\n",
      " 'TB_0c' 'ent_p_19' 'string_ratio' 'LCMapStringW' 'TB_8a'\n",
      " 'ent_q_diff_diffs_12' 'TB_f6' 'TB_2b' 'section_names_.rdata' 'DATA'\n",
      " 'string_len_counts_4' 'dd6' 'proc' '_allmul' 'TB_9b' 'Forwarder' 'dc_por'\n",
      " 'string_len_counts_30_60' 'Img107' 'cookie' 'size_asm'\n",
      " 'ent_q_diff_block_3_17' 'Star' 'Img43' 'Img35' 'COLLAPSED'\n",
      " 'section_names_.rsrc' 'setz' 'asm_commands_lea' 'Img30.1'\n",
      " 'ent_q_diffs_max' 'Img45' 'misc1_exportedentry' 'ent_p_16' 'DllEntryPoint'\n",
      " 'VirtualAlloc' 'ent_q_diff_diffs_3_max-min' 'char' 'GetStringTypeW'\n",
      " 'TB_3a' 'Img17' 'regs_dx' 'Img12' 'Img41' 'ent_q_diffs_6' 'regs_esp'\n",
      " 'ent_q_diff_diffs_8' '__setusermatherr' 'string_len_counts_0_100'\n",
      " 'db3_all' 'byte' 'LoadLibraryA' 'Img100' 'TB_90' 'misc_trap' 'FARPROC'\n",
      " 'Img91' 'Img1' 'TB_0e' 'jnz' '__imp_' 'ent_p_diffs_10'\n",
      " 'known_Sections_por' 'Img24' 'regs_ah' 'WinMain' 'TlsGetValue' '.text_por'\n",
      " 'arg' 'string_len_counts_150_250' 'section_names_header'\n",
      " 'GetModuleHandleW' 'HeapAlloc' '_initterm' 'GetStringTypeA' 'LCMapStringA'\n",
      " '_exit' 'TB_b8' 'TB_98' 'TB_ed' 'TB_a3' 'TB_ae' 'TB_82' 'TB_d4'\n",
      " 'ent_q_diff_diffs_2_median' 'TB_99']\n"
     ]
    }
   ],
   "source": [
    "# get all useful features via AdaBoost classicaition\n",
    "print('The Number of Useful Features via AdaBoost Classification\\n',len(abc_dataImSorted[abc_featureImportance>0]))\n",
    "print('\\nAll Useful Features via AdaBoost Classification\\n', abc_dataImSorted[abc_featureImportance>0])"
   ]
  },
  {
   "cell_type": "code",
   "execution_count": 28,
   "metadata": {
    "collapsed": false
   },
   "outputs": [
    {
     "name": "stdout",
     "output_type": "stream",
     "text": [
      "The Number of Useful Features\n",
      " 793\n",
      "\n",
      "All Useful Features\n",
      " ['SHGetFileInfoA' 'GetStringTypeExA' 'RegisterClipboardFormatA'\n",
      " 'DestroyCursor' 'Img5.1' 'LoadLibraryW' 'DeleteMenu' '__vbaSetSystemError'\n",
      " 'DrawIconEx' 'EnumThreadWindows' 'DrawMenuBar' '__vbaVarMove' 'SetPixel'\n",
      " 'AppendMenuA' 'GetScrollPos' 'atoi' 'Img106' '__dllonexit' 'strstr'\n",
      " '__vbaVarDup' 'VariantInit' 'SHFileOperationA' 'SetScrollPos' 'WinHelpA'\n",
      " 'GetDriveTypeA' 'ShowOwnedPopups' 'ExcludeClipRect' 'CreateDIBitmap'\n",
      " '__vbaFreeStrList' '__vbaFreeVarList' 'EqualRect' 'RemovePropA'\n",
      " 'WindowFromPoint' '__vbaHresultCheckObj' '__vbaFreeStr' 'RedrawWindow'\n",
      " 'RectVisible' 'AdjustTokenPrivileges' 'ImageList_SetIconSize' 'LoadImageA'\n",
      " 'SHGetPathFromIDListA' 'CharLowerA' 'GetIconInfo' 'GetKeyboardState'\n",
      " '__p__commode' 'UnmapViewOfFile' 'IsRectEmpty' 'SetROP2' '__vbaObjSet'\n",
      " 'TranslateMDISysAccel' 'ImageList_DragEnter' 'GetPaletteEntries'\n",
      " 'GetBitmapBits' 'SendMessageTimeoutA' 'GetDIBColorTable'\n",
      " 'ImageList_EndDrag' 'ImageList_GetIconSize' 'SearchPathA'\n",
      " 'ImageList_GetImageCount' '__vbaStrVarVal' 'SetParent' 'ShowScrollBar'\n",
      " 'RegFlushKey' 'CloseServiceHandle' 'SetDIBColorTable'\n",
      " 'GetCurrentPositionEx' 'EnableScrollBar' 'WriteProcessMemory'\n",
      " '__vbaStrToAnsi' 'Process32Next' 'GetVolumeInformationA' 'SetScrollRange'\n",
      " '__vbaAryDestruct' 'SafeArrayCreate' '__vbaStrCmp' 'InternetOpenUrlA'\n",
      " '__vbaErrorOverflow' '??2@YAPAXI@Z' 'SetWindowPlacement'\n",
      " 'DrawFrameControl' 'CreateDialogParamA' 'WaitMessage'\n",
      " 'GetTimeZoneInformation' 'FileTimeToSystemTime' 'ScrollWindow'\n",
      " 'InsertMenuA' 'ImageList_Draw' 'SafeArrayGetLBound' 'CreateFileMappingA'\n",
      " 'SetThreadLocale' 'GetMenuItemInfoA' 'CompareFileTime' 'GetScrollRange'\n",
      " 'GetCursor' 'SetScrollInfo' 'CheckDlgButton' '__vbaChkstk'\n",
      " '_adj_fdiv_m16i' 'Img16.1' 'SetPropA' 'PatBlt' 'GlobalReAlloc' '_CIcos'\n",
      " 'InflateRect' 'GetMenuItemID' 'RealizePalette' 'CreateFileW'\n",
      " 'SysReAllocStringLen' 'GetDateFormatA' 'LineTo' 'SetDlgItemTextA'\n",
      " 'GlobalHandle' 'SetUnhandledExceptionFilter' 'SizeofResource' 'lstrcpynA'\n",
      " 'GetFileAttributesA' 'LoadResource' 'PostQuitMessage'\n",
      " 'GetWindowsDirectoryA' 'SetWindowLongA' 'RegCreateKeyExA'\n",
      " 'IsDebuggerPresent' 'GetModuleFileNameW' 'SetRect' 'GetMessagePos'\n",
      " 'ResumeThread' 'InternetReadFile' 'VariantClear' 'FindWindowExA'\n",
      " 'DestroyMenu' 'SetCapture' 'GetWindowDC' 'GlobalDeleteAtom' 'GetMenuState'\n",
      " 'ExitThread' 'SysAllocStringLen' 'IsChild' 'lstrlenW' 'GetCapture'\n",
      " 'GetWindowPlacement' 'CreateBitmap' 'DrawIcon' 'GetMenuItemCount'\n",
      " 'DestroyIcon' 'GetKeyNameTextA' 'Img14.1' 'MapViewOfFile' 'GlobalAddAtomA'\n",
      " 'IntersectRect' 'GetCurrentDirectoryA' 'SetMenu' 'IsDialogMessageA'\n",
      " 'GetClipBox' 'CoInitialize' 'GetStockObject' 'lstrcmpA'\n",
      " 'GetWindowThreadProcessId' 'LoadIconA' 'string_len_counts_79' '_CIlog'\n",
      " '_CIexp' '_CIatan' '__vbaFPException' 'RegEnumKeyA' '_adj_fdivr_m32i'\n",
      " '_adj_fdiv_m32i' 'GetPropA' '_adj_fdivr_m64' 'GetDiskFreeSpaceA'\n",
      " '_adj_fpatan' '_adj_fdiv_r' '_adj_fptan' '_adj_fprem1' '_adj_fdiv_m32'\n",
      " '_CItan' '_adj_fdiv_m64' '_adj_fdivr_m16i' 'PostMessageA'\n",
      " 'CreateCompatibleDC' 'CompareStringA' 'HeapDestroy' 'SetCursor' 'BitBlt'\n",
      " 'GetSystemTimeAsFileTime' 'TlsAlloc' 'ReleaseDC' 'SetTextColor'\n",
      " 'InvalidateRect' 'FreeEnvironmentStringsA' 'LockResource' 'RegisterClassA'\n",
      " 'GetSysColor' 'GetProcessHeap' 'Img13.1' 'GetFullPathNameA' 'MulDiv'\n",
      " 'SystemParametersInfoA' 'GetKeyboardType' 'SetBkMode' 'IsWindowEnabled'\n",
      " 'CoCreateInstance' 'SetFileAttributesA' 'GetDesktopWindow' 'SetEvent'\n",
      " 'FillRect' 'CreateEventA' 'CopyFileA' 'GetWindowTextA' 'GetDlgItem'\n",
      " 'EmptyClipboard' 'ImageList_DragShowNolock' 'GetKeyboardLayoutList'\n",
      " 'string_len_counts_3000_6000' 'string_len_counts_6000_15000'\n",
      " 'asm_commands_je' 'asm_commands_fxch' 'string_len_counts_400_600' 'Img31'\n",
      " 'TB_f9' 'Img21' 'string_len_counts_69' 'string_len_counts_94'\n",
      " 'string_len_counts_89' 'string_len_counts_95' 'string_len_counts_83'\n",
      " 'string_len_counts_18' 'string_len_counts_84' 'string_len_counts_85'\n",
      " 'string_len_counts_86' 'string_len_counts_24' 'TB_a5' 'Img32' 'CopyRect'\n",
      " 'TerminateThread' '__vbaRedim' 'ProcCallEngine' 'CoTaskMemAlloc'\n",
      " '__vbaUbound' '__vbaFreeObjList' 'OpenServiceA' '??3@YAXPAX@Z'\n",
      " 'CLSIDFromString' 'GetFileAttributesW' '__vbaVar2Vec' 'Rectangle'\n",
      " 'GetCommandLineW' 'SetThreadPriority' '__vbaGenerateBoundsError'\n",
      " '_stricmp' 'DefFrameProcA' 'RegQueryInfoKeyA' 'CreatePenIndirect'\n",
      " '__vbaStrToUnicode' 'ImageList_GetBkColor' 'WriteConsoleW' 'strcpy'\n",
      " 'InitCommonControls' 'URLDownloadToFileA' 'IsBadWritePtr' 'SetMapMode'\n",
      " 'RegisterClassExA' 'GetDCOrgEx' 'ImageList_AddMasked' 'ImageList_Read'\n",
      " 'TB_5a' 'TB_53' 'Img49' 'TB_9d' 'TB_9c' 'Img34' 'TB_9a'\n",
      " 'GetEnhMetaFileHeader' 'SetEnhMetaFileBits' 'CopyEnhMetaFileA' 'TB_24'\n",
      " 'SuspendThread' 'DeviceIoControl' '__vbaI2Var' 'wvsprintfA'\n",
      " 'VirtualProtectEx' 'section_names_.tls' 'SetViewportExtEx' 'wcscpy'\n",
      " '__vbaI4ErrVar' 'BringWindowToTop' 'CreateRectRgn' '__vbaStrFixstr'\n",
      " 'GetUserDefaultLangID' '__vbaInStrVar' 'DisableThreadLibraryCalls'\n",
      " 'ValidateRect' '__vbaBoolVarNull' 'GetClassLongA' 'LPtoDP'\n",
      " '__vbaPutOwner3' 'DeleteService' 'CLSIDFromProgID' 'EnumChildWindows'\n",
      " 'IsValidLocale' 'TranslateAcceleratorA' 'misc_scrollwindow' 'misc_search'\n",
      " 'misc1_hardware' 'ent_q_diffs_15' 'ent_q_diff_diffs_5' 'UINT' 'WORD' 'dd'\n",
      " 'System32' 'LPWSTR' 'ATOM' 'Software' 'Img51.1' 'ent_p_17'\n",
      " 'ent_q_diff_diffs_min' 'Img70' 'ent_q_diff_block_1_2'\n",
      " 'ent_q_diff_block_1_4' 'ent_q_diff_block_1_8' 'ent_q_diff_block_1_19'\n",
      " 'string_len_counts_80' 'DestroyWindow' 'MoveFileA' 'DeleteObject'\n",
      " 'TrackPopupMenu' 'GetWindowRect' 'EVENT_SINK_QueryInterface'\n",
      " 'GetShortPathNameA' 'Img31.1' 'ExitWindowsEx' 'UnlockFile' 'CreateFileA'\n",
      " 'LeaveCriticalSection' '_cexit' 'ent_q_diff_block_2_12' 'WPARAM' 'TB_fc'\n",
      " 'TB_37' 'GetLocalTime' '.reloc' 'Img43.1' 'WriteFile' 'PeekMessageA'\n",
      " 'Img10.1' 'misc1____security_cookie' 'ent_q_diff_diffs_16'\n",
      " 'ent_q_diff_block_2_4' 'Img97' 'lstrcatA' 'WSACleanup' 'ent_q_diffs_18'\n",
      " 'CreateIcon' 'SetActiveWindow' 'RegOpenKeyExA' 'dll' '__p__fmode' 'Img102'\n",
      " 'string_len_counts_5' 'EnterCriticalSection' 'TB_c6'\n",
      " 'CreateStreamOnHGlobal' 'QueryPerformanceCounter' 'ent_p_15' 'TB_cf'\n",
      " 'ent_q_diff_diffs_3_max' 'TB_ac' 'ent_p_diffs_17' 'ent_p_diffs_2' 'TB_6e'\n",
      " 'setnle' 'Img78' 'FlushFileBuffers' 'OleInitialize' 'Img25.1' 'Img65'\n",
      " 'Img82' 'GetSystemInfo' 'TB_19' 'ent_q_diff_block_0_20' 'TB_10'\n",
      " 'GetClassNameA' 'TB_b4' 'InitializeCriticalSectionAndSpinCount'\n",
      " '.rsrc_por' 'ent_q_diff_block_0_16' 'Img56' 'TB_12' 'TB_11'\n",
      " 'string_len_counts_33' 'ent_q_diff_block_3_19' 'near' 'GlobalFree' 'srand'\n",
      " 'InterlockedIncrement' 'ent_q_diff_diffs_11' 'Img22'\n",
      " 'ent_q_diff_block_1_10' 'GetExitCodeProcess' 'Img55'\n",
      " 'ent_q_diff_diffs_0_mean' 'TB_52' 'TB_27' 'ent_p_diffs_12'\n",
      " 'asm_commands_jg' 'TB_e3' 'string_len_counts_26' 'ExtendedAscii' 'TB_e0'\n",
      " 'ent_q_diff_block_0_4' 'Img18.1' 'TB_43' 'ent_q_diff_block_2_3' 'TB_46'\n",
      " 'TB_72' 'Img12.1' 'TB_6f' 'ent_q_diff_diffs_19' 'Img39.1'\n",
      " 'string_len_counts_250_400' 'ent_q_diff_block_0_8' 'Img92' 'Img19.1'\n",
      " 'Img74' 'TB_c5' 'DllFunctionCall' 'TB_1d' 'ent_q_diff_diffs_18' 'TB_2c'\n",
      " 'HeapFree' 'FUNCTION' 'Img72' 'GetStartupInfoW' 'ent_q_diff_diffs_14'\n",
      " 'TB_44' 'DWORD' 'TB_b9' 'ent_q_diffs_var' 'Img71' '_CIsqrt' 'GetStdHandle'\n",
      " 'string_len_counts_2' 'Img47.1' 'TB_d0' 'ent_q_diffs_14' 'TB_25' 'TB_67'\n",
      " 'TB_68' 'ent_q_diff_block_3_13' 'TB_36' 'ent_p_diffs_6' 'GetWindowLongA'\n",
      " 'Img75' 'HeapSize' 'TB_39' 'ent_p_6' 'GetModuleHandleA'\n",
      " 'ent_q_diff_block_0_14' 'string_len_counts_8' 'ent_q_diff_diffs_1_max-min'\n",
      " 'GetCPInfo' 'TB_b7' 'TB_d5' 'TB_69' 'misc1_assume' 'TB_51'\n",
      " 'ent_q_diff_block_3_0' 'Img87' 'Img2.1' 'SetEnvironmentVariableA' 'TB_ca'\n",
      " 'db3_NdNt' 'ent_q_diff_block_3_10' 'TB_3e' 'MsgWaitForMultipleObjects'\n",
      " 'Img85' 'TB_1b' 'TB_26' 'asm_commands_ror' 'Img18' 'VariantCopy' 'Img5'\n",
      " 'ent_p_10' 'Img76' 'ent_q_diffs_1' 'ShowWindow' 'asm_commands_jb'\n",
      " 'misc_proc' 'asm_commands_xchg' 'db0_por' 'ent_q_diff_block_2_18'\n",
      " 'string_len_counts_34' '__CxxFrameHandler' 'Img6.1' 'TB_f0' 'TB_4d'\n",
      " 'asm_commands_cli' 'Img44.1' 'TB_c8' 'DispatchMessageA' 'Img90' 'Img77'\n",
      " 'ent_q_diffs_10' 'Img20' 'TB_bf' 'TB_be' 'asm_commands_cld' 'CHUNK'\n",
      " 'ent_q_diff_block_3_8' 'TB_48' 'Img62' 'asm_commands_ret'\n",
      " 'ImageList_SetDragCursorImage' 'Img52' 'Img93' 'ends' 'void'\n",
      " 'SafeArrayGetUBound' '_controlfp' 'ent_p_diffs_3' 'TB_c1' 'ent_q_diffs_17'\n",
      " 'ent_q_diff_diffs_17' 'regs_edi' 'string_len_counts_98' 'ent_p_13' 'TB_3b'\n",
      " 'ent_q_diff_block_3_11' 'GlobalAlloc' 'TB_2e' 'TB_5e' 'asm_commands_xor'\n",
      " 'TB_4a' 'lstrcmpiA' 'TB_6c' 'asm_commands_sub' 'TB_50' 'TB_77'\n",
      " 'ent_q_diff_diffs_3_mean' 'Img96' 'TB_e5' 'TB_6b' 'ent_q_diff_diffs_0_var'\n",
      " 'string_len_counts_22' 'inet_addr' 'Bracket_Close' 'Img47'\n",
      " 'ent_q_diff_block_0_5' 'TB_b3' 'TB_17' 'DialogBoxParamA' 'TB_ef' 'HANDLE'\n",
      " 'TB_2f' 'TB_13' 'TB_89' 'fs' 'asm_commands_pop' 'ent_q_diff_block_2_1'\n",
      " 'TB_a7' 'TB_66' 'TB_20' 'Imports' 'regs_cx' 'asm_commands_imul' 'HMODULE'\n",
      " 'TB_4b' 'TB_2a' 'ent_p_4' 'Img27' 'Img30' 'ent_q_diff_diffs_0_min' 'Sleep'\n",
      " 'Img4' 'TB_3d' 'ent_q_diff_diffs_4' 'TB_73' 'string_len_counts_27' 'TB_23'\n",
      " 'imul' 'Img28' 'socket' 'Img59' 'Img6' 'Img7.1' 'TB_0f' 'GetVersionExA'\n",
      " 'movzx' 'line_count_asm' 'HWND' 'TB_22' 'DeleteDC' 'Img7'\n",
      " 'ent_q_diff_block_1_9' 'Img36' 'Img10' 'TB_83' 'db_text'\n",
      " 'asm_commands_rcr' 'CloseHandle' 'TB_2d' 'db3_all_zero' 'TB_42'\n",
      " 'ent_q_diffs_12' 'TB_f3' 'stdcall' 'Img80' 'ent_q_diff_diffs_2_mean'\n",
      " 'ent_p_7' 'regs_ecx' 'Bracket_Open' 'ent_p_diffs_14' 'TB_76' 'Img103'\n",
      " 'FileSize' 'nullsub' 'asm_commands_sti' 'Img86' 'MessageBoxA'\n",
      " 'asm_commands_endp' 'rand' 'ent_q_diff_block_2_14' 'BYTES' 'SysFreeString'\n",
      " 'TB_af' 'Img37' 'SHBrowseForFolderA' 'Unknown_Sections_lines' 'word'\n",
      " 'Img33.1' 'TB_8b' '---Seperator' 'Img57' 'ent_q_diff_block_3_2' 'Img17.1'\n",
      " 'Img19' 'CallWindowProcA' 'TB_d9' 'ent_q_diff_diffs_0_max' 'TB_df'\n",
      " 'FreeLibrary' 'align' 'Num_Sections' 'TB_ba' 'TB_c2' 'ent_p_diffs_7'\n",
      " 'asm_commands_inc' 'MessageBoxW' 'ent_p_1' 'ent_q_diff_diffs_max' 'db_por'\n",
      " 'Img32.1' 'GetModuleFileNameA' 'TB_01' 'string_len_counts_1' 'regs_bh'\n",
      " 'asm_commands_dw' 'ent_q_diffs_max-min' 'cs' 'TB_86' 'ent_q_diffs_5'\n",
      " 'GetSystemTime' 'TB_cd' 'Img48' 'Img99' 'ent_q_diff_block_3_1' 'retn'\n",
      " 'Img20.1' 'Img104' 'regs_ch' 'TB_dc' '.idata_por' 'db3_data' 'dd_por'\n",
      " 'string_len_counts_31' 'TB_15' 'ent_q_diff_block_2_2' 'Img94'\n",
      " 'ent_q_diff_diffs_3_min' 'TB_1f' 'Img39' 'FreeEnvironmentStringsW'\n",
      " 'string_len_counts_20' 'string_len_counts_7' 'DLL'\n",
      " 'misc1_sp-analysisfailed' 'regs_al' 'Dash' 'Img16' 'dd4_NdNt' 'TB_f5'\n",
      " 'ent_p_8' 'TB_38' 'ent_p_12' 'var' 'TB_f1' 'HDC' 'ent_q_diff_diffs_2_max'\n",
      " 'TB_ff' 'CreateDIBSection' 'off' 'CharToOemA' 'ent_q_diff_block_1_15'\n",
      " 'Img42.1' 'ent_p_diffs_19' 'ent_q_diff_diffs_1_mean' 'Img63' 'ExitProcess'\n",
      " 'TB_0c' 'ent_p_19' 'string_ratio' 'LCMapStringW' 'TB_8a'\n",
      " 'ent_q_diff_diffs_12' 'TB_f6' 'TB_2b' 'section_names_.rdata' 'DATA'\n",
      " 'string_len_counts_4' 'dd6' 'proc' '_allmul' 'TB_9b' 'Forwarder' 'dc_por'\n",
      " 'string_len_counts_30_60' 'Img107' 'cookie' 'size_asm'\n",
      " 'ent_q_diff_block_3_17' 'Star' 'Img43' 'Img35' 'COLLAPSED'\n",
      " 'section_names_.rsrc' 'setz' 'asm_commands_lea' 'Img30.1'\n",
      " 'ent_q_diffs_max' 'Img45' 'misc1_exportedentry' 'ent_p_16' 'DllEntryPoint'\n",
      " 'VirtualAlloc' 'ent_q_diff_diffs_3_max-min' 'char' 'GetStringTypeW'\n",
      " 'TB_3a' 'Img17' 'regs_dx' 'Img12' 'Img41' 'ent_q_diffs_6' 'regs_esp'\n",
      " 'ent_q_diff_diffs_8' '__setusermatherr' 'string_len_counts_0_100'\n",
      " 'db3_all' 'byte' 'LoadLibraryA' 'Img100' 'TB_90' 'misc_trap' 'FARPROC'\n",
      " 'Img91' 'Img1' 'TB_0e' 'jnz' '__imp_' 'ent_p_diffs_10'\n",
      " 'known_Sections_por' 'Img24' 'regs_ah' 'WinMain' 'TlsGetValue' '.text_por'\n",
      " 'arg' 'string_len_counts_150_250' 'section_names_header'\n",
      " 'GetModuleHandleW' 'HeapAlloc' '_initterm' 'GetStringTypeA' 'LCMapStringA'\n",
      " '_exit' 'TB_b8' 'TB_98' 'TB_ed' 'TB_a3' 'TB_ae' 'TB_82' 'TB_d4'\n",
      " 'ent_q_diff_diffs_2_median' 'TB_99']\n"
     ]
    }
   ],
   "source": [
    "# get all useful features via K Nearest Neighbors classification\n",
    "print('The Number of Useful Features via K Nearest Neighbors Classification\\n',len(knn_dataImSorted[knn_featureImportance>0]))\n",
    "print('\\nAll Useful Features via K Nearest Neighbors Classification\\n', knn_dataImSorted[knn_featureImportance>0])"
   ]
  },
  {
   "cell_type": "markdown",
   "metadata": {},
   "source": [
    "### 6.6 All Useless Features"
   ]
  },
  {
   "cell_type": "code",
   "execution_count": 29,
   "metadata": {
    "collapsed": false
   },
   "outputs": [
    {
     "name": "stdout",
     "output_type": "stream",
     "text": [
      "The Number of Usefuless Features\n",
      " 1011\n",
      "\n",
      "All Useless Features\n",
      " ['CreateMenu' '__vbaOnError' 'CreateToolhelp32Snapshot' ..., 'TB_00'\n",
      " 'GetCommandLineA' 'strncpy']\n"
     ]
    }
   ],
   "source": [
    "# get all useless features via random forest classification\n",
    "print('The Number of Usefuless Features via Random Forest Classification\\n',len(rfc_dataImSorted[rfc_featureImportance==0]))\n",
    "print('\\nAll Useless Features via Random Forest Classification\\n', rfc_dataImSorted[rfc_featureImportance==0])"
   ]
  },
  {
   "cell_type": "code",
   "execution_count": 29,
   "metadata": {
    "collapsed": false
   },
   "outputs": [
    {
     "name": "stdout",
     "output_type": "stream",
     "text": [
      "The Number of Usefuless Features\n",
      " 1011\n",
      "\n",
      "All Useless Features\n",
      " ['CreateMenu' '__vbaOnError' 'CreateToolhelp32Snapshot' ..., 'TB_00'\n",
      " 'GetCommandLineA' 'strncpy']\n"
     ]
    }
   ],
   "source": [
    "# get all useless features via decision tree classification\n",
    "print('The Number of Usefuless Features via Decision Tree Classification\\n',len(dtc_dataImSorted[dtc_featureImportance==0]))\n",
    "print('\\nAll Useless Features via Decision Tree Classification\\n', dtc_dataImSorted[dtc_featureImportance==0])"
   ]
  },
  {
   "cell_type": "code",
   "execution_count": 29,
   "metadata": {
    "collapsed": false
   },
   "outputs": [
    {
     "name": "stdout",
     "output_type": "stream",
     "text": [
      "The Number of Usefuless Features\n",
      " 1011\n",
      "\n",
      "All Useless Features\n",
      " ['CreateMenu' '__vbaOnError' 'CreateToolhelp32Snapshot' ..., 'TB_00'\n",
      " 'GetCommandLineA' 'strncpy']\n"
     ]
    }
   ],
   "source": [
    "# get all useless features via extra trees classification\n",
    "print('The Number of Usefuless Features via Extra Trees Classification\\n',len(etc_dataImSorted[etc_featureImportance==0]))\n",
    "print('\\nAll Useless Features via Extra Trees Classification\\n', etc_dataImSorted[etc_featureImportance==0])"
   ]
  },
  {
   "cell_type": "code",
   "execution_count": 29,
   "metadata": {
    "collapsed": false
   },
   "outputs": [
    {
     "name": "stdout",
     "output_type": "stream",
     "text": [
      "The Number of Usefuless Features\n",
      " 1011\n",
      "\n",
      "All Useless Features\n",
      " ['CreateMenu' '__vbaOnError' 'CreateToolhelp32Snapshot' ..., 'TB_00'\n",
      " 'GetCommandLineA' 'strncpy']\n"
     ]
    }
   ],
   "source": [
    "# get all useless features via AdaBoost classification\n",
    "print('The Number of Usefuless Features via AdaBoost Classification\\n',len(abc_dataImSorted[abc_featureImportance==0]))\n",
    "print('\\nAll Useless Features via AdaBoost Classification\\n', abc_dataImSorted[abc_featureImportance==0])"
   ]
  },
  {
   "cell_type": "code",
   "execution_count": 29,
   "metadata": {
    "collapsed": false
   },
   "outputs": [
    {
     "name": "stdout",
     "output_type": "stream",
     "text": [
      "The Number of Usefuless Features\n",
      " 1011\n",
      "\n",
      "All Useless Features\n",
      " ['CreateMenu' '__vbaOnError' 'CreateToolhelp32Snapshot' ..., 'TB_00'\n",
      " 'GetCommandLineA' 'strncpy']\n"
     ]
    }
   ],
   "source": [
    "# get all useless features via K Nearest Neighbors classification\n",
    "print('The Number of Usefuless Features via K Nearest Neighbors Classification\\n',len(knn_dataImSorted[knn_featureImportance==0]))\n",
    "print('\\nAll Useless Features via K Nearest Neighbors Classification\\n', knn_dataImSorted[knn_featureImportance==0])"
   ]
  },
  {
   "cell_type": "markdown",
   "metadata": {},
   "source": [
    "# Part III. Compute Test Dataset"
   ]
  },
  {
   "cell_type": "markdown",
   "metadata": {},
   "source": [
    "## 1. Random Forest Classification"
   ]
  },
  {
   "cell_type": "code",
   "execution_count": null,
   "metadata": {
    "collapsed": true
   },
   "outputs": [],
   "source": []
  },
  {
   "cell_type": "markdown",
   "metadata": {},
   "source": [
    "## 2. Decision Tree Classification"
   ]
  },
  {
   "cell_type": "code",
   "execution_count": null,
   "metadata": {
    "collapsed": true
   },
   "outputs": [],
   "source": []
  },
  {
   "cell_type": "markdown",
   "metadata": {},
   "source": [
    "## 3. Extra Trees Classification"
   ]
  },
  {
   "cell_type": "code",
   "execution_count": null,
   "metadata": {
    "collapsed": true
   },
   "outputs": [],
   "source": []
  },
  {
   "cell_type": "markdown",
   "metadata": {},
   "source": [
    "## 4. AdaBoost Classification"
   ]
  },
  {
   "cell_type": "code",
   "execution_count": null,
   "metadata": {
    "collapsed": true
   },
   "outputs": [],
   "source": []
  },
  {
   "cell_type": "markdown",
   "metadata": {},
   "source": [
    "## 5. K Nearest Neighbors Classification"
   ]
  },
  {
   "cell_type": "code",
   "execution_count": null,
   "metadata": {
    "collapsed": true
   },
   "outputs": [],
   "source": []
  },
  {
   "cell_type": "markdown",
   "metadata": {},
   "source": [
    "# Part IV. Model Comparison"
   ]
  },
  {
   "cell_type": "markdown",
   "metadata": {},
   "source": [
    "## 1. Training Dataset"
   ]
  },
  {
   "cell_type": "code",
   "execution_count": null,
   "metadata": {
    "collapsed": true
   },
   "outputs": [],
   "source": []
  },
  {
   "cell_type": "markdown",
   "metadata": {},
   "source": [
    "## 2. Test Dataset"
   ]
  },
  {
   "cell_type": "code",
   "execution_count": null,
   "metadata": {
    "collapsed": true
   },
   "outputs": [],
   "source": []
  }
 ],
 "metadata": {
  "kernelspec": {
   "display_name": "Python 3",
   "language": "python",
   "name": "python3"
  },
  "language_info": {
   "codemirror_mode": {
    "name": "ipython",
    "version": 3
   },
   "file_extension": ".py",
   "mimetype": "text/x-python",
   "name": "python",
   "nbconvert_exporter": "python",
   "pygments_lexer": "ipython3",
   "version": "3.6.0"
  }
 },
 "nbformat": 4,
 "nbformat_minor": 2
}
